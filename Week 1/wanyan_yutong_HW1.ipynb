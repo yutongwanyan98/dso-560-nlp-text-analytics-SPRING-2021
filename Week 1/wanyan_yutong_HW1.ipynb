{
 "metadata": {
  "language_info": {
   "codemirror_mode": {
    "name": "ipython",
    "version": 3
   },
   "file_extension": ".py",
   "mimetype": "text/x-python",
   "name": "python",
   "nbconvert_exporter": "python",
   "pygments_lexer": "ipython3",
   "version": "3.7.9-final"
  },
  "orig_nbformat": 2,
  "kernelspec": {
   "name": "python37964bit512e9edfd23c42bcbce8c04e586f7063",
   "display_name": "Python 3.7.9 64-bit"
  }
 },
 "nbformat": 4,
 "nbformat_minor": 2,
 "cells": [
  {
   "cell_type": "code",
   "execution_count": null,
   "metadata": {},
   "outputs": [],
   "source": []
  },
  {
   "cell_type": "markdown",
   "metadata": {},
   "source": [
    "1. A manager in the marketing department wants to find out the most frequently used words in positive reviews (five stars) and negative reviews (one star) in order to determine what occasion the toys are purchased for (Christmas, birthdays, and anniversaries.). He would like your opinion on **which gift occasions (Christmas, birthdays, or anniversaries) tend to have the most positive reviews** to focus marketing budget on those days."
   ]
  },
  {
   "cell_type": "code",
   "execution_count": 6,
   "metadata": {},
   "outputs": [],
   "source": [
    "import re\n",
    "\n",
    "good_file = open('good_amazon_toy_reviews.txt','r')\n",
    "poor_file = open('poor_amazon_toy_reviews.txt','r')\n",
    "\n",
    "goods: str = good_file.read()\n",
    "poors: str = poor_file.read()"
   ]
  },
  {
   "cell_type": "code",
   "execution_count": 125,
   "metadata": {},
   "outputs": [],
   "source": [
    "# define patterns \n",
    "\n",
    "patterns = [\n",
    "    r'\\b[cC]+hristmas|[hH]oliday\\b',\n",
    "    r'\\b([bB]+irthday|[bB]+day|[bB]+irth)\\b',\n",
    "    r'\\b[aA]+nniversar+[a-zA-Z]\\b'\n",
    "]\n"
   ]
  },
  {
   "cell_type": "code",
   "execution_count": 126,
   "metadata": {},
   "outputs": [
    {
     "output_type": "stream",
     "name": "stdout",
     "text": [
      "Number of good reviews: 102218\n",
      "There are 1176 good reviews containing word [cC]+hristmas|[hH]oliday\n",
      "There are 3911 good reviews containing word ([bB]+irthday|[bB]+day|[bB]+irth)\n",
      "There are 50 good reviews containing word [aA]+nniversar+[a-zA-Z]\n"
     ]
    }
   ],
   "source": [
    "# Method 1\n",
    "# count the number of good reviews that contains key words\n",
    "\n",
    "reviews = goods.split(\"\\n\")\n",
    "print(f'Number of good reviews: {len(reviews)}')\n",
    "\n",
    "for i in patterns:\n",
    "    count = 0\n",
    "    for review in reviews:\n",
    "        if len(re.findall(i, review)) > 0:\n",
    "            count+=1\n",
    "    #print(count)\n",
    "    print(f'There are {count} good reviews containing word {i[2:-2]}')\n",
    "\n"
   ]
  },
  {
   "cell_type": "code",
   "execution_count": 127,
   "metadata": {},
   "outputs": [
    {
     "output_type": "stream",
     "name": "stdout",
     "text": [
      "Word [cC]+hristmas|[hH]oliday was used 1281 times in good reviews.\n",
      "Word ([bB]+irthday|[bB]+day|[bB]+irth) was used 4109 times in good reviews.\n",
      "Word [aA]+nniversar+[a-zA-Z] was used 52 times in good reviews.\n"
     ]
    }
   ],
   "source": [
    "# Method 2\n",
    "# count how many times the keyword is used in text\n",
    "\n",
    "for i in patterns:\n",
    "    print(f'Word {i[2:-2]} was used {len(re.findall(i, goods))} times in good reviews.')"
   ]
  },
  {
   "cell_type": "markdown",
   "metadata": {},
   "source": [
    "Both methods show the birthday is the occasion that we should focus budget on. "
   ]
  },
  {
   "cell_type": "markdown",
   "metadata": {},
   "source": [
    "2. There are malformed characters in the review text. For instance, notice the `&#34;` - these are examples of incorrectly decoded [HTML encodings](https://krypted.com/utilities/html-encoding-reference/).\n",
    "```\n",
    "\"amazing quality first of all, these cards are amazing proxies (but don't try to use em in &#34;official duels&#34; unless a judge is okay with it, if you have the real thing to show) and look amazing in your binder!\"\n",
    "```\n",
    "Please clean up all instances of these incorrect decodings."
   ]
  },
  {
   "cell_type": "code",
   "execution_count": 128,
   "metadata": {},
   "outputs": [],
   "source": [
    "goods_cleaned = re.sub(r'(&#+[0-9])', '', goods)\n",
    "poors_cleaned = re.sub(r'(&#+[0-9])', '', poors)"
   ]
  },
  {
   "cell_type": "markdown",
   "metadata": {},
   "source": [
    "3. One of your product managers suspects that **toys purchased for male recipients (husbands, sons, etc.)** tend to be much more likely to be reviewed poorly. She would like to see some data points confirming or rejecting her hypothesis. \n"
   ]
  },
  {
   "cell_type": "code",
   "execution_count": 129,
   "metadata": {},
   "outputs": [],
   "source": [
    "good_reviews = goods_cleaned.split(\"\\n\")\n",
    "poor_reviews = poors_cleaned.split(\"\\n\")"
   ]
  },
  {
   "cell_type": "code",
   "execution_count": 134,
   "metadata": {},
   "outputs": [
    {
     "output_type": "stream",
     "name": "stdout",
     "text": [
      "Gifts to males have 16045 good reviews.\nGifts to males have 1331 poor reviews.\n"
     ]
    }
   ],
   "source": [
    "# define pattern\n",
    "# count how many times the keyword is used in text\n",
    "pattern = r'\\b[hH]+usband|[sS]+on|[dD]+ad|[bB]rother|[gG]+randson[gG]+randpa\\b'\n",
    "\n",
    "print(f'Gifts to males have {len(re.findall(pattern, goods))} good reviews.')\n",
    "print(f'Gifts to males have {len(re.findall(pattern, poors))} poor reviews.')\n",
    "    "
   ]
  },
  {
   "cell_type": "markdown",
   "metadata": {},
   "source": [
    "It seems gifts to male recipients are more likely to receive positive reviews; reject manager's hypothesis."
   ]
  },
  {
   "cell_type": "markdown",
   "metadata": {},
   "source": [
    "4. Use **regular expressions to parse out all references to recipients and gift occassions**, and account for the possibility that people may spell words \"son\" / \"children\" / \"Christmas\" as both singular and plural, upper or lower-cased.\n"
   ]
  },
  {
   "cell_type": "code",
   "execution_count": 135,
   "metadata": {},
   "outputs": [],
   "source": [
    "# parse out all references to recipients and gift occassions\n",
    "# account for the possibility that people may spell words \"son\" / \"children\" / \"Christmas\" as both singular and plural, upper or lower-cased.\n",
    "\n",
    "# ？？找大小写的概率还是单复数的概率啊？\n",
    "\n",
    "# for q4 in HW1, how do we know if a word is used as both singular and plural regardless of upper or lower-cased?? Are we looking for (number of plurals / total number of this word used) for 'son', 'children', 'Christmas' ??\n",
    "\n"
   ]
  },
  {
   "cell_type": "markdown",
   "metadata": {},
   "source": [
    "5. Explain what some of **pitfalls/limitations** are of using only a word count analysis to make these inferences. What additional research/steps would you need to do to verify your conclusions?\n",
    "\n",
    "Simple word counting from entire text file is not the same with counting word in each individual reviews that it might produce higher count number. Breaking the text file down to reviews and count the number of reviews might give us better business insights because we wantn to study buyers' reaction by looking at their reviews, instead of word counting itself."
   ]
  },
  {
   "cell_type": "code",
   "execution_count": null,
   "metadata": {},
   "outputs": [],
   "source": []
  },
  {
   "cell_type": "code",
   "execution_count": null,
   "metadata": {},
   "outputs": [],
   "source": []
  },
  {
   "cell_type": "code",
   "execution_count": null,
   "metadata": {},
   "outputs": [],
   "source": []
  },
  {
   "cell_type": "code",
   "execution_count": null,
   "metadata": {},
   "outputs": [],
   "source": []
  }
 ]
}