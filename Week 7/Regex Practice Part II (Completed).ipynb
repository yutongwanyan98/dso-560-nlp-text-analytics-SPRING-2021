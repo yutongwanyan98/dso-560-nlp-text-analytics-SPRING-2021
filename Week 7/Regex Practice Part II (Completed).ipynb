{
 "cells": [
  {
   "cell_type": "markdown",
   "metadata": {
    "toc": true
   },
   "source": [
    "<h1>Table of Contents<span class=\"tocSkip\"></span></h1>\n",
    "<div class=\"toc\"><ul class=\"toc-item\"><li><span><a href=\"#Import-Dependencies-and-Load-in-Dataset\" data-toc-modified-id=\"Import-Dependencies-and-Load-in-Dataset-1\"><span class=\"toc-item-num\">1&nbsp;&nbsp;</span>Import Dependencies and Load in Dataset</a></span></li><li><span><a href=\"#Pandas-Exploratory-Data-Analysis\" data-toc-modified-id=\"Pandas-Exploratory-Data-Analysis-2\"><span class=\"toc-item-num\">2&nbsp;&nbsp;</span>Pandas Exploratory Data Analysis</a></span><ul class=\"toc-item\"><li><ul class=\"toc-item\"><li><span><a href=\"#Show-the-First/Last-Rows-of-Dataset\" data-toc-modified-id=\"Show-the-First/Last-Rows-of-Dataset-2.0.1\"><span class=\"toc-item-num\">2.0.1&nbsp;&nbsp;</span>Show the First/Last Rows of Dataset</a></span></li><li><span><a href=\"#Drop-Unnecessary-Pandas-Column\" data-toc-modified-id=\"Drop-Unnecessary-Pandas-Column-2.0.2\"><span class=\"toc-item-num\">2.0.2&nbsp;&nbsp;</span>Drop Unnecessary Pandas Column</a></span></li><li><span><a href=\"#Compute-a-New-Pandas-Series-and-Attach-to-Dataframe-as-Column\" data-toc-modified-id=\"Compute-a-New-Pandas-Series-and-Attach-to-Dataframe-as-Column-2.0.3\"><span class=\"toc-item-num\">2.0.3&nbsp;&nbsp;</span>Compute a New Pandas Series and Attach to Dataframe as Column</a></span></li><li><span><a href=\"#Count-Number-of-Rows-in-Dataframe-Meet-Some-Criteria\" data-toc-modified-id=\"Count-Number-of-Rows-in-Dataframe-Meet-Some-Criteria-2.0.4\"><span class=\"toc-item-num\">2.0.4&nbsp;&nbsp;</span>Count Number of Rows in Dataframe Meet Some Criteria</a></span></li><li><span><a href=\"#Filter-DataFrame-for-a-Subset-of-Rows\" data-toc-modified-id=\"Filter-DataFrame-for-a-Subset-of-Rows-2.0.5\"><span class=\"toc-item-num\">2.0.5&nbsp;&nbsp;</span>Filter DataFrame for a Subset of Rows</a></span></li></ul></li><li><span><a href=\"#Difference-Between-extractall-and-findall\" data-toc-modified-id=\"Difference-Between-extractall-and-findall-2.1\"><span class=\"toc-item-num\">2.1&nbsp;&nbsp;</span>Difference Between <code>extractall</code> and <code>findall</code></a></span></li></ul></li><li><span><a href=\"#Regex-Character-Classes\" data-toc-modified-id=\"Regex-Character-Classes-3\"><span class=\"toc-item-num\">3&nbsp;&nbsp;</span>Regex Character Classes</a></span><ul class=\"toc-item\"><li><ul class=\"toc-item\"><li><span><a href=\"#Find-all-Tweets-That-Start-with-a-Number\" data-toc-modified-id=\"Find-all-Tweets-That-Start-with-a-Number-3.0.1\"><span class=\"toc-item-num\">3.0.1&nbsp;&nbsp;</span>Find all Tweets That Start with a Number</a></span></li><li><span><a href=\"#Find-all-@-Mentions\" data-toc-modified-id=\"Find-all-@-Mentions-3.0.2\"><span class=\"toc-item-num\">3.0.2&nbsp;&nbsp;</span>Find all @ Mentions</a></span><ul class=\"toc-item\"><li><span><a href=\"#Alternative-Method-to-Work-With-Lists-in-Pandas\" data-toc-modified-id=\"Alternative-Method-to-Work-With-Lists-in-Pandas-3.0.2.1\"><span class=\"toc-item-num\">3.0.2.1&nbsp;&nbsp;</span>Alternative Method to Work With Lists in Pandas</a></span></li></ul></li></ul></li></ul></li><li><span><a href=\"#Quantifiers\" data-toc-modified-id=\"Quantifiers-4\"><span class=\"toc-item-num\">4&nbsp;&nbsp;</span>Quantifiers</a></span><ul class=\"toc-item\"><li><ul class=\"toc-item\"><li><span><a href=\"#Match-All-Phone-Numbers-(Link)\" data-toc-modified-id=\"Match-All-Phone-Numbers-(Link)-4.0.1\"><span class=\"toc-item-num\">4.0.1&nbsp;&nbsp;</span>Match All Phone Numbers (<a href=\"https://regexr.com/50v17\" target=\"_blank\">Link</a>)</a></span></li><li><span><a href=\"#Parse-Out-Zip-Codes-(Link)\" data-toc-modified-id=\"Parse-Out-Zip-Codes-(Link)-4.0.2\"><span class=\"toc-item-num\">4.0.2&nbsp;&nbsp;</span>Parse Out Zip Codes (<a href=\"https://regexr.com/50v1g\" target=\"_blank\">Link</a>)</a></span></li></ul></li></ul></li><li><span><a href=\"#Capture-Groups\" data-toc-modified-id=\"Capture-Groups-5\"><span class=\"toc-item-num\">5&nbsp;&nbsp;</span>Capture Groups</a></span><ul class=\"toc-item\"><li><ul class=\"toc-item\"><li><span><a href=\"#Example:-Parsing-out-Weekday-from-Timestamp-String-(Link)\" data-toc-modified-id=\"Example:-Parsing-out-Weekday-from-Timestamp-String-(Link)-5.0.1\"><span class=\"toc-item-num\">5.0.1&nbsp;&nbsp;</span>Example: Parsing out Weekday from Timestamp String (<a href=\"https://regexr.com/50v0l\" target=\"_blank\">Link</a>)</a></span></li><li><span><a href=\"#Example:-Parsing-Out-Domain-Names\" data-toc-modified-id=\"Example:-Parsing-Out-Domain-Names-5.0.2\"><span class=\"toc-item-num\">5.0.2&nbsp;&nbsp;</span>Example: Parsing Out Domain Names</a></span></li></ul></li><li><span><a href=\"#Non-Capture-Groups\" data-toc-modified-id=\"Non-Capture-Groups-5.1\"><span class=\"toc-item-num\">5.1&nbsp;&nbsp;</span>Non-Capture Groups</a></span><ul class=\"toc-item\"><li><span><a href=\"#Example-1-(Link)\" data-toc-modified-id=\"Example-1-(Link)-5.1.1\"><span class=\"toc-item-num\">5.1.1&nbsp;&nbsp;</span>Example 1 <a href=\"https://regexr.com/50t7c\" target=\"_blank\">(Link)</a></a></span></li><li><span><a href=\"#Example-2-(Link)\" data-toc-modified-id=\"Example-2-(Link)-5.1.2\"><span class=\"toc-item-num\">5.1.2&nbsp;&nbsp;</span>Example 2 <a href=\"https://regexr.com/50t7c\" target=\"_blank\">(Link)</a></a></span></li><li><span><a href=\"#Example-3-(Link)\" data-toc-modified-id=\"Example-3-(Link)-5.1.3\"><span class=\"toc-item-num\">5.1.3&nbsp;&nbsp;</span>Example 3 (<a href=\"https://regexr.com/50ush\" target=\"_blank\">Link</a>)</a></span></li></ul></li></ul></li><li><span><a href=\"#Named-Capture-Groups\" data-toc-modified-id=\"Named-Capture-Groups-6\"><span class=\"toc-item-num\">6&nbsp;&nbsp;</span>Named Capture Groups</a></span><ul class=\"toc-item\"><li><ul class=\"toc-item\"><li><span><a href=\"#Using-Named-Capture-Groups-in-Pandas-for-Feature-Engineering\" data-toc-modified-id=\"Using-Named-Capture-Groups-in-Pandas-for-Feature-Engineering-6.0.1\"><span class=\"toc-item-num\">6.0.1&nbsp;&nbsp;</span>Using Named Capture Groups in Pandas for Feature Engineering</a></span></li></ul></li></ul></li><li><span><a href=\"#Finding-Repeat-Words-in-Reviews-Using-Backreferences\" data-toc-modified-id=\"Finding-Repeat-Words-in-Reviews-Using-Backreferences-7\"><span class=\"toc-item-num\">7&nbsp;&nbsp;</span>Finding Repeat Words in Reviews Using Backreferences</a></span><ul class=\"toc-item\"><li><ul class=\"toc-item\"><li><span><a href=\"#Using-Named-Backreferences\" data-toc-modified-id=\"Using-Named-Backreferences-7.0.1\"><span class=\"toc-item-num\">7.0.1&nbsp;&nbsp;</span>Using Named Backreferences</a></span></li><li><span><a href=\"#Using-Negative-Lookaheads\" data-toc-modified-id=\"Using-Negative-Lookaheads-7.0.2\"><span class=\"toc-item-num\">7.0.2&nbsp;&nbsp;</span>Using Negative Lookaheads</a></span></li><li><span><a href=\"#Negative-Lookbehind\" data-toc-modified-id=\"Negative-Lookbehind-7.0.3\"><span class=\"toc-item-num\">7.0.3&nbsp;&nbsp;</span>Negative Lookbehind</a></span><ul class=\"toc-item\"><li><span><a href=\"#Find-all-tweets-that-do-not-begin-with-a-mention.\" data-toc-modified-id=\"Find-all-tweets-that-do-not-begin-with-a-mention.-7.0.3.1\"><span class=\"toc-item-num\">7.0.3.1&nbsp;&nbsp;</span>Find all tweets that do not begin with a mention.</a></span></li></ul></li></ul></li></ul></li><li><span><a href=\"#Exercises\" data-toc-modified-id=\"Exercises-8\"><span class=\"toc-item-num\">8&nbsp;&nbsp;</span>Exercises</a></span><ul class=\"toc-item\"><li><ul class=\"toc-item\"><li><ul class=\"toc-item\"><li><span><a href=\"#Use-named-capture-groups-to-find-the-subject-headings-for-these-emails.\" data-toc-modified-id=\"Use-named-capture-groups-to-find-the-subject-headings-for-these-emails.-8.0.0.1\"><span class=\"toc-item-num\">8.0.0.1&nbsp;&nbsp;</span>Use named capture groups to find the subject headings for these emails.</a></span></li><li><span><a href=\"#Find-all-hashtags-or-references-mentioned-in-the-tweets_df-dataset.-Store-them-as-two-separate-columns,-one-for-whether-it-is-either-a-@-or-#,-and-the-other-for-the-actual-content-(ie.-the-hello-part-of-#hello).\" data-toc-modified-id=\"Find-all-hashtags-or-references-mentioned-in-the-tweets_df-dataset.-Store-them-as-two-separate-columns,-one-for-whether-it-is-either-a-@-or-#,-and-the-other-for-the-actual-content-(ie.-the-hello-part-of-#hello).-8.0.0.2\"><span class=\"toc-item-num\">8.0.0.2&nbsp;&nbsp;</span>Find all hashtags or references mentioned in the <code>tweets_df</code> dataset. Store them as two separate columns, one for whether it is either a <code>@</code> or <code>#</code>, and the other for the actual content (ie. the <code>hello</code> part of <code>#hello</code>).</a></span></li><li><span><a href=\"#Use-named-capture-groups-to-provide-a-list-of-email-addresses-for-your-security-administrator-to-blacklist-from-your-company's-email-servers.-The-output-should-be-a-list-of-dictionaries:\" data-toc-modified-id=\"Use-named-capture-groups-to-provide-a-list-of-email-addresses-for-your-security-administrator-to-blacklist-from-your-company's-email-servers.-The-output-should-be-a-list-of-dictionaries:-8.0.0.3\"><span class=\"toc-item-num\">8.0.0.3&nbsp;&nbsp;</span>Use named capture groups to provide a <strong>list of email addresses</strong> for your security administrator to blacklist from your company's email servers. The output should be a list of dictionaries:</a></span></li><li><span><a href=\"#Use-a-negative-lookahead-to-capture-all-emails-except-for-the-ones-from-yahoo.com.\" data-toc-modified-id=\"Use-a-negative-lookahead-to-capture-all-emails-except-for-the-ones-from-yahoo.com.-8.0.0.4\"><span class=\"toc-item-num\">8.0.0.4&nbsp;&nbsp;</span>Use a negative lookahead to capture all emails except for the ones from <code>yahoo.com</code>.</a></span></li><li><span><a href=\"#Identify-any-IP-addresses-that-should-be-blacklisted\" data-toc-modified-id=\"Identify-any-IP-addresses-that-should-be-blacklisted-8.0.0.5\"><span class=\"toc-item-num\">8.0.0.5&nbsp;&nbsp;</span>Identify any IP addresses that should be blacklisted</a></span></li><li><span><a href=\"#The-word-&quot;AT&amp;T&quot;-is-not-spelled-correctly-in-the-tweets_df-dataset.-Correct-the-misspelling.\" data-toc-modified-id=\"The-word-&quot;AT&amp;T&quot;-is-not-spelled-correctly-in-the-tweets_df-dataset.-Correct-the-misspelling.-8.0.0.6\"><span class=\"toc-item-num\">8.0.0.6&nbsp;&nbsp;</span>The word \"AT&amp;T\" is not spelled correctly in the <code>tweets_df</code> dataset. Correct the misspelling.</a></span></li></ul></li></ul></li></ul></li></ul></div>"
   ]
  },
  {
   "cell_type": "markdown",
   "metadata": {},
   "source": [
    "# Import Dependencies and Load in Dataset"
   ]
  },
  {
   "cell_type": "code",
   "execution_count": 13,
   "metadata": {
    "scrolled": true
   },
   "outputs": [],
   "source": [
    "import pandas as pd\n",
    "tweets_df: pd.DataFrame = pd.read_csv(\"tweets_pandas.csv\")"
   ]
  },
  {
   "cell_type": "markdown",
   "metadata": {},
   "source": [
    "# Pandas Exploratory Data Analysis"
   ]
  },
  {
   "cell_type": "markdown",
   "metadata": {
    "solution2": "hidden",
    "solution2_first": true
   },
   "source": [
    "### Show the First/Last Rows of Dataset"
   ]
  },
  {
   "cell_type": "code",
   "execution_count": null,
   "metadata": {
    "scrolled": true,
    "solution2": "hidden"
   },
   "outputs": [],
   "source": [
    "tweets_df.head()"
   ]
  },
  {
   "cell_type": "code",
   "execution_count": null,
   "metadata": {
    "scrolled": true,
    "solution2": "hidden"
   },
   "outputs": [],
   "source": [
    "tweets_df.tail()"
   ]
  },
  {
   "cell_type": "markdown",
   "metadata": {
    "solution2": "hidden",
    "solution2_first": true
   },
   "source": [
    "### Drop Unnecessary Pandas Column"
   ]
  },
  {
   "cell_type": "code",
   "execution_count": null,
   "metadata": {
    "scrolled": true,
    "solution2": "hidden"
   },
   "outputs": [],
   "source": [
    "# get rid of some columns we don't care about\n",
    "tweets_df.drop(columns=[\"index\"], inplace=True)\n",
    "# preview the dataset\n",
    "tweets_df.head()"
   ]
  },
  {
   "cell_type": "markdown",
   "metadata": {
    "solution2": "shown",
    "solution2_first": true
   },
   "source": [
    "### Compute a New Pandas Series and Attach to Dataframe as Column"
   ]
  },
  {
   "cell_type": "code",
   "execution_count": null,
   "metadata": {
    "scrolled": true,
    "solution2": "shown"
   },
   "outputs": [],
   "source": [
    "# get length of tweets in characters\n",
    "tweets_df[\"tweet_length\"] = tweets_df[\"tweet\"].str.len()\n",
    "tweets_df.head()"
   ]
  },
  {
   "cell_type": "markdown",
   "metadata": {
    "solution2": "hidden",
    "solution2_first": true
   },
   "source": [
    "### Count Number of Rows in Dataframe Meet Some Criteria"
   ]
  },
  {
   "cell_type": "code",
   "execution_count": null,
   "metadata": {
    "scrolled": true,
    "solution2": "hidden"
   },
   "outputs": [],
   "source": [
    "# count number of times Obama appears in tweets\n",
    "tweets_df[\"tweet\"].str.contains(r'\\bObama\\b').sum()"
   ]
  },
  {
   "cell_type": "markdown",
   "metadata": {
    "solution2": "hidden",
    "solution2_first": true
   },
   "source": [
    "### Filter DataFrame for a Subset of Rows"
   ]
  },
  {
   "cell_type": "code",
   "execution_count": null,
   "metadata": {
    "scrolled": true,
    "solution2": "hidden"
   },
   "outputs": [],
   "source": [
    "# filter dataframe for only tweets that contain \n",
    "tweets_df[tweets_df[\"tweet\"].str.contains(r'\\bObama\\b')].head()"
   ]
  },
  {
   "cell_type": "markdown",
   "metadata": {},
   "source": [
    "## Difference Between `extractall` and `findall`\n",
    "\n",
    "The `extractall` method will return a fanned-out multi-dimensional index. For example, in the example below, the primary index is `0`, but there are sub-indices for `stellargirl` (`0`), `loooooooovvvvvveee` (`1`), etc."
   ]
  },
  {
   "cell_type": "code",
   "execution_count": null,
   "metadata": {
    "scrolled": true
   },
   "outputs": [],
   "source": [
    "tweets_df[\"tweet\"].str.extractall(r'\\b(\\w{3,})\\b').head(5)"
   ]
  },
  {
   "cell_type": "markdown",
   "metadata": {},
   "source": [
    "The `findall` method will return a list of results (or an empty list if there is no match)."
   ]
  },
  {
   "cell_type": "code",
   "execution_count": null,
   "metadata": {
    "scrolled": true
   },
   "outputs": [],
   "source": [
    "tweets_df[\"tweet\"].str.findall(r'\\b(\\w{3,})\\b').head(3)"
   ]
  },
  {
   "cell_type": "markdown",
   "metadata": {},
   "source": [
    "# Regex Character Classes\n",
    "\n",
    "There are often shortcut keywords you can use instead of typing out every possible character you want to match against. For instance, instead of `[a-zA-Z0-9]`, for all practical purposes, you can type out `/w`.\n",
    "\n",
    "![Character Classes](images/character_chars.png \"Regex character classes\")"
   ]
  },
  {
   "cell_type": "markdown",
   "metadata": {
    "solution2": "shown",
    "solution2_first": true
   },
   "source": [
    "### Find all Tweets That Start with a Number"
   ]
  },
  {
   "cell_type": "markdown",
   "metadata": {
    "solution2": "shown"
   },
   "source": [
    "* [Non-Match Example](https://regexr.com/50ur7)\n",
    "* [Match Example](https://regexr.com/50urj)"
   ]
  },
  {
   "cell_type": "code",
   "execution_count": null,
   "metadata": {
    "scrolled": true,
    "solution2": "shown"
   },
   "outputs": [],
   "source": [
    "tweets_df[tweets_df[\"tweet\"].str.contains(r'^[0-9]')]"
   ]
  },
  {
   "cell_type": "markdown",
   "metadata": {
    "solution2": "shown",
    "solution2_first": true
   },
   "source": [
    "### Find all @ Mentions\n",
    "We'll use the `\\w` character class to match for mentions (ie. `@ychennay`)."
   ]
  },
  {
   "cell_type": "code",
   "execution_count": null,
   "metadata": {
    "scrolled": true,
    "solution2": "shown"
   },
   "outputs": [],
   "source": [
    "tweets_df[\"mentions\"] = tweets_df[\"tweet\"].str.findall(r'@\\w+')\n",
    "tweets_df[tweets_df[\"mentions\"].apply(len).gt(0)] # gt is the same as >"
   ]
  },
  {
   "cell_type": "markdown",
   "metadata": {
    "solution2": "shown"
   },
   "source": [
    "#### Alternative Method to Work With Lists in Pandas"
   ]
  },
  {
   "cell_type": "code",
   "execution_count": null,
   "metadata": {
    "scrolled": true,
    "solution2": "shown"
   },
   "outputs": [],
   "source": [
    "# Convert the mentions column to boolean. Because an empty list is False, and a non-empty list is True, this filters\n",
    "# out all non-empty lists.\n",
    "tweets_df[tweets_df[\"mentions\"].astype(bool)]"
   ]
  },
  {
   "cell_type": "markdown",
   "metadata": {},
   "source": [
    "# Quantifiers\n",
    "\n",
    "Quantifiers let you specify how many times a character or group should be matched.\n",
    "![Quantifiers](images/quantifiers.png \"Regex character classes\")"
   ]
  },
  {
   "cell_type": "markdown",
   "metadata": {
    "solution2": "hidden",
    "solution2_first": true
   },
   "source": [
    "### Match All Phone Numbers ([Link](https://regexr.com/50v17))\n",
    "In the unwanted callers dataset (`unwanted_calls.csv`), parse out all phone numbers.\n",
    "\n",
    "We'll only consider for the time being phone numbers that follow the format `123-456-7890`."
   ]
  },
  {
   "cell_type": "code",
   "execution_count": null,
   "metadata": {
    "scrolled": true,
    "solution2": "hidden"
   },
   "outputs": [],
   "source": [
    "import pandas as pd\n",
    "unwanted_calls_df: pd.DataFrame = pd.read_csv(\"unwanted_calls.csv\")\n",
    "unwanted_calls_df[\"caller_id_number\"].str.findall(r'\\d{3}-\\d{3}-\\d{4}').head(3)"
   ]
  },
  {
   "cell_type": "markdown",
   "metadata": {
    "solution2": "hidden",
    "solution2_first": true
   },
   "source": [
    "### Parse Out Zip Codes ([Link](https://regexr.com/50v1g))\n",
    "In the `location_center_point_of_the_zip_code` field, we store both zip codes as well as geolocation data (latitudes and longitudes). We'll only consider zip codes with 5 digits (not the +4 digit delivery route)."
   ]
  },
  {
   "cell_type": "code",
   "execution_count": null,
   "metadata": {
    "scrolled": true,
    "solution2": "hidden"
   },
   "outputs": [],
   "source": [
    "unwanted_calls_df[\"location_center_point_of_the_zip_code\"].str.findall(r'\\s\\d{5}\\n').head(3)"
   ]
  },
  {
   "cell_type": "markdown",
   "metadata": {},
   "source": [
    "# Capture Groups\n",
    "\n",
    "[Oracle documentation on Capture Groups:](https://docs.oracle.com/javase/tutorial/essential/regex/groups.html)\n",
    "> Capturing groups are a way to treat **multiple characters as a single unit**. They are created by placing the characters to be grouped inside a set of parentheses. For example, the regular expression `(dog)` creates a single group containing the letters `d`, `o`, and `g`."
   ]
  },
  {
   "cell_type": "markdown",
   "metadata": {
    "solution2": "shown",
    "solution2_first": true
   },
   "source": [
    "### Example: Parsing out Weekday from Timestamp String ([Link](https://regexr.com/50v0l))\n",
    "\n",
    "In the `date` field of `tweets_df`, we have timestamp strings that look like this: `Mon May 11 03:22:30 UTC 2009`. We want to parse out the weekday from this string."
   ]
  },
  {
   "cell_type": "code",
   "execution_count": null,
   "metadata": {
    "scrolled": true,
    "solution2": "shown"
   },
   "outputs": [],
   "source": [
    "tweets_df[\"day_of_week\"] = tweets_df[\"date\"].str.extract(r'^(\\w{3})\\b')\n",
    "tweets_df.sample(len(tweets_df)).head(3)"
   ]
  },
  {
   "cell_type": "markdown",
   "metadata": {
    "solution2": "shown",
    "solution2_first": true
   },
   "source": [
    "### Example: Parsing Out Domain Names\n",
    "We want to capture the domain names of different websites. Here, we need to escape the `.` part of `www.google.com`. In regex, `.` means \"anything\". To actually indicate we want to match for the literal `.` period character, we need to escape it, using `\\.`."
   ]
  },
  {
   "cell_type": "code",
   "execution_count": null,
   "metadata": {
    "scrolled": true,
    "solution2": "shown"
   },
   "outputs": [],
   "source": [
    "websites = open(\"list_of_websites.txt\").readlines()"
   ]
  },
  {
   "cell_type": "code",
   "execution_count": null,
   "metadata": {
    "scrolled": true,
    "solution2": "shown"
   },
   "outputs": [],
   "source": [
    "cleaned_websites = list(map(lambda website: re.sub(r'\\n', '', website), websites))\n",
    "regex = r'https?:\\/\\/www\\.(\\w+)\\.\\w+'\n",
    "domain_names = pd.Series(cleaned_websites).str.extract(regex)"
   ]
  },
  {
   "cell_type": "markdown",
   "metadata": {},
   "source": [
    "## Non-Capture Groups"
   ]
  },
  {
   "cell_type": "markdown",
   "metadata": {},
   "source": [
    "Sometimes you want to group multiple characters into a single unit to apply regex operations on them, but you don't\n",
    "want to actually capture or return their result."
   ]
  },
  {
   "cell_type": "markdown",
   "metadata": {
    "solution2": "shown",
    "solution2_first": true
   },
   "source": [
    "### Example 1 [(Link)](https://regexr.com/50t7c)\n",
    "Using non-capture groups to match for optional text:\n",
    "\n",
    "You want to capture both `child` and `children` in your text:"
   ]
  },
  {
   "cell_type": "code",
   "execution_count": null,
   "metadata": {
    "scrolled": true,
    "solution2": "shown"
   },
   "outputs": [],
   "source": [
    "import re\n",
    "text = \"The word child is singular, but the word children is plural.\"\n",
    "re.findall(r'\\bchild(?:ren)?\\b', text)"
   ]
  },
  {
   "cell_type": "markdown",
   "metadata": {
    "solution2": "shown",
    "solution2_first": true
   },
   "source": [
    "### Example 2 [(Link)](https://regexr.com/50t7c)\n",
    "Find all the mentions in the tweets. Mentions start with `@`."
   ]
  },
  {
   "cell_type": "code",
   "execution_count": null,
   "metadata": {
    "scrolled": true,
    "solution2": "shown"
   },
   "outputs": [],
   "source": [
    "tweets_df[\"tweet\"].str.findall(r'(@\\w+)')"
   ]
  },
  {
   "cell_type": "markdown",
   "metadata": {
    "solution2": "shown",
    "solution2_first": true
   },
   "source": [
    "### Example 3 ([Link](https://regexr.com/50ush))\n",
    "Here we want to match for the dollar amount, but we don't want to include the currency notation (`$` or `USD`)."
   ]
  },
  {
   "cell_type": "code",
   "execution_count": null,
   "metadata": {
    "scrolled": true,
    "solution2": "shown"
   },
   "outputs": [],
   "source": [
    "regex_pattern = \"(?:\\$|(?:USD))([0-9]+)\\.([0-9][0-9])\"\n",
    "text = \"Average fast food wage is $9.08, but inflation has increased USD9.23\"\n",
    "results = re.findall(regex_pattern, text)"
   ]
  },
  {
   "cell_type": "markdown",
   "metadata": {},
   "source": [
    "# Named Capture Groups\n",
    "\n",
    "Often, we might have a hard time keeping track of all the capture groups in our regex. We can use **named capture groups** instead."
   ]
  },
  {
   "cell_type": "code",
   "execution_count": 1,
   "metadata": {
    "scrolled": true
   },
   "outputs": [
    {
     "data": {
      "text/plain": [
       "['pm', 'pm', 'pm', 'am', 'am']"
      ]
     },
     "execution_count": 1,
     "metadata": {},
     "output_type": "execute_result"
    }
   ],
   "source": [
    "import re\n",
    "file = open(\"mcdonalds-yelp-negative-reviews.csv\", encoding=\"latin1\")\n",
    "reviews = file.read()\n",
    "\n",
    "regex_pattern = r'1?\\d:[0-5]\\d\\s?(am|pm)'\n",
    "\n",
    "re.findall(regex_pattern, reviews)[:5] # what's wrong with this expression?"
   ]
  },
  {
   "cell_type": "code",
   "execution_count": 2,
   "metadata": {
    "scrolled": true
   },
   "outputs": [
    {
     "data": {
      "text/plain": [
       "['9:30pm', '7:30 pm', '1:45 pm', '5:48 am', '6:30am']"
      ]
     },
     "execution_count": 2,
     "metadata": {},
     "output_type": "execute_result"
    }
   ],
   "source": [
    "regex_pattern = r'(1?\\d):([0-5]\\d)\\s?(am|pm)'\n",
    "re.findall(regex_pattern, reviews)[:5] # this looks much better"
   ]
  },
  {
   "cell_type": "code",
   "execution_count": 3,
   "metadata": {
    "scrolled": true
   },
   "outputs": [
    {
     "name": "stdout",
     "output_type": "stream",
     "text": [
      "{'hour': '9', 'minute': '30', 'indicator': 'pm'}\n",
      "{'hour': '7', 'minute': '30', 'indicator': 'pm'}\n",
      "{'hour': '1', 'minute': '45', 'indicator': 'pm'}\n",
      "{'hour': '2', 'minute': '00', 'indicator': 'pm'}\n",
      "{'hour': '11', 'minute': '30', 'indicator': 'pm'}\n",
      "{'hour': '1', 'minute': '30', 'indicator': 'pm'}\n",
      "{'hour': '9', 'minute': '30', 'indicator': 'pm'}\n",
      "{'hour': '1', 'minute': '11', 'indicator': 'pm'}\n",
      "{'hour': '9', 'minute': '00', 'indicator': 'pm'}\n",
      "{'hour': '7', 'minute': '10', 'indicator': 'pm'}\n",
      "{'hour': '10', 'minute': '14', 'indicator': 'pm'}\n",
      "{'hour': '7', 'minute': '30', 'indicator': 'pm'}\n",
      "{'hour': '1', 'minute': '45', 'indicator': 'pm'}\n",
      "{'hour': '7', 'minute': '41', 'indicator': 'pm'}\n"
     ]
    }
   ],
   "source": [
    "# now, we want to capture the hour, minute, and time of day indicator\n",
    "regex_pattern = r'(?P<hour>1?\\d):(?P<minute>[0-5]\\d)\\s?(?P<indicator>:am|pm)'\n",
    "file.seek(0) # reset the index position\n",
    "reviews = file.readlines()\n",
    "for review in reviews:\n",
    "    match = re.search(regex_pattern, review) # this looks much better\n",
    "    if match:\n",
    "        print(match.groupdict())"
   ]
  },
  {
   "cell_type": "markdown",
   "metadata": {},
   "source": [
    "### Using Named Capture Groups in Pandas for Feature Engineering"
   ]
  },
  {
   "cell_type": "code",
   "execution_count": 4,
   "metadata": {
    "scrolled": true
   },
   "outputs": [],
   "source": [
    "import pandas as pd\n",
    "reviews_df = pd.read_csv(\"mcdonalds-yelp-negative-reviews.csv\", encoding=\"latin1\")"
   ]
  },
  {
   "cell_type": "code",
   "execution_count": 7,
   "metadata": {
    "scrolled": true
   },
   "outputs": [],
   "source": [
    "reviews_df[[\"hour\", \"minute\", \"indicator\"]] = reviews_df[\"review\"].str.extract(r'(?P<hour>1?\\d):(?P<minute>[0-5]\\d)\\s?(?P<indicator>:am|pm)')"
   ]
  },
  {
   "cell_type": "code",
   "execution_count": 8,
   "metadata": {},
   "outputs": [
    {
     "data": {
      "text/html": [
       "<div>\n",
       "<style scoped>\n",
       "    .dataframe tbody tr th:only-of-type {\n",
       "        vertical-align: middle;\n",
       "    }\n",
       "\n",
       "    .dataframe tbody tr th {\n",
       "        vertical-align: top;\n",
       "    }\n",
       "\n",
       "    .dataframe thead th {\n",
       "        text-align: right;\n",
       "    }\n",
       "</style>\n",
       "<table border=\"1\" class=\"dataframe\">\n",
       "  <thead>\n",
       "    <tr style=\"text-align: right;\">\n",
       "      <th></th>\n",
       "      <th>_unit_id</th>\n",
       "      <th>city</th>\n",
       "      <th>review</th>\n",
       "      <th>hour</th>\n",
       "      <th>minute</th>\n",
       "      <th>indicator</th>\n",
       "    </tr>\n",
       "  </thead>\n",
       "  <tbody>\n",
       "    <tr>\n",
       "      <th>0</th>\n",
       "      <td>679455653</td>\n",
       "      <td>Atlanta</td>\n",
       "      <td>I'm not a huge mcds lover, but I've been to be...</td>\n",
       "      <td>NaN</td>\n",
       "      <td>NaN</td>\n",
       "      <td>NaN</td>\n",
       "    </tr>\n",
       "    <tr>\n",
       "      <th>1</th>\n",
       "      <td>679455654</td>\n",
       "      <td>Atlanta</td>\n",
       "      <td>Terrible customer service. I came in at 9:30pm...</td>\n",
       "      <td>9</td>\n",
       "      <td>30</td>\n",
       "      <td>pm</td>\n",
       "    </tr>\n",
       "    <tr>\n",
       "      <th>2</th>\n",
       "      <td>679455655</td>\n",
       "      <td>Atlanta</td>\n",
       "      <td>First they \"lost\" my order, actually they gave...</td>\n",
       "      <td>NaN</td>\n",
       "      <td>NaN</td>\n",
       "      <td>NaN</td>\n",
       "    </tr>\n",
       "    <tr>\n",
       "      <th>3</th>\n",
       "      <td>679455656</td>\n",
       "      <td>Atlanta</td>\n",
       "      <td>I see I'm not the only one giving 1 star. Only...</td>\n",
       "      <td>NaN</td>\n",
       "      <td>NaN</td>\n",
       "      <td>NaN</td>\n",
       "    </tr>\n",
       "    <tr>\n",
       "      <th>4</th>\n",
       "      <td>679455657</td>\n",
       "      <td>Atlanta</td>\n",
       "      <td>Well, it's McDonald's, so you know what the fo...</td>\n",
       "      <td>NaN</td>\n",
       "      <td>NaN</td>\n",
       "      <td>NaN</td>\n",
       "    </tr>\n",
       "    <tr>\n",
       "      <th>...</th>\n",
       "      <td>...</td>\n",
       "      <td>...</td>\n",
       "      <td>...</td>\n",
       "      <td>...</td>\n",
       "      <td>...</td>\n",
       "      <td>...</td>\n",
       "    </tr>\n",
       "    <tr>\n",
       "      <th>1520</th>\n",
       "      <td>679500008</td>\n",
       "      <td>Portland</td>\n",
       "      <td>I enjoyed the part where I repeatedly asked if...</td>\n",
       "      <td>NaN</td>\n",
       "      <td>NaN</td>\n",
       "      <td>NaN</td>\n",
       "    </tr>\n",
       "    <tr>\n",
       "      <th>1521</th>\n",
       "      <td>679500224</td>\n",
       "      <td>Houston</td>\n",
       "      <td>Worst McDonalds I've been in in a long time! D...</td>\n",
       "      <td>NaN</td>\n",
       "      <td>NaN</td>\n",
       "      <td>NaN</td>\n",
       "    </tr>\n",
       "    <tr>\n",
       "      <th>1522</th>\n",
       "      <td>679500608</td>\n",
       "      <td>New York</td>\n",
       "      <td>When I am really craving for McDonald's, this ...</td>\n",
       "      <td>NaN</td>\n",
       "      <td>NaN</td>\n",
       "      <td>NaN</td>\n",
       "    </tr>\n",
       "    <tr>\n",
       "      <th>1523</th>\n",
       "      <td>679501257</td>\n",
       "      <td>Chicago</td>\n",
       "      <td>Two points right out of the gate: 1. Thuggery ...</td>\n",
       "      <td>NaN</td>\n",
       "      <td>NaN</td>\n",
       "      <td>NaN</td>\n",
       "    </tr>\n",
       "    <tr>\n",
       "      <th>1524</th>\n",
       "      <td>679501402</td>\n",
       "      <td>Los Angeles</td>\n",
       "      <td>I wanted to grab breakfast one morning before ...</td>\n",
       "      <td>NaN</td>\n",
       "      <td>NaN</td>\n",
       "      <td>NaN</td>\n",
       "    </tr>\n",
       "  </tbody>\n",
       "</table>\n",
       "<p>1525 rows × 6 columns</p>\n",
       "</div>"
      ],
      "text/plain": [
       "       _unit_id         city  \\\n",
       "0     679455653      Atlanta   \n",
       "1     679455654      Atlanta   \n",
       "2     679455655      Atlanta   \n",
       "3     679455656      Atlanta   \n",
       "4     679455657      Atlanta   \n",
       "...         ...          ...   \n",
       "1520  679500008     Portland   \n",
       "1521  679500224      Houston   \n",
       "1522  679500608     New York   \n",
       "1523  679501257      Chicago   \n",
       "1524  679501402  Los Angeles   \n",
       "\n",
       "                                                 review hour minute indicator  \n",
       "0     I'm not a huge mcds lover, but I've been to be...  NaN    NaN       NaN  \n",
       "1     Terrible customer service. I came in at 9:30pm...    9     30        pm  \n",
       "2     First they \"lost\" my order, actually they gave...  NaN    NaN       NaN  \n",
       "3     I see I'm not the only one giving 1 star. Only...  NaN    NaN       NaN  \n",
       "4     Well, it's McDonald's, so you know what the fo...  NaN    NaN       NaN  \n",
       "...                                                 ...  ...    ...       ...  \n",
       "1520  I enjoyed the part where I repeatedly asked if...  NaN    NaN       NaN  \n",
       "1521  Worst McDonalds I've been in in a long time! D...  NaN    NaN       NaN  \n",
       "1522  When I am really craving for McDonald's, this ...  NaN    NaN       NaN  \n",
       "1523  Two points right out of the gate: 1. Thuggery ...  NaN    NaN       NaN  \n",
       "1524  I wanted to grab breakfast one morning before ...  NaN    NaN       NaN  \n",
       "\n",
       "[1525 rows x 6 columns]"
      ]
     },
     "execution_count": 8,
     "metadata": {},
     "output_type": "execute_result"
    }
   ],
   "source": [
    "reviews_df"
   ]
  },
  {
   "cell_type": "markdown",
   "metadata": {},
   "source": [
    "# Finding Repeat Words in Reviews Using Backreferences\n",
    "You can refer to capture groups earlier in your expression using **backreferences**. For instance, `\\1` means the first capture group in your expression."
   ]
  },
  {
   "cell_type": "code",
   "execution_count": null,
   "metadata": {},
   "outputs": [],
   "source": [
    "<br>texct</br>"
   ]
  },
  {
   "cell_type": "code",
   "execution_count": 9,
   "metadata": {
    "scrolled": true
   },
   "outputs": [
    {
     "name": "stdout",
     "output_type": "stream",
     "text": [
      "679455715,Atlanta,\"My Wife and I have been to this McDonalds about 10 times since the rebuild. There is a whole new staff of people working there. In the 10 visits we have yet to get a complete order. I went inside the restaurant this evening in hopes of eliminating the issue we had been having. I ordered 2 quarter pounders, 2 apple pies and 1 hamburger. I was given my order to go, missing the 2 apple pies and hamburger. Beware if you go to this McDonalds and check your order.\"\n",
      "\n",
      "679455733,Atlanta,\"The first time I went here they smothered my burger with mustard and ketchup to where it was dripping on me, and the past two times I have been here the fries are old and dark, and they put like one peice of bacon on my burger. They offered me free fries tomorrow. Ha horrible place to eat\"\n",
      "\n",
      "679455791,Las Vegas,\"I stopped at this McDonald's because I had about two minutes to grab lunch. The ONLY reason I ever eat at a Mickey D's is because it's a) fast, b) cheap and c) predictable. You know the food won't be awesome, but it will be reasonably eatable. Man, was I disappointed on points b) and c).First, the medium Quarter Pounder meal was more than six bucks. Jeez, that's hardly a deal.What made the sticker shock worse was the poor quality of the food. This had to be the worst Quarter Pounder I've ever (half) eaten. Maybe even the worst fast food burger I've ever had. It looked like it had been sitting out on Uncle Zeke's radiator all morning. The burger patties were gray and curled up at the edges. The bun was dry and crusty. It's like the damn thing was somehow mummified. Just nasty. Too bad I didn't have time to take it back.This will probably be the very last time I ever eat at a McDonald's. It was that bad.\"\n",
      "\n",
      "679455919,Las Vegas,\"I never thought I would write a review of a McDonalds, much less have to write a negative review for a McDonald's. I don't even know how it's possible that a McDonald's could be so bad but unfortunately this one is.  Like many people, I have eaten at McDonalds all over America and even in several other countries. I have to say this is probably one of the worst McDonald's I've ever been to other than the one in Manila in the Philippines -and that's only because I'm not sure that what was in those burgers was even beef.Where do I begin? The service is terrible. I have never, not ONE time, gotten what I ordered. I get sweet tea when I ask for unsweetened. I get cheese when I ask for none. I get onions when I ask for none. I get 2 chicken sandwiches when I ask for 4 apple pies. I have given up on going through the drive thru because I always end up having to pull around, park, go in and wait in the long line of teenagers getting shakes just to get them to correct my order. And even then, they don't get it right and I actually have to tell them, \"\"No see, this is a Chicken Sandwich, I ordered a McDouble.\"\"The food is almost always cold. The burgers are dry and taste like they have been sitting on a shelf for more than an hour. And the fry's..ugh! When there are 6 cars in the drive thru and 20 people in line, I just don't understand how the fry's can be cold and stale. It absolutely defies logic. Yes, there are times that the food comes out hot. It's one of the reasons I keep going back. There's nothing like hot Fry's from McDonalds.. and also, just because it's McDonald's. Like it or not, it's a staple for working parents too tired to cook dinner after work some nights. It is unfortunate that they have no competition in the immediate area to keep them on their toes, otherwise they might actually try to improve their service and their product. I am sure they are turning a profit. No doubt. It seems to always be busy. However, I truly believe that if ANY other burger joint opened up right next door, this place would close down in a month. Every time I say I'm never going back, I still do. Unfortunately, tonight will be one of those nights as the kids specifically requested it. The shear dread of what I'm about to go through is what prompted this review. I really hope they improve. It hurts to have to knock a McDonald's.\"\n",
      "\n",
      "679456060,Las Vegas,I've been to this drive through 3 times. I order simple things like a Big Mac meal or a couple burgers and fries. Yet some how they have never gotten my order correct. Today I ordered two hamburgers and fries. My hamburgers were damp and had pickled jalape±os instead of regular pickles. Not sure if this was a bad prank by the young staff or just a shitty burger that was made by someone who doesn't know the difference.Also their drive through is always packed and people line up into the adjacent albertsons parking lot and road. Come on fatties.... At that point park and walk in.\n",
      "\n",
      "679456096,Las Vegas,\"I usually have no issues coming here. I usually come in the morning before work for coffee. This time I came with my family and ordered four meals with iced coffees. I asked the drive thru lady for a couple packs of mayonnaise. She left the window, came back & handed me one pack of mayonnaise. I had to calm myself down.. Knowing how I am... I decided to just use my mayo at home for our burgers. What in your right mind would u think I could do with ONE baby pack of mayo for four burgers. Not even two... But hands one to me out the window. Lazy ass girl.\"\n",
      "\n",
      "679456104,Las Vegas,\"This McDonalds is terrible. I don't expect much from fast food but there is a standard... a low one but at least reach minimal expectations.  My son and I went through the drive through (took forever). They have the nerve to ask \"\"is everything on the screen correct\"\". After we got our food, we pulled forward in the drive-thru to allow traffic to move. I explained to my son that we need to check and make sure we got everything....  I ordered big Mac meal and happy meal -burger plain.  They missed the toy and my fries and his burger... how? We went inside and had to convince them that we really didn't get everything. They got what we were missing and we went home.  My son was disappointed. I ordered burger plain for a reason. They were too busy chatting behind the counter to pay attention to the order they already screwed up. No apology. Nothing.  I would let this slide if this was the only time. Hire people that work! I don't expect a five star meal but get the order right. If not the first time, at least don't screw it up twice!\"\n",
      "\n",
      "679456151,Las Vegas,\"Make sure they put everything, you've ordered, in the bag before leaving! We went through the drive-tru and ordered six burgers (we were both hungry). We get to the second window, and the guy handing my boyfriend the bag repeated the order, but he said five burgers instead of six, so my boyfriend said, \"\"How many? Five?\"\" And the guy said, \"\"No, six.\"\" So, we drive off without checking how many were actually in the bag, and when we got home, we find out there were only five. Ugh!!! And we did check the receipt, and under QTY - 6!McDonald's, you guys owe me a damn burger!\"\n",
      "\n",
      "679456162,Las Vegas,\"I'm constantly disappointed in this mcdonalds and it's the closest one to me sadly . But today was just the last leg for me , I guess my order was too complicated no onion no pickle on a cheese burger w/ melted cheese ( because most times the cheese is not melted ) and my receipt had my order correct but my burger still came with onions and pickles . So I went inside and waited for a new one to be prepared . Only to watch the lady preparing my food give me sooo much attitude , and cover my burger in ketchup . I just left the burger there , customer service was piss poor today . And every other day . Everyone looked miserable .\"\n",
      "\n",
      "679456163,Las Vegas,\"Heading into the Galleria to shoe shop with the wife, she figured it would be beneficial to get me a snack before the doldrums of shoe shopping. Thought the dollar menu should be an inexpensive snack before we went home for a full dinner.It was an easy transaction to get a soda, burger and fries, they're order fulfillment time was about the highlight of the visit.Our food was ready, so we sat down and tore into the bag. The burger was your typical McD's burger, nothing special, tastes like a very cheap, almost beef patty. The fries however, looked and tasted like they had been dropped into the fryer a couple times. Finally, the soda... there was a slightly off taste to it, could be the mix, or the syrup was on its way out, either way, it wasn't the greatest tasting soda I have had.After eating, I went to get my drink refilled, as they normally give one refill per cup at this location. Not this time. Now, if you would like a refill, it is $0.54. I was really tempted to break out the credit card to pay for a refill, just out of spite. Laziness prevailed and I walked away. I can understand not having unlimited refills at a mall, where mallrats could abuse the refill policy. That is why it was perfectly understandable to have only one refill per cup.\"\n",
      "\n",
      "679456203,Dallas,\"I come here so often for lunch and every time I been here they alway get my order wrong, either I'm always missing something or I add bacon to a burger and get charged for it and it's not on a burger I would check and open it up but I don't have time I have to get back to my job. It's so aggravating and I can't go back around because it would make me late for work I would really hope they do something about this issue! Either your cooks do not know how to read or they so not pay attention.\"\n",
      "\n",
      "679456221,Dallas,\"This location is really close to where i live and we go here all the time. Poor food quality at night. You would think that the food would be fresher at night because of the slower business. I ordered a filet of fish a few times from here and I recieved a stale fish sandwich. and \\ the fish look and felt so stale like it was thrown away earlier in the day and dug out the trash and put on a bun. My friend had gotten a double cheese burger and when she bit into and look at it as a piece of mop string in her burger. THAT IS DISGUSTING. We took it back got a fresh burger and fo a gift i guess they gave us free stale pies. lol \"\"Gotta Love It\"\"\"\n",
      "\n",
      "679456235,Dallas,\"WORST! MCDONALDS! EVER! I'm not a huge fan of Mickey D's, but when your driving cross country there's nothing better than a MD's cheeseburger. There's no crap falling out all over the place; it's one concise package. That being said, this was awful. I was hungry late in the day yesterday and thought I'd walk next door to my neighborhood Mickey D's. Normally I have a hamburger and cheeseburger, no fries no drink, but today I had the Asian salad, with grilled chicken. The chicken had this slimy goup all over it. It made the chicken inedible as well as the salad beneath it.  My friend had a six piece chicken nugget and a fish fillet. Both were horrible. My friend is a connoisseur of MD's fish fillet sandwich and he found it intolerable. The nuggets were devoid of their normal processed flavor which in this case is a bad thing. Overall, a horrible experience and I'll never go back to this one.\"\n",
      "\n",
      "679456251,Dallas,\"Ok, so I arrive here with a coupon that says 'order 1 extra value meal and get a like sandwich. Key word...'like'. My options for my meal included either 1 big mac or 2 cheeseburgers. I order 2 cheeseburgers. Then for my sandwich I request 2 additional cheeseburgers. The manager tells me 'no, I can only get 1, not 2. Duhhh...I said \"\"why do u think 'like' is emphasized in the wording\"\"??? Again she said, I can only get 1 sandwich, not 2. Fine. Of course, then I looked for the biggest sandwich I could find....the Bacon Angus Cheeseburger which I think may cost more than the value meal alone and quite frankly probably shouldn't be honored since it wasn't a part of the deal to begin with. Oh well.....On top of that I'm still callin' corporate to complain.....I'm entitled to my 2 cheeseburgers.\"\n",
      "\n",
      "679456275,Portland,\"The Sherwood McDonalds, for as long as I've lived in the area, is probably one of the worst fast-food places I've been to. Unfortunately, in the interest of convenience and time constraints, we end up running through the drive-thru on rare occasion.Earlier this week they once again met my expectations for being incompetent, apathetic and a waste of money.I ordered a couple meals. 2- 10pc Chicken nugget meals w/ hot mustard and a plain cheeseburger.How many dipping sauces are you supposed to get with the nuggets? 2 per.We got 3 total. 2+2=3 using their new math I guess.1 - plain cheeseburger. I guess at the Sherwood McDonalds that means you REALLY want a plain chicken sandwich because a chicken sandwich is what we received.Fries - COLD, CHEWY, NO SALT and the one medium fry was filled half way - I have a picture I'm attaching.They've installed visual ordering screens in the drive-thru but they've managed to completely defeat that failsafe of the customer confirming what they ordered when the staff can't manage to pay enough attention to what they are putting in the bags.Do yourself a favor. Do NOT go to this place. I never like to see businesses fail but in this case it would be doing the paying community a great service.\"\n",
      "\n",
      "679456358,Portland,\"I don't go to McDonald's looking for anything great. I mean, it's McDonald's... howevee I am very picky about condiments so I always order my burgers plain. This McDonald's is so ridiculous. They mess up my order every time. One time they gave me coffee with creamer and sugar when I ordered black, they actually put more effort into messing up my order than making it correctly. Another time they put my fries in my bag upside down. They forgot two burgers and a large fry one time when I was picking up supper on my way home. They almost always fail to make my burger plain even though the receipt clearly says plain. They remake your food if they messed up but they aren't nice about it and they never offer you anything like a coupon or something free to make up for their mistake. And they're coffee in the morning is always burnt. It's terrible! The only thing they do right is the frappes and I've only ever ordered one!\"\n",
      "\n",
      "679456359,Portland,\"My wife and I were at the McDonalds on 12109 NE Glisan St Portland OR 97220 today (May 1, 2011) at 1:11pm. We got a cheddar onion mcchicken and a medium fry and medium drink. The food was cold when we got it, the fries on top were warm but the rest were ice cold and hard as rocks. The burger was ice cold and I asked for another one, the girl took it back and returned a burger to me within 30 seconds. She did not wash her hands at all. There was a clump of hair in it. There were no hairnets on any employee. I spoke with the \"\"manager\"\" Sean, and Sean decided to leave before I was done with my statement because I asked the manager if not having hairnets, having facial piercings and taking a cup back after a customer has handled it and putting it back in the cup dispenser was a common practice at McDonalds, Sean told me \"\"Go ahead, call the fucking health department asshole I don't care!\"\" My wife and I have had upset stomachs since we got home (we were only there 20 minutes and live 15 minutes away)\"\n",
      "\n",
      "679456396,Chicago,\"This McDonalds' gets 3 stars for being open all night. Sometimes i just have a craving for chicknuggets or I just need to grab some double cheeseburgers at 3am and Maxwell St Depot Polish isn't what I'm craving. So Kudos for being the closest open 24 hour McDs to me.However, if you do come, take notice of the giant CPD HQ building that is just a few blocks west of this place. IF ANYTHING was to go down, hurry to this refuge of safety.This following rant is not on this specific location but on McDs in general. What the hell is a friggin' McDouble and why is it replacing the double cheeseburger for 99c? A McDouble is a fancy way of saying \"\"we jacked yo cheeze, foo!\"\" It is a double cheeseburger with only 1 slice of cheese. 1 tiny slice of cheese is not enough to satisfy my cheeseburger craving!!!! I guess I'm too poor to be more than a Dolla Menunaire cuz I can no longer afford a double cheeseburger at $1.29 and I can only get the 99c McDouble.\"\n",
      "\n",
      "679456422,Chicago,\"This is the worst McDonald's I have ever been to, and I LOVE McDonald's and all its cheap, bad-for-you food glory.I am a graduate student at nearby Loyola University, so I come here often to grab lunch to go as quickly as possible before scurrying out the door and seeking refuge in my classrooms to devour my goods.The first time I ordered from here, my hamburger bun was HARD. Completely stale. Assuming this was just a fluke, I continued to frequent this fine dining establishment.The next few times weren't so bad, but the fries are consistently lackluster and are flavorless, hard, and taste \"\"old\"\"; the antithesis of the coveted McDonald's french fry!Last time I ordered a hamburger (this was last week!), the bun had marks on it that literally looked like black tire tracks running across the length of the bun. I'm not sure how this could have possibly happened, but then again, I really am not that curious. This is an \"\"okay\"\" place if you're looking for a cheap lunch in the city, but be careful to avoid the questionable individuals loitering inside and out!\"\n",
      "\n",
      "679456496,Chicago,\"I went to this McDonald's for dinner and after I ordered my food and pulled up to the window they handed me a drink caddy with my drinks and two glasses in it that I didn't ask for. (I believe they charged me for these without me knowing, unless they are free.) Then I was instructed to pull forward and wait. I have had this happen before and it usually isn't a big deal. After waiting for a little bit the guy came out with my food. When inspecting it I asked him for my other french fry and he went in and grabbed it. When He came back I had inspected the bag a little more and realized I had an extra 10 piece chicken nugget but was missing another double cheese burger. When I informed him of this he looked at me and told me I was wrong because he made it himself. At this point I was very frustrated after being called a liar over a freaking cheese burger. I asked him to look in the bag and he took it back inside corrected the order by taking back the nuggets (probably to resell them) and replacing it with a burger. (only one of the burgers were made right) when handing me the bag he waved the receipt in my face (something I never received a copy of) and told me it is right now because I have your receipt. I would expect it to be right only to get home and find out that it wasn't. This isn't the first time I have had a problem at this location and I'm a little tired of spending my money at a place that obviously doesn't appreciate it.\"\n",
      "\n",
      "679456511,Chicago,\"If I were to die and go to hell, this McDonald's would certainly provide a worthy backdrop for a nightmare imagined.Let's begin the story of my worst dinner of my life at this sad little stop in a strip mall of no particular visual appeal under a bleak and cold Chicago evening. All things being fair, the culinary experience was doomed for failure given certain personal and tragic circumstances I won't get into here.Upon stepping to the counter, I gave pause to the abbreviated menu not worthy of a McDonald's Express, which is a new concept to me all-together. I decided to play it safe with the classic cheeseburger meal with an intimidating amount of fries and drink aka \"\"The Value Meal\"\". My meal was served up a little too quickly with all due credit to the server. The food seemed to appear from nowhere - gremlins cooking the food? I could see the grease seeping through one of the burger wrappers. At this point I made a snap substitution request, no coke, coffee instead - a hot beverage will make the grease go down smoother. My server obligated me in silence and I acknowledged her generosity. I took my tray and chose a seat by the front windows where parked cars would treat the diner with blinding light from their headlights, but at least it was somewhat devoid of the cold glowing light emitting from the overhead florescent located in the rear of the restaurant.I sat down and emptied the contents of the bag, fries and napkins, no ketchup. I tasted one of the fries to determine if they were worthy of ketchup-free consumption, but alas no, they were slightly cold with a texture that left an unpleasant lump in your throat. I fetched several ketchup packets from the server, kept under tight security behind the counter and returned to my table.Spilling out the ketchup packets on the table, I noticed dried droplets of ketchup on the plastic packets. No turning back now, I dug into my dinner with a overwhelming sadness for humanity and myself. So, to sum up:Fries. They left an odd taste of seafood or fish to my palette. Perhaps they co-mingled food in the fryer. The luke-warm temparture made it a bit difficult to choke them down. Maybe some beer would have helped the process.Cheeseburgers. Lifting the top bun of any burger, you can tell right away if there was any love in the preparation. Though consumable, the burgers were not satisfying and tasted as if they sat under a heat lamp for too long, also lukewarm.Coffee. I have tasted better coffee from a mechanical contraption in a corporate lunch room. It was watery, lukewarm and slightly sweet in a way that amplified everything that went wrong with the coffee.Ketchup Packets. Looks like they were dropped on the floor at some point or recycled from a previous diner that did not use up all their ketchup.Customer Service. No complaints here, it's not exactly the most cheery place to work. Servers were speedy, helpful and responsive.\"\n",
      "\n",
      "679456544,Chicago,1/2/15so I have had 1 good experience and many bad. this time I remembered to take a photo literally looks like they threw my burger at the wall. I had to rebuild my own burger and then the holiday pie was burnt. why in God's sweet name would you serve that somebody. anyway I am a mall employee so I will probably be back there do lack of options but I hope for a better experience in the furture.\n",
      "\n",
      "679456584,Chicago,\"Worst McDonald's I've ever been to. Slow and Incompetent staff! I've been to this McDonald's 3 times since it is right by my house and each time was a very bad experience. This can't be a coincidence where every experience was poor. I went inside to order and each time took 10 to 20 minutes to get my order. 2 out of the 3 times other customers complained because the staff forgot something where they had the wrong order, missing items or also waited more than 10 minutes. I can imagine that these kind of errors would happen if the restaurant was extremely busy but by looking at the people inside and the drive thru outside...the place was not busy so do they give poor service every time I go there? The last time I told the manager that I've been waiting over 10 minutes for 2 cheeseburgers fries and a coke so why does it take over 10 minutes to get my order? She threw my fries back and gave me new ones and then I waited another 5 minutes to get the cheeseburgers. BAD PLACE. Do not go unless you have the patience to wait or want to receive or miss the wrong things in your orders.\"\n",
      "\n",
      "679456670,Houston,\"I think it's crazy to write a review for a fast food chain like mcd's here but OMG! This is the WORST micky D's I have ever been to! Corporate should totally come down and reevaluate this place. I have lived in this area for 5+ yrs and I have boycott this mcd! I have NEVER gotten an order right here nor even decent quality of service/food. Granted it is in a good location near the reliant and all...but omg, food is gross, drinks are gross (coffee is watered down, flat soda, not very sweet ''sweet tea''), and horrible service both inside and drive thru. I really suggest and recommend u to STAY AWAY from this place. If u do, prepare for everything to go wrong. Check your items before driving off. Including into ur burger bc the burger may be missing the meat!!There is a mcd off of buffalo speedway attached to a gas station that it decent. The best one in the area is further in 3rd ward, at Old Spanish Trail and Scott. They provide excellent service, they are fast, and precise!Stay away from this, unless you want a headache with your meal.\"\n",
      "\n",
      "679456674,Houston,\"100% worst McDonald's on the planet. We have given them chance after chance and I just cant do it anymore. Our order is NEVER right, you better check your order including inside your burger before you even walk away from the counter or leave the drive thru. During one visit they messed up my husbands burger THREE times, within 5 minutes. I dont understand how hard it is to slap a piece of fake meat onto a bun and throw the correct condiments on...unless you cant read the ticket, which honestly wouldnt be surprising. There is one employee who EVERY time we go just happens to take a break, sit in a chair near to us and scream, yell, bitch and cuss to her hearts content on her cell phone. I dont care if your on a break, you still represent your workplace because you are still wearing the uniform and sitting in the lobby. After the fourth time in a row of seeing this, we decided we would never return. There are a few other locations nearby, i suggest you choose them instead.\"\n",
      "\n",
      "679456738,Houston,\"If what you do is burgers, and burgers require fresh bread, the LEAST you could do is have THAT. Bread=stale.\"\n",
      "\n",
      "679456826,Los Angeles,\"i know its mcdonalds but this was the worse experience ive had ever in a mickey ds...got coupon for a free smoothie - with purchase of any sandwich or salad ( no dollar menu items)ok ordered a cheeseburger, girl insisted its in the dollar menu...i said no, she said yea...so i said ok fine, let me get a southern chicken sandwich - she asked if grilled or fried - i said fried...ok good...but i was still mad that cheeseburger IS NOT in the dollar menu....anyways, order comes...we were in a hurry, paid w debit card...done deal....wen we get the bag its a f***** salad....wackness....i swear, but i got no time to argue, or change the salad to sandwich and go thru debit/credit processing to change prices etc....so it was double wack....then i get home, guess what.....there a long hair on the salad....\"\n",
      "\n",
      "679456844,Los Angeles,\"McDonalds sucks for so many reasons most of us know.. But this place is kinda awesome. It's such a new level of nasty and broke down that it rules. My roommate went there a long time ago and told me he ordered an apple pie and some other stuff. He got home, opened the bag and didn't see the apple pie box, and thought they accidentally gave him a cheeseburger instead. But that cheeseburger was a apple pie, wrapped up as a cheeseburger. That's awesome.\"\n",
      "\n",
      "679456887,Los Angeles,\"This is my third review of McDonald's across three different cities. Yelp, I hope you're paying attention, because if this veritable display of fast food prowess isn't enough to grant me Elite status, I just don't know what is.Because it's McDonald's, and everyone knows that McDonald's serves the most amazing flash-frozen food in the world, I employ a different rating system where every one I go to starts at 5 stars. I take off stars according to my experiences there.Let's begin for this location:5 stars: it's McDonald's, for chrissake. I don't need to justify this.4 stars: I had to knock it down one star because they ran out of cheeseburgers once at like 2:00am. When they first told me, it didn't even register in my brain. I ordered two cheeseburgers and the lady replied \"\"sorry, we don't have cheeseburgers right now.\"\" All I could say was \"\"no, just a regular one, not a McDouble.\"\" She had to repeat it again and I was so flabbergasted that I sat silently in the drive-thru window as my world was crashing around me. Four hours later I was able to collect my thoughts and order a Filet-O-Fish.3 stars: there is a constant ring of transients that surround this place late at night. They come up to you when you're pulling up to the window. They don't even ask for food, they try and give you money to buy stuff for them because, presumably you can't ride a shopping cart into the drive-thru. One time I was feeling nice and bought a lady a coffee, but then she proceeded to yell at me as I was driving away because I only got her 10 sugar packets instead of the 50 million that she requested. On the plus side, the establishment does a reasonably good job of keeping them out after hours, so now I know where to board myself up during a Zombie Apocalypse.2 stars: one time they questioned me when I ordered 80 nuggets. DID I STUTTER? It's 3:00am on a Saturday night, you should be questioning the people who get a 6 piece. 100 is pretty standard these days. With two of every sauce, including some that don't exist (\"\"zesty...chipotle...thai peanut butter?\"\") I don't want to wake up on Sunday morning unless there's half-eaten nuggets under my pillow.\"\n",
      "\n",
      "679456924,Los Angeles,\"OMG. Busiest McDonald's ever. I don't think anything special was going on, so uggghhhh.I had just finished moving all of my stuff from a U-haul down the street and was so tired and hot and all I wanted was a McFlurry and a burger. I think that was too much to handle. The McFlurry came out quickly. The burger? Not so much.Their weird coffee machine was busted (I don't understand why people want to eat those sugar drinks), and it was making this huge line. They also had about 40 people behind the counter and 20 of them trying to fix the machine. I lie, but you get the idea. So, I waited and waited and waited and waited for the burger, like 15 minutes. I hate to say stuff, and I could tell they were backed up so I kept thinking it was just getting there (other people were waiting a while, too). I finally did say something, and OH WADDYA KNOW. My burger was just sitting there at the end of the line.These two middle school boys had been waiting on something since before I had got there. I told them just to push up to the front and show them their receipt. They did, and walked out minutes later.OH. And the place is on a east-west axis with no shade. It was HOT in there.\"\n",
      "\n",
      "679456979,New York,\"Went for the restroom, and was disappointed by the quality and service.They charged me for Mac sauce on my burger. There was no sauce on my burger.\"\n",
      "\n",
      "679457018,New York,\"This is officially the slowest McDonalds franchise I've been to globally, and I've been to quite a few!This is the third visit to this franchise and last.It really is like ordering food in the third world, every stage is just done one at a time with a break between each....I waited 9 minutes (I started a podcast and I just finished as they handed over my burger) for a McDouble. From where I was standing I could see the bottom burger siting out on the bin for a good while, while the other burger was being cooked.I was so hungry I didn't bother saying anything, I didn't have time..Lets face it, if your dumb enough to eat at McDonalds, you deserve bad service.Maybe not the food poisoning this franchise gave me though.P.s. see if you can spot the guy sitting on the prep tables in the back watching TV. He has been there the last two time I have. I hope he is not the manager....Addional Tips ---- it asks if it \"\"has TV?\"\" I said yes, but it's only for the kitchen staff!\"\n",
      "\n",
      "679457066,New York,\"I've eaten at Nougatine and ABC Kitchen numerous times, but I have to admit that I keep coming back to this fine institution for a great meal that puts JGV's work to shame. The french fries are an example of potatoes that have been prepared in a form that may be legitimately considered a work of art. The gentle texture and crisp of the fries are testament to the corporation's impeccable execution of deep frying, and the training that the personnel have undergone to achieve this perfection across the franchise is very much laudable. My experience with the beef has been nothing short of flawless. As I had requested, the patty in my burger was prepared to a medium-rare, and the subtle cheese and softly-grated onions danced with the rich ketchup and mustard on my tongue, as I tasted thick and quality processed meat between two pieces of toasted and warm buns. The acidity of the salted fries and that of the burger did not balance quite as I liked it, though I was very much satisfied anyway. I have to say that short of make-up sex, I have had no better experience in my 20's. To finish my three-course, the apple pies were magnificent. The texture of the apples led me to believe that they were, in fact, potatoes, but I must commend McDonald's for aptly managing their resources and overhead by taking advantage of economies of scale in purchasing only mass quantities of one ingredient, as opposed to diversifying their portfolio; this may lead to higher margins in that the franchises would be able to provide more products in their menu e.g. genuine apple smoothies or apple-infused panacotta, but would ultimately lead to higher operating costs. In any case, the dessert was very much satisfying.Though I paid only $6.00 for this meal, I must have gained the delight of a $60.00 meal. Cheers to an amazing institution for providing a meal aptly suited for all social castes.\"\n",
      "\n",
      "679457075,New York,\"Quick, somebody call the fire department. There's a carbon monoxide leak at the McDonald's on 6th and 1st Ave. The staff are showing the telltale sluggish, sleepy signs of poisoning.This place makes me sad. Every time I go, I see a herd of people standing at the counter. It begins the inevitable questioning:\"\"Did... I'm sorry, have you ordered?\"\"\"\"No, not yet.\"\"\"\"Oh, ok, um, ma'am have YOU ordered?\"\"\"\"Oh no, I'm just here to read the pretty signs.\"\"Etc., and so on, etc....When you do order, the real chaos in the kitchen begins. I've seen Gordon Ramsay on calmer days then some of these people.\"\"ANGEL, FOR GOD'S SAKE, I NEED FOUR CHEESEBURGERS FIVE MINUTES AGO, WHAT IS TAKING YOU SO LONG?!?!\"\"MARK, I'M DOING THE BEST I CAN AND I'M HAVING A REALLY BAD DAY, SO STEP OFF, OK!?! OK?!?!\"\"This played out between numerous employees while waiting for my food. I didn't even try to hide the laughter.These days, the only McDonald's I tend to visit fall under three categories:1) I am within 1/2 of a freeway and there are no other options2) I am in high school, its 2 AM, it's suburbia, I'm hungry, and there are no other signs of life3) I'm jonesing for Hi-C Orange Drink (the colloquial, vivid description of the beverage is what really draws me in)I took the commercials' advice and took advantage of my right as a New Yorker to order the Big Angus burger. I had one earlier in the month and I remembered it being much better than your general ten-packets-of-sugar-per-bun-grade-c-beef Micky D's fare.Oh wow. This was bad. And I mean BAD. It's awfulness may or may not have been highlighted by the fact that I was reading an article as I ate about the fatal cases of \"\"superbug\"\" staph infections being on the rise in New York. The mayo had the appearance of cream cheese. The onions looked, felt, and tasted as though they had spent the better part of a week floating in water. The burger meat itself was bland, flavorless, and had the consistency of - oh, what the hell am I doing. Am I really here, wasting a beautiful Sunday afternoon sitting in my living room to write about the inferior quality of a meal at McDonald's? Am I that sad?This McD's in particular is used as a haunt for the local, random old people clique that you will find in every neighborhood on earth. An old woman took a table of four to herself next to me (even though seating was scarce as it was) and began conversations with, like, 4 people who walked in.OH, and do you know what I noticed today? The aftertaste of Dr. Pepper tastes EXACTLY like Play-Doh! It's so weird! Half the people who read that just went \"\"WTF, YOU ATE PLAY-DOH AS A CHILD???\"\" and the other half went \"\"Oh my God, I know exactly what he's talking about!\"\" I mean, come on, it says non-toxic right on the can, and the pizzas I used to make with blue and purple toppings were simply too tempting...I dare someone to click \"\"Formal (Jacket Required)\"\" for dress for this place.OK, I'm done with this review.\"\n",
      "\n",
      "679457080,New York,\"I came in here today around 1:00 PM for lunch. I noticed last week that they had opened in the same place where the KFC stood for decades.I know they added more items to their dollar menu & more selection. so I thought i would try some. I ordered a BBQ Ranch burger and a Buffalo ranch McChicken. The order was completed in less than 5 minutes and the service was professional.The BBQ ranch burger is topped with slice of white cheddar, barbecue sauce that is decent and crispy corn chips. The Buffalo ranch McChicken is a crispy McChicken patty topped with Buffalo sauce, creamy buttermilk ranch dressing and shredded iceberg lettuce, served on a toasty bun.\"\n",
      "\n",
      "679457092,New York,\"Is a review even necessary here? Who hasnt had Mcdonalds when they were a kid? For those who said they havent had Mcdonalds you probably just crawled out of a rock. Or you're just a super healthy person growing up and it wasnt your fault your parents fed you carrot sticks for finger foods instead of pigs in a blanket. So this review is for you \"\"healthy person growing up\"\", or the person who just crawled out of a rock..I will keep this short and sweet. Chicken nuggets is whats good here. All White, Crispy Chicken Nuggets. As dipping sauce, you gotta get either Sweet and Sour, BBQ sauce, or Honey Mustard....I think I just told you all their sauces...;) Anyways, burger wise I used to get Big Mac, thats two burger patties in a special yummy sauce...now they have some Angus Burger with Bacon. I had it last year, its pretty good. Well, thats it. Enjoy your Fast Food here...You gotta try it at least once in your life...its been awhile since I stepped into this type of establishment.\"\n",
      "\n",
      "679457134,,\"This McDonalds is right next to my parents house so I found myself here twice now and both times I wanted to run out screaming.Seriously, out of the endless fodd options in Miami beach, WHY do I get dragged to McDonalds? I blame my son, still never again, he can get a burger ANYWHERE else!Both times the service was atrocious, the people in here scary. There was a long line, I just wanted to get a burger for the kid and move on. Some guy behind me stood REALLY close and then kept yelling at me that I was making him uncompfortable, why was i staring at him he yelled, I was to stop touching him, then he yelled for help and through himself to the ground yelling I was abusing him...uhhh....really dude? I just want a burger?!!Miami is full of interesting people to say the least, amusing to visit, maybe just not McDonalds.\"\n",
      "\n",
      "679457135,,\"I don't really eat fast food, let alone Yelp about it. I haven't eaten at McDonald's in years. I should've known that agreeing to indulge in a friend's Quarter Pounder craving would end badly. But visions of Chicken McNuggets and that elusive Shamrock Shake started dancing in my head, and I relented.On our way there, we keep hearing ads for the new Chipotle BBQ Angus burger, and since that almost sounds kinda good, I decided to give it a shot. My friend gets the Quarter Pounder. We decide to share a little thing of McNuggets. All's well when we place our order.Then we pull up to the drive-thru, and they're doing something to the awning. Like tearing it off, which involves 2 people, a ladder, and complete blockage of access to the drive-thru window. So now the ladder-assist woman is our intermediary for the drive through window. Weird, but it worked, I guess. A quick check of the bag reveals that they didn't outright forget to put anything in our bag.Back at the abode, I'm ready to dive into my burger. I open the box. Hmm...looks a little thin for a burger. I open the bun. Oh, that's why. They didn't put the burger on my burger!! Just the cheese, pickles, bacon, onions and BBQ sauce. Are you frickin' kidding me?! No excuses, McDonald's. No excuses.And the fries were undercooked and soggy. And they didn't have the Shamrock Shake. If I ever find myself back at this McDonald's it will be against my will.\"\n",
      "\n"
     ]
    }
   ],
   "source": [
    "regex_pattern = r'(\\b\\w*burgers?\\b).+\\b\\1\\b'\n",
    "file.seek(0)\n",
    "reviews = file.readlines()\n",
    "\n",
    "for review in reviews:\n",
    "    match = re.search(regex_pattern, review)\n",
    "    if match:\n",
    "        print(review)"
   ]
  },
  {
   "cell_type": "markdown",
   "metadata": {},
   "source": [
    "### Using Named Backreferences\n",
    "\n",
    "If you named a group `BURGER`, you can reference it later with `(?P=BURGER)`."
   ]
  },
  {
   "cell_type": "code",
   "execution_count": null,
   "metadata": {
    "scrolled": false
   },
   "outputs": [],
   "source": [
    "regex_pattern = r'(?P<BURGER>\\b\\w*burgers?\\b).+\\b(?P=BURGER)\\b'\n",
    "file.seek(0)\n",
    "reviews = file.readlines()\n",
    "\n",
    "for review in reviews:\n",
    "    match = re.search(regex_pattern, review)\n",
    "    if match:\n",
    "        print(review)"
   ]
  },
  {
   "cell_type": "markdown",
   "metadata": {},
   "source": [
    "### Using Negative Lookaheads\n",
    "\n",
    "Whenever you are thinking *I need to match this expression, but only when the piece of text doesn't say X*, you can use **negative lookaheads**. \n",
    "\n"
   ]
  },
  {
   "cell_type": "markdown",
   "metadata": {},
   "source": [
    "For instance, to match only the timestamps in McDonalds reviews that happen before **12pm**:"
   ]
  },
  {
   "cell_type": "code",
   "execution_count": 10,
   "metadata": {},
   "outputs": [
    {
     "name": "stdout",
     "output_type": "stream",
     "text": [
      "('12', '54')\n",
      "('4', '30')\n",
      "('7', '30')\n",
      "('7', '30')\n",
      "('1', '45')\n",
      "('5', '48')\n",
      "('6', '30')\n"
     ]
    }
   ],
   "source": [
    "regex_pattern = r'([12]?\\d):([0-5]\\d)\\s?(?!pm)'\n",
    "file.seek(0)\n",
    "\n",
    "\n",
    "reviews = file.readlines()\n",
    "for review in reviews[:100]:\n",
    "    match = re.search(regex_pattern, review)\n",
    "    if match:\n",
    "        print(match.groups())"
   ]
  },
  {
   "cell_type": "markdown",
   "metadata": {},
   "source": [
    "If we still want to capture the time of day indicator:"
   ]
  },
  {
   "cell_type": "code",
   "execution_count": 11,
   "metadata": {},
   "outputs": [
    {
     "name": "stdout",
     "output_type": "stream",
     "text": [
      "('5', '00', 'AM')\n",
      "('7', '30', 'so')\n",
      "('5', '48', 'am')\n",
      "('6', '30', 'am')\n"
     ]
    }
   ],
   "source": [
    "regex_pattern = r'(1?\\d):([0-5]\\d)\\s?(?!pm)(\\w{2})'\n",
    "file.seek(0)\n",
    "reviews = file.readlines()\n",
    "for review in reviews[:100]:\n",
    "    match = re.search(regex_pattern, review)\n",
    "    if match:\n",
    "        print(match.groups())"
   ]
  },
  {
   "cell_type": "markdown",
   "metadata": {},
   "source": [
    "### Negative Lookbehind\n",
    "#### Find all tweets that do not begin with a mention."
   ]
  },
  {
   "cell_type": "code",
   "execution_count": 14,
   "metadata": {},
   "outputs": [
    {
     "data": {
      "text/html": [
       "<div>\n",
       "<style scoped>\n",
       "    .dataframe tbody tr th:only-of-type {\n",
       "        vertical-align: middle;\n",
       "    }\n",
       "\n",
       "    .dataframe tbody tr th {\n",
       "        vertical-align: top;\n",
       "    }\n",
       "\n",
       "    .dataframe thead th {\n",
       "        text-align: right;\n",
       "    }\n",
       "</style>\n",
       "<table border=\"1\" class=\"dataframe\">\n",
       "  <thead>\n",
       "    <tr style=\"text-align: right;\">\n",
       "      <th></th>\n",
       "      <th>tweet</th>\n",
       "      <th>extracted</th>\n",
       "    </tr>\n",
       "  </thead>\n",
       "  <tbody>\n",
       "    <tr>\n",
       "      <th>0</th>\n",
       "      <td>@stellargirl I loooooooovvvvvveee my Kindle2. ...</td>\n",
       "      <td>NaN</td>\n",
       "    </tr>\n",
       "    <tr>\n",
       "      <th>1</th>\n",
       "      <td>Reading my kindle2...  Love it... Lee childs i...</td>\n",
       "      <td>Reading my kindle2...  Love it... Lee childs i...</td>\n",
       "    </tr>\n",
       "    <tr>\n",
       "      <th>2</th>\n",
       "      <td>Ok, first assesment of the #kindle2 ...it fuck...</td>\n",
       "      <td>Ok</td>\n",
       "    </tr>\n",
       "    <tr>\n",
       "      <th>3</th>\n",
       "      <td>@kenburbary You'll love your Kindle2. I've had...</td>\n",
       "      <td>NaN</td>\n",
       "    </tr>\n",
       "    <tr>\n",
       "      <th>4</th>\n",
       "      <td>@mikefish  Fair enough. But i have the Kindle2...</td>\n",
       "      <td>NaN</td>\n",
       "    </tr>\n",
       "    <tr>\n",
       "      <th>...</th>\n",
       "      <td>...</td>\n",
       "      <td>...</td>\n",
       "    </tr>\n",
       "    <tr>\n",
       "      <th>493</th>\n",
       "      <td>Ask Programming: LaTeX or InDesign?: submitted...</td>\n",
       "      <td>Ask Programming: LaTeX or InDesign</td>\n",
       "    </tr>\n",
       "    <tr>\n",
       "      <th>494</th>\n",
       "      <td>On that note, I hate Word. I hate Pages. I hat...</td>\n",
       "      <td>On that note</td>\n",
       "    </tr>\n",
       "    <tr>\n",
       "      <th>495</th>\n",
       "      <td>Ahhh... back in a *real* text editing environm...</td>\n",
       "      <td>Ahhh... back in a</td>\n",
       "    </tr>\n",
       "    <tr>\n",
       "      <th>496</th>\n",
       "      <td>Trouble in Iran, I see. Hmm. Iran. Iran so far...</td>\n",
       "      <td>Trouble in Iran</td>\n",
       "    </tr>\n",
       "    <tr>\n",
       "      <th>497</th>\n",
       "      <td>Reading the tweets coming out of Iran... The w...</td>\n",
       "      <td>Reading the tweets coming out of Iran... The w...</td>\n",
       "    </tr>\n",
       "  </tbody>\n",
       "</table>\n",
       "<p>498 rows × 2 columns</p>\n",
       "</div>"
      ],
      "text/plain": [
       "                                                 tweet  \\\n",
       "0    @stellargirl I loooooooovvvvvveee my Kindle2. ...   \n",
       "1    Reading my kindle2...  Love it... Lee childs i...   \n",
       "2    Ok, first assesment of the #kindle2 ...it fuck...   \n",
       "3    @kenburbary You'll love your Kindle2. I've had...   \n",
       "4    @mikefish  Fair enough. But i have the Kindle2...   \n",
       "..                                                 ...   \n",
       "493  Ask Programming: LaTeX or InDesign?: submitted...   \n",
       "494  On that note, I hate Word. I hate Pages. I hat...   \n",
       "495  Ahhh... back in a *real* text editing environm...   \n",
       "496  Trouble in Iran, I see. Hmm. Iran. Iran so far...   \n",
       "497  Reading the tweets coming out of Iran... The w...   \n",
       "\n",
       "                                             extracted  \n",
       "0                                                  NaN  \n",
       "1    Reading my kindle2...  Love it... Lee childs i...  \n",
       "2                                                   Ok  \n",
       "3                                                  NaN  \n",
       "4                                                  NaN  \n",
       "..                                                 ...  \n",
       "493                 Ask Programming: LaTeX or InDesign  \n",
       "494                                       On that note  \n",
       "495                                 Ahhh... back in a   \n",
       "496                                    Trouble in Iran  \n",
       "497  Reading the tweets coming out of Iran... The w...  \n",
       "\n",
       "[498 rows x 2 columns]"
      ]
     },
     "execution_count": 14,
     "metadata": {},
     "output_type": "execute_result"
    }
   ],
   "source": [
    "regex_pattern = r'^(?<!@)([\\w\\s\\.:]+)'\n",
    "tweets_df[\"extracted\"] = tweets_df[\"tweet\"].str.extract(regex_pattern)\n",
    "tweets_df[[\"tweet\", \"extracted\"]]"
   ]
  },
  {
   "cell_type": "markdown",
   "metadata": {},
   "source": [
    "# Exercises\n",
    "\n",
    "You'll be using the the `tweets_df` Pandas dataframe and `fraudulent_emails.txt` text files for these examples."
   ]
  },
  {
   "cell_type": "code",
   "execution_count": null,
   "metadata": {
    "scrolled": true
   },
   "outputs": [],
   "source": [
    "email_text = open(\"fraudulent_emails.txt\").read()"
   ]
  },
  {
   "cell_type": "markdown",
   "metadata": {
    "solution2": "hidden",
    "solution2_first": true
   },
   "source": [
    "#### Use named capture groups to find the subject headings for these emails.\n",
    "**Hint**: Look for the subject line within the email."
   ]
  },
  {
   "cell_type": "code",
   "execution_count": null,
   "metadata": {
    "scrolled": true,
    "solution2": "hidden"
   },
   "outputs": [],
   "source": [
    "# Find the subject headings for these emails.\n",
    "email_text = open(\"fraudulent_emails.txt\").read()\n",
    "re.findall(r'Subject:\\s(.+)', email_text)"
   ]
  },
  {
   "cell_type": "markdown",
   "metadata": {
    "solution2": "shown",
    "solution2_first": true
   },
   "source": [
    "#### Find all hashtags or references mentioned in the `tweets_df` dataset. Store them as two separate columns, one for whether it is either a `@` or `#`, and the other for the actual content (ie. the `hello` part of `#hello`)."
   ]
  },
  {
   "cell_type": "code",
   "execution_count": null,
   "metadata": {
    "scrolled": true,
    "solution2": "shown"
   },
   "outputs": [],
   "source": [
    "# Find all hashtags mentioned in the tweets dataset. Store it as a separate column called hashtags.\n",
    "# The \\B is \"not a word boundary\", and it matches because the # (and the @ in the previous example) is not \n",
    "# considered part of a word. Therefore, you need to opposite of a word boundary (a non-word boundary) to match\n",
    "# the case where it begins with a non-word character.\n",
    "\n",
    "# This will correctly NOT match text like she#he, sometext#someothertext\n",
    "tweets_df[\"tweet\"].str.findall(r'\\B(#\\w+)\\b')"
   ]
  },
  {
   "cell_type": "markdown",
   "metadata": {
    "solution2": "hidden",
    "solution2_first": true
   },
   "source": [
    "#### Use named capture groups to provide a **list of email addresses** for your security administrator to blacklist from your company's email servers. The output should be a list of dictionaries:\n",
    "\n",
    "```python\n",
    "[\n",
    " {\n",
    "     \"username\": \"yuchen\",\n",
    "     \"domain\": \"gmail.com\n",
    " },\n",
    "    # ...\n",
    "]\n",
    "```\n",
    "\n",
    "* Not all emails are malicious! Provide only the list of email addresses from where the email originates from. **Hint**: identify the pattern in the emails that tells you the source of the email.\n"
   ]
  },
  {
   "cell_type": "code",
   "execution_count": null,
   "metadata": {
    "scrolled": true,
    "solution2": "hidden"
   },
   "outputs": [],
   "source": [
    "regex_pattern = r'Return-Path: \\<(\\w+@\\w+\\.\\w{2,6})\\>'\n",
    "set(re.findall(regex_pattern, email_text)) # this matches only basic emails (myemail@gmail.com)\n",
    "\n",
    "regex_pattern = r'Return-Path: \\<(\\w+@\\w+\\.[\\w+\\.]{1,})\\>'\n",
    "set(re.findall(regex_pattern,email_text)) # this matches more complicated emails with multiple domain names)"
   ]
  },
  {
   "cell_type": "markdown",
   "metadata": {},
   "source": [
    "#### Use a negative lookahead to capture all emails except for the ones from `yahoo.com`. "
   ]
  },
  {
   "cell_type": "markdown",
   "metadata": {
    "solution2": "hidden",
    "solution2_first": true
   },
   "source": [
    "#### Identify any IP addresses that should be blacklisted\n",
    "\n",
    "An IPv4 address goes from **1.1.1.1 to 255.255.255.255**. For now, just worry about the number of digits, not whether the value in the address is above `255`."
   ]
  },
  {
   "cell_type": "code",
   "execution_count": null,
   "metadata": {
    "scrolled": true,
    "solution2": "hidden"
   },
   "outputs": [],
   "source": [
    "import re\n",
    "re.findall(r'[1-2]?[0-9]{1,2}\\.[0-9]{1,3}\\.[0-9]{1,3}\\.[0-9]{1,3}', email_text)"
   ]
  },
  {
   "cell_type": "markdown",
   "metadata": {
    "solution2": "hidden",
    "solution2_first": true
   },
   "source": [
    "#### The word \"AT&T\" is not spelled correctly in the `tweets_df` dataset. Correct the misspelling."
   ]
  },
  {
   "cell_type": "code",
   "execution_count": null,
   "metadata": {},
   "outputs": [],
   "source": [
    "tweets_df"
   ]
  },
  {
   "cell_type": "code",
   "execution_count": null,
   "metadata": {
    "scrolled": true,
    "solution2": "shown"
   },
   "outputs": [],
   "source": [
    "tweets_df = tweets_df[\"tweet\"].str.replace(r'AT&amp;', 'AT&')"
   ]
  }
 ],
 "metadata": {
  "kernelspec": {
   "display_name": "Python 3",
   "language": "python",
   "name": "python3"
  },
  "language_info": {
   "codemirror_mode": {
    "name": "ipython",
    "version": 3
   },
   "file_extension": ".py",
   "mimetype": "text/x-python",
   "name": "python",
   "nbconvert_exporter": "python",
   "pygments_lexer": "ipython3",
   "version": "3.8.5"
  },
  "toc": {
   "base_numbering": 1,
   "nav_menu": {},
   "number_sections": true,
   "sideBar": true,
   "skip_h1_title": false,
   "title_cell": "Table of Contents",
   "title_sidebar": "Contents",
   "toc_cell": true,
   "toc_position": {
    "height": "calc(100% - 180px)",
    "left": "10px",
    "top": "150px",
    "width": "225px"
   },
   "toc_section_display": true,
   "toc_window_display": true
  }
 },
 "nbformat": 4,
 "nbformat_minor": 2
}
