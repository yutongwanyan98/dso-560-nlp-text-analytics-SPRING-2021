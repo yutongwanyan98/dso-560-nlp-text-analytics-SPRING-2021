{
  "nbformat": 4,
  "nbformat_minor": 0,
  "metadata": {
    "kernelspec": {
      "display_name": "Python 3",
      "language": "python",
      "name": "python3"
    },
    "language_info": {
      "codemirror_mode": {
        "name": "ipython",
        "version": 3
      },
      "file_extension": ".py",
      "mimetype": "text/x-python",
      "name": "python",
      "nbconvert_exporter": "python",
      "pygments_lexer": "ipython3",
      "version": "3.8.5"
    },
    "toc": {
      "base_numbering": 1,
      "nav_menu": {},
      "number_sections": true,
      "sideBar": true,
      "skip_h1_title": false,
      "title_cell": "Table of Contents",
      "title_sidebar": "Contents",
      "toc_cell": true,
      "toc_position": {
        "height": "calc(100% - 180px)",
        "left": "10px",
        "top": "150px",
        "width": "165px"
      },
      "toc_section_display": true,
      "toc_window_display": true
    },
    "colab": {
      "name": "Using RNNs and LSTMs.ipynb",
      "provenance": [],
      "collapsed_sections": [],
      "machine_shape": "hm",
      "include_colab_link": true
    },
    "accelerator": "GPU"
  },
  "cells": [
    {
      "cell_type": "markdown",
      "metadata": {
        "id": "view-in-github",
        "colab_type": "text"
      },
      "source": [
        "<a href=\"https://colab.research.google.com/github/ychennay/dso-560-nlp-text-analytics-SPRING-2021/blob/main/Week%208/Using_RNNs_and_LSTMs.ipynb\" target=\"_parent\"><img src=\"https://colab.research.google.com/assets/colab-badge.svg\" alt=\"Open In Colab\"/></a>"
      ]
    },
    {
      "cell_type": "code",
      "metadata": {
        "id": "EuEd4Yhx0bTd"
      },
      "source": [
        ""
      ],
      "execution_count": null,
      "outputs": []
    },
    {
      "cell_type": "code",
      "metadata": {
        "colab": {
          "resources": {
            "http://localhost:8080/nbextensions/google.colab/files.js": {
              "data": "Ly8gQ29weXJpZ2h0IDIwMTcgR29vZ2xlIExMQwovLwovLyBMaWNlbnNlZCB1bmRlciB0aGUgQXBhY2hlIExpY2Vuc2UsIFZlcnNpb24gMi4wICh0aGUgIkxpY2Vuc2UiKTsKLy8geW91IG1heSBub3QgdXNlIHRoaXMgZmlsZSBleGNlcHQgaW4gY29tcGxpYW5jZSB3aXRoIHRoZSBMaWNlbnNlLgovLyBZb3UgbWF5IG9idGFpbiBhIGNvcHkgb2YgdGhlIExpY2Vuc2UgYXQKLy8KLy8gICAgICBodHRwOi8vd3d3LmFwYWNoZS5vcmcvbGljZW5zZXMvTElDRU5TRS0yLjAKLy8KLy8gVW5sZXNzIHJlcXVpcmVkIGJ5IGFwcGxpY2FibGUgbGF3IG9yIGFncmVlZCB0byBpbiB3cml0aW5nLCBzb2Z0d2FyZQovLyBkaXN0cmlidXRlZCB1bmRlciB0aGUgTGljZW5zZSBpcyBkaXN0cmlidXRlZCBvbiBhbiAiQVMgSVMiIEJBU0lTLAovLyBXSVRIT1VUIFdBUlJBTlRJRVMgT1IgQ09ORElUSU9OUyBPRiBBTlkgS0lORCwgZWl0aGVyIGV4cHJlc3Mgb3IgaW1wbGllZC4KLy8gU2VlIHRoZSBMaWNlbnNlIGZvciB0aGUgc3BlY2lmaWMgbGFuZ3VhZ2UgZ292ZXJuaW5nIHBlcm1pc3Npb25zIGFuZAovLyBsaW1pdGF0aW9ucyB1bmRlciB0aGUgTGljZW5zZS4KCi8qKgogKiBAZmlsZW92ZXJ2aWV3IEhlbHBlcnMgZm9yIGdvb2dsZS5jb2xhYiBQeXRob24gbW9kdWxlLgogKi8KKGZ1bmN0aW9uKHNjb3BlKSB7CmZ1bmN0aW9uIHNwYW4odGV4dCwgc3R5bGVBdHRyaWJ1dGVzID0ge30pIHsKICBjb25zdCBlbGVtZW50ID0gZG9jdW1lbnQuY3JlYXRlRWxlbWVudCgnc3BhbicpOwogIGVsZW1lbnQudGV4dENvbnRlbnQgPSB0ZXh0OwogIGZvciAoY29uc3Qga2V5IG9mIE9iamVjdC5rZXlzKHN0eWxlQXR0cmlidXRlcykpIHsKICAgIGVsZW1lbnQuc3R5bGVba2V5XSA9IHN0eWxlQXR0cmlidXRlc1trZXldOwogIH0KICByZXR1cm4gZWxlbWVudDsKfQoKLy8gTWF4IG51bWJlciBvZiBieXRlcyB3aGljaCB3aWxsIGJlIHVwbG9hZGVkIGF0IGEgdGltZS4KY29uc3QgTUFYX1BBWUxPQURfU0laRSA9IDEwMCAqIDEwMjQ7CgpmdW5jdGlvbiBfdXBsb2FkRmlsZXMoaW5wdXRJZCwgb3V0cHV0SWQpIHsKICBjb25zdCBzdGVwcyA9IHVwbG9hZEZpbGVzU3RlcChpbnB1dElkLCBvdXRwdXRJZCk7CiAgY29uc3Qgb3V0cHV0RWxlbWVudCA9IGRvY3VtZW50LmdldEVsZW1lbnRCeUlkKG91dHB1dElkKTsKICAvLyBDYWNoZSBzdGVwcyBvbiB0aGUgb3V0cHV0RWxlbWVudCB0byBtYWtlIGl0IGF2YWlsYWJsZSBmb3IgdGhlIG5leHQgY2FsbAogIC8vIHRvIHVwbG9hZEZpbGVzQ29udGludWUgZnJvbSBQeXRob24uCiAgb3V0cHV0RWxlbWVudC5zdGVwcyA9IHN0ZXBzOwoKICByZXR1cm4gX3VwbG9hZEZpbGVzQ29udGludWUob3V0cHV0SWQpOwp9CgovLyBUaGlzIGlzIHJvdWdobHkgYW4gYXN5bmMgZ2VuZXJhdG9yIChub3Qgc3VwcG9ydGVkIGluIHRoZSBicm93c2VyIHlldCksCi8vIHdoZXJlIHRoZXJlIGFyZSBtdWx0aXBsZSBhc3luY2hyb25vdXMgc3RlcHMgYW5kIHRoZSBQeXRob24gc2lkZSBpcyBnb2luZwovLyB0byBwb2xsIGZvciBjb21wbGV0aW9uIG9mIGVhY2ggc3RlcC4KLy8gVGhpcyB1c2VzIGEgUHJvbWlzZSB0byBibG9jayB0aGUgcHl0aG9uIHNpZGUgb24gY29tcGxldGlvbiBvZiBlYWNoIHN0ZXAsCi8vIHRoZW4gcGFzc2VzIHRoZSByZXN1bHQgb2YgdGhlIHByZXZpb3VzIHN0ZXAgYXMgdGhlIGlucHV0IHRvIHRoZSBuZXh0IHN0ZXAuCmZ1bmN0aW9uIF91cGxvYWRGaWxlc0NvbnRpbnVlKG91dHB1dElkKSB7CiAgY29uc3Qgb3V0cHV0RWxlbWVudCA9IGRvY3VtZW50LmdldEVsZW1lbnRCeUlkKG91dHB1dElkKTsKICBjb25zdCBzdGVwcyA9IG91dHB1dEVsZW1lbnQuc3RlcHM7CgogIGNvbnN0IG5leHQgPSBzdGVwcy5uZXh0KG91dHB1dEVsZW1lbnQubGFzdFByb21pc2VWYWx1ZSk7CiAgcmV0dXJuIFByb21pc2UucmVzb2x2ZShuZXh0LnZhbHVlLnByb21pc2UpLnRoZW4oKHZhbHVlKSA9PiB7CiAgICAvLyBDYWNoZSB0aGUgbGFzdCBwcm9taXNlIHZhbHVlIHRvIG1ha2UgaXQgYXZhaWxhYmxlIHRvIHRoZSBuZXh0CiAgICAvLyBzdGVwIG9mIHRoZSBnZW5lcmF0b3IuCiAgICBvdXRwdXRFbGVtZW50Lmxhc3RQcm9taXNlVmFsdWUgPSB2YWx1ZTsKICAgIHJldHVybiBuZXh0LnZhbHVlLnJlc3BvbnNlOwogIH0pOwp9CgovKioKICogR2VuZXJhdG9yIGZ1bmN0aW9uIHdoaWNoIGlzIGNhbGxlZCBiZXR3ZWVuIGVhY2ggYXN5bmMgc3RlcCBvZiB0aGUgdXBsb2FkCiAqIHByb2Nlc3MuCiAqIEBwYXJhbSB7c3RyaW5nfSBpbnB1dElkIEVsZW1lbnQgSUQgb2YgdGhlIGlucHV0IGZpbGUgcGlja2VyIGVsZW1lbnQuCiAqIEBwYXJhbSB7c3RyaW5nfSBvdXRwdXRJZCBFbGVtZW50IElEIG9mIHRoZSBvdXRwdXQgZGlzcGxheS4KICogQHJldHVybiB7IUl0ZXJhYmxlPCFPYmplY3Q+fSBJdGVyYWJsZSBvZiBuZXh0IHN0ZXBzLgogKi8KZnVuY3Rpb24qIHVwbG9hZEZpbGVzU3RlcChpbnB1dElkLCBvdXRwdXRJZCkgewogIGNvbnN0IGlucHV0RWxlbWVudCA9IGRvY3VtZW50LmdldEVsZW1lbnRCeUlkKGlucHV0SWQpOwogIGlucHV0RWxlbWVudC5kaXNhYmxlZCA9IGZhbHNlOwoKICBjb25zdCBvdXRwdXRFbGVtZW50ID0gZG9jdW1lbnQuZ2V0RWxlbWVudEJ5SWQob3V0cHV0SWQpOwogIG91dHB1dEVsZW1lbnQuaW5uZXJIVE1MID0gJyc7CgogIGNvbnN0IHBpY2tlZFByb21pc2UgPSBuZXcgUHJvbWlzZSgocmVzb2x2ZSkgPT4gewogICAgaW5wdXRFbGVtZW50LmFkZEV2ZW50TGlzdGVuZXIoJ2NoYW5nZScsIChlKSA9PiB7CiAgICAgIHJlc29sdmUoZS50YXJnZXQuZmlsZXMpOwogICAgfSk7CiAgfSk7CgogIGNvbnN0IGNhbmNlbCA9IGRvY3VtZW50LmNyZWF0ZUVsZW1lbnQoJ2J1dHRvbicpOwogIGlucHV0RWxlbWVudC5wYXJlbnRFbGVtZW50LmFwcGVuZENoaWxkKGNhbmNlbCk7CiAgY2FuY2VsLnRleHRDb250ZW50ID0gJ0NhbmNlbCB1cGxvYWQnOwogIGNvbnN0IGNhbmNlbFByb21pc2UgPSBuZXcgUHJvbWlzZSgocmVzb2x2ZSkgPT4gewogICAgY2FuY2VsLm9uY2xpY2sgPSAoKSA9PiB7CiAgICAgIHJlc29sdmUobnVsbCk7CiAgICB9OwogIH0pOwoKICAvLyBXYWl0IGZvciB0aGUgdXNlciB0byBwaWNrIHRoZSBmaWxlcy4KICBjb25zdCBmaWxlcyA9IHlpZWxkIHsKICAgIHByb21pc2U6IFByb21pc2UucmFjZShbcGlja2VkUHJvbWlzZSwgY2FuY2VsUHJvbWlzZV0pLAogICAgcmVzcG9uc2U6IHsKICAgICAgYWN0aW9uOiAnc3RhcnRpbmcnLAogICAgfQogIH07CgogIGNhbmNlbC5yZW1vdmUoKTsKCiAgLy8gRGlzYWJsZSB0aGUgaW5wdXQgZWxlbWVudCBzaW5jZSBmdXJ0aGVyIHBpY2tzIGFyZSBub3QgYWxsb3dlZC4KICBpbnB1dEVsZW1lbnQuZGlzYWJsZWQgPSB0cnVlOwoKICBpZiAoIWZpbGVzKSB7CiAgICByZXR1cm4gewogICAgICByZXNwb25zZTogewogICAgICAgIGFjdGlvbjogJ2NvbXBsZXRlJywKICAgICAgfQogICAgfTsKICB9CgogIGZvciAoY29uc3QgZmlsZSBvZiBmaWxlcykgewogICAgY29uc3QgbGkgPSBkb2N1bWVudC5jcmVhdGVFbGVtZW50KCdsaScpOwogICAgbGkuYXBwZW5kKHNwYW4oZmlsZS5uYW1lLCB7Zm9udFdlaWdodDogJ2JvbGQnfSkpOwogICAgbGkuYXBwZW5kKHNwYW4oCiAgICAgICAgYCgke2ZpbGUudHlwZSB8fCAnbi9hJ30pIC0gJHtmaWxlLnNpemV9IGJ5dGVzLCBgICsKICAgICAgICBgbGFzdCBtb2RpZmllZDogJHsKICAgICAgICAgICAgZmlsZS5sYXN0TW9kaWZpZWREYXRlID8gZmlsZS5sYXN0TW9kaWZpZWREYXRlLnRvTG9jYWxlRGF0ZVN0cmluZygpIDoKICAgICAgICAgICAgICAgICAgICAgICAgICAgICAgICAgICAgJ24vYSd9IC0gYCkpOwogICAgY29uc3QgcGVyY2VudCA9IHNwYW4oJzAlIGRvbmUnKTsKICAgIGxpLmFwcGVuZENoaWxkKHBlcmNlbnQpOwoKICAgIG91dHB1dEVsZW1lbnQuYXBwZW5kQ2hpbGQobGkpOwoKICAgIGNvbnN0IGZpbGVEYXRhUHJvbWlzZSA9IG5ldyBQcm9taXNlKChyZXNvbHZlKSA9PiB7CiAgICAgIGNvbnN0IHJlYWRlciA9IG5ldyBGaWxlUmVhZGVyKCk7CiAgICAgIHJlYWRlci5vbmxvYWQgPSAoZSkgPT4gewogICAgICAgIHJlc29sdmUoZS50YXJnZXQucmVzdWx0KTsKICAgICAgfTsKICAgICAgcmVhZGVyLnJlYWRBc0FycmF5QnVmZmVyKGZpbGUpOwogICAgfSk7CiAgICAvLyBXYWl0IGZvciB0aGUgZGF0YSB0byBiZSByZWFkeS4KICAgIGxldCBmaWxlRGF0YSA9IHlpZWxkIHsKICAgICAgcHJvbWlzZTogZmlsZURhdGFQcm9taXNlLAogICAgICByZXNwb25zZTogewogICAgICAgIGFjdGlvbjogJ2NvbnRpbnVlJywKICAgICAgfQogICAgfTsKCiAgICAvLyBVc2UgYSBjaHVua2VkIHNlbmRpbmcgdG8gYXZvaWQgbWVzc2FnZSBzaXplIGxpbWl0cy4gU2VlIGIvNjIxMTU2NjAuCiAgICBsZXQgcG9zaXRpb24gPSAwOwogICAgd2hpbGUgKHBvc2l0aW9uIDwgZmlsZURhdGEuYnl0ZUxlbmd0aCkgewogICAgICBjb25zdCBsZW5ndGggPSBNYXRoLm1pbihmaWxlRGF0YS5ieXRlTGVuZ3RoIC0gcG9zaXRpb24sIE1BWF9QQVlMT0FEX1NJWkUpOwogICAgICBjb25zdCBjaHVuayA9IG5ldyBVaW50OEFycmF5KGZpbGVEYXRhLCBwb3NpdGlvbiwgbGVuZ3RoKTsKICAgICAgcG9zaXRpb24gKz0gbGVuZ3RoOwoKICAgICAgY29uc3QgYmFzZTY0ID0gYnRvYShTdHJpbmcuZnJvbUNoYXJDb2RlLmFwcGx5KG51bGwsIGNodW5rKSk7CiAgICAgIHlpZWxkIHsKICAgICAgICByZXNwb25zZTogewogICAgICAgICAgYWN0aW9uOiAnYXBwZW5kJywKICAgICAgICAgIGZpbGU6IGZpbGUubmFtZSwKICAgICAgICAgIGRhdGE6IGJhc2U2NCwKICAgICAgICB9LAogICAgICB9OwogICAgICBwZXJjZW50LnRleHRDb250ZW50ID0KICAgICAgICAgIGAke01hdGgucm91bmQoKHBvc2l0aW9uIC8gZmlsZURhdGEuYnl0ZUxlbmd0aCkgKiAxMDApfSUgZG9uZWA7CiAgICB9CiAgfQoKICAvLyBBbGwgZG9uZS4KICB5aWVsZCB7CiAgICByZXNwb25zZTogewogICAgICBhY3Rpb246ICdjb21wbGV0ZScsCiAgICB9CiAgfTsKfQoKc2NvcGUuZ29vZ2xlID0gc2NvcGUuZ29vZ2xlIHx8IHt9OwpzY29wZS5nb29nbGUuY29sYWIgPSBzY29wZS5nb29nbGUuY29sYWIgfHwge307CnNjb3BlLmdvb2dsZS5jb2xhYi5fZmlsZXMgPSB7CiAgX3VwbG9hZEZpbGVzLAogIF91cGxvYWRGaWxlc0NvbnRpbnVlLAp9Owp9KShzZWxmKTsK",
              "ok": true,
              "headers": [
                [
                  "content-type",
                  "application/javascript"
                ]
              ],
              "status": 200,
              "status_text": ""
            }
          },
          "base_uri": "https://localhost:8080/",
          "height": 106
        },
        "id": "MNcVg_ROpijI",
        "outputId": "0acfefb8-b693-4f88-99db-5729b68ff6ce"
      },
      "source": [
        "from google.colab import files\n",
        "uploaded = files.upload()"
      ],
      "execution_count": 1,
      "outputs": [
        {
          "output_type": "display_data",
          "data": {
            "text/html": [
              "\n",
              "     <input type=\"file\" id=\"files-d8e4d4e3-9c70-42e3-a050-8b4073302de4\" name=\"files[]\" multiple disabled\n",
              "        style=\"border:none\" />\n",
              "     <output id=\"result-d8e4d4e3-9c70-42e3-a050-8b4073302de4\">\n",
              "      Upload widget is only available when the cell has been executed in the\n",
              "      current browser session. Please rerun this cell to enable.\n",
              "      </output>\n",
              "      <script src=\"/nbextensions/google.colab/files.js\"></script> "
            ],
            "text/plain": [
              "<IPython.core.display.HTML object>"
            ]
          },
          "metadata": {
            "tags": []
          }
        },
        {
          "output_type": "stream",
          "text": [
            "Saving good_amazon_toy_reviews.txt to good_amazon_toy_reviews.txt\n",
            "Saving poor_amazon_toy_reviews.txt to poor_amazon_toy_reviews.txt\n"
          ],
          "name": "stdout"
        }
      ]
    },
    {
      "cell_type": "markdown",
      "metadata": {
        "toc": true,
        "id": "CtowBdwYpZkt"
      },
      "source": [
        "<h1>Table of Contents<span class=\"tocSkip\"></span></h1>\n",
        "<div class=\"toc\"><ul class=\"toc-item\"><li><span><a href=\"#Using-RNNs-and-LSTMs-in-Keras-for-NLP-Classification-Tasks\" data-toc-modified-id=\"Using-RNNs-and-LSTMs-in-Keras-for-NLP-Classification-Tasks-1\"><span class=\"toc-item-num\">1&nbsp;&nbsp;</span>Using RNNs and LSTMs in Keras for NLP Classification Tasks</a></span><ul class=\"toc-item\"><li><span><a href=\"#Problem-Statement:-Predict-Sentiment-of-Amazon-Reviews\" data-toc-modified-id=\"Problem-Statement:-Predict-Sentiment-of-Amazon-Reviews-1.1\"><span class=\"toc-item-num\">1.1&nbsp;&nbsp;</span>Problem Statement: Predict Sentiment of Amazon Reviews</a></span></li><li><span><a href=\"#Tokenize-Text\" data-toc-modified-id=\"Tokenize-Text-1.2\"><span class=\"toc-item-num\">1.2&nbsp;&nbsp;</span>Tokenize Text</a></span></li><li><span><a href=\"#Import-Keras-Toolkit\" data-toc-modified-id=\"Import-Keras-Toolkit-1.3\"><span class=\"toc-item-num\">1.3&nbsp;&nbsp;</span>Import Keras Toolkit</a></span></li><li><span><a href=\"#Load-in-GloVe-Vectors\" data-toc-modified-id=\"Load-in-GloVe-Vectors-1.4\"><span class=\"toc-item-num\">1.4&nbsp;&nbsp;</span>Load in GloVe Vectors</a></span></li><li><span><a href=\"#Load-in-Embeddings\" data-toc-modified-id=\"Load-in-Embeddings-1.5\"><span class=\"toc-item-num\">1.5&nbsp;&nbsp;</span>Load in Embeddings</a></span></li><li><span><a href=\"#Define-in-Model\" data-toc-modified-id=\"Define-in-Model-1.6\"><span class=\"toc-item-num\">1.6&nbsp;&nbsp;</span>Define in Model</a></span></li><li><span><a href=\"#Compile-Model\" data-toc-modified-id=\"Compile-Model-1.7\"><span class=\"toc-item-num\">1.7&nbsp;&nbsp;</span>Compile Model</a></span><ul class=\"toc-item\"><li><ul class=\"toc-item\"><li><span><a href=\"#Helpful-Rule-of-Thumb-for-Defining-#-of-Parameters-in-LSTM:\" data-toc-modified-id=\"Helpful-Rule-of-Thumb-for-Defining-#-of-Parameters-in-LSTM:-1.7.0.1\"><span class=\"toc-item-num\">1.7.0.1&nbsp;&nbsp;</span>Helpful Rule of Thumb for Defining # of Parameters in LSTM:</a></span></li></ul></li></ul></li><li><span><a href=\"#Fit-the-Model\" data-toc-modified-id=\"Fit-the-Model-1.8\"><span class=\"toc-item-num\">1.8&nbsp;&nbsp;</span>Fit the Model</a></span></li><li><span><a href=\"#Evaluate-the-Model\" data-toc-modified-id=\"Evaluate-the-Model-1.9\"><span class=\"toc-item-num\">1.9&nbsp;&nbsp;</span>Evaluate the Model</a></span></li><li><span><a href=\"#Try-Some-Random-Reviews\" data-toc-modified-id=\"Try-Some-Random-Reviews-1.10\"><span class=\"toc-item-num\">1.10&nbsp;&nbsp;</span>Try Some Random Reviews</a></span></li></ul></li><li><span><a href=\"#Problem-Statement:-Predict-City-of-McDonalds-Review\" data-toc-modified-id=\"Problem-Statement:-Predict-City-of-McDonalds-Review-2\"><span class=\"toc-item-num\">2&nbsp;&nbsp;</span>Problem Statement: Predict City of McDonalds Review</a></span><ul class=\"toc-item\"><li><ul class=\"toc-item\"><li><span><a href=\"#Load-in-McDonalds-Yelp-Reviews\" data-toc-modified-id=\"Load-in-McDonalds-Yelp-Reviews-2.0.1\"><span class=\"toc-item-num\">2.0.1&nbsp;&nbsp;</span>Load in McDonalds Yelp Reviews</a></span></li></ul></li><li><span><a href=\"#Get-Your-Feature-Space-and-Target-Labels\" data-toc-modified-id=\"Get-Your-Feature-Space-and-Target-Labels-2.1\"><span class=\"toc-item-num\">2.1&nbsp;&nbsp;</span>Get Your Feature Space and Target Labels</a></span></li><li><span><a href=\"#Perform-Label-Categorical-Encoding-of-Cities\" data-toc-modified-id=\"Perform-Label-Categorical-Encoding-of-Cities-2.2\"><span class=\"toc-item-num\">2.2&nbsp;&nbsp;</span>Perform Label Categorical Encoding of Cities</a></span></li><li><span><a href=\"#Remove-Stopwords-Using-SpaCy\" data-toc-modified-id=\"Remove-Stopwords-Using-SpaCy-2.3\"><span class=\"toc-item-num\">2.3&nbsp;&nbsp;</span>Remove Stopwords Using SpaCy</a></span></li><li><span><a href=\"#Tokenize-the-Text\" data-toc-modified-id=\"Tokenize-the-Text-2.4\"><span class=\"toc-item-num\">2.4&nbsp;&nbsp;</span>Tokenize the Text</a></span></li><li><span><a href=\"#Integer-Encode-Tokens\" data-toc-modified-id=\"Integer-Encode-Tokens-2.5\"><span class=\"toc-item-num\">2.5&nbsp;&nbsp;</span>Integer Encode Tokens</a></span></li><li><span><a href=\"#Get-Max-Length-Per-Token\" data-toc-modified-id=\"Get-Max-Length-Per-Token-2.6\"><span class=\"toc-item-num\">2.6&nbsp;&nbsp;</span>Get Max Length Per Token</a></span></li><li><span><a href=\"#Split-into-Train/Test-Split\" data-toc-modified-id=\"Split-into-Train/Test-Split-2.7\"><span class=\"toc-item-num\">2.7&nbsp;&nbsp;</span>Split into Train/Test Split</a></span></li><li><span><a href=\"#Keras-RNN-Architecture\" data-toc-modified-id=\"Keras-RNN-Architecture-2.8\"><span class=\"toc-item-num\">2.8&nbsp;&nbsp;</span>Keras RNN Architecture</a></span></li><li><span><a href=\"#Load-in-Glove-Vectors\" data-toc-modified-id=\"Load-in-Glove-Vectors-2.9\"><span class=\"toc-item-num\">2.9&nbsp;&nbsp;</span>Load in Glove Vectors</a></span></li><li><span><a href=\"#Load-in-the-Embeddings\" data-toc-modified-id=\"Load-in-the-Embeddings-2.10\"><span class=\"toc-item-num\">2.10&nbsp;&nbsp;</span>Load in the Embeddings</a></span></li><li><span><a href=\"#Define-Model\" data-toc-modified-id=\"Define-Model-2.11\"><span class=\"toc-item-num\">2.11&nbsp;&nbsp;</span>Define Model</a></span></li><li><span><a href=\"#Compile-the-Model\" data-toc-modified-id=\"Compile-the-Model-2.12\"><span class=\"toc-item-num\">2.12&nbsp;&nbsp;</span>Compile the Model</a></span></li><li><span><a href=\"#Fit-the-Model\" data-toc-modified-id=\"Fit-the-Model-2.13\"><span class=\"toc-item-num\">2.13&nbsp;&nbsp;</span>Fit the Model</a></span></li><li><span><a href=\"#Evaluate-the-Model\" data-toc-modified-id=\"Evaluate-the-Model-2.14\"><span class=\"toc-item-num\">2.14&nbsp;&nbsp;</span>Evaluate the Model</a></span></li></ul></li></ul></div>"
      ]
    },
    {
      "cell_type": "markdown",
      "metadata": {
        "id": "SgqwpyTQpZk0"
      },
      "source": [
        "# Using RNNs and LSTMs in Keras for NLP Classification Tasks"
      ]
    },
    {
      "cell_type": "markdown",
      "metadata": {
        "id": "WJAFLxzppZk0"
      },
      "source": [
        "## Problem Statement: Predict Sentiment of Amazon Reviews"
      ]
    },
    {
      "cell_type": "code",
      "metadata": {
        "id": "Do_UCt5DpZk1"
      },
      "source": [
        "import numpy as np\n",
        "NUM_SAMPLES = 8000 # note that we are only using 5000 samples from each class\n",
        "\n",
        "good_reviews = open(\"good_amazon_toy_reviews.txt\").readlines()\n",
        "bad_reviews = open(\"poor_amazon_toy_reviews.txt\").readlines()\n",
        "\n",
        "sampled_good_reviews = good_reviews[:NUM_SAMPLES]\n",
        "sampled_bad_reviews = bad_reviews[:NUM_SAMPLES]\n",
        "\n",
        "docs = sampled_good_reviews + sampled_bad_reviews\n",
        "labels = np.concatenate([np.ones(NUM_SAMPLES), np.zeros(NUM_SAMPLES)])\n"
      ],
      "execution_count": 73,
      "outputs": []
    },
    {
      "cell_type": "code",
      "metadata": {
        "colab": {
          "base_uri": "https://localhost:8080/"
        },
        "id": "xEbjatliqpo3",
        "outputId": "c65d78b5-4c65-4d70-c847-aea14704e2a7"
      },
      "source": [
        "print(f\"There are {len(docs)} documents to classify.\")\n",
        "print(f\"Examples of labels: {labels[:5]}\")"
      ],
      "execution_count": 74,
      "outputs": [
        {
          "output_type": "stream",
          "text": [
            "There are 16000 documents to classify.\n",
            "Examples of labels: [1. 1. 1. 1. 1.]\n"
          ],
          "name": "stdout"
        }
      ]
    },
    {
      "cell_type": "markdown",
      "metadata": {
        "id": "M9vdJsVOrHXb"
      },
      "source": [
        "#md Download the `en_core_web_md` language model"
      ]
    },
    {
      "cell_type": "code",
      "metadata": {
        "colab": {
          "base_uri": "https://localhost:8080/"
        },
        "id": "RqBef_qdrElp",
        "outputId": "b9a6a508-58b3-42ca-c897-082cb5f5622e"
      },
      "source": [
        "!python -m spacy download en_core_web_md"
      ],
      "execution_count": 75,
      "outputs": [
        {
          "output_type": "stream",
          "text": [
            "Requirement already satisfied: en_core_web_md==2.2.5 from https://github.com/explosion/spacy-models/releases/download/en_core_web_md-2.2.5/en_core_web_md-2.2.5.tar.gz#egg=en_core_web_md==2.2.5 in /usr/local/lib/python3.7/dist-packages (2.2.5)\n",
            "Requirement already satisfied: spacy>=2.2.2 in /usr/local/lib/python3.7/dist-packages (from en_core_web_md==2.2.5) (2.2.4)\n",
            "Requirement already satisfied: wasabi<1.1.0,>=0.4.0 in /usr/local/lib/python3.7/dist-packages (from spacy>=2.2.2->en_core_web_md==2.2.5) (0.8.2)\n",
            "Requirement already satisfied: numpy>=1.15.0 in /usr/local/lib/python3.7/dist-packages (from spacy>=2.2.2->en_core_web_md==2.2.5) (1.19.5)\n",
            "Requirement already satisfied: plac<1.2.0,>=0.9.6 in /usr/local/lib/python3.7/dist-packages (from spacy>=2.2.2->en_core_web_md==2.2.5) (1.1.3)\n",
            "Requirement already satisfied: setuptools in /usr/local/lib/python3.7/dist-packages (from spacy>=2.2.2->en_core_web_md==2.2.5) (56.0.0)\n",
            "Requirement already satisfied: blis<0.5.0,>=0.4.0 in /usr/local/lib/python3.7/dist-packages (from spacy>=2.2.2->en_core_web_md==2.2.5) (0.4.1)\n",
            "Requirement already satisfied: cymem<2.1.0,>=2.0.2 in /usr/local/lib/python3.7/dist-packages (from spacy>=2.2.2->en_core_web_md==2.2.5) (2.0.5)\n",
            "Requirement already satisfied: thinc==7.4.0 in /usr/local/lib/python3.7/dist-packages (from spacy>=2.2.2->en_core_web_md==2.2.5) (7.4.0)\n",
            "Requirement already satisfied: srsly<1.1.0,>=1.0.2 in /usr/local/lib/python3.7/dist-packages (from spacy>=2.2.2->en_core_web_md==2.2.5) (1.0.5)\n",
            "Requirement already satisfied: requests<3.0.0,>=2.13.0 in /usr/local/lib/python3.7/dist-packages (from spacy>=2.2.2->en_core_web_md==2.2.5) (2.23.0)\n",
            "Requirement already satisfied: tqdm<5.0.0,>=4.38.0 in /usr/local/lib/python3.7/dist-packages (from spacy>=2.2.2->en_core_web_md==2.2.5) (4.41.1)\n",
            "Requirement already satisfied: catalogue<1.1.0,>=0.0.7 in /usr/local/lib/python3.7/dist-packages (from spacy>=2.2.2->en_core_web_md==2.2.5) (1.0.0)\n",
            "Requirement already satisfied: preshed<3.1.0,>=3.0.2 in /usr/local/lib/python3.7/dist-packages (from spacy>=2.2.2->en_core_web_md==2.2.5) (3.0.5)\n",
            "Requirement already satisfied: murmurhash<1.1.0,>=0.28.0 in /usr/local/lib/python3.7/dist-packages (from spacy>=2.2.2->en_core_web_md==2.2.5) (1.0.5)\n",
            "Requirement already satisfied: chardet<4,>=3.0.2 in /usr/local/lib/python3.7/dist-packages (from requests<3.0.0,>=2.13.0->spacy>=2.2.2->en_core_web_md==2.2.5) (3.0.4)\n",
            "Requirement already satisfied: idna<3,>=2.5 in /usr/local/lib/python3.7/dist-packages (from requests<3.0.0,>=2.13.0->spacy>=2.2.2->en_core_web_md==2.2.5) (2.10)\n",
            "Requirement already satisfied: urllib3!=1.25.0,!=1.25.1,<1.26,>=1.21.1 in /usr/local/lib/python3.7/dist-packages (from requests<3.0.0,>=2.13.0->spacy>=2.2.2->en_core_web_md==2.2.5) (1.24.3)\n",
            "Requirement already satisfied: certifi>=2017.4.17 in /usr/local/lib/python3.7/dist-packages (from requests<3.0.0,>=2.13.0->spacy>=2.2.2->en_core_web_md==2.2.5) (2020.12.5)\n",
            "Requirement already satisfied: importlib-metadata>=0.20; python_version < \"3.8\" in /usr/local/lib/python3.7/dist-packages (from catalogue<1.1.0,>=0.0.7->spacy>=2.2.2->en_core_web_md==2.2.5) (3.10.1)\n",
            "Requirement already satisfied: zipp>=0.5 in /usr/local/lib/python3.7/dist-packages (from importlib-metadata>=0.20; python_version < \"3.8\"->catalogue<1.1.0,>=0.0.7->spacy>=2.2.2->en_core_web_md==2.2.5) (3.4.1)\n",
            "Requirement already satisfied: typing-extensions>=3.6.4; python_version < \"3.8\" in /usr/local/lib/python3.7/dist-packages (from importlib-metadata>=0.20; python_version < \"3.8\"->catalogue<1.1.0,>=0.0.7->spacy>=2.2.2->en_core_web_md==2.2.5) (3.7.4.3)\n",
            "\u001b[38;5;2m✔ Download and installation successful\u001b[0m\n",
            "You can now load the model via spacy.load('en_core_web_md')\n"
          ],
          "name": "stdout"
        }
      ]
    },
    {
      "cell_type": "code",
      "metadata": {
        "colab": {
          "base_uri": "https://localhost:8080/"
        },
        "id": "87mHsIW7pZk1",
        "outputId": "a36657ad-8796-4808-db6e-911c27c3e251"
      },
      "source": [
        "from nltk.corpus import stopwords\n",
        "import nltk\n",
        "nltk.download('stopwords')\n",
        "nltk.download('punkt')\n",
        "from nltk.tokenize import word_tokenize \n",
        "from typing import List\n",
        "\n",
        "# remove all the stopwords from these documents\n",
        "stop_words = set(stopwords.words('english')) \n",
        "  \n",
        "stopwords_removed_docs = []\n",
        "for doc in docs:\n",
        "  word_tokens = word_tokenize(doc) \n",
        "  filtered_sentence = [w for w in word_tokens if not w in stop_words] \n",
        "  stopwords_removed_docs.append(\" \".join(filtered_sentence))"
      ],
      "execution_count": 76,
      "outputs": [
        {
          "output_type": "stream",
          "text": [
            "[nltk_data] Downloading package stopwords to /root/nltk_data...\n",
            "[nltk_data]   Package stopwords is already up-to-date!\n",
            "[nltk_data] Downloading package punkt to /root/nltk_data...\n",
            "[nltk_data]   Package punkt is already up-to-date!\n"
          ],
          "name": "stdout"
        }
      ]
    },
    {
      "cell_type": "markdown",
      "metadata": {
        "id": "MgmL_UwNpZk2"
      },
      "source": [
        "## Tokenize Text"
      ]
    },
    {
      "cell_type": "code",
      "metadata": {
        "id": "qyQtOeyIpZk2"
      },
      "source": [
        "from keras.preprocessing.text import Tokenizer\n",
        "# so this means that all tokens that are not found in the vocabulary are going to be marked as UNKNOWN_TOKEN\n",
        "tokenizer = Tokenizer(num_words=5000, oov_token=\"UNKNOWN_TOKEN\")\n",
        "tokenizer.fit_on_texts(stopwords_removed_docs)"
      ],
      "execution_count": 77,
      "outputs": []
    },
    {
      "cell_type": "code",
      "metadata": {
        "colab": {
          "base_uri": "https://localhost:8080/"
        },
        "id": "5xQVIhfDpZk2",
        "outputId": "a78c26c7-59e5-4993-e96a-a8629f92711b"
      },
      "source": [
        "from tensorflow.keras.preprocessing.sequence import pad_sequences\n",
        "def integer_encode_documents(docs, tokenizer):\n",
        "    return tokenizer.texts_to_sequences(docs)\n",
        "\n",
        "# integer encode the documents\n",
        "encoded_docs = integer_encode_documents(stopwords_removed_docs, tokenizer)\n",
        "# see some lengths of the documents\n",
        "list(map(len, encoded_docs))[:5]"
      ],
      "execution_count": 78,
      "outputs": [
        {
          "output_type": "execute_result",
          "data": {
            "text/plain": [
              "[1, 28, 14, 13, 3]"
            ]
          },
          "metadata": {
            "tags": []
          },
          "execution_count": 78
        }
      ]
    },
    {
      "cell_type": "code",
      "metadata": {
        "id": "Yt8hJIjOtixZ"
      },
      "source": [
        "# set MAX_SEQUENCE_LENGTH to 64\n",
        "MAX_SEQUENCE_LENGTH = 64"
      ],
      "execution_count": 79,
      "outputs": []
    },
    {
      "cell_type": "code",
      "metadata": {
        "id": "REtzjj_WtPS2"
      },
      "source": [
        "# this is a list of lists, the numbers represent the index position of that word.\n",
        "# for instance, 33 means the 33rd word in the vocabulary\n",
        "# Notice the last document has 4 numbers, since it is a 4 word document: Could have done better.\n",
        "padded_docs = pad_sequences(encoded_docs, maxlen=MAX_SEQUENCE_LENGTH, padding='post')"
      ],
      "execution_count": 80,
      "outputs": []
    },
    {
      "cell_type": "code",
      "metadata": {
        "id": "3AN-FoIzpZk2"
      },
      "source": [
        "from keras.utils import to_categorical\n",
        "from sklearn.preprocessing import LabelEncoder\n",
        "encoder = LabelEncoder()\n",
        "labels = to_categorical(encoder.fit_transform(labels))"
      ],
      "execution_count": 81,
      "outputs": []
    },
    {
      "cell_type": "code",
      "metadata": {
        "id": "jDFwM-L7pZk3"
      },
      "source": [
        "from sklearn.model_selection import train_test_split\n",
        "X_train, X_test, y_train, y_test = train_test_split(padded_docs, labels, test_size=0.2)"
      ],
      "execution_count": 82,
      "outputs": []
    },
    {
      "cell_type": "markdown",
      "metadata": {
        "id": "j1didDIcpZk3"
      },
      "source": [
        "## Import Keras Toolkit"
      ]
    },
    {
      "cell_type": "code",
      "metadata": {
        "id": "ZSK1xWa5pZk3"
      },
      "source": [
        "from random import randint\n",
        "from numpy import array, argmax, asarray, zeros\n",
        "from keras.models import Sequential\n",
        "from keras.layers import Dense\n",
        "from keras.layers import Embedding"
      ],
      "execution_count": 83,
      "outputs": []
    },
    {
      "cell_type": "code",
      "metadata": {
        "id": "vCElAYUXpZk3"
      },
      "source": [
        "VOCAB_SIZE = int(len(tokenizer.word_index) * 1.1)"
      ],
      "execution_count": 84,
      "outputs": []
    },
    {
      "cell_type": "markdown",
      "metadata": {
        "id": "EcWEpTAUpZk3"
      },
      "source": [
        "## Load in GloVe Vectors"
      ]
    },
    {
      "cell_type": "code",
      "metadata": {
        "colab": {
          "base_uri": "https://localhost:8080/"
        },
        "id": "pPZochDnr5ot",
        "outputId": "8c5750fc-a923-4549-be5e-5abec6dd2ede"
      },
      "source": [
        "!wget http://nlp.stanford.edu/data/glove.6B.zip"
      ],
      "execution_count": 27,
      "outputs": [
        {
          "output_type": "stream",
          "text": [
            "--2021-05-04 23:29:47--  http://nlp.stanford.edu/data/glove.6B.zip\n",
            "Resolving nlp.stanford.edu (nlp.stanford.edu)... 171.64.67.140\n",
            "Connecting to nlp.stanford.edu (nlp.stanford.edu)|171.64.67.140|:80... connected.\n",
            "HTTP request sent, awaiting response... 302 Found\n",
            "Location: https://nlp.stanford.edu/data/glove.6B.zip [following]\n",
            "--2021-05-04 23:29:48--  https://nlp.stanford.edu/data/glove.6B.zip\n",
            "Connecting to nlp.stanford.edu (nlp.stanford.edu)|171.64.67.140|:443... connected.\n",
            "HTTP request sent, awaiting response... 301 Moved Permanently\n",
            "Location: http://downloads.cs.stanford.edu/nlp/data/glove.6B.zip [following]\n",
            "--2021-05-04 23:29:48--  http://downloads.cs.stanford.edu/nlp/data/glove.6B.zip\n",
            "Resolving downloads.cs.stanford.edu (downloads.cs.stanford.edu)... 171.64.64.22\n",
            "Connecting to downloads.cs.stanford.edu (downloads.cs.stanford.edu)|171.64.64.22|:80... connected.\n",
            "HTTP request sent, awaiting response... 200 OK\n",
            "Length: 862182613 (822M) [application/zip]\n",
            "Saving to: ‘glove.6B.zip’\n",
            "\n",
            "glove.6B.zip        100%[===================>] 822.24M  5.08MB/s    in 2m 40s  \n",
            "\n",
            "2021-05-04 23:32:28 (5.13 MB/s) - ‘glove.6B.zip’ saved [862182613/862182613]\n",
            "\n"
          ],
          "name": "stdout"
        }
      ]
    },
    {
      "cell_type": "code",
      "metadata": {
        "colab": {
          "base_uri": "https://localhost:8080/"
        },
        "id": "RNduutj1uh2m",
        "outputId": "d9620a79-85ce-4253-fee3-6883d4347916"
      },
      "source": [
        "!unzip glove*.zip"
      ],
      "execution_count": 28,
      "outputs": [
        {
          "output_type": "stream",
          "text": [
            "Archive:  glove.6B.zip\n",
            "  inflating: glove.6B.50d.txt        \n",
            "  inflating: glove.6B.100d.txt       \n",
            "  inflating: glove.6B.200d.txt       \n",
            "  inflating: glove.6B.300d.txt       \n"
          ],
          "name": "stdout"
        }
      ]
    },
    {
      "cell_type": "code",
      "metadata": {
        "colab": {
          "base_uri": "https://localhost:8080/"
        },
        "id": "1caNsam5pZk4",
        "outputId": "fafcf596-c4fd-4493-a139-8ea43c2a138e"
      },
      "source": [
        "def load_glove_vectors():\n",
        "    embeddings_index = {}\n",
        "    with open('glove.6B.100d.txt') as f:\n",
        "        for line in f:\n",
        "            values = line.split()\n",
        "            word = values[0]\n",
        "            coefs = asarray(values[1:], dtype='float32')\n",
        "            embeddings_index[word] = coefs\n",
        "    print('Loaded %s word vectors.' % len(embeddings_index))\n",
        "    return embeddings_index\n",
        "\n",
        "\n",
        "embeddings_index = load_glove_vectors()"
      ],
      "execution_count": 85,
      "outputs": [
        {
          "output_type": "stream",
          "text": [
            "Loaded 400000 word vectors.\n"
          ],
          "name": "stdout"
        }
      ]
    },
    {
      "cell_type": "markdown",
      "metadata": {
        "id": "ThVZlAvtpZk4"
      },
      "source": [
        "## Load in Embeddings"
      ]
    },
    {
      "cell_type": "code",
      "metadata": {
        "id": "5qbHY_G0pZk5"
      },
      "source": [
        "# create a weight matrix for words in training docs\n",
        "embedding_matrix = zeros((VOCAB_SIZE, 100))\n",
        "for word, i in tokenizer.word_index.items():\n",
        "    embedding_vector = embeddings_index.get(word)\n",
        "    if embedding_vector is not None: # check that it is an actual word that we have embeddings for\n",
        "        embedding_matrix[i] = embedding_vector"
      ],
      "execution_count": 86,
      "outputs": []
    },
    {
      "cell_type": "markdown",
      "metadata": {
        "id": "nxCdzC12pZk5"
      },
      "source": [
        "## Define in Model"
      ]
    },
    {
      "cell_type": "code",
      "metadata": {
        "id": "teTKG5I6pZk5"
      },
      "source": [
        "import keras\n",
        "from keras.layers.recurrent import SimpleRNN, LSTM\n",
        "from keras.layers import Flatten, Masking\n",
        "# define model\n",
        "\n",
        "def make_binary_classification_rnn_model(plot=False):\n",
        "    model =  keras.models.Sequential()\n",
        "    model.add(Embedding(VOCAB_SIZE, 100, weights=[embedding_matrix], input_length=MAX_SEQUENCE_LENGTH, trainable=False))\n",
        "    model.add(Masking(mask_value=0.0)) # masking layer, masks any words that don't have an embedding as 0s.\n",
        "    model.add(SimpleRNN(units=64, input_shape=(1, MAX_SEQUENCE_LENGTH)))\n",
        "    model.add(Dense(16))\n",
        "    model.add(Dense(2, activation='softmax'))\n",
        "    \n",
        "    # Compile the model\n",
        "    model.compile(\n",
        "    optimizer='adam', loss='categorical_crossentropy', metrics=['accuracy'])\n",
        "    # summarize the model\n",
        "    model.summary()\n",
        "    \n",
        "    if plot:\n",
        "        plot_model(model, to_file='model.png', show_shapes=True)\n",
        "    return model\n",
        "\n",
        "def make_lstm_classification_model(plot=False):\n",
        "    model =  keras.models.Sequential()\n",
        "    model.add(Embedding(VOCAB_SIZE, 100, weights=[embedding_matrix], input_length=MAX_SEQUENCE_LENGTH, trainable=False))\n",
        "    model.add(Masking(mask_value=0.0)) # masking layer, masks any words that don't have an embedding as 0s.\n",
        "    model.add(LSTM(units=32, input_shape=(1, MAX_SEQUENCE_LENGTH)))\n",
        "    model.add(Dense(16))\n",
        "    model.add(Dense(2, activation='softmax'))\n",
        "    \n",
        "    # Compile the model\n",
        "    model.compile(\n",
        "    optimizer='adam', loss='categorical_crossentropy', metrics=['accuracy'])\n",
        "    # summarize the model\n",
        "    model.summary()\n",
        "    \n",
        "    if plot:\n",
        "        plot_model(model, to_file='model.png', show_shapes=True)\n",
        "    return model"
      ],
      "execution_count": 87,
      "outputs": []
    },
    {
      "cell_type": "markdown",
      "metadata": {
        "id": "pErlqFZWpZk5"
      },
      "source": [
        "## Compile Model"
      ]
    },
    {
      "cell_type": "markdown",
      "metadata": {
        "id": "0WYis3GFpZk5"
      },
      "source": [
        "#### Helpful Rule of Thumb for Defining # of Parameters in LSTM:\n",
        "\n",
        "$$\n",
        "W = 4d×(n+d)\n",
        "$$\n",
        "Where $d$ is the number of memory cells, and $N$ is the number of dimensions for a data point."
      ]
    },
    {
      "cell_type": "code",
      "metadata": {
        "colab": {
          "base_uri": "https://localhost:8080/"
        },
        "id": "no2rMMrZpZk5",
        "outputId": "f2a3f50a-e335-45d4-fa27-d5efe19dba03"
      },
      "source": [
        "model = make_binary_classification_rnn_model()"
      ],
      "execution_count": 88,
      "outputs": [
        {
          "output_type": "stream",
          "text": [
            "Model: \"sequential_1\"\n",
            "_________________________________________________________________\n",
            "Layer (type)                 Output Shape              Param #   \n",
            "=================================================================\n",
            "embedding_1 (Embedding)      (None, 64, 100)           1776500   \n",
            "_________________________________________________________________\n",
            "masking_1 (Masking)          (None, 64, 100)           0         \n",
            "_________________________________________________________________\n",
            "simple_rnn_1 (SimpleRNN)     (None, 64)                10560     \n",
            "_________________________________________________________________\n",
            "dense_2 (Dense)              (None, 16)                1040      \n",
            "_________________________________________________________________\n",
            "dense_3 (Dense)              (None, 2)                 34        \n",
            "=================================================================\n",
            "Total params: 1,788,134\n",
            "Trainable params: 11,634\n",
            "Non-trainable params: 1,776,500\n",
            "_________________________________________________________________\n"
          ],
          "name": "stdout"
        }
      ]
    },
    {
      "cell_type": "markdown",
      "metadata": {
        "id": "3EQ6DtJepZk6"
      },
      "source": [
        "## Fit the Model"
      ]
    },
    {
      "cell_type": "code",
      "metadata": {
        "colab": {
          "base_uri": "https://localhost:8080/",
          "height": 630
        },
        "id": "imQr1odZpZk6",
        "outputId": "a7eab20e-e20b-48bc-a201-161c72b2c899"
      },
      "source": [
        "# fit the model\n",
        "history = model.fit(X_train, y_train,validation_split = 0.1, epochs=20, verbose=1)"
      ],
      "execution_count": 89,
      "outputs": [
        {
          "output_type": "stream",
          "text": [
            "Epoch 1/20\n",
            "360/360 [==============================] - 16s 40ms/step - loss: 0.5156 - accuracy: 0.7428 - val_loss: 0.3005 - val_accuracy: 0.8758\n",
            "Epoch 2/20\n",
            "360/360 [==============================] - 14s 39ms/step - loss: 0.3383 - accuracy: 0.8620 - val_loss: 0.3136 - val_accuracy: 0.8781\n",
            "Epoch 3/20\n",
            "360/360 [==============================] - 14s 39ms/step - loss: 0.2958 - accuracy: 0.8856 - val_loss: 0.2831 - val_accuracy: 0.8883\n",
            "Epoch 4/20\n",
            "360/360 [==============================] - 14s 39ms/step - loss: 0.2738 - accuracy: 0.8937 - val_loss: 0.2837 - val_accuracy: 0.8836\n",
            "Epoch 5/20\n",
            "360/360 [==============================] - 14s 39ms/step - loss: 0.2721 - accuracy: 0.8926 - val_loss: 0.2738 - val_accuracy: 0.8984\n",
            "Epoch 6/20\n",
            "360/360 [==============================] - 14s 39ms/step - loss: 0.2800 - accuracy: 0.8889 - val_loss: 0.2681 - val_accuracy: 0.8875\n",
            "Epoch 7/20\n",
            "360/360 [==============================] - 14s 39ms/step - loss: 0.2440 - accuracy: 0.9106 - val_loss: 0.2961 - val_accuracy: 0.8820\n",
            "Epoch 8/20\n",
            "360/360 [==============================] - 14s 39ms/step - loss: 0.2546 - accuracy: 0.9038 - val_loss: 0.2609 - val_accuracy: 0.8938\n",
            "Epoch 9/20\n",
            " 79/360 [=====>........................] - ETA: 10s - loss: 0.2210 - accuracy: 0.9046"
          ],
          "name": "stdout"
        },
        {
          "output_type": "error",
          "ename": "KeyboardInterrupt",
          "evalue": "ignored",
          "traceback": [
            "\u001b[0;31m---------------------------------------------------------------------------\u001b[0m",
            "\u001b[0;31mKeyboardInterrupt\u001b[0m                         Traceback (most recent call last)",
            "\u001b[0;32m<ipython-input-89-c6b877b48444>\u001b[0m in \u001b[0;36m<module>\u001b[0;34m()\u001b[0m\n\u001b[1;32m      1\u001b[0m \u001b[0;31m# fit the model\u001b[0m\u001b[0;34m\u001b[0m\u001b[0;34m\u001b[0m\u001b[0;34m\u001b[0m\u001b[0m\n\u001b[0;32m----> 2\u001b[0;31m \u001b[0mhistory\u001b[0m \u001b[0;34m=\u001b[0m \u001b[0mmodel\u001b[0m\u001b[0;34m.\u001b[0m\u001b[0mfit\u001b[0m\u001b[0;34m(\u001b[0m\u001b[0mX_train\u001b[0m\u001b[0;34m,\u001b[0m \u001b[0my_train\u001b[0m\u001b[0;34m,\u001b[0m\u001b[0mvalidation_split\u001b[0m \u001b[0;34m=\u001b[0m \u001b[0;36m0.1\u001b[0m\u001b[0;34m,\u001b[0m \u001b[0mepochs\u001b[0m\u001b[0;34m=\u001b[0m\u001b[0;36m20\u001b[0m\u001b[0;34m,\u001b[0m \u001b[0mverbose\u001b[0m\u001b[0;34m=\u001b[0m\u001b[0;36m1\u001b[0m\u001b[0;34m)\u001b[0m\u001b[0;34m\u001b[0m\u001b[0;34m\u001b[0m\u001b[0m\n\u001b[0m",
            "\u001b[0;32m/usr/local/lib/python3.7/dist-packages/tensorflow/python/keras/engine/training.py\u001b[0m in \u001b[0;36mfit\u001b[0;34m(self, x, y, batch_size, epochs, verbose, callbacks, validation_split, validation_data, shuffle, class_weight, sample_weight, initial_epoch, steps_per_epoch, validation_steps, validation_batch_size, validation_freq, max_queue_size, workers, use_multiprocessing)\u001b[0m\n\u001b[1;32m   1098\u001b[0m                 _r=1):\n\u001b[1;32m   1099\u001b[0m               \u001b[0mcallbacks\u001b[0m\u001b[0;34m.\u001b[0m\u001b[0mon_train_batch_begin\u001b[0m\u001b[0;34m(\u001b[0m\u001b[0mstep\u001b[0m\u001b[0;34m)\u001b[0m\u001b[0;34m\u001b[0m\u001b[0;34m\u001b[0m\u001b[0m\n\u001b[0;32m-> 1100\u001b[0;31m               \u001b[0mtmp_logs\u001b[0m \u001b[0;34m=\u001b[0m \u001b[0mself\u001b[0m\u001b[0;34m.\u001b[0m\u001b[0mtrain_function\u001b[0m\u001b[0;34m(\u001b[0m\u001b[0miterator\u001b[0m\u001b[0;34m)\u001b[0m\u001b[0;34m\u001b[0m\u001b[0;34m\u001b[0m\u001b[0m\n\u001b[0m\u001b[1;32m   1101\u001b[0m               \u001b[0;32mif\u001b[0m \u001b[0mdata_handler\u001b[0m\u001b[0;34m.\u001b[0m\u001b[0mshould_sync\u001b[0m\u001b[0;34m:\u001b[0m\u001b[0;34m\u001b[0m\u001b[0;34m\u001b[0m\u001b[0m\n\u001b[1;32m   1102\u001b[0m                 \u001b[0mcontext\u001b[0m\u001b[0;34m.\u001b[0m\u001b[0masync_wait\u001b[0m\u001b[0;34m(\u001b[0m\u001b[0;34m)\u001b[0m\u001b[0;34m\u001b[0m\u001b[0;34m\u001b[0m\u001b[0m\n",
            "\u001b[0;32m/usr/local/lib/python3.7/dist-packages/tensorflow/python/eager/def_function.py\u001b[0m in \u001b[0;36m__call__\u001b[0;34m(self, *args, **kwds)\u001b[0m\n\u001b[1;32m    826\u001b[0m     \u001b[0mtracing_count\u001b[0m \u001b[0;34m=\u001b[0m \u001b[0mself\u001b[0m\u001b[0;34m.\u001b[0m\u001b[0mexperimental_get_tracing_count\u001b[0m\u001b[0;34m(\u001b[0m\u001b[0;34m)\u001b[0m\u001b[0;34m\u001b[0m\u001b[0;34m\u001b[0m\u001b[0m\n\u001b[1;32m    827\u001b[0m     \u001b[0;32mwith\u001b[0m \u001b[0mtrace\u001b[0m\u001b[0;34m.\u001b[0m\u001b[0mTrace\u001b[0m\u001b[0;34m(\u001b[0m\u001b[0mself\u001b[0m\u001b[0;34m.\u001b[0m\u001b[0m_name\u001b[0m\u001b[0;34m)\u001b[0m \u001b[0;32mas\u001b[0m \u001b[0mtm\u001b[0m\u001b[0;34m:\u001b[0m\u001b[0;34m\u001b[0m\u001b[0;34m\u001b[0m\u001b[0m\n\u001b[0;32m--> 828\u001b[0;31m       \u001b[0mresult\u001b[0m \u001b[0;34m=\u001b[0m \u001b[0mself\u001b[0m\u001b[0;34m.\u001b[0m\u001b[0m_call\u001b[0m\u001b[0;34m(\u001b[0m\u001b[0;34m*\u001b[0m\u001b[0margs\u001b[0m\u001b[0;34m,\u001b[0m \u001b[0;34m**\u001b[0m\u001b[0mkwds\u001b[0m\u001b[0;34m)\u001b[0m\u001b[0;34m\u001b[0m\u001b[0;34m\u001b[0m\u001b[0m\n\u001b[0m\u001b[1;32m    829\u001b[0m       \u001b[0mcompiler\u001b[0m \u001b[0;34m=\u001b[0m \u001b[0;34m\"xla\"\u001b[0m \u001b[0;32mif\u001b[0m \u001b[0mself\u001b[0m\u001b[0;34m.\u001b[0m\u001b[0m_experimental_compile\u001b[0m \u001b[0;32melse\u001b[0m \u001b[0;34m\"nonXla\"\u001b[0m\u001b[0;34m\u001b[0m\u001b[0;34m\u001b[0m\u001b[0m\n\u001b[1;32m    830\u001b[0m       \u001b[0mnew_tracing_count\u001b[0m \u001b[0;34m=\u001b[0m \u001b[0mself\u001b[0m\u001b[0;34m.\u001b[0m\u001b[0mexperimental_get_tracing_count\u001b[0m\u001b[0;34m(\u001b[0m\u001b[0;34m)\u001b[0m\u001b[0;34m\u001b[0m\u001b[0;34m\u001b[0m\u001b[0m\n",
            "\u001b[0;32m/usr/local/lib/python3.7/dist-packages/tensorflow/python/eager/def_function.py\u001b[0m in \u001b[0;36m_call\u001b[0;34m(self, *args, **kwds)\u001b[0m\n\u001b[1;32m    853\u001b[0m       \u001b[0;31m# In this case we have created variables on the first call, so we run the\u001b[0m\u001b[0;34m\u001b[0m\u001b[0;34m\u001b[0m\u001b[0;34m\u001b[0m\u001b[0m\n\u001b[1;32m    854\u001b[0m       \u001b[0;31m# defunned version which is guaranteed to never create variables.\u001b[0m\u001b[0;34m\u001b[0m\u001b[0;34m\u001b[0m\u001b[0;34m\u001b[0m\u001b[0m\n\u001b[0;32m--> 855\u001b[0;31m       \u001b[0;32mreturn\u001b[0m \u001b[0mself\u001b[0m\u001b[0;34m.\u001b[0m\u001b[0m_stateless_fn\u001b[0m\u001b[0;34m(\u001b[0m\u001b[0;34m*\u001b[0m\u001b[0margs\u001b[0m\u001b[0;34m,\u001b[0m \u001b[0;34m**\u001b[0m\u001b[0mkwds\u001b[0m\u001b[0;34m)\u001b[0m  \u001b[0;31m# pylint: disable=not-callable\u001b[0m\u001b[0;34m\u001b[0m\u001b[0;34m\u001b[0m\u001b[0m\n\u001b[0m\u001b[1;32m    856\u001b[0m     \u001b[0;32melif\u001b[0m \u001b[0mself\u001b[0m\u001b[0;34m.\u001b[0m\u001b[0m_stateful_fn\u001b[0m \u001b[0;32mis\u001b[0m \u001b[0;32mnot\u001b[0m \u001b[0;32mNone\u001b[0m\u001b[0;34m:\u001b[0m\u001b[0;34m\u001b[0m\u001b[0;34m\u001b[0m\u001b[0m\n\u001b[1;32m    857\u001b[0m       \u001b[0;31m# Release the lock early so that multiple threads can perform the call\u001b[0m\u001b[0;34m\u001b[0m\u001b[0;34m\u001b[0m\u001b[0;34m\u001b[0m\u001b[0m\n",
            "\u001b[0;32m/usr/local/lib/python3.7/dist-packages/tensorflow/python/eager/function.py\u001b[0m in \u001b[0;36m__call__\u001b[0;34m(self, *args, **kwargs)\u001b[0m\n\u001b[1;32m   2941\u001b[0m        filtered_flat_args) = self._maybe_define_function(args, kwargs)\n\u001b[1;32m   2942\u001b[0m     return graph_function._call_flat(\n\u001b[0;32m-> 2943\u001b[0;31m         filtered_flat_args, captured_inputs=graph_function.captured_inputs)  # pylint: disable=protected-access\n\u001b[0m\u001b[1;32m   2944\u001b[0m \u001b[0;34m\u001b[0m\u001b[0m\n\u001b[1;32m   2945\u001b[0m   \u001b[0;34m@\u001b[0m\u001b[0mproperty\u001b[0m\u001b[0;34m\u001b[0m\u001b[0;34m\u001b[0m\u001b[0m\n",
            "\u001b[0;32m/usr/local/lib/python3.7/dist-packages/tensorflow/python/eager/function.py\u001b[0m in \u001b[0;36m_call_flat\u001b[0;34m(self, args, captured_inputs, cancellation_manager)\u001b[0m\n\u001b[1;32m   1917\u001b[0m       \u001b[0;31m# No tape is watching; skip to running the function.\u001b[0m\u001b[0;34m\u001b[0m\u001b[0;34m\u001b[0m\u001b[0;34m\u001b[0m\u001b[0m\n\u001b[1;32m   1918\u001b[0m       return self._build_call_outputs(self._inference_function.call(\n\u001b[0;32m-> 1919\u001b[0;31m           ctx, args, cancellation_manager=cancellation_manager))\n\u001b[0m\u001b[1;32m   1920\u001b[0m     forward_backward = self._select_forward_and_backward_functions(\n\u001b[1;32m   1921\u001b[0m         \u001b[0margs\u001b[0m\u001b[0;34m,\u001b[0m\u001b[0;34m\u001b[0m\u001b[0;34m\u001b[0m\u001b[0m\n",
            "\u001b[0;32m/usr/local/lib/python3.7/dist-packages/tensorflow/python/eager/function.py\u001b[0m in \u001b[0;36mcall\u001b[0;34m(self, ctx, args, cancellation_manager)\u001b[0m\n\u001b[1;32m    558\u001b[0m               \u001b[0minputs\u001b[0m\u001b[0;34m=\u001b[0m\u001b[0margs\u001b[0m\u001b[0;34m,\u001b[0m\u001b[0;34m\u001b[0m\u001b[0;34m\u001b[0m\u001b[0m\n\u001b[1;32m    559\u001b[0m               \u001b[0mattrs\u001b[0m\u001b[0;34m=\u001b[0m\u001b[0mattrs\u001b[0m\u001b[0;34m,\u001b[0m\u001b[0;34m\u001b[0m\u001b[0;34m\u001b[0m\u001b[0m\n\u001b[0;32m--> 560\u001b[0;31m               ctx=ctx)\n\u001b[0m\u001b[1;32m    561\u001b[0m         \u001b[0;32melse\u001b[0m\u001b[0;34m:\u001b[0m\u001b[0;34m\u001b[0m\u001b[0;34m\u001b[0m\u001b[0m\n\u001b[1;32m    562\u001b[0m           outputs = execute.execute_with_cancellation(\n",
            "\u001b[0;32m/usr/local/lib/python3.7/dist-packages/tensorflow/python/eager/execute.py\u001b[0m in \u001b[0;36mquick_execute\u001b[0;34m(op_name, num_outputs, inputs, attrs, ctx, name)\u001b[0m\n\u001b[1;32m     58\u001b[0m     \u001b[0mctx\u001b[0m\u001b[0;34m.\u001b[0m\u001b[0mensure_initialized\u001b[0m\u001b[0;34m(\u001b[0m\u001b[0;34m)\u001b[0m\u001b[0;34m\u001b[0m\u001b[0;34m\u001b[0m\u001b[0m\n\u001b[1;32m     59\u001b[0m     tensors = pywrap_tfe.TFE_Py_Execute(ctx._handle, device_name, op_name,\n\u001b[0;32m---> 60\u001b[0;31m                                         inputs, attrs, num_outputs)\n\u001b[0m\u001b[1;32m     61\u001b[0m   \u001b[0;32mexcept\u001b[0m \u001b[0mcore\u001b[0m\u001b[0;34m.\u001b[0m\u001b[0m_NotOkStatusException\u001b[0m \u001b[0;32mas\u001b[0m \u001b[0me\u001b[0m\u001b[0;34m:\u001b[0m\u001b[0;34m\u001b[0m\u001b[0;34m\u001b[0m\u001b[0m\n\u001b[1;32m     62\u001b[0m     \u001b[0;32mif\u001b[0m \u001b[0mname\u001b[0m \u001b[0;32mis\u001b[0m \u001b[0;32mnot\u001b[0m \u001b[0;32mNone\u001b[0m\u001b[0;34m:\u001b[0m\u001b[0;34m\u001b[0m\u001b[0;34m\u001b[0m\u001b[0m\n",
            "\u001b[0;31mKeyboardInterrupt\u001b[0m: "
          ]
        }
      ]
    },
    {
      "cell_type": "code",
      "metadata": {
        "colab": {
          "base_uri": "https://localhost:8080/",
          "height": 295
        },
        "id": "bVNfa0OEpZk6",
        "outputId": "3dacbb0d-994d-4e1f-ecc4-d30e0a00e5a0"
      },
      "source": [
        "import keras\n",
        "from matplotlib import pyplot as plt\n",
        "\n",
        "def plot_fit_history(history):\n",
        "    plt.plot(history.history['accuracy'])\n",
        "    plt.plot(history.history['val_accuracy'])\n",
        "    plt.title('model accuracy')\n",
        "    plt.ylabel('accuracy')\n",
        "    plt.xlabel('epoch')\n",
        "    plt.legend(['train', 'val'], loc='upper left')\n",
        "    plt.show()\n",
        "plot_fit_history(history)"
      ],
      "execution_count": 37,
      "outputs": [
        {
          "output_type": "display_data",
          "data": {
            "image/png": "[encoded data removed]",
            "text/plain": [
              "<Figure size 432x288 with 1 Axes>"
            ]
          },
          "metadata": {
            "tags": [],
            "needs_background": "light"
          }
        }
      ]
    },
    {
      "cell_type": "markdown",
      "metadata": {
        "id": "In2C68nepZk6"
      },
      "source": [
        "## Evaluate the Model"
      ]
    },
    {
      "cell_type": "code",
      "metadata": {
        "colab": {
          "base_uri": "https://localhost:8080/"
        },
        "id": "Ho7zuFZppZk6",
        "outputId": "2c533402-2a2b-4510-8ce0-43dec4b08796"
      },
      "source": [
        "# evaluate the model\n",
        "loss, accuracy = model.evaluate(X_test, y_test, verbose=1)\n",
        "print('Accuracy: %f' % (accuracy*100))"
      ],
      "execution_count": 38,
      "outputs": [
        {
          "output_type": "stream",
          "text": [
            "7/7 [==============================] - 0s 11ms/step - loss: 0.7187 - accuracy: 0.8250\n",
            "Accuracy: 82.499999\n"
          ],
          "name": "stdout"
        }
      ]
    },
    {
      "cell_type": "markdown",
      "metadata": {
        "id": "AAL2HA4qpZk7"
      },
      "source": [
        "## Try Some Random Reviews"
      ]
    },
    {
      "cell_type": "code",
      "metadata": {
        "colab": {
          "base_uri": "https://localhost:8080/"
        },
        "id": "fr-UpVVypZk7",
        "outputId": "996e90bb-854e-493d-e36f-44126248d68b"
      },
      "source": [
        "test_docs = [\n",
        "    \"Amazing, my son loved it as soon as he opened it.\",\n",
        "    \"Piece of crap junk broke as soon as it was opened.\",\n",
        "    \"Solid toy, it was easy to set up and still works even years later\",\n",
        "    \"This toy is not good\"\n",
        "\n",
        "]\n",
        "\n",
        "test_docs = list(\n",
        "    map(lambda doc: \" \".join([token.text for token in nlp(doc) if not token.is_stop]), test_docs))\n",
        "\n",
        "encoded_test_sample = integer_encode_documents(test_docs, tokenizer)\n",
        "\n",
        "padded_test_docs = pad_sequences(encoded_test_sample, maxlen=MAX_SEQUENCE_LENGTH, padding='post')\n",
        "\n",
        "prediction = model.predict_classes(padded_test_docs)\n",
        "encoder.inverse_transform(prediction)"
      ],
      "execution_count": 50,
      "outputs": [
        {
          "output_type": "stream",
          "text": [
            "/usr/local/lib/python3.7/dist-packages/tensorflow/python/keras/engine/sequential.py:450: UserWarning: `model.predict_classes()` is deprecated and will be removed after 2021-01-01. Please use instead:* `np.argmax(model.predict(x), axis=-1)`,   if your model does multi-class classification   (e.g. if it uses a `softmax` last-layer activation).* `(model.predict(x) > 0.5).astype(\"int32\")`,   if your model does binary classification   (e.g. if it uses a `sigmoid` last-layer activation).\n",
            "  warnings.warn('`model.predict_classes()` is deprecated and '\n"
          ],
          "name": "stderr"
        },
        {
          "output_type": "execute_result",
          "data": {
            "text/plain": [
              "array([1., 0., 1., 0.])"
            ]
          },
          "metadata": {
            "tags": []
          },
          "execution_count": 50
        }
      ]
    },
    {
      "cell_type": "markdown",
      "metadata": {
        "id": "tH7jXEBApZk7"
      },
      "source": [
        "# Problem Statement: Predict City of McDonalds Review"
      ]
    },
    {
      "cell_type": "markdown",
      "metadata": {
        "id": "wAl0OETBpZk7"
      },
      "source": [
        "We want to try predict the city that a review corresponds to. For example, given that a McDonalds Yelp review:\n",
        "```\n",
        "\"First they \"\"lost\"\" my order, actually they gave it to someone one else than took 20 minutes to figure out why I was still waiting for my order.They after I was asked what I needed I replied, \"\"my order\"\".They asked for my ticket and the asst mgr looked at the ticket then incompletely filled it.I had to ask her to check to see if she filled it correctly.She acted as if she couldn't be bothered with that so I asked her again.She begrudgingly checked to she did in fact miss something on the ticket.So after 22 minutes I finally had my breakfast biscuit platter.As I left an woman approached and identified herself as the manager, she was dressed as if she had just awoken in an old t-shirt and sweat pants.She said she had heard what happened and said she'd take care of it.Well why didn't she intervene when she saw I was growing annoyed with the incompetence?\"\n",
        "```\n",
        "\n",
        "We want to be able to correctly predict that is is from `Atlanta`."
      ]
    },
    {
      "cell_type": "markdown",
      "metadata": {
        "id": "hcnblYpzpZk7"
      },
      "source": [
        "### Load in McDonalds Yelp Reviews"
      ]
    },
    {
      "cell_type": "code",
      "metadata": {
        "colab": {
          "resources": {
            "http://localhost:8080/nbextensions/google.colab/files.js": {
              "data": "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",
              "ok": true,
              "headers": [
                [
                  "content-type",
                  "application/javascript"
                ]
              ],
              "status": 200,
              "status_text": ""
            }
          },
          "base_uri": "https://localhost:8080/",
          "height": 72
        },
        "id": "uepPMd_xvemh",
        "outputId": "3674500b-430e-49b0-9bf2-eb3d597ef279"
      },
      "source": [
        "from google.colab import files\n",
        "uploaded = files.upload()"
      ],
      "execution_count": 46,
      "outputs": [
        {
          "output_type": "display_data",
          "data": {
            "text/html": [
              "\n",
              "     <input type=\"file\" id=\"files-29909711-94e1-4655-a40a-250d027a9fce\" name=\"files[]\" multiple disabled\n",
              "        style=\"border:none\" />\n",
              "     <output id=\"result-29909711-94e1-4655-a40a-250d027a9fce\">\n",
              "      Upload widget is only available when the cell has been executed in the\n",
              "      current browser session. Please rerun this cell to enable.\n",
              "      </output>\n",
              "      <script src=\"/nbextensions/google.colab/files.js\"></script> "
            ],
            "text/plain": [
              "<IPython.core.display.HTML object>"
            ]
          },
          "metadata": {
            "tags": []
          }
        },
        {
          "output_type": "stream",
          "text": [
            "Saving mcdonalds-yelp-negative-reviews.csv to mcdonalds-yelp-negative-reviews.csv\n"
          ],
          "name": "stdout"
        }
      ]
    },
    {
      "cell_type": "code",
      "metadata": {
        "colab": {
          "base_uri": "https://localhost:8080/",
          "height": 204
        },
        "id": "7kmsR7kOpZk8",
        "outputId": "2bdda0e0-7169-4725-d4e4-afb3f384f081"
      },
      "source": [
        "import pandas as pd\n",
        "reviews_df: pd.DataFrame = pd.read_csv(\n",
        "    \"mcdonalds-yelp-negative-reviews.csv\", encoding=\"latin1\")\n",
        "reviews_df = reviews_df[~reviews_df[\"city\"].isnull()] # filter out null cities\n",
        "\n",
        "reviews_df.sample(len(reviews_df)).head() # shuffle the rows"
      ],
      "execution_count": 90,
      "outputs": [
        {
          "output_type": "execute_result",
          "data": {
            "text/html": [
              "<div>\n",
              "<style scoped>\n",
              "    .dataframe tbody tr th:only-of-type {\n",
              "        vertical-align: middle;\n",
              "    }\n",
              "\n",
              "    .dataframe tbody tr th {\n",
              "        vertical-align: top;\n",
              "    }\n",
              "\n",
              "    .dataframe thead th {\n",
              "        text-align: right;\n",
              "    }\n",
              "</style>\n",
              "<table border=\"1\" class=\"dataframe\">\n",
              "  <thead>\n",
              "    <tr style=\"text-align: right;\">\n",
              "      <th></th>\n",
              "      <th>_unit_id</th>\n",
              "      <th>city</th>\n",
              "      <th>review</th>\n",
              "    </tr>\n",
              "  </thead>\n",
              "  <tbody>\n",
              "    <tr>\n",
              "      <th>335</th>\n",
              "      <td>679455994</td>\n",
              "      <td>Las Vegas</td>\n",
              "      <td>I'LL HAVE ONE BREAKFAST MCMUFFIN, HOLD THE GUN...</td>\n",
              "    </tr>\n",
              "    <tr>\n",
              "      <th>147</th>\n",
              "      <td>679455801</td>\n",
              "      <td>Las Vegas</td>\n",
              "      <td>Worst McDonalds in Vegas! Bad service consiste...</td>\n",
              "    </tr>\n",
              "    <tr>\n",
              "      <th>954</th>\n",
              "      <td>679456625</td>\n",
              "      <td>Cleveland</td>\n",
              "      <td>Wow... absolutely the worst, most shameful McD...</td>\n",
              "    </tr>\n",
              "    <tr>\n",
              "      <th>302</th>\n",
              "      <td>679455960</td>\n",
              "      <td>Las Vegas</td>\n",
              "      <td>Went here after work for a quick Mickey D fix....</td>\n",
              "    </tr>\n",
              "    <tr>\n",
              "      <th>450</th>\n",
              "      <td>679456109</td>\n",
              "      <td>Las Vegas</td>\n",
              "      <td>This has gotta be the cheapest McDonalds in Mc...</td>\n",
              "    </tr>\n",
              "  </tbody>\n",
              "</table>\n",
              "</div>"
            ],
            "text/plain": [
              "      _unit_id       city                                             review\n",
              "335  679455994  Las Vegas  I'LL HAVE ONE BREAKFAST MCMUFFIN, HOLD THE GUN...\n",
              "147  679455801  Las Vegas  Worst McDonalds in Vegas! Bad service consiste...\n",
              "954  679456625  Cleveland  Wow... absolutely the worst, most shameful McD...\n",
              "302  679455960  Las Vegas  Went here after work for a quick Mickey D fix....\n",
              "450  679456109  Las Vegas  This has gotta be the cheapest McDonalds in Mc..."
            ]
          },
          "metadata": {
            "tags": []
          },
          "execution_count": 90
        }
      ]
    },
    {
      "cell_type": "markdown",
      "metadata": {
        "id": "dSr-z_XzpZk8"
      },
      "source": [
        "## Get Your Feature Space and Target Labels"
      ]
    },
    {
      "cell_type": "code",
      "metadata": {
        "colab": {
          "base_uri": "https://localhost:8080/"
        },
        "id": "4xy1-cAspZk8",
        "outputId": "b701ba28-04a0-4208-e7d3-bc376923c785"
      },
      "source": [
        "labels = reviews_df[\"city\"]\n",
        "docs = reviews_df[\"review\"]\n",
        "labels"
      ],
      "execution_count": 91,
      "outputs": [
        {
          "output_type": "execute_result",
          "data": {
            "text/plain": [
              "0           Atlanta\n",
              "1           Atlanta\n",
              "2           Atlanta\n",
              "3           Atlanta\n",
              "4           Atlanta\n",
              "           ...     \n",
              "1520       Portland\n",
              "1521        Houston\n",
              "1522       New York\n",
              "1523        Chicago\n",
              "1524    Los Angeles\n",
              "Name: city, Length: 1438, dtype: object"
            ]
          },
          "metadata": {
            "tags": []
          },
          "execution_count": 91
        }
      ]
    },
    {
      "cell_type": "markdown",
      "metadata": {
        "id": "aoCC2id2pZk8"
      },
      "source": [
        "## Perform Label Categorical Encoding of Cities"
      ]
    },
    {
      "cell_type": "code",
      "metadata": {
        "id": "iArLZVzVpZk8"
      },
      "source": [
        "from keras.utils import to_categorical\n",
        "from sklearn.preprocessing import LabelEncoder\n",
        "encoder = LabelEncoder()\n",
        "labels = to_categorical(encoder.fit_transform(labels))"
      ],
      "execution_count": 92,
      "outputs": []
    },
    {
      "cell_type": "markdown",
      "metadata": {
        "id": "13DKp7IzpZk9"
      },
      "source": [
        "## Remove Stopwords Using SpaCy"
      ]
    },
    {
      "cell_type": "code",
      "metadata": {
        "id": "iRdFA779pZk9"
      },
      "source": [
        "# import spacy\n",
        "# nlp = spacy.load('en_core_web_sm')\n",
        "# stopwords_removed_docs = list(\n",
        "#     map(lambda doc: \" \".join([token.text for token in nlp(doc) if not token.is_stop]), docs))\n",
        "\n",
        "stopwords_removed_docs = []\n",
        "for doc in docs:\n",
        "  word_tokens = word_tokenize(doc) \n",
        "  filtered_sentence = [w for w in word_tokens if not w in stop_words] \n",
        "  stopwords_removed_docs.append(\" \".join(filtered_sentence))"
      ],
      "execution_count": 93,
      "outputs": []
    },
    {
      "cell_type": "markdown",
      "metadata": {
        "id": "TUrdUEmOpZk9"
      },
      "source": [
        "## Tokenize the Text"
      ]
    },
    {
      "cell_type": "code",
      "metadata": {
        "id": "wWhytLoxpZk9"
      },
      "source": [
        "from keras.preprocessing.text import Tokenizer\n",
        "tokenizer = Tokenizer(num_words=10000, oov_token=\"UNKNOWN_TOKEN\")\n",
        "tokenizer.fit_on_texts(stopwords_removed_docs)"
      ],
      "execution_count": 94,
      "outputs": []
    },
    {
      "cell_type": "markdown",
      "metadata": {
        "id": "rM-U-2HXpZk9"
      },
      "source": [
        "## Integer Encode Tokens"
      ]
    },
    {
      "cell_type": "code",
      "metadata": {
        "id": "9LlbS-APpZk9"
      },
      "source": [
        "def integer_encode_documents(docs, tokenizer):\n",
        "    return tokenizer.texts_to_sequences(docs)"
      ],
      "execution_count": 95,
      "outputs": []
    },
    {
      "cell_type": "markdown",
      "metadata": {
        "id": "T97X4MTxpZk9"
      },
      "source": [
        "## Get Max Length Per Token"
      ]
    },
    {
      "cell_type": "code",
      "metadata": {
        "id": "Q_2gNGXHpZk9"
      },
      "source": [
        "from typing import List\n",
        "def get_max_token_length_per_doc(docs: List[List[str]])-> int:\n",
        "    return max(list(map(lambda x: len(x.split()), docs)))\n",
        "\n",
        "# get the max length in terms of token length\n",
        "max_length = get_max_token_length_per_doc(docs)"
      ],
      "execution_count": 96,
      "outputs": []
    },
    {
      "cell_type": "code",
      "metadata": {
        "id": "ptqS21pHpZk-"
      },
      "source": [
        "from keras.preprocessing.sequence import pad_sequences\n",
        "MAX_SEQUENCE_LENGTH = 300\n",
        "# integer encode the documents\n",
        "encoded_docs = integer_encode_documents(stopwords_removed_docs, tokenizer)\n",
        "# this is a list of lists, the numbers represent the index position of that word.\n",
        "# for instance, 33 means the 33rd word in the vocabulary\n",
        "padded_docs = pad_sequences(encoded_docs, maxlen=MAX_SEQUENCE_LENGTH, padding='post')"
      ],
      "execution_count": 97,
      "outputs": []
    },
    {
      "cell_type": "markdown",
      "metadata": {
        "id": "b4lzeIAXpZk-"
      },
      "source": [
        "## Split into Train/Test Split"
      ]
    },
    {
      "cell_type": "code",
      "metadata": {
        "id": "U_u48eOzpZk-"
      },
      "source": [
        "from sklearn.model_selection import train_test_split\n",
        "X_train, X_test, y_train, y_test = train_test_split(padded_docs, labels, test_size=0.1)"
      ],
      "execution_count": 98,
      "outputs": []
    },
    {
      "cell_type": "markdown",
      "metadata": {
        "id": "_vaxJeuJpZk-"
      },
      "source": [
        "## Keras RNN Architecture"
      ]
    },
    {
      "cell_type": "code",
      "metadata": {
        "id": "nRNzIu6QpZk-"
      },
      "source": [
        "VOCAB_SIZE = int(len(tokenizer.word_index) * 1.1)"
      ],
      "execution_count": 99,
      "outputs": []
    },
    {
      "cell_type": "markdown",
      "metadata": {
        "id": "cHKT26jnpZk-"
      },
      "source": [
        "## Load in Glove Vectors"
      ]
    },
    {
      "cell_type": "code",
      "metadata": {
        "colab": {
          "base_uri": "https://localhost:8080/"
        },
        "id": "9R_lXzFIpZk-",
        "outputId": "43568f43-876d-4f03-f9ff-dcf3ef6b05af"
      },
      "source": [
        "def load_glove_vectors():\n",
        "    embeddings_index = {}\n",
        "    with open('glove.6B.100d.txt') as f:\n",
        "        for line in f:\n",
        "            values = line.split()\n",
        "            word = values[0]\n",
        "            coefs = asarray(values[1:], dtype='float32')\n",
        "            embeddings_index[word] = coefs\n",
        "    print('Loaded %s word vectors.' % len(embeddings_index))\n",
        "    return embeddings_index\n",
        "\n",
        "\n",
        "embeddings_index = load_glove_vectors()"
      ],
      "execution_count": 100,
      "outputs": [
        {
          "output_type": "stream",
          "text": [
            "Loaded 400000 word vectors.\n"
          ],
          "name": "stdout"
        }
      ]
    },
    {
      "cell_type": "markdown",
      "metadata": {
        "id": "cWArOjedpZk-"
      },
      "source": [
        "## Load in the Embeddings"
      ]
    },
    {
      "cell_type": "code",
      "metadata": {
        "colab": {
          "base_uri": "https://localhost:8080/"
        },
        "id": "8gypYYC8pZk-",
        "outputId": "b3a76229-a692-4ecc-91dc-3a6200ed89d2"
      },
      "source": [
        "tokenizer.word_index"
      ],
      "execution_count": 102,
      "outputs": [
        {
          "output_type": "execute_result",
          "data": {
            "text/plain": [
              "{'UNKNOWN_TOKEN': 1,\n",
              " 'i': 2,\n",
              " \"'s\": 3,\n",
              " \"n't\": 4,\n",
              " 'food': 5,\n",
              " 'the': 6,\n",
              " 'mcdonald': 7,\n",
              " 'order': 8,\n",
              " 'one': 9,\n",
              " 'get': 10,\n",
              " 'drive': 11,\n",
              " 'mcdonalds': 12,\n",
              " 'go': 13,\n",
              " 'service': 14,\n",
              " 'time': 15,\n",
              " 'it': 16,\n",
              " 'like': 17,\n",
              " 'place': 18,\n",
              " 'this': 19,\n",
              " 'thru': 20,\n",
              " \"''\": 21,\n",
              " 'location': 22,\n",
              " 'would': 23,\n",
              " 'they': 24,\n",
              " 'people': 25,\n",
              " 'back': 26,\n",
              " \"'m\": 27,\n",
              " 'got': 28,\n",
              " \"'ve\": 29,\n",
              " 'even': 30,\n",
              " 'always': 31,\n",
              " 'fries': 32,\n",
              " 'never': 33,\n",
              " 'good': 34,\n",
              " 'ever': 35,\n",
              " 'ordered': 36,\n",
              " 'minutes': 37,\n",
              " 'coffee': 38,\n",
              " 'window': 39,\n",
              " 'went': 40,\n",
              " 'right': 41,\n",
              " 'really': 42,\n",
              " '2': 43,\n",
              " 'fast': 44,\n",
              " 'line': 45,\n",
              " 'could': 46,\n",
              " 'worst': 47,\n",
              " 'staff': 48,\n",
              " 'times': 49,\n",
              " 'know': 50,\n",
              " 'said': 51,\n",
              " 'manager': 52,\n",
              " '1': 53,\n",
              " 'and': 54,\n",
              " 'way': 55,\n",
              " 'customer': 56,\n",
              " 'give': 57,\n",
              " 'work': 58,\n",
              " 'bad': 59,\n",
              " 'two': 60,\n",
              " 'breakfast': 61,\n",
              " 'around': 62,\n",
              " 'want': 63,\n",
              " 'wrong': 64,\n",
              " 'asked': 65,\n",
              " 'inside': 66,\n",
              " 'first': 67,\n",
              " 'say': 68,\n",
              " 'eat': 69,\n",
              " 'wait': 70,\n",
              " 'there': 71,\n",
              " 'so': 72,\n",
              " 'we': 73,\n",
              " 'not': 74,\n",
              " 'also': 75,\n",
              " 'make': 76,\n",
              " \"'re\": 77,\n",
              " 'going': 78,\n",
              " 'come': 79,\n",
              " 'still': 80,\n",
              " 'long': 81,\n",
              " 'something': 82,\n",
              " 'waiting': 83,\n",
              " 'took': 84,\n",
              " 'my': 85,\n",
              " 'another': 86,\n",
              " 'meal': 87,\n",
              " 'but': 88,\n",
              " 'us': 89,\n",
              " 'take': 90,\n",
              " 'think': 91,\n",
              " 'chicken': 92,\n",
              " 'much': 93,\n",
              " 'pretty': 94,\n",
              " 'if': 95,\n",
              " 'every': 96,\n",
              " 'big': 97,\n",
              " 'well': 98,\n",
              " 'you': 99,\n",
              " 'told': 100,\n",
              " 'employees': 101,\n",
              " 'when': 102,\n",
              " 'slow': 103,\n",
              " '5': 104,\n",
              " '10': 105,\n",
              " 'ask': 106,\n",
              " 'need': 107,\n",
              " '3': 108,\n",
              " 'hot': 109,\n",
              " 'area': 110,\n",
              " 'day': 111,\n",
              " 'no': 112,\n",
              " 'nice': 113,\n",
              " 'last': 114,\n",
              " 'night': 115,\n",
              " 'better': 116,\n",
              " 'restaurant': 117,\n",
              " 'new': 118,\n",
              " 'made': 119,\n",
              " 'burger': 120,\n",
              " 'came': 121,\n",
              " 'morning': 122,\n",
              " 'orders': 123,\n",
              " 'thing': 124,\n",
              " 'sure': 125,\n",
              " 'since': 126,\n",
              " 'review': 127,\n",
              " 'mcd': 128,\n",
              " 'rude': 129,\n",
              " 'lot': 130,\n",
              " 'usually': 131,\n",
              " 'ca': 132,\n",
              " 'cold': 133,\n",
              " 'sauce': 134,\n",
              " 'away': 135,\n",
              " 'quick': 136,\n",
              " 'cashier': 137,\n",
              " 'customers': 138,\n",
              " 'clean': 139,\n",
              " 'ice': 140,\n",
              " 'sandwich': 141,\n",
              " 'menu': 142,\n",
              " \"'ll\": 143,\n",
              " 'front': 144,\n",
              " 'a': 145,\n",
              " 'drink': 146,\n",
              " 'friendly': 147,\n",
              " 'car': 148,\n",
              " 'large': 149,\n",
              " 'experience': 150,\n",
              " 'gave': 151,\n",
              " 'kids': 152,\n",
              " 'next': 153,\n",
              " 'do': 154,\n",
              " 'see': 155,\n",
              " 'open': 156,\n",
              " 'left': 157,\n",
              " 'home': 158,\n",
              " 'getting': 159,\n",
              " 'bag': 160,\n",
              " 'busy': 161,\n",
              " 'old': 162,\n",
              " 'little': 163,\n",
              " 'waited': 164,\n",
              " 'though': 165,\n",
              " 'someone': 166,\n",
              " 'least': 167,\n",
              " 'person': 168,\n",
              " 'that': 169,\n",
              " 'guy': 170,\n",
              " 'counter': 171,\n",
              " 'she': 172,\n",
              " 'actually': 173,\n",
              " 'nuggets': 174,\n",
              " 'cheese': 175,\n",
              " '4': 176,\n",
              " 'star': 177,\n",
              " 'ok': 178,\n",
              " 'extra': 179,\n",
              " 'sweet': 180,\n",
              " 'great': 181,\n",
              " '20': 182,\n",
              " 'cream': 183,\n",
              " 'tell': 184,\n",
              " 'stars': 185,\n",
              " 'egg': 186,\n",
              " 'money': 187,\n",
              " 'pay': 188,\n",
              " 'wanted': 189,\n",
              " 'store': 190,\n",
              " 'nothing': 191,\n",
              " 'what': 192,\n",
              " 'working': 193,\n",
              " 'then': 194,\n",
              " 'horrible': 195,\n",
              " 'else': 196,\n",
              " 'either': 197,\n",
              " 'probably': 198,\n",
              " 'use': 199,\n",
              " 'ketchup': 200,\n",
              " \"'d\": 201,\n",
              " 'many': 202,\n",
              " 'maybe': 203,\n",
              " 'best': 204,\n",
              " 'hours': 205,\n",
              " 'oh': 206,\n",
              " 'however': 207,\n",
              " 'let': 208,\n",
              " 'small': 209,\n",
              " 'instead': 210,\n",
              " 'taking': 211,\n",
              " 'mac': 212,\n",
              " 'behind': 213,\n",
              " 'expect': 214,\n",
              " 'check': 215,\n",
              " 'late': 216,\n",
              " 'in': 217,\n",
              " 'lady': 218,\n",
              " 'three': 219,\n",
              " 'today': 220,\n",
              " 'fresh': 221,\n",
              " 'lunch': 222,\n",
              " 'looked': 223,\n",
              " 'finally': 224,\n",
              " 'love': 225,\n",
              " 'he': 226,\n",
              " 'almost': 227,\n",
              " 'street': 228,\n",
              " 'try': 229,\n",
              " 'dirty': 230,\n",
              " 'stop': 231,\n",
              " 'guess': 232,\n",
              " 'stopped': 233,\n",
              " 'job': 234,\n",
              " 'terrible': 235,\n",
              " 'anything': 236,\n",
              " 'cars': 237,\n",
              " '15': 238,\n",
              " 'missing': 239,\n",
              " 'look': 240,\n",
              " 'sometimes': 241,\n",
              " 'reason': 242,\n",
              " 'problem': 243,\n",
              " 'employee': 244,\n",
              " 'visit': 245,\n",
              " 'bit': 246,\n",
              " 'girl': 247,\n",
              " 'seems': 248,\n",
              " 'after': 249,\n",
              " 'put': 250,\n",
              " 'looking': 251,\n",
              " 'coke': 252,\n",
              " 'homeless': 253,\n",
              " 'workers': 254,\n",
              " 'hard': 255,\n",
              " 'change': 256,\n",
              " 'without': 257,\n",
              " 'far': 258,\n",
              " 'register': 259,\n",
              " 'things': 260,\n",
              " 'thought': 261,\n",
              " 'find': 262,\n",
              " 'hour': 263,\n",
              " 'tea': 264,\n",
              " 'receipt': 265,\n",
              " 'enough': 266,\n",
              " 'eating': 267,\n",
              " 'as': 268,\n",
              " 'business': 269,\n",
              " 'free': 270,\n",
              " 'cup': 271,\n",
              " 'seem': 272,\n",
              " \"'\": 273,\n",
              " 'seriously': 274,\n",
              " 'care': 275,\n",
              " 'parking': 276,\n",
              " 'years': 277,\n",
              " 'different': 278,\n",
              " 'sausage': 279,\n",
              " 'keep': 280,\n",
              " 'd': 281,\n",
              " 'half': 282,\n",
              " 'correct': 283,\n",
              " 'just': 284,\n",
              " 'everything': 285,\n",
              " 'all': 286,\n",
              " 'super': 287,\n",
              " 'couple': 288,\n",
              " 'making': 289,\n",
              " 'outside': 290,\n",
              " '24': 291,\n",
              " 'point': 292,\n",
              " 'yes': 293,\n",
              " 'mean': 294,\n",
              " 'run': 295,\n",
              " 'side': 296,\n",
              " 'less': 297,\n",
              " 'iced': 298,\n",
              " 'machine': 299,\n",
              " 'door': 300,\n",
              " 'happened': 301,\n",
              " 'management': 302,\n",
              " 'now': 303,\n",
              " 'happy': 304,\n",
              " 'ordering': 305,\n",
              " 'particular': 306,\n",
              " 'close': 307,\n",
              " 'attitude': 308,\n",
              " 'often': 309,\n",
              " 'everyone': 310,\n",
              " 'quality': 311,\n",
              " 'tasted': 312,\n",
              " 'soda': 313,\n",
              " 'twice': 314,\n",
              " 'items': 315,\n",
              " 'looks': 316,\n",
              " 'comes': 317,\n",
              " 'decided': 318,\n",
              " 'fact': 319,\n",
              " 'trying': 320,\n",
              " 'second': 321,\n",
              " 'taste': 322,\n",
              " 'feel': 323,\n",
              " 'grab': 324,\n",
              " 'bacon': 325,\n",
              " 'at': 326,\n",
              " 'burgers': 327,\n",
              " 'mc': 328,\n",
              " 'yet': 329,\n",
              " 'french': 330,\n",
              " 'top': 331,\n",
              " 'kind': 332,\n",
              " 'used': 333,\n",
              " 'makes': 334,\n",
              " 'call': 335,\n",
              " 'how': 336,\n",
              " 'understand': 337,\n",
              " 'for': 338,\n",
              " 'says': 339,\n",
              " 'simple': 340,\n",
              " 'biscuit': 341,\n",
              " 'must': 342,\n",
              " 'dollar': 343,\n",
              " 'pulled': 344,\n",
              " 'hate': 345,\n",
              " 'play': 346,\n",
              " 'across': 347,\n",
              " 'fish': 348,\n",
              " 'coming': 349,\n",
              " 'paid': 350,\n",
              " 'cash': 351,\n",
              " 'called': 352,\n",
              " '6': 353,\n",
              " 'pick': 354,\n",
              " 'needed': 355,\n",
              " 'leave': 356,\n",
              " 'hungry': 357,\n",
              " '30': 358,\n",
              " 'table': 359,\n",
              " 'walked': 360,\n",
              " 'pull': 361,\n",
              " 'please': 362,\n",
              " 'double': 363,\n",
              " 'part': 364,\n",
              " 'man': 365,\n",
              " 'rather': 366,\n",
              " 'saw': 367,\n",
              " 'poor': 368,\n",
              " 'single': 369,\n",
              " 'done': 370,\n",
              " 'sat': 371,\n",
              " 'on': 372,\n",
              " 'later': 373,\n",
              " 'hand': 374,\n",
              " 'worse': 375,\n",
              " 'may': 376,\n",
              " 'to': 377,\n",
              " 'tried': 378,\n",
              " 'shake': 379,\n",
              " 'avoid': 380,\n",
              " 'mickey': 381,\n",
              " 'already': 382,\n",
              " 'life': 383,\n",
              " 'seemed': 384,\n",
              " 'gone': 385,\n",
              " 'quite': 386,\n",
              " 'vegas': 387,\n",
              " 'floor': 388,\n",
              " 'given': 389,\n",
              " 'bite': 390,\n",
              " 'water': 391,\n",
              " 'world': 392,\n",
              " 'live': 393,\n",
              " 'sitting': 394,\n",
              " 'napkins': 395,\n",
              " 'seen': 396,\n",
              " 'especially': 397,\n",
              " 'drove': 398,\n",
              " 'walk': 399,\n",
              " 'mess': 400,\n",
              " 'fry': 401,\n",
              " 'several': 402,\n",
              " 'why': 403,\n",
              " 'full': 404,\n",
              " 'number': 405,\n",
              " 'help': 406,\n",
              " 'asking': 407,\n",
              " 'takes': 408,\n",
              " 'corporate': 409,\n",
              " 'lines': 410,\n",
              " 'friend': 411,\n",
              " 'giving': 412,\n",
              " 'only': 413,\n",
              " 'mcmuffin': 414,\n",
              " 'turn': 415,\n",
              " 'room': 416,\n",
              " 'week': 417,\n",
              " 'reviews': 418,\n",
              " 'wo': 419,\n",
              " 'within': 420,\n",
              " 'cheeseburger': 421,\n",
              " 'quickly': 422,\n",
              " 'matter': 423,\n",
              " 'completely': 424,\n",
              " 'english': 425,\n",
              " 'serve': 426,\n",
              " 'longer': 427,\n",
              " 'charge': 428,\n",
              " 'thank': 429,\n",
              " 'price': 430,\n",
              " 'might': 431,\n",
              " 'rush': 432,\n",
              " 'regular': 433,\n",
              " 'received': 434,\n",
              " 'started': 435,\n",
              " 'craving': 436,\n",
              " 'face': 437,\n",
              " 'remember': 438,\n",
              " 'box': 439,\n",
              " 'okay': 440,\n",
              " 'drinks': 441,\n",
              " 'recommend': 442,\n",
              " 'needs': 443,\n",
              " 'warm': 444,\n",
              " 'near': 445,\n",
              " 'disgusting': 446,\n",
              " 'places': 447,\n",
              " 'forgot': 448,\n",
              " 'guys': 449,\n",
              " 'high': 450,\n",
              " 'apple': 451,\n",
              " 'sorry': 452,\n",
              " 'talking': 453,\n",
              " 'definitely': 454,\n",
              " 'neighborhood': 455,\n",
              " 'hit': 456,\n",
              " 'days': 457,\n",
              " 'buy': 458,\n",
              " 'dont': 459,\n",
              " 'goes': 460,\n",
              " 'bathroom': 461,\n",
              " 'anyway': 462,\n",
              " 'dining': 463,\n",
              " 'is': 464,\n",
              " 'bun': 465,\n",
              " '7': 466,\n",
              " 'five': 467,\n",
              " 'cheap': 468,\n",
              " 'special': 469,\n",
              " 'sign': 470,\n",
              " 'write': 471,\n",
              " 'piece': 472,\n",
              " 'gotten': 473,\n",
              " 'plus': 474,\n",
              " 'sit': 475,\n",
              " 'overall': 476,\n",
              " 'very': 477,\n",
              " 'course': 478,\n",
              " 'located': 479,\n",
              " 'unless': 480,\n",
              " 'return': 481,\n",
              " 'messed': 482,\n",
              " 'ago': 483,\n",
              " 'hash': 484,\n",
              " 'decent': 485,\n",
              " 'handed': 486,\n",
              " 'whole': 487,\n",
              " 'station': 488,\n",
              " 'driving': 489,\n",
              " 'locations': 490,\n",
              " 'tables': 491,\n",
              " 'closest': 492,\n",
              " 'mcflurry': 493,\n",
              " 'believe': 494,\n",
              " 'meals': 495,\n",
              " 'syrup': 496,\n",
              " 'yelp': 497,\n",
              " 'house': 498,\n",
              " 'fine': 499,\n",
              " 'convenient': 500,\n",
              " 'complain': 501,\n",
              " 'or': 502,\n",
              " 'typical': 503,\n",
              " 'walking': 504,\n",
              " 'extremely': 505,\n",
              " 'awful': 506,\n",
              " 'add': 507,\n",
              " 'medium': 508,\n",
              " 'year': 509,\n",
              " 'gets': 510,\n",
              " 'absolutely': 511,\n",
              " 'hands': 512,\n",
              " 'mocha': 513,\n",
              " 'anyone': 514,\n",
              " 'noticed': 515,\n",
              " 'speak': 516,\n",
              " 'meat': 517,\n",
              " 'stay': 518,\n",
              " 'franchise': 519,\n",
              " 'hope': 520,\n",
              " 'card': 521,\n",
              " 'ready': 522,\n",
              " 'standard': 523,\n",
              " 'forever': 524,\n",
              " 'together': 525,\n",
              " 'saying': 526,\n",
              " 'sandwiches': 527,\n",
              " 'diet': 528,\n",
              " 'name': 529,\n",
              " 'lol': 530,\n",
              " 'mcnuggets': 531,\n",
              " 'stand': 532,\n",
              " 'stuff': 533,\n",
              " 'woman': 534,\n",
              " 'talk': 535,\n",
              " 'worth': 536,\n",
              " 'restaurants': 537,\n",
              " 'yeah': 538,\n",
              " 'ghetto': 539,\n",
              " 'cause': 540,\n",
              " 'gas': 541,\n",
              " 'family': 542,\n",
              " 'fix': 543,\n",
              " 'quarter': 544,\n",
              " 'closed': 545,\n",
              " 'running': 546,\n",
              " 'literally': 547,\n",
              " 'end': 548,\n",
              " 'worker': 549,\n",
              " 'easy': 550,\n",
              " 'smile': 551,\n",
              " 'average': 552,\n",
              " 'found': 553,\n",
              " 'cooked': 554,\n",
              " 'paying': 555,\n",
              " 'option': 556,\n",
              " 'coupon': 557,\n",
              " 'mcchicken': 558,\n",
              " 'crap': 559,\n",
              " 'four': 560,\n",
              " 'deal': 561,\n",
              " 'mayo': 562,\n",
              " 'standing': 563,\n",
              " 'wtf': 564,\n",
              " 'screw': 565,\n",
              " 'slowest': 566,\n",
              " 'charged': 567,\n",
              " 'wife': 568,\n",
              " 'min': 569,\n",
              " 'building': 570,\n",
              " 'opened': 571,\n",
              " 'normally': 572,\n",
              " 'starbucks': 573,\n",
              " 'park': 574,\n",
              " 'hell': 575,\n",
              " 'friends': 576,\n",
              " 'ridiculous': 577,\n",
              " 'read': 578,\n",
              " 'salad': 579,\n",
              " 'me': 580,\n",
              " 'its': 581,\n",
              " 'months': 582,\n",
              " 'entire': 583,\n",
              " '8': 584,\n",
              " 'nasty': 585,\n",
              " 'cone': 586,\n",
              " 'mcdouble': 587,\n",
              " 'low': 588,\n",
              " 'white': 589,\n",
              " '2nd': 590,\n",
              " 'stale': 591,\n",
              " 'sugar': 592,\n",
              " 'establishment': 593,\n",
              " 'weird': 594,\n",
              " 'others': 595,\n",
              " 'here': 596,\n",
              " 'pies': 597,\n",
              " 'visits': 598,\n",
              " 'available': 599,\n",
              " 'happen': 600,\n",
              " 'attention': 601,\n",
              " 'kid': 602,\n",
              " 'ahead': 603,\n",
              " 'rest': 604,\n",
              " 'mcds': 605,\n",
              " 'miss': 606,\n",
              " 'speaker': 607,\n",
              " 'item': 608,\n",
              " 'middle': 609,\n",
              " '50': 610,\n",
              " 'minute': 611,\n",
              " 'case': 612,\n",
              " 'including': 613,\n",
              " 'value': 614,\n",
              " 'snack': 615,\n",
              " 'school': 616,\n",
              " 'sucks': 617,\n",
              " 'move': 618,\n",
              " 'serving': 619,\n",
              " 'enjoy': 620,\n",
              " 'polite': 621,\n",
              " 'crew': 622,\n",
              " 'break': 623,\n",
              " 'filthy': 624,\n",
              " 'consistently': 625,\n",
              " 'possible': 626,\n",
              " 'receive': 627,\n",
              " 'placed': 628,\n",
              " 'sad': 629,\n",
              " 'wrap': 630,\n",
              " 'grilled': 631,\n",
              " 'bother': 632,\n",
              " 'past': 633,\n",
              " 'ended': 634,\n",
              " 'north': 635,\n",
              " 'fan': 636,\n",
              " 'served': 637,\n",
              " 'mind': 638,\n",
              " 'cheeseburgers': 639,\n",
              " 'crispy': 640,\n",
              " 'of': 641,\n",
              " 'tastes': 642,\n",
              " 'drunk': 643,\n",
              " 'whatever': 644,\n",
              " 'packets': 645,\n",
              " 'treat': 646,\n",
              " 'obviously': 647,\n",
              " 'filled': 648,\n",
              " 'chocolate': 649,\n",
              " 'while': 650,\n",
              " 'black': 651,\n",
              " 'experienced': 652,\n",
              " 'thinking': 653,\n",
              " 'forget': 654,\n",
              " 'wish': 655,\n",
              " 'plain': 656,\n",
              " 'issue': 657,\n",
              " 'was': 658,\n",
              " 'negative': 659,\n",
              " 'prices': 660,\n",
              " 'ta': 661,\n",
              " 'young': 662,\n",
              " 'soon': 663,\n",
              " 'leaving': 664,\n",
              " 'size': 665,\n",
              " 'pounder': 666,\n",
              " 'because': 667,\n",
              " 'supposed': 668,\n",
              " 'able': 669,\n",
              " 'game': 670,\n",
              " 'cool': 671,\n",
              " 'chance': 672,\n",
              " 'felt': 673,\n",
              " 'seating': 674,\n",
              " 'correctly': 675,\n",
              " 'threw': 676,\n",
              " 'crazy': 677,\n",
              " 'word': 678,\n",
              " 'screen': 679,\n",
              " 'ate': 680,\n",
              " 'did': 681,\n",
              " 'hanging': 682,\n",
              " 'honestly': 683,\n",
              " 'once': 684,\n",
              " 'upon': 685,\n",
              " 'idea': 686,\n",
              " 'packed': 687,\n",
              " 'early': 688,\n",
              " 'works': 689,\n",
              " 'ten': 690,\n",
              " 'kept': 691,\n",
              " 'mins': 692,\n",
              " 'unfortunately': 693,\n",
              " 'short': 694,\n",
              " 'u': 695,\n",
              " 'bunch': 696,\n",
              " 'real': 697,\n",
              " 'none': 698,\n",
              " 'hurry': 699,\n",
              " 'forward': 700,\n",
              " 'anymore': 701,\n",
              " 'huge': 702,\n",
              " '9': 703,\n",
              " 'town': 704,\n",
              " 'exactly': 705,\n",
              " 'road': 706,\n",
              " 'by': 707,\n",
              " 'waste': 708,\n",
              " 'lane': 709,\n",
              " 'cost': 710,\n",
              " 'disappointed': 711,\n",
              " 'gross': 712,\n",
              " 'request': 713,\n",
              " 'prepared': 714,\n",
              " 'dinner': 715,\n",
              " 'office': 716,\n",
              " 'recently': 717,\n",
              " 'amount': 718,\n",
              " 'out': 719,\n",
              " 'mustard': 720,\n",
              " 'system': 721,\n",
              " 'although': 722,\n",
              " 'type': 723,\n",
              " 'c': 724,\n",
              " 'totally': 725,\n",
              " 'sunday': 726,\n",
              " 'phone': 727,\n",
              " 'third': 728,\n",
              " 'picture': 729,\n",
              " 'kinda': 730,\n",
              " 'daughter': 731,\n",
              " 'watch': 732,\n",
              " 'will': 733,\n",
              " 'city': 734,\n",
              " 'coffees': 735,\n",
              " 'other': 736,\n",
              " 'folks': 737,\n",
              " 'shift': 738,\n",
              " 'visited': 739,\n",
              " 'brown': 740,\n",
              " 'fault': 741,\n",
              " 'managers': 742,\n",
              " 'spicy': 743,\n",
              " 'healthy': 744,\n",
              " 'w': 745,\n",
              " 'ass': 746,\n",
              " 'general': 747,\n",
              " 'their': 748,\n",
              " 'refund': 749,\n",
              " 'clearly': 750,\n",
              " 'hear': 751,\n",
              " 'b': 752,\n",
              " 'filet': 753,\n",
              " 'ran': 754,\n",
              " 'donald': 755,\n",
              " 'dry': 756,\n",
              " 'damn': 757,\n",
              " 'strip': 758,\n",
              " 'non': 759,\n",
              " 'nearby': 760,\n",
              " 'nobody': 761,\n",
              " 'lost': 762,\n",
              " '25': 763,\n",
              " 'hold': 764,\n",
              " 'clear': 765,\n",
              " 'month': 766,\n",
              " 'girls': 767,\n",
              " 'im': 768,\n",
              " 'simply': 769,\n",
              " 'head': 770,\n",
              " 'salt': 771,\n",
              " 'spot': 772,\n",
              " 'zero': 773,\n",
              " 'annoying': 774,\n",
              " 'due': 775,\n",
              " 'chain': 776,\n",
              " 'god': 777,\n",
              " 'evening': 778,\n",
              " 'knows': 779,\n",
              " 'modern': 780,\n",
              " 'pieces': 781,\n",
              " 'hamburger': 782,\n",
              " 'barely': 783,\n",
              " 'issues': 784,\n",
              " 'apparently': 785,\n",
              " 'onions': 786,\n",
              " 'count': 787,\n",
              " 'pie': 788,\n",
              " 'caramel': 789,\n",
              " 'lack': 790,\n",
              " 'hey': 791,\n",
              " 'with': 792,\n",
              " 'worked': 793,\n",
              " 'mad': 794,\n",
              " 'block': 795,\n",
              " 'bathrooms': 796,\n",
              " 'delicious': 797,\n",
              " 'ranch': 798,\n",
              " 'thanks': 799,\n",
              " 'hire': 800,\n",
              " 'broken': 801,\n",
              " 'ones': 802,\n",
              " 'fail': 803,\n",
              " '12': 804,\n",
              " 'upset': 805,\n",
              " 'windows': 806,\n",
              " 'start': 807,\n",
              " 'group': 808,\n",
              " 'faster': 809,\n",
              " 'airport': 810,\n",
              " 'n': 811,\n",
              " 'happens': 812,\n",
              " 'owner': 813,\n",
              " 'realized': 814,\n",
              " 'complete': 815,\n",
              " 'moved': 816,\n",
              " 'complaints': 817,\n",
              " 'wow': 818,\n",
              " 'sauces': 819,\n",
              " 'credit': 820,\n",
              " 'consistent': 821,\n",
              " 'welcome': 822,\n",
              " 'orange': 823,\n",
              " 'moving': 824,\n",
              " 'admit': 825,\n",
              " 'somewhere': 826,\n",
              " 'oatmeal': 827,\n",
              " 'through': 828,\n",
              " 'rock': 829,\n",
              " 'soft': 830,\n",
              " 'child': 831,\n",
              " 'entrance': 832,\n",
              " 'expectations': 833,\n",
              " 'corner': 834,\n",
              " 'las': 835,\n",
              " 'lobby': 836,\n",
              " 'stupid': 837,\n",
              " 'gives': 838,\n",
              " 'browns': 839,\n",
              " 'rarely': 840,\n",
              " 'restroom': 841,\n",
              " 'chicago': 842,\n",
              " 'unfriendly': 843,\n",
              " 'again': 844,\n",
              " 'which': 845,\n",
              " 'hello': 846,\n",
              " 'wonder': 847,\n",
              " 'are': 848,\n",
              " 'yesterday': 849,\n",
              " 'does': 850,\n",
              " 'agree': 851,\n",
              " 'except': 852,\n",
              " 'total': 853,\n",
              " 'sour': 854,\n",
              " '99': 855,\n",
              " 'straw': 856,\n",
              " 'these': 857,\n",
              " 'notice': 858,\n",
              " 'means': 859,\n",
              " 'sense': 860,\n",
              " 'everywhere': 861,\n",
              " 'your': 862,\n",
              " 'expensive': 863,\n",
              " 'using': 864,\n",
              " 'repeat': 865,\n",
              " 'taken': 866,\n",
              " 'standards': 867,\n",
              " 'co': 868,\n",
              " 'son': 869,\n",
              " 'whether': 870,\n",
              " 'west': 871,\n",
              " 'product': 872,\n",
              " 'mistake': 873,\n",
              " 'hotel': 874,\n",
              " 's': 875,\n",
              " 'eye': 876,\n",
              " 'mcrib': 877,\n",
              " 'local': 878,\n",
              " 'juice': 879,\n",
              " 'impressed': 880,\n",
              " 'problems': 881,\n",
              " 'o': 882,\n",
              " 'lettuce': 883,\n",
              " 'shame': 884,\n",
              " 'shut': 885,\n",
              " 'kitchen': 886,\n",
              " 'boyfriend': 887,\n",
              " 'paper': 888,\n",
              " 'pass': 889,\n",
              " 'trip': 890,\n",
              " 'story': 891,\n",
              " 'am': 892,\n",
              " 'flies': 893,\n",
              " 'despite': 894,\n",
              " 'generally': 895,\n",
              " '11': 896,\n",
              " 'm': 897,\n",
              " 'hospital': 898,\n",
              " 'beyond': 899,\n",
              " 'can': 900,\n",
              " 'basically': 901,\n",
              " 'patty': 902,\n",
              " 'show': 903,\n",
              " 'plenty': 904,\n",
              " 'watching': 905,\n",
              " 'fill': 906,\n",
              " 'greasy': 907,\n",
              " 'vanilla': 908,\n",
              " 'informed': 909,\n",
              " 'nugget': 910,\n",
              " 'signs': 911,\n",
              " 'remodeled': 912,\n",
              " 'rating': 913,\n",
              " 'some': 914,\n",
              " 'husband': 915,\n",
              " 'female': 916,\n",
              " 'spanish': 917,\n",
              " 'mom': 918,\n",
              " 'blocks': 919,\n",
              " 'up': 920,\n",
              " 'cones': 921,\n",
              " 'step': 922,\n",
              " 'ugh': 923,\n",
              " 'besides': 924,\n",
              " 'na': 925,\n",
              " 'poorly': 926,\n",
              " 'managed': 927,\n",
              " 'offer': 928,\n",
              " 'empty': 929,\n",
              " 'interior': 930,\n",
              " 'bbq': 931,\n",
              " 'wifi': 932,\n",
              " 'unprofessional': 933,\n",
              " 'checked': 934,\n",
              " 'bought': 935,\n",
              " 'exit': 936,\n",
              " 'cups': 937,\n",
              " 'melted': 938,\n",
              " 'biggest': 939,\n",
              " 'lazy': 940,\n",
              " 'butter': 941,\n",
              " 'joke': 942,\n",
              " 'trash': 943,\n",
              " 'mcwrap': 944,\n",
              " 'bring': 945,\n",
              " 'occasions': 946,\n",
              " 'incorrect': 947,\n",
              " 'shocked': 948,\n",
              " 'normal': 949,\n",
              " 'pm': 950,\n",
              " 'cleaning': 951,\n",
              " 'possibly': 952,\n",
              " 'blue': 953,\n",
              " 'traffic': 954,\n",
              " 'playground': 955,\n",
              " 'six': 956,\n",
              " 'mornings': 957,\n",
              " 'before': 958,\n",
              " 'seconds': 959,\n",
              " 'eggs': 960,\n",
              " 'elsewhere': 961,\n",
              " 'choice': 962,\n",
              " 'otherwise': 963,\n",
              " 'combo': 964,\n",
              " 'known': 965,\n",
              " 'light': 966,\n",
              " 'experiences': 967,\n",
              " 'bags': 968,\n",
              " 'conversation': 969,\n",
              " 'loud': 970,\n",
              " 'eaten': 971,\n",
              " 'health': 972,\n",
              " 'burrito': 973,\n",
              " 'mine': 974,\n",
              " 'older': 975,\n",
              " 'tasty': 976,\n",
              " 'asks': 977,\n",
              " 'pickles': 978,\n",
              " 'tired': 979,\n",
              " 'hang': 980,\n",
              " 'anyways': 981,\n",
              " 'bottom': 982,\n",
              " 'shamrock': 983,\n",
              " 'crowded': 984,\n",
              " 'asian': 985,\n",
              " 'set': 986,\n",
              " 'bums': 987,\n",
              " 'sell': 988,\n",
              " 'heard': 989,\n",
              " 'tend': 990,\n",
              " 'difference': 991,\n",
              " 'doors': 992,\n",
              " 'voice': 993,\n",
              " 'mall': 994,\n",
              " 'incompetent': 995,\n",
              " 'sadly': 996,\n",
              " '00': 997,\n",
              " 'seat': 998,\n",
              " 'along': 999,\n",
              " 'mile': 1000,\n",
              " ...}"
            ]
          },
          "metadata": {
            "tags": []
          },
          "execution_count": 102
        }
      ]
    },
    {
      "cell_type": "code",
      "metadata": {
        "id": "Jpq_FaDApZk_"
      },
      "source": [
        "# create a weight matrix for words in training docs\n",
        "embedding_matrix = zeros((VOCAB_SIZE, 100))\n",
        "for word, i in tokenizer.word_index.items():\n",
        "    embedding_vector = embeddings_index.get(word)\n",
        "    if embedding_vector is not None: # check that it is an actual word that we have embeddings for\n",
        "        embedding_matrix[i] = embedding_vector"
      ],
      "execution_count": 109,
      "outputs": []
    },
    {
      "cell_type": "markdown",
      "metadata": {
        "id": "sPkXmOempZk_"
      },
      "source": [
        "## Define Model"
      ]
    },
    {
      "cell_type": "code",
      "metadata": {
        "id": "jaG5qHZepZk_",
        "outputId": "37d441fd-4997-4a09-b9de-a6f38e1fcb0f"
      },
      "source": [
        "MAX_SEQUENCE_LENGTH"
      ],
      "execution_count": null,
      "outputs": [
        {
          "output_type": "execute_result",
          "data": {
            "text/plain": [
              "300"
            ]
          },
          "metadata": {
            "tags": []
          },
          "execution_count": 422
        }
      ]
    },
    {
      "cell_type": "code",
      "metadata": {
        "colab": {
          "base_uri": "https://localhost:8080/"
        },
        "id": "BgeWl9-DpZk_",
        "outputId": "84570786-47eb-46ed-f65b-095923c1c9a2"
      },
      "source": [
        "padded_docs"
      ],
      "execution_count": 103,
      "outputs": [
        {
          "output_type": "execute_result",
          "data": {
            "text/plain": [
              "array([[   2,   27,  702, ...,    0,    0,    0],\n",
              "       [ 235,   56,   14, ...,    0,    0,    0],\n",
              "       [  67,  762,   21, ...,    0,    0,    0],\n",
              "       ...,\n",
              "       [ 102,    2,   42, ...,    0,    0,    0],\n",
              "       [  60, 1404,   41, ...,    0,    0,    0],\n",
              "       [   2,  189,  324, ...,    0,    0,    0]], dtype=int32)"
            ]
          },
          "metadata": {
            "tags": []
          },
          "execution_count": 103
        }
      ]
    },
    {
      "cell_type": "code",
      "metadata": {
        "colab": {
          "base_uri": "https://localhost:8080/"
        },
        "id": "og1Lwijw0N88",
        "outputId": "5a8a2dec-47ab-420b-d1f1-7704f81e270c"
      },
      "source": [
        ""
      ],
      "execution_count": 107,
      "outputs": [
        {
          "output_type": "execute_result",
          "data": {
            "text/plain": [
              "(17765, 100)"
            ]
          },
          "metadata": {
            "tags": []
          },
          "execution_count": 107
        }
      ]
    },
    {
      "cell_type": "code",
      "metadata": {
        "id": "5KELZ1YvpZk_"
      },
      "source": [
        "from keras.layers.recurrent import SimpleRNN\n",
        "from keras.layers import Flatten, Masking\n",
        "# define model\n",
        "model = Sequential()\n",
        "model.add(Embedding(embedding_matrix.shape[0], \n",
        "                    100, \n",
        "                    weights=[embedding_matrix], \n",
        "                    input_length=MAX_SEQUENCE_LENGTH, trainable=False))\n",
        "model.add(Masking(mask_value=0.0)) # masking layer, masks any words that don't have an embedding as 0s.\n",
        "model.add(SimpleRNN(units=64, input_shape=(1, MAX_SEQUENCE_LENGTH)))\n",
        "model.add(Dense(64))\n",
        "model.add(Dense(9, activation='softmax'))"
      ],
      "execution_count": 118,
      "outputs": []
    },
    {
      "cell_type": "markdown",
      "metadata": {
        "id": "agWTyi-ypZlA"
      },
      "source": [
        "## Compile the Model"
      ]
    },
    {
      "cell_type": "code",
      "metadata": {
        "colab": {
          "base_uri": "https://localhost:8080/",
          "height": 967
        },
        "id": "PZ2Ic8sMpZlA",
        "outputId": "8e22a91a-5379-4501-e839-4db4ebcf757c"
      },
      "source": [
        "from keras.utils.vis_utils import plot_model\n",
        "\n",
        "# Compile the model\n",
        "model.compile(\n",
        "    optimizer='adam', loss='categorical_crossentropy', metrics=['accuracy'])\n",
        "# summarize the model\n",
        "print(model.summary())\n",
        "plot_model(model, to_file='model.png', show_shapes=True)"
      ],
      "execution_count": 119,
      "outputs": [
        {
          "output_type": "stream",
          "text": [
            "Model: \"sequential_4\"\n",
            "_________________________________________________________________\n",
            "Layer (type)                 Output Shape              Param #   \n",
            "=================================================================\n",
            "embedding_4 (Embedding)      (None, 300, 100)          900100    \n",
            "_________________________________________________________________\n",
            "masking_3 (Masking)          (None, 300, 100)          0         \n",
            "_________________________________________________________________\n",
            "simple_rnn_3 (SimpleRNN)     (None, 64)                10560     \n",
            "_________________________________________________________________\n",
            "dense_6 (Dense)              (None, 64)                4160      \n",
            "_________________________________________________________________\n",
            "dense_7 (Dense)              (None, 9)                 585       \n",
            "=================================================================\n",
            "Total params: 915,405\n",
            "Trainable params: 15,305\n",
            "Non-trainable params: 900,100\n",
            "_________________________________________________________________\n",
            "None\n"
          ],
          "name": "stdout"
        },
        {
          "output_type": "execute_result",
          "data": {
            "image/png": "[encoded data removed]",
            "text/plain": [
              "<IPython.core.display.Image object>"
            ]
          },
          "metadata": {
            "tags": []
          },
          "execution_count": 119
        }
      ]
    },
    {
      "cell_type": "markdown",
      "metadata": {
        "id": "2iVCLW5mpZlA"
      },
      "source": [
        "## Fit the Model"
      ]
    },
    {
      "cell_type": "markdown",
      "metadata": {
        "id": "50z1lLEepZlA"
      },
      "source": [
        "Before we start training, let's take a look at the relative distribution of counts for cities. Baseline performance accuracy for this model should be the largest value **~28.4%**. You can get this accuracy by predicting the model."
      ]
    },
    {
      "cell_type": "code",
      "metadata": {
        "colab": {
          "base_uri": "https://localhost:8080/"
        },
        "id": "wIH-tD2ypZlA",
        "outputId": "cb496922-e7ed-4da9-a0d2-348e923e55b7"
      },
      "source": [
        "reviews_df[\"city\"].value_counts(normalize=True)"
      ],
      "execution_count": 120,
      "outputs": [
        {
          "output_type": "execute_result",
          "data": {
            "text/plain": [
              "Las Vegas      0.284423\n",
              "Chicago        0.152295\n",
              "Los Angeles    0.116134\n",
              "New York       0.114743\n",
              "Atlanta        0.090403\n",
              "Houston        0.073018\n",
              "Portland       0.067455\n",
              "Dallas         0.052156\n",
              "Cleveland      0.049374\n",
              "Name: city, dtype: float64"
            ]
          },
          "metadata": {
            "tags": []
          },
          "execution_count": 120
        }
      ]
    },
    {
      "cell_type": "code",
      "metadata": {
        "colab": {
          "base_uri": "https://localhost:8080/"
        },
        "id": "AKkxH9I-pZlA",
        "outputId": "aacdc67e-2da8-4771-f6aa-2a28f498da36"
      },
      "source": [
        "# fit the model\n",
        "model.fit(X_train, y_train, epochs=3, verbose=1)"
      ],
      "execution_count": 121,
      "outputs": [
        {
          "output_type": "stream",
          "text": [
            "Epoch 1/3\n",
            "41/41 [==============================] - 18s 400ms/step - loss: 2.2225 - accuracy: 0.2066\n",
            "Epoch 2/3\n",
            "41/41 [==============================] - 16s 397ms/step - loss: 1.9991 - accuracy: 0.2736\n",
            "Epoch 3/3\n",
            "41/41 [==============================] - 16s 398ms/step - loss: 1.9376 - accuracy: 0.3161\n"
          ],
          "name": "stdout"
        },
        {
          "output_type": "execute_result",
          "data": {
            "text/plain": [
              "<tensorflow.python.keras.callbacks.History at 0x7f3665297b90>"
            ]
          },
          "metadata": {
            "tags": []
          },
          "execution_count": 121
        }
      ]
    },
    {
      "cell_type": "markdown",
      "metadata": {
        "id": "LDE4Im3mpZlA"
      },
      "source": [
        "## Evaluate the Model"
      ]
    },
    {
      "cell_type": "code",
      "metadata": {
        "colab": {
          "base_uri": "https://localhost:8080/"
        },
        "id": "uOMyWD4WpZlA",
        "outputId": "b3713ca9-7889-4a01-9133-587beda139a8"
      },
      "source": [
        "# evaluate the model\n",
        "loss, accuracy = model.evaluate(X_test, y_test, verbose=1)\n",
        "print('Accuracy: %f' % (accuracy*100))"
      ],
      "execution_count": 122,
      "outputs": [
        {
          "output_type": "stream",
          "text": [
            "5/5 [==============================] - 0s 39ms/step - loss: 2.1444 - accuracy: 0.2361\n",
            "Accuracy: 23.611110\n"
          ],
          "name": "stdout"
        }
      ]
    },
    {
      "cell_type": "code",
      "metadata": {
        "id": "9H4KMn1EpZlB"
      },
      "source": [
        "test_docs = [\n",
        "    \"Employees look like they hate their job. Milkshake was like drinking milk. Food was cold and not warm at all\",\n",
        "    \"This Mcdonalds is not only in the business of making crappy food and providing even crappier service watch out for the racket they have in the parking lot . If your not careful reading the sign at the the front of the entrance it is going to cost you $195.00 in parking fees. went in to to ask the management they just blew me off. lucky they are in vegas where they dont count on repeat businesssss.\",\n",
        "    \"There are better stores without fruit flies in Griffin, GA.\",\n",
        "    \"Slowest drive-thru ever. Better option is to go to the location on arlington\"\n",
        "]\n",
        "\n",
        "test_docs = list(\n",
        "    map(lambda doc: \" \".join([token.text for token in nlp(doc) if not token.is_stop]), test_docs))\n",
        "\n",
        "encoded_test_sample = integer_encode_documents(test_docs, tokenizer)\n",
        "\n",
        "padded_test_docs = pad_sequences(encoded_test_sample, maxlen=MAX_SEQUENCE_LENGTH, padding='post')"
      ],
      "execution_count": 123,
      "outputs": []
    },
    {
      "cell_type": "code",
      "metadata": {
        "colab": {
          "base_uri": "https://localhost:8080/"
        },
        "id": "mRC8ANwapZlB",
        "outputId": "58e17dbd-3acc-4ac6-a0f0-bcbb094b521c"
      },
      "source": [
        "model.predict_classes(padded_test_docs)"
      ],
      "execution_count": 124,
      "outputs": [
        {
          "output_type": "stream",
          "text": [
            "/usr/local/lib/python3.7/dist-packages/tensorflow/python/keras/engine/sequential.py:450: UserWarning: `model.predict_classes()` is deprecated and will be removed after 2021-01-01. Please use instead:* `np.argmax(model.predict(x), axis=-1)`,   if your model does multi-class classification   (e.g. if it uses a `softmax` last-layer activation).* `(model.predict(x) > 0.5).astype(\"int32\")`,   if your model does binary classification   (e.g. if it uses a `sigmoid` last-layer activation).\n",
            "  warnings.warn('`model.predict_classes()` is deprecated and '\n"
          ],
          "name": "stderr"
        },
        {
          "output_type": "execute_result",
          "data": {
            "text/plain": [
              "array([5, 6, 7, 5])"
            ]
          },
          "metadata": {
            "tags": []
          },
          "execution_count": 124
        }
      ]
    },
    {
      "cell_type": "code",
      "metadata": {
        "colab": {
          "base_uri": "https://localhost:8080/"
        },
        "id": "kzQ_4btRpZlB",
        "outputId": "46fa5868-1b75-45b5-c98f-82d0643be218"
      },
      "source": [
        "prediction = model.predict_classes(padded_test_docs)\n",
        "encoder.inverse_transform(prediction)"
      ],
      "execution_count": 125,
      "outputs": [
        {
          "output_type": "stream",
          "text": [
            "/usr/local/lib/python3.7/dist-packages/tensorflow/python/keras/engine/sequential.py:450: UserWarning: `model.predict_classes()` is deprecated and will be removed after 2021-01-01. Please use instead:* `np.argmax(model.predict(x), axis=-1)`,   if your model does multi-class classification   (e.g. if it uses a `softmax` last-layer activation).* `(model.predict(x) > 0.5).astype(\"int32\")`,   if your model does binary classification   (e.g. if it uses a `sigmoid` last-layer activation).\n",
            "  warnings.warn('`model.predict_classes()` is deprecated and '\n"
          ],
          "name": "stderr"
        },
        {
          "output_type": "execute_result",
          "data": {
            "text/plain": [
              "array(['Las Vegas', 'Los Angeles', 'New York', 'Las Vegas'], dtype=object)"
            ]
          },
          "metadata": {
            "tags": []
          },
          "execution_count": 125
        }
      ]
    },
    {
      "cell_type": "code",
      "metadata": {
        "id": "0bX2E4MP2qxf"
      },
      "source": [
        ""
      ],
      "execution_count": null,
      "outputs": []
    }
  ]
}