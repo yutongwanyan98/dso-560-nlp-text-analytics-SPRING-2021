{
 "cells": [
  {
   "cell_type": "markdown",
   "metadata": {},
   "source": [
    "# Homework 5 (Due Friday, 11:59pm PST, May 7th)\n",
    "\n",
    "This homework is **optional, and worth 6 points**. These **six points will be added to your overall final homework average**. Any leftover points will be added to your midterm grade."
   ]
  },
  {
   "cell_type": "markdown",
   "metadata": {},
   "source": [
    "## Option 1: Build A Classification Model w/ Amazon\n",
    "\n",
    "Build a classification model using the **Amazon toy reviews dataset** that is able to predict on a hold-out set the sentiment of the reviews with at minimum 91% accuracy (do not round).\n",
    "\n",
    "You may incorporate as many samples as you wish (out of the original ~120,000) data points. However, **the class balance in your training and test set must be 50/50**.\n",
    "\n",
    "You will likely need to include some preprocessing techniques that we have learned about so far in this course.\n",
    "\n",
    "If you are unable to achieve 91% accuracy, then please show in this notebook at least **3 different models** that you have tried (ie. RNN, LSTM using `word2vec`, `GloVe`, `doc2vec`, etc.)\n",
    "\n",
    "**Make sure to cite your sources if you use other people's code or ideas.**"
   ]
  },
  {
   "cell_type": "markdown",
   "metadata": {},
   "source": [
    "## Option 2: Build A Multi-Class Classification Model w/ BBC News Dataset\n",
    "\n",
    "Perform the same classification exercise using the `bbc-text.csv` dataset. There are 5 distinct categories. You must achieve a baseline accuracy of at least 61% on a hold-out test set.\n"
   ]
  },
  {
   "cell_type": "markdown",
   "metadata": {},
   "source": [
    "### Random Seeds"
   ]
  },
  {
   "cell_type": "markdown",
   "metadata": {},
   "source": [
    "Make sure to set the random seeds in your notebook so I can run your results and get the same exact output:\n",
    "\n",
    "```python\n",
    "from numpy.random import seed\n",
    "seed(42)\n",
    "\n",
    "from tensorflow import set_random_seed\n",
    "set_random_seed(32)\n",
    "```"
   ]
  }
 ],
 "metadata": {
  "kernelspec": {
   "display_name": "Python 3",
   "language": "python",
   "name": "python3"
  },
  "language_info": {
   "codemirror_mode": {
    "name": "ipython",
    "version": 3
   },
   "file_extension": ".py",
   "mimetype": "text/x-python",
   "name": "python",
   "nbconvert_exporter": "python",
   "pygments_lexer": "ipython3",
   "version": "3.8.5"
  },
  "toc": {
   "base_numbering": 1,
   "nav_menu": {},
   "number_sections": true,
   "sideBar": true,
   "skip_h1_title": false,
   "title_cell": "Table of Contents",
   "title_sidebar": "Contents",
   "toc_cell": false,
   "toc_position": {},
   "toc_section_display": true,
   "toc_window_display": false
  }
 },
 "nbformat": 4,
 "nbformat_minor": 4
}
