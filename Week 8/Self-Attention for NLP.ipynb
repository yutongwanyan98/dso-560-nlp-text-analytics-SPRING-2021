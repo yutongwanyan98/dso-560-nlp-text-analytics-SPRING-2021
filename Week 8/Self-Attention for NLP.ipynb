{
 "cells": [
  {
   "cell_type": "markdown",
   "metadata": {},
   "source": [
    "# Attention and Transformers\n",
    "\n",
    "The original *Attention Is All You Need* paper is [available here](https://arxiv.org/pdf/1706.03762.pdf).\n",
    "\n",
    "The overall architecture of the **Transformer** model is defined here from the paper:\n",
    "![transformers](images/transformers.png)"
   ]
  },
  {
   "cell_type": "markdown",
   "metadata": {},
   "source": [
    "## Define Configurations"
   ]
  },
  {
   "cell_type": "code",
   "execution_count": 125,
   "metadata": {},
   "outputs": [],
   "source": [
    "VOCAB_SIZE = 20000"
   ]
  },
  {
   "cell_type": "code",
   "execution_count": 126,
   "metadata": {},
   "outputs": [],
   "source": [
    "from keras.layers import Input, Dense, LSTM, Flatten, concatenate, Activation, RepeatVector, Permute\n",
    "from keras.models import Model\n",
    "from keras.preprocessing.sequence import pad_sequences\n",
    "from keras.optimizers import Adam\n",
    "#from keras_self_attention import SeqSelfAttention\n",
    "import numpy as np \n",
    "import spacy\n",
    "nlp = spacy.load('en_core_web_sm')"
   ]
  },
  {
   "cell_type": "markdown",
   "metadata": {},
   "source": [
    "## Load in Amazon Reviews Dataset"
   ]
  },
  {
   "cell_type": "code",
   "execution_count": 127,
   "metadata": {},
   "outputs": [],
   "source": [
    "from random import randint\n",
    "from numpy import array, argmax, asarray, zeros\n",
    "from keras.models import Sequential\n",
    "from keras.layers import Dense\n",
    "from keras.layers import Embedding"
   ]
  },
  {
   "cell_type": "code",
   "execution_count": 128,
   "metadata": {},
   "outputs": [],
   "source": [
    "import numpy as np\n",
    "NUM_SAMPLES = 10000\n",
    "\n",
    "good_reviews = open(\"good_amazon_toy_reviews.txt\").readlines()\n",
    "bad_reviews = open(\"poor_amazon_toy_reviews.txt\").readlines()\n",
    "\n",
    "sampled_good_reviews = good_reviews[:NUM_SAMPLES]\n",
    "sampled_bad_reviews = bad_reviews[:NUM_SAMPLES]\n",
    "\n",
    "docs = sampled_good_reviews + sampled_bad_reviews\n",
    "labels = np.concatenate([np.ones(NUM_SAMPLES), np.zeros(NUM_SAMPLES)])"
   ]
  },
  {
   "cell_type": "markdown",
   "metadata": {},
   "source": [
    "## Remove Stopwords"
   ]
  },
  {
   "cell_type": "code",
   "execution_count": 129,
   "metadata": {},
   "outputs": [],
   "source": [
    "stopwords_removed_docs = list(\n",
    "    map(lambda doc: \" \".join([token.text for token in nlp(doc) if not token.is_stop]), docs))"
   ]
  },
  {
   "cell_type": "markdown",
   "metadata": {},
   "source": [
    "## Tokenize Text"
   ]
  },
  {
   "cell_type": "code",
   "execution_count": 130,
   "metadata": {},
   "outputs": [],
   "source": [
    "from keras.preprocessing.text import Tokenizer\n",
    "tokenizer = Tokenizer(num_words=5000, oov_token=\"UNKNOWN_TOKEN\")\n",
    "tokenizer.fit_on_texts(stopwords_removed_docs)"
   ]
  },
  {
   "cell_type": "markdown",
   "metadata": {},
   "source": [
    "## Integer Encode Documents"
   ]
  },
  {
   "cell_type": "code",
   "execution_count": 167,
   "metadata": {},
   "outputs": [],
   "source": [
    "from typing import List\n",
    "def get_max_token_length_per_doc(docs: List[List[str]])-> int:\n",
    "    return max(list(map(lambda x: len(x.split()), docs)))\n",
    "\n",
    "# get the max length in terms of token length\n",
    "max_length = get_max_token_length_per_doc(docs)\n",
    "\n",
    "\n",
    "def integer_encode_documents(docs, tokenizer):\n",
    "    return tokenizer.texts_to_sequences(docs)\n",
    "\n",
    "from keras.preprocessing.sequence import pad_sequences\n",
    "MAX_SEQUENCE_LENGTH = 300\n",
    "# integer encode the documents\n",
    "encoded_docs = integer_encode_documents(stopwords_removed_docs, tokenizer)\n",
    "# this is a list of lists, the numbers represent the index position of that word.\n",
    "# for instance, 33 means the 33rd word in the vocabulary\n",
    "padded_docs = pad_sequences(encoded_docs, maxlen=MAX_SEQUENCE_LENGTH, padding='post')"
   ]
  },
  {
   "cell_type": "markdown",
   "metadata": {},
   "source": [
    "## Load in GloVe Vectors"
   ]
  },
  {
   "cell_type": "code",
   "execution_count": 132,
   "metadata": {},
   "outputs": [
    {
     "name": "stdout",
     "output_type": "stream",
     "text": [
      "Loaded 400000 word vectors.\n"
     ]
    }
   ],
   "source": [
    "def load_glove_vectors():\n",
    "    embeddings_index = {}\n",
    "    with open('glove.6B.100d.txt') as f:\n",
    "        for line in f:\n",
    "            values = line.split()\n",
    "            word = values[0]\n",
    "            coefs = np.asarray(values[1:], dtype='float32')\n",
    "            embeddings_index[word] = coefs\n",
    "    print('Loaded %s word vectors.' % len(embeddings_index))\n",
    "    return embeddings_index\n",
    "\n",
    "\n",
    "embeddings_index = load_glove_vectors()"
   ]
  },
  {
   "cell_type": "markdown",
   "metadata": {},
   "source": [
    "## Load in Embeddings Matrix"
   ]
  },
  {
   "cell_type": "code",
   "execution_count": 133,
   "metadata": {},
   "outputs": [],
   "source": [
    "# create a weight matrix for words in training docs\n",
    "embedding_matrix = np.zeros((VOCAB_SIZE, 100))\n",
    "for word, i in tokenizer.word_index.items():\n",
    "    embedding_vector = embeddings_index.get(word)\n",
    "    if embedding_vector is not None: # check that it is an actual word that we have embeddings for\n",
    "        embedding_matrix[i] = embedding_vector"
   ]
  },
  {
   "cell_type": "code",
   "execution_count": 134,
   "metadata": {},
   "outputs": [
    {
     "name": "stdout",
     "output_type": "stream",
     "text": [
      "Model: \"sequential_14\"\n",
      "_________________________________________________________________\n",
      "Layer (type)                 Output Shape              Param #   \n",
      "=================================================================\n",
      "embedding_12 (Embedding)     (None, None, 100)         2000000   \n",
      "_________________________________________________________________\n",
      "bidirectional_8 (Bidirection (None, None, 64)          34048     \n",
      "_________________________________________________________________\n",
      "seq_self_attention_8 (SeqSel (None, None, 64)          4161      \n",
      "_________________________________________________________________\n",
      "dense_26 (Dense)             (None, None, 5)           325       \n",
      "=================================================================\n",
      "Total params: 2,038,534\n",
      "Trainable params: 2,038,534\n",
      "Non-trainable params: 0\n",
      "_________________________________________________________________\n"
     ]
    }
   ],
   "source": [
    "import keras\n",
    "from keras_self_attention import SeqSelfAttention\n",
    "\n",
    "\n",
    "model = keras.models.Sequential()\n",
    "model.add(keras.layers.Embedding(input_dim=VOCAB_SIZE,\n",
    "                                 output_dim=100,\n",
    "                                 mask_zero=True))\n",
    "model.add(keras.layers.Bidirectional(keras.layers.LSTM(units=32,\n",
    "                                                       return_sequences=True)))\n",
    "model.add(SeqSelfAttention(attention_activation='sigmoid'))\n",
    "model.add(keras.layers.Dense(units=5))\n",
    "model.compile(\n",
    "    optimizer='adam',\n",
    "    loss='categorical_crossentropy',\n",
    "    metrics=['categorical_accuracy'],\n",
    ")\n",
    "model.summary()"
   ]
  },
  {
   "cell_type": "code",
   "execution_count": 135,
   "metadata": {},
   "outputs": [],
   "source": [
    "DATA_POINTS = 10\n",
    "DIMENSIONS = 240\n",
    "SEQUENCE_LENGTH = 4"
   ]
  },
  {
   "cell_type": "markdown",
   "metadata": {},
   "source": [
    "## Define an LSTM Model"
   ]
  },
  {
   "cell_type": "code",
   "execution_count": 145,
   "metadata": {},
   "outputs": [],
   "source": [
    "from keras.layers.recurrent import SimpleRNN, LSTM\n",
    "from keras.layers import Flatten, Masking\n",
    "\n",
    "def make_lstm_classification_model(plot=False):\n",
    "    model = keras.models.Sequential()\n",
    "    model.add(Embedding(VOCAB_SIZE, 100, weights=[embedding_matrix], input_length=MAX_SEQUENCE_LENGTH, trainable=False))\n",
    "    model.add(Masking(mask_value=0.0)) # masking layer, masks any words that don't have an embedding as 0s.\n",
    "    model.add(LSTM(units=64, input_shape=(1, MAX_SEQUENCE_LENGTH)))\n",
    "    model.add(Dense(16))\n",
    "    model.add(Dense(1, activation='sigmoid'))\n",
    "    \n",
    "    # Compile the model\n",
    "    model.compile(\n",
    "    optimizer='adam', loss='binary_crossentropy', metrics=['accuracy'])\n",
    "    # summarize the model\n",
    "    model.summary()\n",
    "    \n",
    "    if plot:\n",
    "        plot_model(model, to_file='model.png', show_shapes=True)\n",
    "    return model"
   ]
  },
  {
   "cell_type": "markdown",
   "metadata": {},
   "source": [
    "## Inside One LSTM Cell\n",
    "![LSTM](images/lstm_architecture.jpg)"
   ]
  },
  {
   "cell_type": "code",
   "execution_count": 146,
   "metadata": {},
   "outputs": [
    {
     "name": "stdout",
     "output_type": "stream",
     "text": [
      "Model: \"sequential_17\"\n",
      "_________________________________________________________________\n",
      "Layer (type)                 Output Shape              Param #   \n",
      "=================================================================\n",
      "embedding_15 (Embedding)     (None, 300, 100)          2000000   \n",
      "_________________________________________________________________\n",
      "masking_6 (Masking)          (None, 300, 100)          0         \n",
      "_________________________________________________________________\n",
      "lstm_25 (LSTM)               (None, 64)                42240     \n",
      "_________________________________________________________________\n",
      "dense_30 (Dense)             (None, 16)                1040      \n",
      "_________________________________________________________________\n",
      "dense_31 (Dense)             (None, 1)                 17        \n",
      "=================================================================\n",
      "Total params: 2,043,297\n",
      "Trainable params: 43,297\n",
      "Non-trainable params: 2,000,000\n",
      "_________________________________________________________________\n"
     ]
    }
   ],
   "source": [
    "model = make_lstm_classification_model()"
   ]
  },
  {
   "cell_type": "markdown",
   "metadata": {},
   "source": [
    "## Split Into Train/Test"
   ]
  },
  {
   "cell_type": "code",
   "execution_count": 138,
   "metadata": {},
   "outputs": [],
   "source": [
    "from sklearn.model_selection import train_test_split\n",
    "X_train, X_test, y_train, y_test = train_test_split(padded_docs, labels, test_size=0.2)"
   ]
  },
  {
   "cell_type": "code",
   "execution_count": 147,
   "metadata": {},
   "outputs": [
    {
     "name": "stdout",
     "output_type": "stream",
     "text": [
      "Train on 18000 samples, validate on 2000 samples\n",
      "Epoch 1/10\n",
      "18000/18000 [==============================] - 96s 5ms/step - loss: 0.3159 - accuracy: 0.8662 - val_loss: 0.3343 - val_accuracy: 0.8630\n",
      "Epoch 2/10\n",
      "18000/18000 [==============================] - 108s 6ms/step - loss: 0.2313 - accuracy: 0.9097 - val_loss: 0.2924 - val_accuracy: 0.8870\n",
      "Epoch 3/10\n",
      "18000/18000 [==============================] - 106s 6ms/step - loss: 0.2010 - accuracy: 0.9199 - val_loss: 0.1760 - val_accuracy: 0.9280\n",
      "Epoch 4/10\n",
      "18000/18000 [==============================] - 107s 6ms/step - loss: 0.1815 - accuracy: 0.9304 - val_loss: 0.1846 - val_accuracy: 0.9250\n",
      "Epoch 5/10\n",
      "18000/18000 [==============================] - 118s 7ms/step - loss: 0.1632 - accuracy: 0.9368 - val_loss: 0.2473 - val_accuracy: 0.8975\n",
      "Epoch 6/10\n",
      "18000/18000 [==============================] - 116s 6ms/step - loss: 0.1455 - accuracy: 0.9454 - val_loss: 0.1795 - val_accuracy: 0.9290\n",
      "Epoch 7/10\n",
      "18000/18000 [==============================] - 113s 6ms/step - loss: 0.1290 - accuracy: 0.9519 - val_loss: 0.2070 - val_accuracy: 0.9160\n",
      "Epoch 8/10\n",
      "18000/18000 [==============================] - 111s 6ms/step - loss: 0.1091 - accuracy: 0.9597 - val_loss: 0.2335 - val_accuracy: 0.9080\n",
      "Epoch 9/10\n",
      "18000/18000 [==============================] - 118s 7ms/step - loss: 0.0997 - accuracy: 0.9648 - val_loss: 0.1260 - val_accuracy: 0.9460\n",
      "Epoch 10/10\n",
      "18000/18000 [==============================] - 109s 6ms/step - loss: 0.0842 - accuracy: 0.9700 - val_loss: 0.2841 - val_accuracy: 0.9010\n"
     ]
    }
   ],
   "source": [
    "# fit the model\n",
    "history = model.fit(padded_docs, labels, validation_split = 0.1, epochs=10, verbose=1)"
   ]
  },
  {
   "cell_type": "code",
   "execution_count": 152,
   "metadata": {},
   "outputs": [
    {
     "data": {
      "image/png": "[encoded data removed]",
      "text/plain": [
       "<Figure size 432x288 with 1 Axes>"
      ]
     },
     "metadata": {
      "needs_background": "light"
     },
     "output_type": "display_data"
    }
   ],
   "source": [
    "import matplotlib.pyplot as plt # From https://keras.io/visualization/\n",
    "\n",
    "\n",
    "def plot_performance(history):\n",
    "    # Plot training & validation accuracy values\n",
    "    plt.plot(history.history['accuracy'])\n",
    "    plt.plot(history.history['val_accuracy'])\n",
    "    plt.title('Model accuracy')\n",
    "    plt.ylabel('Accuracy')\n",
    "    plt.xlabel('Epoch')\n",
    "    plt.legend(['Train', 'Test'], loc='upper left')\n",
    "    plt.show()\n",
    "\n",
    "plot_performance(history)"
   ]
  },
  {
   "cell_type": "markdown",
   "metadata": {},
   "source": [
    "# Ways to Improve Performance"
   ]
  },
  {
   "cell_type": "markdown",
   "metadata": {},
   "source": [
    "* **feature engineer** the text by grouping collocated tokens, removing stopwords, etc.\n",
    "\n",
    "* **use K-Folds cross-validation** to \"use\" more of the dataset in the training/validation/testing process.\n",
    "\n",
    "* **train your own custom domain-specific embeddings** (instead of using generic pre-trained ones)\n",
    "\n",
    "* **tune hyperparameters** - neural network architecture, activation functions, etc. \n",
    "\n",
    "* **enrich the data** using augmented datasets as features"
   ]
  },
  {
   "cell_type": "markdown",
   "metadata": {},
   "source": [
    "## Self Attention Model"
   ]
  },
  {
   "cell_type": "code",
   "execution_count": 195,
   "metadata": {},
   "outputs": [],
   "source": [
    "def make_self_attention_model():\n",
    "    model = keras.models.Sequential()\n",
    "    model.add(keras.layers.Embedding(input_dim=VOCAB_SIZE,\n",
    "                                     output_dim=100,\n",
    "                                     mask_zero=True))\n",
    "    model.add(keras.layers.Bidirectional(keras.layers.LSTM(units=300,\n",
    "                                                           return_sequences=True)))\n",
    "    model.add(SeqSelfAttention(attention_activation='sigmoid'))\n",
    "    model.add(keras.layers.Dense(units=1))\n",
    "    model.compile(\n",
    "        optimizer='adam',\n",
    "        loss='binary_crossentropy',\n",
    "        metrics=['accuracy'],\n",
    "    )\n",
    "    model.summary()\n",
    "    return model"
   ]
  },
  {
   "cell_type": "markdown",
   "metadata": {},
   "source": [
    "### Notes:\n",
    "\n",
    "Each LSTM has a hidden state and memory. You can ask `keras` to return the vectors that represent these sequences by using:\n",
    "\n",
    "#### Difference Between `return_sequences` and `return_states`\n",
    "\n",
    "```python\n",
    "LSTM(HIDDEN_STATE_DIMENSIONS, return_sequences=True)\n",
    "```\n",
    "\n",
    "If you had a `SEQUENCE_LENGTH` of **20**, and a `HIDDEN_STATE_DIMENSIONS` of **64**, then you'll produce a matrix of shape `64 x 20` as your `return_sequence`.\n",
    "\n",
    "On the other hand, `return_states` will return both the memory cells (`c`) as well as the hidden state `h`:\n",
    "\n",
    "```\n",
    "lstm, state_h, state_c = LSTM(..., return_state=True)\n",
    "```\n",
    "\n",
    "Here, `lstm` will be your LSTM model, `state_h` is your hidden state, and `state_c` is your cell memory state. \n",
    "\n",
    "Example from [Keras Returning Hidden State in RNNs](http://digital-thinking.de/keras-returning-hidden-state-in-rnns/):\n",
    "```\n",
    "inputs1 = Input(shape=(5, 1))\n",
    "lstm1, state_h, state_c = LSTM(1, return_state=True, return_sequences=True)(inputs1)\n",
    "model = Model(inputs=inputs1, outputs=[lstm1, state_h, state_c])\n",
    "data = array([0.1, 0.2, 0.3, 0.4, 0.5]).reshape((1,5,1))\n",
    "print(model.predict(data))\n",
    "```\n",
    "The output of this is\n",
    "```\n",
    "[array([[[0.00734747],\n",
    "        [0.02000349],\n",
    "        [0.03651035],\n",
    "        [0.05576567],\n",
    "        [0.07689518]]], dtype=float32), array([[0.07689518]], dtype=float32), array([[0.15496857]], dtype=float32)]\n",
    "```"
   ]
  },
  {
   "attachments": {},
   "cell_type": "markdown",
   "metadata": {},
   "source": [
    "## Model High-Level Architecture\n",
    "![architecture](images/lstm_arch.png)"
   ]
  },
  {
   "cell_type": "code",
   "execution_count": 197,
   "metadata": {
    "scrolled": true
   },
   "outputs": [
    {
     "name": "stdout",
     "output_type": "stream",
     "text": [
      "Model: \"sequential_23\"\n",
      "_________________________________________________________________\n",
      "Layer (type)                 Output Shape              Param #   \n",
      "=================================================================\n",
      "embedding_21 (Embedding)     (None, None, 100)         2000000   \n",
      "_________________________________________________________________\n",
      "bidirectional_15 (Bidirectio (None, None, 600)         962400    \n",
      "_________________________________________________________________\n",
      "seq_self_attention_15 (SeqSe (None, None, 600)         38465     \n",
      "_________________________________________________________________\n",
      "dense_37 (Dense)             (None, None, 1)           601       \n",
      "=================================================================\n",
      "Total params: 3,001,466\n",
      "Trainable params: 3,001,466\n",
      "Non-trainable params: 0\n",
      "_________________________________________________________________\n"
     ]
    }
   ],
   "source": [
    "attention_model = make_self_attention_model()"
   ]
  },
  {
   "cell_type": "code",
   "execution_count": 198,
   "metadata": {},
   "outputs": [
    {
     "name": "stdout",
     "output_type": "stream",
     "text": [
      "Train on 18000 samples, validate on 2000 samples\n",
      "Epoch 1/5\n",
      "18000/18000 [==============================] - 106s 6ms/step - loss: 0.0362 - accuracy: 0.9875 - val_loss: 0.2381 - val_accuracy: 0.9335\n",
      "Epoch 2/5\n",
      "18000/18000 [==============================] - 116s 6ms/step - loss: 0.0347 - accuracy: 0.9876 - val_loss: 0.1174 - val_accuracy: 0.9625\n",
      "Epoch 3/5\n",
      "18000/18000 [==============================] - 113s 6ms/step - loss: 0.0308 - accuracy: 0.9892 - val_loss: 0.1869 - val_accuracy: 0.9380\n",
      "Epoch 4/5\n",
      "18000/18000 [==============================] - 109s 6ms/step - loss: 0.0338 - accuracy: 0.9879 - val_loss: 0.1762 - val_accuracy: 0.9470\n",
      "Epoch 5/5\n",
      "18000/18000 [==============================] - 116s 6ms/step - loss: 0.0337 - accuracy: 0.9878 - val_loss: 0.1657 - val_accuracy: 0.9455\n"
     ]
    }
   ],
   "source": [
    "history = model.fit(padded_docs, labels,validation_split = 0.1, epochs=5, verbose=1)"
   ]
  },
  {
   "cell_type": "code",
   "execution_count": 199,
   "metadata": {},
   "outputs": [
    {
     "data": {
      "image/png": "[encoded data removed]",
      "text/plain": [
       "<Figure size 432x288 with 1 Axes>"
      ]
     },
     "metadata": {
      "needs_background": "light"
     },
     "output_type": "display_data"
    }
   ],
   "source": [
    "plot_performance(history)"
   ]
  },
  {
   "cell_type": "code",
   "execution_count": 208,
   "metadata": {},
   "outputs": [
    {
     "data": {
      "text/plain": [
       "[<keras.layers.embeddings.Embedding at 0x152170970>,\n",
       " <keras.layers.core.Masking at 0x1593c4580>,\n",
       " <keras.layers.recurrent.LSTM at 0x1592c8040>,\n",
       " <keras.layers.core.Dense at 0x1594fb760>,\n",
       " <keras.layers.core.Dense at 0x159592460>]"
      ]
     },
     "execution_count": 208,
     "metadata": {},
     "output_type": "execute_result"
    }
   ],
   "source": [
    "model.layers"
   ]
  },
  {
   "cell_type": "code",
   "execution_count": 210,
   "metadata": {},
   "outputs": [
    {
     "name": "stdout",
     "output_type": "stream",
     "text": [
      "Model: \"sequential_24\"\n",
      "_________________________________________________________________\n",
      "Layer (type)                 Output Shape              Param #   \n",
      "=================================================================\n",
      "embedding_22 (Embedding)     (None, None, 100)         2000000   \n",
      "_________________________________________________________________\n",
      "bidirectional_16 (Bidirectio (None, None, 600)         962400    \n",
      "_________________________________________________________________\n",
      "seq_self_attention_16 (SeqSe (None, None, 600)         38465     \n",
      "_________________________________________________________________\n",
      "dense_38 (Dense)             (None, None, 1)           601       \n",
      "=================================================================\n",
      "Total params: 3,001,466\n",
      "Trainable params: 3,001,466\n",
      "Non-trainable params: 0\n",
      "_________________________________________________________________\n"
     ]
    }
   ],
   "source": [
    "model2 = make_self_attention_model()"
   ]
  },
  {
   "cell_type": "code",
   "execution_count": 223,
   "metadata": {},
   "outputs": [
    {
     "name": "stdout",
     "output_type": "stream",
     "text": [
      "The sequence length is 300.\n",
      "The input is of shape (16000, 300).\n",
      "The vocabulary size is 20000.\n",
      "The word embedding dimensions size is 100.\n",
      "The hidden state dimension size is 300.\n",
      "(20000, 100)\n",
      "(100, 1200)\n",
      "(300, 1200)\n",
      "(1200,)\n",
      "(100, 1200)\n",
      "(300, 1200)\n",
      "(1200,)\n",
      "(600, 32)\n",
      "(600, 32)\n",
      "(32,)\n",
      "(32, 1)\n",
      "(1,)\n",
      "(600, 1)\n",
      "(1,)\n"
     ]
    }
   ],
   "source": [
    "weights = model.get_weights()\n",
    "print(f\"The sequence length is {MAX_SEQUENCE_LENGTH}.\")\n",
    "print(f\"The input is of shape {X_train.shape}.\")\n",
    "print(f\"The vocabulary size is {VOCAB_SIZE}.\")\n",
    "print(f\"The word embedding dimensions size is 100.\")\n",
    "print(f\"The hidden state dimension size is {MAX_SEQUENCE_LENGTH}.\")\n",
    "\n",
    "weight_purposes = [\"word_embeddings\", \"data_gate_weights\", \"hidden_state_gate_weights\",\n",
    "                  \"attention \"]\n",
    "\n",
    "for weights in model2.get_weights():\n",
    "    print(np.array(weights).shape)"
   ]
  },
  {
   "cell_type": "markdown",
   "metadata": {},
   "source": [
    "# BERT (Bi-Directional Encoder Representations of Transformers)"
   ]
  },
  {
   "cell_type": "markdown",
   "metadata": {},
   "source": [
    "## High Level Architecture"
   ]
  },
  {
   "cell_type": "markdown",
   "metadata": {},
   "source": [
    "![bert](images/bert_architecture.png)"
   ]
  },
  {
   "cell_type": "markdown",
   "metadata": {},
   "source": [
    "![comparison](images/bert.webp)"
   ]
  },
  {
   "cell_type": "code",
   "execution_count": null,
   "metadata": {},
   "outputs": [],
   "source": []
  }
 ],
 "metadata": {
  "kernelspec": {
   "display_name": "Python 3",
   "language": "python",
   "name": "python3"
  },
  "language_info": {
   "codemirror_mode": {
    "name": "ipython",
    "version": 3
   },
   "file_extension": ".py",
   "mimetype": "text/x-python",
   "name": "python",
   "nbconvert_exporter": "python",
   "pygments_lexer": "ipython3",
   "version": "3.8.2"
  },
  "toc": {
   "base_numbering": 1,
   "nav_menu": {},
   "number_sections": true,
   "sideBar": true,
   "skip_h1_title": false,
   "title_cell": "Table of Contents",
   "title_sidebar": "Contents",
   "toc_cell": false,
   "toc_position": {},
   "toc_section_display": true,
   "toc_window_display": false
  }
 },
 "nbformat": 4,
 "nbformat_minor": 4
}
