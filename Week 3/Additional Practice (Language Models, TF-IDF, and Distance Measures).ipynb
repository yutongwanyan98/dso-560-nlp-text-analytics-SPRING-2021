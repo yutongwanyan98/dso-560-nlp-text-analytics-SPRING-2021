{
 "cells": [
  {
   "cell_type": "markdown",
   "metadata": {},
   "source": [
    "# Additional Practice\n",
    "\n",
    "You should complete this notebook after watching Lecture 3. You can use page 5-6 (begining with the top of page 5) of [N-gram Language Models (Jurafsky and Martin)](https://github.com/ychennay/dso-560-nlp-and-text-analytics/blob/master/week3/N-Gram%20Language%20Models%20(Jurafsky%20and%20Martin).pdf) for additional help completing the following exercises. Show your work for all exercises to receive credit."
   ]
  },
  {
   "cell_type": "markdown",
   "metadata": {},
   "source": [
    "## Transition Matrix for Bigrams"
   ]
  },
  {
   "cell_type": "code",
   "execution_count": 3,
   "metadata": {},
   "outputs": [],
   "source": [
    "corpus = [\"He eats lunch at home\",\n",
    "         \"She wants to eat dinner at home\",\n",
    "         \"He eats lunch at work\",\n",
    "         \"She wants to go home\",\n",
    "         \"He wants lunch\"]"
   ]
  },
  {
   "cell_type": "markdown",
   "metadata": {},
   "source": [
    "## Calculate the Transition Frequency Matrix\n",
    "You may lemmatize the original documents (ie., `eats` $\\rightarrow$ `eat`, `wants` $\\rightarrow$ `want`) and ignore case.\n",
    "\n",
    "**Hint:** a transition frequency matrix is of shape $V$ x $V$, where $V$ is the number of unique words in the vocabulary of the corpus."
   ]
  },
  {
   "cell_type": "code",
   "execution_count": null,
   "metadata": {},
   "outputs": [],
   "source": [
    "# transition frequency matrix\n",
    "\n",
    "\n",
    "\n"
   ]
  },
  {
   "cell_type": "markdown",
   "metadata": {},
   "source": [
    "## Convert the Transition Frequency Matrix into a Transition Matrix\n",
    "\n",
    "**Hint:** the rows in the transition matrix should sum up to 1."
   ]
  },
  {
   "cell_type": "code",
   "execution_count": null,
   "metadata": {},
   "outputs": [],
   "source": [
    "# transition matrix\n",
    "\n",
    "\n",
    "\n"
   ]
  },
  {
   "cell_type": "markdown",
   "metadata": {},
   "source": [
    "## Calculate the Probability of the Following Documents\n",
    "\n",
    "Assume a bi-gram language model. \n",
    "\n",
    "Hint: a valid probability is between 0 and 1. \n",
    "\n",
    "### `He wants to go home`\n",
    "**Hint**: Calculate first the probability of `He` $\\rightarrow$ `wants`.\n"
   ]
  },
  {
   "cell_type": "code",
   "execution_count": null,
   "metadata": {},
   "outputs": [],
   "source": [
    "# probability of He wants to go home\n",
    "\n",
    "\n",
    "\n"
   ]
  },
  {
   "cell_type": "markdown",
   "metadata": {},
   "source": [
    "### `At to go work`\n",
    "\n",
    "**Hint**: Calculate first the probability of `At` $\\rightarrow$ `to`."
   ]
  },
  {
   "cell_type": "code",
   "execution_count": null,
   "metadata": {},
   "outputs": [],
   "source": [
    "# probability of At to go work\n",
    "\n",
    "\n",
    "\n"
   ]
  },
  {
   "cell_type": "markdown",
   "metadata": {},
   "source": [
    "## Cosine Similarity and Euclidean Distance"
   ]
  },
  {
   "cell_type": "markdown",
   "metadata": {},
   "source": [
    "Calculate the **cosine similarity** and **Euclidean distance** of the following pairs of sentences. Do not use any 3rd party libraries (besides Numpy) to perform your calculation and show your work."
   ]
  },
  {
   "cell_type": "markdown",
   "metadata": {},
   "source": [
    "A. *He wants candy.*\n",
    "\n",
    "B. *He wants soup.*"
   ]
  },
  {
   "cell_type": "code",
   "execution_count": 1,
   "metadata": {},
   "outputs": [],
   "source": [
    "# cosine similarity\n",
    "\n"
   ]
  },
  {
   "cell_type": "code",
   "execution_count": null,
   "metadata": {},
   "outputs": [],
   "source": [
    "# Euclidean distance\n",
    "\n",
    "\n"
   ]
  },
  {
   "cell_type": "markdown",
   "metadata": {},
   "source": [
    "A. *He wants candy and sweets, but she wants soup.*\n",
    "\n",
    "B. *He wants soup.*"
   ]
  },
  {
   "cell_type": "code",
   "execution_count": null,
   "metadata": {},
   "outputs": [],
   "source": [
    "# cosine similarity\n",
    "\n"
   ]
  },
  {
   "cell_type": "code",
   "execution_count": null,
   "metadata": {},
   "outputs": [],
   "source": [
    "# Euclidean distance\n",
    "\n",
    "\n"
   ]
  },
  {
   "cell_type": "markdown",
   "metadata": {},
   "source": [
    "### Explain why cosine similarity is usually preferred over Euclidean distance when working within natural language processing projects.\n",
    "\n",
    "Please use your own words and provide a concrete example."
   ]
  },
  {
   "cell_type": "code",
   "execution_count": null,
   "metadata": {},
   "outputs": [],
   "source": [
    "# your answer\n",
    "\n",
    "\n"
   ]
  },
  {
   "cell_type": "markdown",
   "metadata": {},
   "source": [
    "## Term Frequency - Inverse Document Frequency"
   ]
  },
  {
   "cell_type": "markdown",
   "metadata": {},
   "source": [
    "Calculate the TF-IDF vectors for the three documents below.\n",
    "\n",
    "You may use the following equations for term frequency:\n",
    "\n",
    "$$\n",
    "n(t,d)\n",
    "$$\n",
    "Where $n(t,d)$ is the number of times the term $t$ appears in document $d$.\n",
    "\n",
    "For inverse document frequency, you may use the following equation:\n",
    "\n",
    "$$\n",
    "\\frac{N}{1 + n(t)}\n",
    "$$\n",
    "Where $N$ is the total number of documents and $n(t)$ is the number of documents the term $t$ appears in."
   ]
  },
  {
   "cell_type": "markdown",
   "metadata": {},
   "source": [
    "A. `blue jeans ripped`\n",
    "\n",
    "B. `blue navy shoes navy`\n",
    "\n",
    "C. `gym shoes`"
   ]
  },
  {
   "cell_type": "code",
   "execution_count": null,
   "metadata": {},
   "outputs": [],
   "source": [
    "# your answer"
   ]
  }
 ],
 "metadata": {
  "kernelspec": {
   "display_name": "Python 3",
   "language": "python",
   "name": "python3"
  },
  "language_info": {
   "codemirror_mode": {
    "name": "ipython",
    "version": 3
   },
   "file_extension": ".py",
   "mimetype": "text/x-python",
   "name": "python",
   "nbconvert_exporter": "python",
   "pygments_lexer": "ipython3",
   "version": "3.8.5"
  },
  "toc": {
   "base_numbering": 1,
   "nav_menu": {},
   "number_sections": true,
   "sideBar": true,
   "skip_h1_title": false,
   "title_cell": "Table of Contents",
   "title_sidebar": "Contents",
   "toc_cell": false,
   "toc_position": {},
   "toc_section_display": true,
   "toc_window_display": false
  }
 },
 "nbformat": 4,
 "nbformat_minor": 2
}
