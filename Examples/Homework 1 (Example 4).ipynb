{
 "cells": [
  {
   "cell_type": "markdown",
   "metadata": {},
   "source": [
    "# Homework 1 (Due Tuesday March 30th, 2020 at 6:29pm PST)\n",
    "\n",
    "Every day late is -10%.\n",
    "\n",
    "You are a business analyst working for a major US toy retailer:\n",
    "\n",
    "* A manager in the marketing department wants to find out the most frequently used words in positive reviews (five stars) and negative reviews (one star) in order to determine what occasion the toys are purchased for (Christmas, birthdays, and anniversaries.). He would like your opinion on **which gift occasions (Christmas, birthdays, or anniversaries) tend to have the most positive reviews** to focus marketing budget on those days.\n",
    "\n",
    "* One of your product managers suspects that **toys purchased for male recipients (husbands, sons, etc.)** tend to be much more likely to be reviewed poorly. She would like to see some data points confirming or rejecting her hypothesis. \n",
    "\n",
    "* Use **regular expressions to parse out all references to recipients and gift occassions**, and account for the possibility that people may spell words \"son\" / \"children\" / \"Christmas\" as both singular and plural, upper or lower-cased.\n",
    "\n",
    "* Explain what some of pitfalls/limitations are of using only a word count analysis to make these inferences. What additional research/steps would you need to do to verify your conclusions?\n",
    "\n",
    "Perform the same word count analysis using the reviews received from Amazon to answer your marketing manager's question. They are stored in two files, (`poor_amazon_toy_reviews.txt`) and (`good-amazon-toy-reviews.txt`). **Provide a few sentences with your findings and business recommendations.** Make any assumptions you'd like to- this is a fictitious company after all. I just want you to get into the habit of \"finishing\" your analysis: to avoid delivering technical numbers to a non-technical manager.\n",
    "\n",
    "**Submit everything as a new notebook and Slack direct message to me (Yu Chen) the HW as an attachment.**\n",
    "\n",
    "`NOTE`: Name the notebook `lastname_firstname_HW1.ipynb`."
   ]
  },
  {
   "cell_type": "markdown",
   "metadata": {},
   "source": [
    "## Task 1"
   ]
  },
  {
   "cell_type": "code",
   "execution_count": 26,
   "metadata": {},
   "outputs": [],
   "source": [
    "import pandas as pd"
   ]
  },
  {
   "cell_type": "code",
   "execution_count": 27,
   "metadata": {},
   "outputs": [
    {
     "name": "stdout",
     "output_type": "stream",
     "text": [
      "<_io.TextIOWrapper name='good_amazon_toy_reviews.txt' mode='r' encoding='UTF-8'>\n"
     ]
    }
   ],
   "source": [
    "text_file = open('good_amazon_toy_reviews.txt', mode = 'r', encoding = 'UTF-8')\n",
    "print(text_file)"
   ]
  },
  {
   "cell_type": "code",
   "execution_count": 28,
   "metadata": {},
   "outputs": [
    {
     "data": {
      "text/plain": [
       "'Excellent!!!\\n'"
      ]
     },
     "execution_count": 28,
     "metadata": {},
     "output_type": "execute_result"
    }
   ],
   "source": [
    "text_file.readline()"
   ]
  },
  {
   "cell_type": "code",
   "execution_count": 29,
   "metadata": {},
   "outputs": [],
   "source": [
    "good_reviews = text_file.readlines()"
   ]
  },
  {
   "cell_type": "code",
   "execution_count": 30,
   "metadata": {},
   "outputs": [
    {
     "data": {
      "text/plain": [
       "'\"Great quality wooden track (better than some others we have tried). Perfect match to the various vintages of Thomas track that we already have. There is enough track here to have fun and get creative incorporating your key pieces with track splits, loops and bends.\"\\n'"
      ]
     },
     "execution_count": 30,
     "metadata": {},
     "output_type": "execute_result"
    }
   ],
   "source": [
    "good_reviews[0]"
   ]
  },
  {
   "cell_type": "code",
   "execution_count": 31,
   "metadata": {},
   "outputs": [],
   "source": [
    "text_file2 = open('poor_amazon_toy_reviews.txt', mode = 'r', encoding = ' UTF-8')"
   ]
  },
  {
   "cell_type": "code",
   "execution_count": 32,
   "metadata": {},
   "outputs": [],
   "source": [
    "poor_reviews = text_file2.readlines()"
   ]
  },
  {
   "cell_type": "code",
   "execution_count": 33,
   "metadata": {
    "scrolled": false
   },
   "outputs": [
    {
     "data": {
      "text/plain": [
       "\"Showed up not how it's shown . Was someone's old toy. with paint on it.\\n\""
      ]
     },
     "execution_count": 33,
     "metadata": {},
     "output_type": "execute_result"
    }
   ],
   "source": [
    "poor_reviews[1]"
   ]
  },
  {
   "cell_type": "code",
   "execution_count": 34,
   "metadata": {},
   "outputs": [],
   "source": [
    "import re"
   ]
  },
  {
   "cell_type": "code",
   "execution_count": 35,
   "metadata": {},
   "outputs": [],
   "source": [
    "good = pd.DataFrame(good_reviews)\n",
    "good['Sentiment'] = 'good'"
   ]
  },
  {
   "cell_type": "code",
   "execution_count": 36,
   "metadata": {},
   "outputs": [],
   "source": [
    "poor = pd.DataFrame(poor_reviews)\n",
    "poor['Sentiment'] = 'poor'"
   ]
  },
  {
   "cell_type": "code",
   "execution_count": 37,
   "metadata": {},
   "outputs": [],
   "source": [
    "both = pd.concat([good, poor])"
   ]
  },
  {
   "cell_type": "code",
   "execution_count": 38,
   "metadata": {},
   "outputs": [],
   "source": [
    "both.columns = ['Review Text', 'Sentiment']\n",
    "both = both.reset_index().drop('index', axis = 1)"
   ]
  },
  {
   "cell_type": "code",
   "execution_count": 57,
   "metadata": {},
   "outputs": [],
   "source": [
    "both['Review Text'] = both['Review Text'].str.replace('\\n', '')\n",
    "both['Review Text'] = both['Review Text'].str.replace(\"\\\"\", '')"
   ]
  },
  {
   "cell_type": "code",
   "execution_count": 58,
   "metadata": {},
   "outputs": [
    {
     "data": {
      "text/html": [
       "<div>\n",
       "<style scoped>\n",
       "    .dataframe tbody tr th:only-of-type {\n",
       "        vertical-align: middle;\n",
       "    }\n",
       "\n",
       "    .dataframe tbody tr th {\n",
       "        vertical-align: top;\n",
       "    }\n",
       "\n",
       "    .dataframe thead th {\n",
       "        text-align: right;\n",
       "    }\n",
       "</style>\n",
       "<table border=\"1\" class=\"dataframe\">\n",
       "  <thead>\n",
       "    <tr style=\"text-align: right;\">\n",
       "      <th></th>\n",
       "      <th>Review Text</th>\n",
       "      <th>Sentiment</th>\n",
       "    </tr>\n",
       "  </thead>\n",
       "  <tbody>\n",
       "    <tr>\n",
       "      <th>0</th>\n",
       "      <td>Great quality wooden track (better than some o...</td>\n",
       "      <td>good</td>\n",
       "    </tr>\n",
       "    <tr>\n",
       "      <th>1</th>\n",
       "      <td>my daughter loved it and i liked the price and...</td>\n",
       "      <td>good</td>\n",
       "    </tr>\n",
       "    <tr>\n",
       "      <th>2</th>\n",
       "      <td>Great item. Pictures pop thru and add detail a...</td>\n",
       "      <td>good</td>\n",
       "    </tr>\n",
       "    <tr>\n",
       "      <th>3</th>\n",
       "      <td>I was pleased with the product.</td>\n",
       "      <td>good</td>\n",
       "    </tr>\n",
       "    <tr>\n",
       "      <th>4</th>\n",
       "      <td>Children like it</td>\n",
       "      <td>good</td>\n",
       "    </tr>\n",
       "    <tr>\n",
       "      <th>...</th>\n",
       "      <td>...</td>\n",
       "      <td>...</td>\n",
       "    </tr>\n",
       "    <tr>\n",
       "      <th>114911</th>\n",
       "      <td>It's a piece of junk...doesn't charge multiple...</td>\n",
       "      <td>poor</td>\n",
       "    </tr>\n",
       "    <tr>\n",
       "      <th>114912</th>\n",
       "      <td>Really small</td>\n",
       "      <td>poor</td>\n",
       "    </tr>\n",
       "    <tr>\n",
       "      <th>114913</th>\n",
       "      <td>It is contained in glass which is dangerous if...</td>\n",
       "      <td>poor</td>\n",
       "    </tr>\n",
       "    <tr>\n",
       "      <th>114914</th>\n",
       "      <td>Fake. Not original. Every time my 5 yr old kid...</td>\n",
       "      <td>poor</td>\n",
       "    </tr>\n",
       "    <tr>\n",
       "      <th>114915</th>\n",
       "      <td>Poor quality</td>\n",
       "      <td>poor</td>\n",
       "    </tr>\n",
       "  </tbody>\n",
       "</table>\n",
       "<p>114916 rows × 2 columns</p>\n",
       "</div>"
      ],
      "text/plain": [
       "                                              Review Text Sentiment\n",
       "0       Great quality wooden track (better than some o...      good\n",
       "1       my daughter loved it and i liked the price and...      good\n",
       "2       Great item. Pictures pop thru and add detail a...      good\n",
       "3                         I was pleased with the product.      good\n",
       "4                                        Children like it      good\n",
       "...                                                   ...       ...\n",
       "114911  It's a piece of junk...doesn't charge multiple...      poor\n",
       "114912                                       Really small      poor\n",
       "114913  It is contained in glass which is dangerous if...      poor\n",
       "114914  Fake. Not original. Every time my 5 yr old kid...      poor\n",
       "114915                                       Poor quality      poor\n",
       "\n",
       "[114916 rows x 2 columns]"
      ]
     },
     "execution_count": 58,
     "metadata": {},
     "output_type": "execute_result"
    }
   ],
   "source": [
    "both"
   ]
  },
  {
   "cell_type": "code",
   "execution_count": 41,
   "metadata": {},
   "outputs": [
    {
     "data": {
      "text/plain": [
       "1277"
      ]
     },
     "execution_count": 41,
     "metadata": {},
     "output_type": "execute_result"
    }
   ],
   "source": [
    "ChristmasCounter = 0\n",
    "for row in range(0, len(both)):\n",
    "    txt = both.iloc[row, 0]\n",
    "    if re.findall(r'christmas|Christmas|xmas|Xmas|X-mas|x-mas|christ-mas', txt) != []:\n",
    "        ChristmasCounter += 1\n",
    "ChristmasCounter"
   ]
  },
  {
   "cell_type": "code",
   "execution_count": 42,
   "metadata": {},
   "outputs": [
    {
     "data": {
      "text/plain": [
       "4412"
      ]
     },
     "execution_count": 42,
     "metadata": {},
     "output_type": "execute_result"
    }
   ],
   "source": [
    "BirthdayCounter = 0\n",
    "for row in range(0, len(both)):\n",
    "    txt = both.iloc[row, 0]\n",
    "    if re.findall(r'birthday|Birthday|bday|Bday|b-day|B-day', txt) != []:\n",
    "        BirthdayCounter += 1\n",
    "BirthdayCounter"
   ]
  },
  {
   "cell_type": "code",
   "execution_count": 43,
   "metadata": {},
   "outputs": [
    {
     "data": {
      "text/plain": [
       "53"
      ]
     },
     "execution_count": 43,
     "metadata": {},
     "output_type": "execute_result"
    }
   ],
   "source": [
    "AnniversaryCounter = 0\n",
    "for row in range(0, len(both)):\n",
    "    txt = both.iloc[row, 0]\n",
    "    if re.findall(r'anniversary|Anniversary', txt) != []:\n",
    "        AnniversaryCounter += 1\n",
    "AnniversaryCounter"
   ]
  },
  {
   "cell_type": "markdown",
   "metadata": {},
   "source": [
    "### The overall count:"
   ]
  },
  {
   "cell_type": "code",
   "execution_count": 44,
   "metadata": {
    "scrolled": true
   },
   "outputs": [
    {
     "name": "stdout",
     "output_type": "stream",
     "text": [
      "Christmas Count: 1277\n",
      "Birthay Count: 4412\n",
      "AnniversaryCount: 53\n"
     ]
    }
   ],
   "source": [
    "print(f'Christmas Count: {ChristmasCounter}\\nBirthay Count: {BirthdayCounter}\\nAnniversaryCount: {AnniversaryCounter}')"
   ]
  },
  {
   "cell_type": "code",
   "execution_count": 45,
   "metadata": {},
   "outputs": [
    {
     "data": {
      "text/plain": [
       "1207"
      ]
     },
     "execution_count": 45,
     "metadata": {},
     "output_type": "execute_result"
    }
   ],
   "source": [
    "GoodChristmasCounter = 0\n",
    "temp = both[both['Sentiment'] == 'good']\n",
    "for row in range(0, len(temp)):\n",
    "    txt = temp.iloc[row, 0]\n",
    "    if re.findall(r'christmas|Christmas|xmas|Xmas|X-mas|x-mas', txt) != []:\n",
    "        GoodChristmasCounter += 1\n",
    "GoodChristmasCounter"
   ]
  },
  {
   "cell_type": "code",
   "execution_count": 46,
   "metadata": {},
   "outputs": [
    {
     "data": {
      "text/plain": [
       "3979"
      ]
     },
     "execution_count": 46,
     "metadata": {},
     "output_type": "execute_result"
    }
   ],
   "source": [
    "GoodBirthdayCounter = 0\n",
    "temp = both[both['Sentiment'] == 'good']\n",
    "for row in range(0, len(temp)):\n",
    "    txt = temp.iloc[row, 0]\n",
    "    if re.findall(r'birthday|Birthday|bday|Bday|b-day|B-day', txt) != []:\n",
    "        GoodBirthdayCounter += 1\n",
    "GoodBirthdayCounter"
   ]
  },
  {
   "cell_type": "code",
   "execution_count": 47,
   "metadata": {},
   "outputs": [
    {
     "data": {
      "text/plain": [
       "50"
      ]
     },
     "execution_count": 47,
     "metadata": {},
     "output_type": "execute_result"
    }
   ],
   "source": [
    "GoodAnniversaryCounter = 0\n",
    "temp = both[both['Sentiment'] == 'good']\n",
    "for row in range(0, len(temp)):\n",
    "    txt = temp.iloc[row, 0]\n",
    "    if re.findall(r'anniversary|Anniversary', txt) != []:\n",
    "        GoodAnniversaryCounter += 1\n",
    "GoodAnniversaryCounter"
   ]
  },
  {
   "cell_type": "markdown",
   "metadata": {},
   "source": [
    "### Count for good reviews only"
   ]
  },
  {
   "cell_type": "code",
   "execution_count": 48,
   "metadata": {
    "scrolled": false
   },
   "outputs": [
    {
     "name": "stdout",
     "output_type": "stream",
     "text": [
      "Christmas Count: 1207\n",
      "Birthay Count: 3979\n",
      "AnniversaryCount: 50\n"
     ]
    }
   ],
   "source": [
    "print(f'Christmas Count: {GoodChristmasCounter}\\nBirthay Count: {GoodBirthdayCounter}\\nAnniversaryCount: {GoodAnniversaryCounter}')"
   ]
  },
  {
   "cell_type": "markdown",
   "metadata": {},
   "source": [
    "It seems that among the positive reviews for products, the toys are most frequently purchased for birthdays, then for christmas, and finally for anniversaries. "
   ]
  },
  {
   "cell_type": "markdown",
   "metadata": {},
   "source": [
    "### Another way to do this:"
   ]
  },
  {
   "cell_type": "code",
   "execution_count": 17,
   "metadata": {},
   "outputs": [],
   "source": [
    "both['Review Text'] = both['Review Text'].str.replace(r'(christmas|xmas|x-mas)', \n",
    "                                                      'CHRISTMAS', case = False)\n",
    "\n",
    "both['Review Text'] = both['Review Text'].str.replace(r'(birthday|bday|b-day)', \n",
    "                                                      'BIRTHDAY', case = False)\n",
    "\n",
    "both['Review Text'] = both['Review Text'].str.replace(r'(anniversary)', \n",
    "                                                      'ANNIVERSARY', case = False)"
   ]
  },
  {
   "cell_type": "code",
   "execution_count": 18,
   "metadata": {},
   "outputs": [],
   "source": [
    "good_count_df = both[both['Sentiment'] == 'good']"
   ]
  },
  {
   "cell_type": "code",
   "execution_count": 20,
   "metadata": {},
   "outputs": [],
   "source": [
    "xmas_count = good_count_df['Review Text'].str.findall(r'CHRISTMAS').apply(len).sum()\n",
    "bday_count = good_count_df['Review Text'].str.findall(r'BIRTHDAY').apply(len).sum()\n",
    "ann_count = good_count_df['Review Text'].str.findall(r'ANNIVERSARY').apply(len).sum()"
   ]
  },
  {
   "cell_type": "code",
   "execution_count": 21,
   "metadata": {
    "scrolled": true
   },
   "outputs": [
    {
     "name": "stdout",
     "output_type": "stream",
     "text": [
      "Christmas Count: 1299\n",
      "Birthay Count: 4215\n",
      "AnniversaryCount: 52\n"
     ]
    }
   ],
   "source": [
    "print(f'Christmas Count: {xmas_count}\\nBirthay Count: {bday_count}\\nAnniversaryCount: {ann_count}')"
   ]
  },
  {
   "cell_type": "markdown",
   "metadata": {},
   "source": [
    "Interesting to note that the numbers are a bit different for the different methods. "
   ]
  },
  {
   "cell_type": "markdown",
   "metadata": {},
   "source": [
    "Really, we'd want to know how many reviews mentioned each of these occasions, not how many times they were mentioned in total. If a review mentions Christmas 8 times, then a word count might give the illusion that a gift was bought for a Christmas occassion 7 more times than it actually was. "
   ]
  },
  {
   "cell_type": "code",
   "execution_count": 76,
   "metadata": {},
   "outputs": [
    {
     "data": {
      "text/plain": [
       "4"
      ]
     },
     "execution_count": 76,
     "metadata": {},
     "output_type": "execute_result"
    }
   ],
   "source": [
    "len(good_count_df['Review Text'].str.findall(r'CHRISTMAS').apply(len).value_counts()) -1"
   ]
  },
  {
   "cell_type": "markdown",
   "metadata": {},
   "source": [
    "The most times a given review mentions \"Christmas\" in one of its forms is 4 times. "
   ]
  },
  {
   "cell_type": "code",
   "execution_count": 75,
   "metadata": {},
   "outputs": [
    {
     "data": {
      "text/plain": [
       "1187"
      ]
     },
     "execution_count": 75,
     "metadata": {},
     "output_type": "execute_result"
    }
   ],
   "source": [
    "int(round(good_count_df['Review Text'].str.findall(r'CHRISTMAS').apply(len).value_counts()[1] + \\\n",
    "good_count_df['Review Text'].str.findall(r'CHRISTMAS').apply(len).value_counts()[2]/2 + \\\n",
    "good_count_df['Review Text'].str.findall(r'CHRISTMAS').apply(len).value_counts()[3]/3 + \\\n",
    "good_count_df['Review Text'].str.findall(r'CHRISTMAS').apply(len).value_counts()[4]/4, 0))"
   ]
  },
  {
   "cell_type": "markdown",
   "metadata": {},
   "source": [
    "This is the approximate actual count of the number of reviews that mentioned Christmas. We could repeat this process for the other occassions as well. "
   ]
  },
  {
   "cell_type": "markdown",
   "metadata": {},
   "source": [
    "### Findings"
   ]
  },
  {
   "cell_type": "markdown",
   "metadata": {},
   "source": [
    "Of the three gift occasions examined, birthdays were the most common occasion for the toys to be gifted on. Management can decide to act on this information in two ways: \n",
    "\n",
    "1. Double down on marketing for birthday occasions. The gifts sell well as birthday presents, so a promotional push is likely to further boost sales. \n",
    "\n",
    "2. Avoid marketing the toys as birthday gifts since they're already being purchased frequently for birthdays. Focus marketing on growing purchases for anniversary and christmas occasions. "
   ]
  },
  {
   "cell_type": "markdown",
   "metadata": {},
   "source": [
    "## Task 2"
   ]
  },
  {
   "cell_type": "markdown",
   "metadata": {},
   "source": [
    "One of your product managers suspects that **toys purchased for male recipients (husbands, sons, etc.)** tend to be much more likely to be reviewed poorly. She would like to see some data points confirming or rejecting her hypothesis. \n"
   ]
  },
  {
   "cell_type": "code",
   "execution_count": 80,
   "metadata": {},
   "outputs": [],
   "source": [
    "gender_df = both.copy()\n",
    "\n",
    "#replace all instances of male mentions with \"MALE\"\n",
    "gender_df['Review Text'] = gender_df['Review Text'].str.\\\n",
    "replace(r'sons?|grandsons?|boys?|males?|lads?|husbands?|hubby|gra(?:ndpop|ndpa|mpy|mps)', \n",
    "        'MALE', \n",
    "        case = False)\n",
    "\n",
    "#replace all instances of female mentions with \"FEMALE\"\n",
    "gender_df['Review Text'] = gender_df['Review Text'].str.\\\n",
    "replace(r'daughters?|granddaughters?|girls?|females?|girlies?|wifey?|woman|gra(?:ndmom|ndma|mmy|nny), \n",
    "        'FEMALE', \n",
    "        case = False)"
   ]
  },
  {
   "cell_type": "code",
   "execution_count": 81,
   "metadata": {},
   "outputs": [],
   "source": [
    "gender_goods = gender_df[gender_df['Sentiment'] == 'good']\n",
    "gender_bads = gender_df[gender_df['Sentiment'] == 'poor']"
   ]
  },
  {
   "cell_type": "code",
   "execution_count": 84,
   "metadata": {
    "scrolled": true
   },
   "outputs": [],
   "source": [
    "male_good_count = gender_goods['Review Text'].str.findall(r'MALE').apply(len).sum()\n",
    "male_bad_count = gender_bads['Review Text'].str.findall(r'MALE').apply(len).sum()\n",
    "female_good_count = gender_goods['Review Text'].str.findall(r'FEMALE').apply(len).sum()\n",
    "female_bad_count = gender_bads['Review Text'].str.findall(r'FEMALE').apply(len).sum()"
   ]
  },
  {
   "cell_type": "code",
   "execution_count": 85,
   "metadata": {},
   "outputs": [
    {
     "name": "stdout",
     "output_type": "stream",
     "text": [
      "32930 14110 2280 737\n"
     ]
    }
   ],
   "source": [
    "print(male_good_count, female_good_count, male_bad_count, female_bad_count)"
   ]
  },
  {
   "cell_type": "markdown",
   "metadata": {},
   "source": [
    "Let's answer the manager's question by examining what percentage of the total reviews that mention each gender are bad. "
   ]
  },
  {
   "cell_type": "code",
   "execution_count": 88,
   "metadata": {
    "scrolled": true
   },
   "outputs": [
    {
     "name": "stdout",
     "output_type": "stream",
     "text": [
      "Male Bad Review Percentage: 6.48\n",
      "\n",
      "Female Bad Review Percentage: 5.0\n"
     ]
    }
   ],
   "source": [
    "print(f'Male Bad Review Percentage: {round(100*(male_bad_count / (male_good_count + male_bad_count)),2)}\\n\\n\\\n",
    "Female Bad Review Percentage: {round(100*(female_bad_count / (female_good_count + female_bad_count)),0)}')"
   ]
  },
  {
   "cell_type": "markdown",
   "metadata": {},
   "source": [
    "### Findings"
   ]
  },
  {
   "cell_type": "markdown",
   "metadata": {},
   "source": [
    "Indeed, the manager's hypothesis may hold reason. From this initial analysis, it seems that toys purchased for males are more likely to be reviewed poorly (this happens about 6.5% of the time a toy is bought for a male) than when a gift is bought for a female (only 5% of the time). To know if this difference is statistically significant, we would need to perform a statistical hypothesis test (most likely a two proportion z test to determine if the difference in the proportion of bad reviews between the two gender groups is different enough to reject the null hypothesis, that they aren't different). We'll set our alpha at .95 for this test. We can use a one-side z test since we are looking to find if the male proportion of bad reviews is significantly larger than the female proportion. "
   ]
  },
  {
   "cell_type": "code",
   "execution_count": 93,
   "metadata": {},
   "outputs": [
    {
     "name": "stdout",
     "output_type": "stream",
     "text": [
      "0.000\n"
     ]
    }
   ],
   "source": [
    "from statsmodels.stats.proportion import proportions_ztest\n",
    "\n",
    "count = male_bad_count\n",
    "n_obs = male_bad_count + male_good_count\n",
    "value = female_bad_count / (female_bad_count + female_good_count)\n",
    "stat, pval = proportions_ztest(count, n_obs, value, alternative  = 'larger')\n",
    "print('{0:0.3f}'.format(pval))"
   ]
  },
  {
   "cell_type": "markdown",
   "metadata": {},
   "source": [
    "Since the p-value is less than 0.05, we can say with 95% confidence that the proportion of bad toy reviews when the toy is given to a male recipient is significantly larger than the proportion of bad reviews when the toy is given to a female recipient. Said another way, a toy is more likely to get a bad review when given to a male recipient than when given to a female recipient. \n",
    "\n",
    "Managment may want to explore why the toys being given to male recipients leads to a higher likelihood of a negative review. However, there are some limitations to this analysis, as noted below. "
   ]
  },
  {
   "cell_type": "markdown",
   "metadata": {},
   "source": [
    "## Limitations"
   ]
  },
  {
   "cell_type": "markdown",
   "metadata": {},
   "source": [
    "Using word counts to explore these inquiries is a limited approach for a number of reasons: \n",
    "\n",
    "1. Word counts only count words that are specified in the search. In reality, users could be using slang, commit typos, or use uncommon terms to refer to the entities we'd like to pull out of the text, but the search won't actually capture these instances outside of the basic words included in the search that refer to each entity.\n",
    "\n",
    "2. As noted in the first section, word counts count the number of times something is mentioned, not the number of reviews the word shows up in. This can lead to overcounting the number of individual users that are mentioning the entity. \n",
    "\n",
    "3. Word counts completely ignore context. Imagine a review, for example, that says, \"I was considering purchasing this gift for my son for Christmas. Instead, I purchased it for my daughter for her birthday. She loved it.\" In my search, this would count as a positive review for both male and female groups, and as a positive review for both the Birthday and Christmas occasion. Obviously, we know from context that it should only count as a female Birthday positive review, but it's very difficult to parse this out in a word count analysis. \n",
    "\n",
    "\n",
    "Further steps to ameliorate the effects of these limitations would likely include more involved analyses. One option is to add a likely age range for which a toy might be purchased to each toy. If the toy is for younger age ranges only, then it's almost certainly not being purchased for an anniversary occassion. Additionally, looking at review dates can help determine how likely it is that the toy was purchased as a Christmas present. Adding additional clues into the analysis as occassion predictors would help parse out reviews into gift occasion categories more accurately. \n",
    "\n",
    "One could also begin collecting data from customers in the reviews where the customer can indicate in the review what gift occasion they bought the toy for and the gender of the gift recipient. This would give analysts concrete data to work with in the near future to make solid and confident claims to answer the questions posed. "
   ]
  }
 ],
 "metadata": {
  "kernelspec": {
   "display_name": "Python 3",
   "language": "python",
   "name": "python3"
  },
  "language_info": {
   "codemirror_mode": {
    "name": "ipython",
    "version": 3
   },
   "file_extension": ".py",
   "mimetype": "text/x-python",
   "name": "python",
   "nbconvert_exporter": "python",
   "pygments_lexer": "ipython3",
   "version": "3.8.5"
  }
 },
 "nbformat": 4,
 "nbformat_minor": 4
}
