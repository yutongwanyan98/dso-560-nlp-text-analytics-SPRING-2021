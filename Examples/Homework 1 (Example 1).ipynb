{
 "cells": [
  {
   "cell_type": "markdown",
   "metadata": {},
   "source": [
    "<p style=\"text-align: center;\"> <span style=\"color:firebrick\"> <font size=\"5\"> <b> USC Marshall School of Business </b> </font> </p> </span> \n",
    "\n",
    "<p style=\"text-align: center;\"> <b> <font font size=\"5\"> DSO 560 - Homework 1 </p> </b></font>\n",
    "\n",
    "<p style=\"text-align: center;\"> <b> Spring 2021 </b> </p>"
   ]
  },
  {
   "cell_type": "code",
   "execution_count": 1,
   "metadata": {
    "ExecuteTime": {
     "end_time": "2021-03-30T14:05:44.556117Z",
     "start_time": "2021-03-30T14:05:42.998795Z"
    }
   },
   "outputs": [],
   "source": [
    "# import packages\n",
    "import pandas as pd\n",
    "import seaborn as sns\n",
    "import re"
   ]
  },
  {
   "cell_type": "markdown",
   "metadata": {},
   "source": [
    "# Question 1\n",
    "A manager in the marketing department wants to find out the most frequently used words in positive reviews (five stars) and negative reviews (one star) in order to determine what occasion the toys are purchased for (Christmas, birthdays, and anniversaries.). He would like your opinion on which gift occasions (Christmas, birthdays, or anniversaries) tend to have the most positive reviews to focus marketing budget on those days."
   ]
  },
  {
   "cell_type": "code",
   "execution_count": 2,
   "metadata": {
    "ExecuteTime": {
     "end_time": "2021-03-30T14:05:44.656768Z",
     "start_time": "2021-03-30T14:05:44.562302Z"
    }
   },
   "outputs": [
    {
     "name": "stdout",
     "output_type": "stream",
     "text": [
      "There are 102217 lines in the good comments.\n"
     ]
    }
   ],
   "source": [
    "# open the good comments and poor comments\n",
    "good_tf = open(\"good_amazon_toy_reviews.txt\", \"r\")\n",
    "good_lines = good_tf.readlines()\n",
    "\n",
    "poor_tf = open(\"poor_amazon_toy_reviews.txt\", \"r\")\n",
    "poor_lines = poor_tf.readlines()\n",
    "\n",
    "print(f\"There are {len(good_lines)} lines in the good comments.\")"
   ]
  },
  {
   "cell_type": "code",
   "execution_count": 3,
   "metadata": {
    "ExecuteTime": {
     "end_time": "2021-03-30T14:05:44.668460Z",
     "start_time": "2021-03-30T14:05:44.662145Z"
    }
   },
   "outputs": [],
   "source": [
    "# define a function to count the word\n",
    "def word_count(lines, word):\n",
    "    count = 0\n",
    "    for i in range(len(lines)):\n",
    "        count += len(re.findall(word, lines[i])) \n",
    "    return count"
   ]
  },
  {
   "cell_type": "code",
   "execution_count": 4,
   "metadata": {
    "ExecuteTime": {
     "end_time": "2021-03-30T14:05:46.265558Z",
     "start_time": "2021-03-30T14:05:44.675401Z"
    },
    "scrolled": true
   },
   "outputs": [
    {
     "name": "stdout",
     "output_type": "stream",
     "text": [
      "The word \"christmas\" has occurred in positive reviews for 1187 times.\n",
      "The word \"birthday\" has occurred in positive reviews for 3911 times.\n",
      "The word \"anniversary\" has occurred in positive reviews for 52 times.\n"
     ]
    }
   ],
   "source": [
    "# run the function to get the word count for each gift occasions\n",
    "C_count = word_count(good_lines, r'\\b(Christmas|christmas)\\b')\n",
    "B_count = word_count(good_lines, r'\\b(Birthday|birthday)\\b')\n",
    "A_count = word_count(good_lines, r'\\b(Anniversary|anniversary)\\b')\n",
    "\n",
    "print(f'The word \"christmas\" has occurred in positive reviews for {C_count} times.')\n",
    "print(f'The word \"birthday\" has occurred in positive reviews for {B_count} times.')\n",
    "print(f'The word \"anniversary\" has occurred in positive reviews for {A_count} times.')"
   ]
  },
  {
   "cell_type": "markdown",
   "metadata": {},
   "source": [
    "From the above analysis, we find that birthday occurred most in positive reviews. Thus, we should focus marketing budget on birthdays."
   ]
  },
  {
   "cell_type": "markdown",
   "metadata": {},
   "source": [
    "# Question 2\n",
    "There are malformed characters in the review text. For instance, notice the `&#34;` - these are examples of incorrectly decoded [HTML encodings](https://krypted.com/utilities/html-encoding-reference/).\n",
    "\n",
    "```\n",
    "\"amazing quality first of all, these cards are amazing proxies (but don't try to use em in &#34;official duels&#34; unless a judge is okay with it, if you have the real thing to show) and look amazing in your binder!\"\n",
    "```\n",
    "\n",
    "Please clean up all instances of these incorrect decodings."
   ]
  },
  {
   "cell_type": "code",
   "execution_count": 5,
   "metadata": {
    "ExecuteTime": {
     "end_time": "2021-03-30T14:05:47.243147Z",
     "start_time": "2021-03-30T14:05:46.273149Z"
    }
   },
   "outputs": [
    {
     "name": "stdout",
     "output_type": "stream",
     "text": [
      "The word \"&#\\d\\d;\" has occurred in positive reviews for 8358 times.\n",
      "The word \"<br />\" has occurred in positive reviews for 124233 times.\n",
      "The word \"&#\\d\\d;\" has occurred in negative reviews for 1619 times.\n",
      "The word \"<br />\" has occurred in negative reviews for 14849 times.\n"
     ]
    }
   ],
   "source": [
    "# count how many '&#\\d\\d;' and '<br />' are in the good reviews and poor reviews\n",
    "comma_count = word_count(good_lines, r'(&#\\d\\d;)')\n",
    "linebreak_count = word_count(good_lines, r'(<br />)|\\n')\n",
    "print(f'The word \"&#\\d\\d;\" has occurred in positive reviews for {comma_count} times.')\n",
    "print(f'The word \"<br />\" has occurred in positive reviews for {linebreak_count} times.')\n",
    "\n",
    "comma_count = word_count(poor_lines, r'(&#\\d\\d;)')\n",
    "linebreak_count = word_count(poor_lines, r'(<br />)|\\n')\n",
    "print(f'The word \"&#\\d\\d;\" has occurred in negative reviews for {comma_count} times.')\n",
    "print(f'The word \"<br />\" has occurred in negative reviews for {linebreak_count} times.')"
   ]
  },
  {
   "cell_type": "code",
   "execution_count": 6,
   "metadata": {
    "ExecuteTime": {
     "end_time": "2021-03-30T14:05:47.259076Z",
     "start_time": "2021-03-30T14:05:47.253207Z"
    }
   },
   "outputs": [],
   "source": [
    "# define a function to replace the words\n",
    "def word_replace(lines, word, re_word):\n",
    "    for i in range(len(lines)):\n",
    "        lines[i] = re.sub(word, re_word, lines[i])\n",
    "    return lines"
   ]
  },
  {
   "cell_type": "code",
   "execution_count": 7,
   "metadata": {
    "ExecuteTime": {
     "end_time": "2021-03-30T14:05:48.191287Z",
     "start_time": "2021-03-30T14:05:47.272793Z"
    }
   },
   "outputs": [],
   "source": [
    "# run the function to replace the malformed characters\n",
    "good_lines = word_replace(good_lines, r\"(&#\\d\\d;)\", \"'\")\n",
    "good_lines = word_replace(good_lines, r\"(<br />)|\\n\", \"\")\n",
    "poor_lines = word_replace(poor_lines, r\"(&#\\d\\d;)\", \"'\")\n",
    "poor_lines = word_replace(poor_lines, r\"(<br />)|\\n\", \"\")"
   ]
  },
  {
   "cell_type": "code",
   "execution_count": 8,
   "metadata": {
    "ExecuteTime": {
     "end_time": "2021-03-30T14:05:49.006310Z",
     "start_time": "2021-03-30T14:05:48.194840Z"
    }
   },
   "outputs": [
    {
     "name": "stdout",
     "output_type": "stream",
     "text": [
      "The word \"&#\\d\\d;\" has occurred in positive reviews for 0 times.\n",
      "The word \"<br />\" has occurred in positive reviews for 0 times.\n",
      "The word \"&#\\d\\d;\" has occurred in negative reviews for 0 times.\n",
      "The word \"<br />\" has occurred in negative reviews for 0 times.\n"
     ]
    }
   ],
   "source": [
    "# count how many '&#\\d\\d;' and '<br />' are in the good reviews and poor reviews after cleaning up\n",
    "comma_count = word_count(good_lines, r'(&#\\d\\d;)')\n",
    "linebreak_count = word_count(good_lines, r'(<br />)|\\n')\n",
    "print(f'The word \"&#\\d\\d;\" has occurred in positive reviews for {comma_count} times.')\n",
    "print(f'The word \"<br />\" has occurred in positive reviews for {linebreak_count} times.')\n",
    "\n",
    "comma_count = word_count(poor_lines, r'(&#\\d\\d;)')\n",
    "linebreak_count = word_count(poor_lines, r'(<br />)|\\n')\n",
    "print(f'The word \"&#\\d\\d;\" has occurred in negative reviews for {comma_count} times.')\n",
    "print(f'The word \"<br />\" has occurred in negative reviews for {linebreak_count} times.')"
   ]
  },
  {
   "cell_type": "markdown",
   "metadata": {},
   "source": [
    "# Question 3\n",
    "One of your product managers suspects that toys purchased for male recipients (husbands, sons, etc.) tend to be much more likely to be reviewed poorly. She would like to see some data points confirming or rejecting her hypothesis."
   ]
  },
  {
   "cell_type": "code",
   "execution_count": 9,
   "metadata": {
    "ExecuteTime": {
     "end_time": "2021-03-30T14:05:50.552288Z",
     "start_time": "2021-03-30T14:05:49.009935Z"
    }
   },
   "outputs": [
    {
     "name": "stdout",
     "output_type": "stream",
     "text": [
      "The probability of Male Recipients giving poor reviews: 0.08494505494505494\n",
      "The probability of Female Recipients giving poor reviews: 0.05843263061411549\n"
     ]
    }
   ],
   "source": [
    "# count how many recipients occurred in the good reviews and poor reviews\n",
    "male_count_poor = word_count(poor_lines, r'\\b(son|Son|sons|Sons|husband|Husband|Father|father)\\b')\n",
    "female_count_poor = word_count(poor_lines, r'\\b(daughter|Daughter|daughters|Daughters|wife|Wife|Mother|mother)\\b')\n",
    "male_count_good = word_count(good_lines, r'\\b(son|Son|sons|Sons|husband|Husband|Father|father)\\b')\n",
    "female_count_good = word_count(good_lines, r'\\b(daughter|Daughter|daughters|Daughters|wife|Wife|Mother|mother)\\b')\n",
    "prob_male = male_count_poor/(male_count_poor + male_count_good)\n",
    "prob_female = female_count_poor/(female_count_poor + female_count_good)\n",
    "print('The probability of Male Recipients giving poor reviews:', prob_male)\n",
    "print('The probability of Female Recipients giving poor reviews:', prob_female)"
   ]
  },
  {
   "cell_type": "markdown",
   "metadata": {},
   "source": [
    "By comparison, male recipients tend to give more poor reviews than female recipients by 3%. Thus, we think toys purchased for male recipients tend to be much more likely to be reviewed poorly."
   ]
  },
  {
   "cell_type": "markdown",
   "metadata": {},
   "source": [
    "# Question 4\n",
    "Use regular expressions to parse out all references to recipients and gift occassions, and account for the possibility that people may spell words \"son\" / \"children\" / \"Christmas\" as both singular and plural, upper or lower-cased."
   ]
  },
  {
   "cell_type": "code",
   "execution_count": 10,
   "metadata": {
    "ExecuteTime": {
     "end_time": "2021-03-30T14:05:50.565877Z",
     "start_time": "2021-03-30T14:05:50.558036Z"
    }
   },
   "outputs": [],
   "source": [
    "# define a function to parse out words to pandas tables\n",
    "def parse_word(lines, word):\n",
    "    word_dict = {}\n",
    "    for i in range(len(lines)):\n",
    "        words = re.findall(word, lines[i], re.I)\n",
    "        for j in words:\n",
    "            if j not in word_dict.keys():\n",
    "                word_dict[j] = 1\n",
    "            else:\n",
    "                word_dict[j] += 1\n",
    "    word_df = pd.DataFrame(list(word_dict.items()),columns = ['word','count']) \n",
    "    word_df = word_df.sort_values(by=[\"word\"]).reset_index(drop = True)\n",
    "    return word_df"
   ]
  },
  {
   "cell_type": "code",
   "execution_count": 11,
   "metadata": {
    "ExecuteTime": {
     "end_time": "2021-03-30T14:05:51.252561Z",
     "start_time": "2021-03-30T14:05:50.585240Z"
    },
    "scrolled": true
   },
   "outputs": [
    {
     "data": {
      "text/html": [
       "<div>\n",
       "<style scoped>\n",
       "    .dataframe tbody tr th:only-of-type {\n",
       "        vertical-align: middle;\n",
       "    }\n",
       "\n",
       "    .dataframe tbody tr th {\n",
       "        vertical-align: top;\n",
       "    }\n",
       "\n",
       "    .dataframe thead th {\n",
       "        text-align: right;\n",
       "    }\n",
       "</style>\n",
       "<table border=\"1\" class=\"dataframe\">\n",
       "  <thead>\n",
       "    <tr style=\"text-align: right;\">\n",
       "      <th></th>\n",
       "      <th>word</th>\n",
       "      <th>count</th>\n",
       "    </tr>\n",
       "  </thead>\n",
       "  <tbody>\n",
       "    <tr>\n",
       "      <th>0</th>\n",
       "      <td>SON</td>\n",
       "      <td>37</td>\n",
       "    </tr>\n",
       "    <tr>\n",
       "      <th>1</th>\n",
       "      <td>SONS</td>\n",
       "      <td>1</td>\n",
       "    </tr>\n",
       "    <tr>\n",
       "      <th>2</th>\n",
       "      <td>Son</td>\n",
       "      <td>249</td>\n",
       "    </tr>\n",
       "    <tr>\n",
       "      <th>3</th>\n",
       "      <td>Sons</td>\n",
       "      <td>3</td>\n",
       "    </tr>\n",
       "    <tr>\n",
       "      <th>4</th>\n",
       "      <td>son</td>\n",
       "      <td>6803</td>\n",
       "    </tr>\n",
       "    <tr>\n",
       "      <th>5</th>\n",
       "      <td>sons</td>\n",
       "      <td>377</td>\n",
       "    </tr>\n",
       "  </tbody>\n",
       "</table>\n",
       "</div>"
      ],
      "text/plain": [
       "   word  count\n",
       "0   SON     37\n",
       "1  SONS      1\n",
       "2   Son    249\n",
       "3  Sons      3\n",
       "4   son   6803\n",
       "5  sons    377"
      ]
     },
     "execution_count": 11,
     "metadata": {},
     "output_type": "execute_result"
    }
   ],
   "source": [
    "# pares out \"son\" in the good reviews\n",
    "parse_word(good_lines, r'\\b(son|sons)\\b')"
   ]
  },
  {
   "cell_type": "code",
   "execution_count": 12,
   "metadata": {
    "ExecuteTime": {
     "end_time": "2021-03-30T14:05:51.851904Z",
     "start_time": "2021-03-30T14:05:51.258015Z"
    }
   },
   "outputs": [
    {
     "data": {
      "text/html": [
       "<div>\n",
       "<style scoped>\n",
       "    .dataframe tbody tr th:only-of-type {\n",
       "        vertical-align: middle;\n",
       "    }\n",
       "\n",
       "    .dataframe tbody tr th {\n",
       "        vertical-align: top;\n",
       "    }\n",
       "\n",
       "    .dataframe thead th {\n",
       "        text-align: right;\n",
       "    }\n",
       "</style>\n",
       "<table border=\"1\" class=\"dataframe\">\n",
       "  <thead>\n",
       "    <tr style=\"text-align: right;\">\n",
       "      <th></th>\n",
       "      <th>word</th>\n",
       "      <th>count</th>\n",
       "    </tr>\n",
       "  </thead>\n",
       "  <tbody>\n",
       "    <tr>\n",
       "      <th>0</th>\n",
       "      <td>CHILD</td>\n",
       "      <td>14</td>\n",
       "    </tr>\n",
       "    <tr>\n",
       "      <th>1</th>\n",
       "      <td>CHILDREN</td>\n",
       "      <td>16</td>\n",
       "    </tr>\n",
       "    <tr>\n",
       "      <th>2</th>\n",
       "      <td>Child</td>\n",
       "      <td>48</td>\n",
       "    </tr>\n",
       "    <tr>\n",
       "      <th>3</th>\n",
       "      <td>Children</td>\n",
       "      <td>69</td>\n",
       "    </tr>\n",
       "    <tr>\n",
       "      <th>4</th>\n",
       "      <td>child</td>\n",
       "      <td>2158</td>\n",
       "    </tr>\n",
       "    <tr>\n",
       "      <th>5</th>\n",
       "      <td>children</td>\n",
       "      <td>1779</td>\n",
       "    </tr>\n",
       "  </tbody>\n",
       "</table>\n",
       "</div>"
      ],
      "text/plain": [
       "       word  count\n",
       "0     CHILD     14\n",
       "1  CHILDREN     16\n",
       "2     Child     48\n",
       "3  Children     69\n",
       "4     child   2158\n",
       "5  children   1779"
      ]
     },
     "execution_count": 12,
     "metadata": {},
     "output_type": "execute_result"
    }
   ],
   "source": [
    "# parse out \"children\" in the good reviews\n",
    "parse_word(good_lines, r'\\b(child|children)\\b')"
   ]
  },
  {
   "cell_type": "code",
   "execution_count": 13,
   "metadata": {
    "ExecuteTime": {
     "end_time": "2021-03-30T14:05:52.599363Z",
     "start_time": "2021-03-30T14:05:51.857889Z"
    }
   },
   "outputs": [
    {
     "data": {
      "text/html": [
       "<div>\n",
       "<style scoped>\n",
       "    .dataframe tbody tr th:only-of-type {\n",
       "        vertical-align: middle;\n",
       "    }\n",
       "\n",
       "    .dataframe tbody tr th {\n",
       "        vertical-align: top;\n",
       "    }\n",
       "\n",
       "    .dataframe thead th {\n",
       "        text-align: right;\n",
       "    }\n",
       "</style>\n",
       "<table border=\"1\" class=\"dataframe\">\n",
       "  <thead>\n",
       "    <tr style=\"text-align: right;\">\n",
       "      <th></th>\n",
       "      <th>word</th>\n",
       "      <th>count</th>\n",
       "    </tr>\n",
       "  </thead>\n",
       "  <tbody>\n",
       "    <tr>\n",
       "      <th>0</th>\n",
       "      <td>CHRISTMAS</td>\n",
       "      <td>11</td>\n",
       "    </tr>\n",
       "    <tr>\n",
       "      <th>1</th>\n",
       "      <td>Christmas</td>\n",
       "      <td>1103</td>\n",
       "    </tr>\n",
       "    <tr>\n",
       "      <th>2</th>\n",
       "      <td>X-Mas</td>\n",
       "      <td>3</td>\n",
       "    </tr>\n",
       "    <tr>\n",
       "      <th>3</th>\n",
       "      <td>X-mas</td>\n",
       "      <td>6</td>\n",
       "    </tr>\n",
       "    <tr>\n",
       "      <th>4</th>\n",
       "      <td>XMAS</td>\n",
       "      <td>2</td>\n",
       "    </tr>\n",
       "    <tr>\n",
       "      <th>5</th>\n",
       "      <td>Xmas</td>\n",
       "      <td>54</td>\n",
       "    </tr>\n",
       "    <tr>\n",
       "      <th>6</th>\n",
       "      <td>christmas</td>\n",
       "      <td>80</td>\n",
       "    </tr>\n",
       "    <tr>\n",
       "      <th>7</th>\n",
       "      <td>x-mas</td>\n",
       "      <td>3</td>\n",
       "    </tr>\n",
       "    <tr>\n",
       "      <th>8</th>\n",
       "      <td>xmas</td>\n",
       "      <td>21</td>\n",
       "    </tr>\n",
       "  </tbody>\n",
       "</table>\n",
       "</div>"
      ],
      "text/plain": [
       "        word  count\n",
       "0  CHRISTMAS     11\n",
       "1  Christmas   1103\n",
       "2      X-Mas      3\n",
       "3      X-mas      6\n",
       "4       XMAS      2\n",
       "5       Xmas     54\n",
       "6  christmas     80\n",
       "7      x-mas      3\n",
       "8       xmas     21"
      ]
     },
     "execution_count": 13,
     "metadata": {},
     "output_type": "execute_result"
    }
   ],
   "source": [
    "# parse out \"Christmas\" in the good reviews\n",
    "parse_word(good_lines, r'\\b(Christmas|X-?mas)\\b')"
   ]
  },
  {
   "cell_type": "code",
   "execution_count": 14,
   "metadata": {
    "ExecuteTime": {
     "end_time": "2021-03-30T14:05:54.032735Z",
     "start_time": "2021-03-30T14:05:52.602659Z"
    }
   },
   "outputs": [
    {
     "data": {
      "text/html": [
       "<div>\n",
       "<style scoped>\n",
       "    .dataframe tbody tr th:only-of-type {\n",
       "        vertical-align: middle;\n",
       "    }\n",
       "\n",
       "    .dataframe tbody tr th {\n",
       "        vertical-align: top;\n",
       "    }\n",
       "\n",
       "    .dataframe thead th {\n",
       "        text-align: right;\n",
       "    }\n",
       "</style>\n",
       "<table border=\"1\" class=\"dataframe\">\n",
       "  <thead>\n",
       "    <tr style=\"text-align: right;\">\n",
       "      <th></th>\n",
       "      <th>word</th>\n",
       "      <th>count</th>\n",
       "    </tr>\n",
       "  </thead>\n",
       "  <tbody>\n",
       "    <tr>\n",
       "      <th>0</th>\n",
       "      <td>Anniversary</td>\n",
       "      <td>7</td>\n",
       "    </tr>\n",
       "    <tr>\n",
       "      <th>1</th>\n",
       "      <td>BIRTHDAY</td>\n",
       "      <td>24</td>\n",
       "    </tr>\n",
       "    <tr>\n",
       "      <th>2</th>\n",
       "      <td>Birthday</td>\n",
       "      <td>207</td>\n",
       "    </tr>\n",
       "    <tr>\n",
       "      <th>3</th>\n",
       "      <td>DAUGHTER</td>\n",
       "      <td>15</td>\n",
       "    </tr>\n",
       "    <tr>\n",
       "      <th>4</th>\n",
       "      <td>Daughter</td>\n",
       "      <td>328</td>\n",
       "    </tr>\n",
       "    <tr>\n",
       "      <th>5</th>\n",
       "      <td>Daughters</td>\n",
       "      <td>13</td>\n",
       "    </tr>\n",
       "    <tr>\n",
       "      <th>6</th>\n",
       "      <td>Father</td>\n",
       "      <td>16</td>\n",
       "    </tr>\n",
       "    <tr>\n",
       "      <th>7</th>\n",
       "      <td>HUSBAND</td>\n",
       "      <td>3</td>\n",
       "    </tr>\n",
       "    <tr>\n",
       "      <th>8</th>\n",
       "      <td>Husband</td>\n",
       "      <td>30</td>\n",
       "    </tr>\n",
       "    <tr>\n",
       "      <th>9</th>\n",
       "      <td>Mother</td>\n",
       "      <td>12</td>\n",
       "    </tr>\n",
       "    <tr>\n",
       "      <th>10</th>\n",
       "      <td>WIFE</td>\n",
       "      <td>2</td>\n",
       "    </tr>\n",
       "    <tr>\n",
       "      <th>11</th>\n",
       "      <td>Wife</td>\n",
       "      <td>20</td>\n",
       "    </tr>\n",
       "    <tr>\n",
       "      <th>12</th>\n",
       "      <td>anniversaries</td>\n",
       "      <td>1</td>\n",
       "    </tr>\n",
       "    <tr>\n",
       "      <th>13</th>\n",
       "      <td>anniversary</td>\n",
       "      <td>44</td>\n",
       "    </tr>\n",
       "    <tr>\n",
       "      <th>14</th>\n",
       "      <td>birthday</td>\n",
       "      <td>3702</td>\n",
       "    </tr>\n",
       "    <tr>\n",
       "      <th>15</th>\n",
       "      <td>bithdays</td>\n",
       "      <td>1</td>\n",
       "    </tr>\n",
       "    <tr>\n",
       "      <th>16</th>\n",
       "      <td>daughter</td>\n",
       "      <td>6656</td>\n",
       "    </tr>\n",
       "    <tr>\n",
       "      <th>17</th>\n",
       "      <td>daughters</td>\n",
       "      <td>609</td>\n",
       "    </tr>\n",
       "    <tr>\n",
       "      <th>18</th>\n",
       "      <td>father</td>\n",
       "      <td>98</td>\n",
       "    </tr>\n",
       "    <tr>\n",
       "      <th>19</th>\n",
       "      <td>husband</td>\n",
       "      <td>751</td>\n",
       "    </tr>\n",
       "    <tr>\n",
       "      <th>20</th>\n",
       "      <td>mother</td>\n",
       "      <td>205</td>\n",
       "    </tr>\n",
       "    <tr>\n",
       "      <th>21</th>\n",
       "      <td>wife</td>\n",
       "      <td>375</td>\n",
       "    </tr>\n",
       "  </tbody>\n",
       "</table>\n",
       "</div>"
      ],
      "text/plain": [
       "             word  count\n",
       "0     Anniversary      7\n",
       "1        BIRTHDAY     24\n",
       "2        Birthday    207\n",
       "3        DAUGHTER     15\n",
       "4        Daughter    328\n",
       "5       Daughters     13\n",
       "6          Father     16\n",
       "7         HUSBAND      3\n",
       "8         Husband     30\n",
       "9          Mother     12\n",
       "10           WIFE      2\n",
       "11           Wife     20\n",
       "12  anniversaries      1\n",
       "13    anniversary     44\n",
       "14       birthday   3702\n",
       "15       bithdays      1\n",
       "16       daughter   6656\n",
       "17      daughters    609\n",
       "18         father     98\n",
       "19        husband    751\n",
       "20         mother    205\n",
       "21           wife    375"
      ]
     },
     "execution_count": 14,
     "metadata": {},
     "output_type": "execute_result"
    }
   ],
   "source": [
    "# parse out other words for references to recipients and gift occassions in the good reviews\n",
    "parse_word(good_lines, r'\\b(daughter|daughters|mother|father|husband|wife|birthday|bithdays|anniversary|anniversaries)\\b')"
   ]
  },
  {
   "cell_type": "markdown",
   "metadata": {},
   "source": [
    "# Question 6 (Optional)\n",
    "Create a simple text file that contains 2-3 lines at most describing yourself, your background, and interests. It must contain at least 1 emoji and 4-5 international characters (non-ASCII). Make sure to properly encode the file so that I can open it in UTF-8 to read. I must be able to read all characters properly. Attach it to your submission."
   ]
  },
  {
   "cell_type": "code",
   "execution_count": 4,
   "metadata": {
    "ExecuteTime": {
     "end_time": "2021-03-30T14:05:54.048366Z",
     "start_time": "2021-03-30T14:05:54.039814Z"
    }
   },
   "outputs": [],
   "source": [
    "import re\n",
    "# get the function of change utf-8\n",
    "def get_binary_for_char(char: str, encoding=\"utf-8\") -> str:\n",
    "    \"\"\"\n",
    "    Encodes a character using the desired encoding into its corresponding hex, then converts the\n",
    "    hex code into binary, formatted with tab spaces between byte marks.\n",
    "    \"\"\"\n",
    "\n",
    "    hex_code = char.encode(encoding).hex()\n",
    "    code_point = hex(ord(char))[2:].upper()\n",
    "\n",
    "    binary: str = f\"{int(hex_code, 16):08b}\"\n",
    "\n",
    "    byte_list: List[str] = re.findall('[01]{8}', binary)\n",
    "    formatted_binary: str = \"\\t\".join(byte_list)  # for variable length encoding, tab space between byte marks.\n",
    "    print(f\"{char} (U+{code_point.zfill(4)}, hex:{hex_code}) - {encoding}: {formatted_binary}\")\n",
    "    return formatted_binary\n",
    "\n",
    "def get_binary(text: str, encoding=\"utf-8\"):\n",
    "    return \" \".join([get_binary_for_char(char, encoding) for char in text])"
   ]
  },
  {
   "cell_type": "code",
   "execution_count": 6,
   "metadata": {
    "ExecuteTime": {
     "end_time": "2021-03-30T14:05:54.119120Z",
     "start_time": "2021-03-30T14:05:54.055933Z"
    }
   },
   "outputs": [
    {
     "name": "stdout",
     "output_type": "stream",
     "text": [
      "M (U+004D, hex:4d) - utf-8: 01001101\n",
      "y (U+0079, hex:79) - utf-8: 01111001\n",
      "  (U+0020, hex:20) - utf-8: 00100000\n",
      "n (U+006E, hex:6e) - utf-8: 01101110\n",
      "a (U+0061, hex:61) - utf-8: 01100001\n",
      "m (U+006D, hex:6d) - utf-8: 01101101\n",
      "e (U+0065, hex:65) - utf-8: 01100101\n",
      "  (U+0020, hex:20) - utf-8: 00100000\n",
      "i (U+0069, hex:69) - utf-8: 01101001\n",
      "s (U+0073, hex:73) - utf-8: 01110011\n",
      "  (U+0020, hex:20) - utf-8: 00100000\n",
      "_ (U+005F, hex:5f) - utf-8: 01011111\n",
      "_ (U+005F, hex:5f) - utf-8: 01011111\n",
      "_ (U+005F, hex:5f) - utf-8: 01011111\n",
      ". (U+002E, hex:2e) - utf-8: 00101110\n",
      "  (U+0020, hex:20) - utf-8: 00100000\n",
      "I (U+0049, hex:49) - utf-8: 01001001\n",
      "  (U+0020, hex:20) - utf-8: 00100000\n",
      "a (U+0061, hex:61) - utf-8: 01100001\n",
      "m (U+006D, hex:6d) - utf-8: 01101101\n",
      "  (U+0020, hex:20) - utf-8: 00100000\n",
      "c (U+0063, hex:63) - utf-8: 01100011\n",
      "u (U+0075, hex:75) - utf-8: 01110101\n",
      "r (U+0072, hex:72) - utf-8: 01110010\n",
      "r (U+0072, hex:72) - utf-8: 01110010\n",
      "e (U+0065, hex:65) - utf-8: 01100101\n",
      "n (U+006E, hex:6e) - utf-8: 01101110\n",
      "t (U+0074, hex:74) - utf-8: 01110100\n",
      "l (U+006C, hex:6c) - utf-8: 01101100\n",
      "y (U+0079, hex:79) - utf-8: 01111001\n",
      "  (U+0020, hex:20) - utf-8: 00100000\n",
      "a (U+0061, hex:61) - utf-8: 01100001\n",
      "  (U+0020, hex:20) - utf-8: 00100000\n",
      "U (U+0055, hex:55) - utf-8: 01010101\n",
      "S (U+0053, hex:53) - utf-8: 01010011\n",
      "C (U+0043, hex:43) - utf-8: 01000011\n",
      "  (U+0020, hex:20) - utf-8: 00100000\n",
      "s (U+0073, hex:73) - utf-8: 01110011\n",
      "t (U+0074, hex:74) - utf-8: 01110100\n",
      "u (U+0075, hex:75) - utf-8: 01110101\n",
      "d (U+0064, hex:64) - utf-8: 01100100\n",
      "e (U+0065, hex:65) - utf-8: 01100101\n",
      "n (U+006E, hex:6e) - utf-8: 01101110\n",
      "t (U+0074, hex:74) - utf-8: 01110100\n",
      ". (U+002E, hex:2e) - utf-8: 00101110\n",
      "  (U+0020, hex:20) - utf-8: 00100000\n",
      "I (U+0049, hex:49) - utf-8: 01001001\n",
      "  (U+0020, hex:20) - utf-8: 00100000\n",
      "l (U+006C, hex:6c) - utf-8: 01101100\n",
      "o (U+006F, hex:6f) - utf-8: 01101111\n",
      "v (U+0076, hex:76) - utf-8: 01110110\n",
      "e (U+0065, hex:65) - utf-8: 01100101\n",
      "  (U+0020, hex:20) - utf-8: 00100000\n",
      "r (U+0072, hex:72) - utf-8: 01110010\n",
      "e (U+0065, hex:65) - utf-8: 01100101\n",
      "a (U+0061, hex:61) - utf-8: 01100001\n",
      "d (U+0064, hex:64) - utf-8: 01100100\n",
      "i (U+0069, hex:69) - utf-8: 01101001\n",
      "n (U+006E, hex:6e) - utf-8: 01101110\n",
      "g (U+0067, hex:67) - utf-8: 01100111\n",
      "  (U+0020, hex:20) - utf-8: 00100000\n",
      "📚 (U+1F4DA, hex:f09f939a) - utf-8: 11110000\t10011111\t10010011\t10011010\n",
      ". (U+002E, hex:2e) - utf-8: 00101110\n"
     ]
    },
    {
     "data": {
      "text/plain": [
       "'01001101 01111001 00100000 01101110 01100001 01101101 01100101 00100000 01101001 01110011 00100000 01011111 01011111 01011111 00101110 00100000 01001001 00100000 01100001 01101101 00100000 01100011 01110101 01110010 01110010 01100101 01101110 01110100 01101100 01111001 00100000 01100001 00100000 01010101 01010011 01000011 00100000 01110011 01110100 01110101 01100100 01100101 01101110 01110100 00101110 00100000 01001001 00100000 01101100 01101111 01110110 01100101 00100000 01110010 01100101 01100001 01100100 01101001 01101110 01100111 00100000 11110000\\t10011111\\t10010011\\t10011010 00101110'"
      ]
     },
     "execution_count": 6,
     "metadata": {},
     "output_type": "execute_result"
    }
   ],
   "source": [
    "# run the function\n",
    "get_binary('My name is ___. I am currently a USC student. I love reading 📚.', encoding=\"utf-8\")"
   ]
  },
  {
   "cell_type": "code",
   "execution_count": null,
   "metadata": {},
   "outputs": [],
   "source": []
  }
 ],
 "metadata": {
  "kernelspec": {
   "display_name": "Python 3",
   "language": "python",
   "name": "python3"
  },
  "language_info": {
   "codemirror_mode": {
    "name": "ipython",
    "version": 3
   },
   "file_extension": ".py",
   "mimetype": "text/x-python",
   "name": "python",
   "nbconvert_exporter": "python",
   "pygments_lexer": "ipython3",
   "version": "3.8.5"
  },
  "toc": {
   "base_numbering": 1,
   "nav_menu": {},
   "number_sections": true,
   "sideBar": true,
   "skip_h1_title": false,
   "title_cell": "Table of Contents",
   "title_sidebar": "Contents",
   "toc_cell": false,
   "toc_position": {},
   "toc_section_display": true,
   "toc_window_display": false
  },
  "varInspector": {
   "cols": {
    "lenName": 16,
    "lenType": 16,
    "lenVar": 40
   },
   "kernels_config": {
    "python": {
     "delete_cmd_postfix": "",
     "delete_cmd_prefix": "del ",
     "library": "var_list.py",
     "varRefreshCmd": "print(var_dic_list())"
    },
    "r": {
     "delete_cmd_postfix": ") ",
     "delete_cmd_prefix": "rm(",
     "library": "var_list.r",
     "varRefreshCmd": "cat(var_dic_list()) "
    }
   },
   "types_to_exclude": [
    "module",
    "function",
    "builtin_function_or_method",
    "instance",
    "_Feature"
   ],
   "window_display": false
  }
 },
 "nbformat": 4,
 "nbformat_minor": 4
}
