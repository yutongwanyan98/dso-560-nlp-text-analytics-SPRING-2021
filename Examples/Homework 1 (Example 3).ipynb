{
 "cells": [
  {
   "cell_type": "markdown",
   "metadata": {},
   "source": [
    "<h1> <font color='Brick'>Homework 1</font></h1>"
   ]
  },
  {
   "cell_type": "markdown",
   "metadata": {
    "heading_collapsed": true
   },
   "source": [
    "# Homework Brief "
   ]
  },
  {
   "cell_type": "markdown",
   "metadata": {
    "hidden": true
   },
   "source": [
    "You are a business analyst working for a major US toy retailer:\n",
    "\n",
    "* A manager in the marketing department wants to find out the most frequently used words in positive reviews (five stars) and negative reviews (one star) in order to determine what occasion the toys are purchased for (Christmas, birthdays, and anniversaries.). He would like your opinion on **which gift occasions (Christmas, birthdays, or anniversaries) tend to have the most positive reviews** to focus marketing budget on those days.\n",
    "\n",
    "* There are malformed characters in the review text. For instance, notice the `&#34;` - these are examples of incorrectly decoded [HTML encodings](https://krypted.com/utilities/html-encoding-reference/).\n",
    "```\n",
    "\"amazing quality first of all, these cards are amazing proxies (but don't try to use em in &#34;official duels&#34; unless a judge is okay with it, if you have the real thing to show) and look amazing in your binder!\"\n",
    "```\n",
    "Please clean up all instances of these incorrect decodings.\n",
    "\n",
    "* One of your product managers suspects that **toys purchased for male recipients (husbands, sons, etc.)** tend to be much more likely to be reviewed poorly. She would like to see some data points confirming or rejecting her hypothesis. \n",
    "\n",
    "* Use **regular expressions to parse out all references to recipients and gift occassions**, and account for the possibility that people may spell words \"son\" / \"children\" / \"Christmas\" as both singular and plural, upper or lower-cased.\n",
    "\n",
    "* Explain what some of **pitfalls/limitations** are of using only a word count analysis to make these inferences. What additional research/steps would you need to do to verify your conclusions? (2-3 sentences, what would you do next)\n",
    "\n",
    "\n",
    "Perform the same word count analysis using the reviews received from Amazon to answer your marketing manager's question. They are stored in two files, (`poor_amazon_toy_reviews.txt`) and (`good-amazon-toy-reviews.txt`). **Provide a few sentences with your findings and business recommendations.** Make any assumptions you'd like to- this is a fictitious company after all. I just want you to get into the habit of \"finishing\" your analysis: to avoid delivering technical numbers to a non-technical manager.\n",
    "\n",
    "**Submit everything as a new notebook and Slack direct message to me (Yu Chen) and the TA the HW as an attachment.**\n",
    "\n",
    "**NOTE**: Name the notebook `lastname_firstname_HW1.ipynb`."
   ]
  },
  {
   "cell_type": "markdown",
   "metadata": {},
   "source": [
    "# Solution\n"
   ]
  },
  {
   "cell_type": "markdown",
   "metadata": {
    "heading_collapsed": true
   },
   "source": [
    "## Importing packages"
   ]
  },
  {
   "cell_type": "code",
   "execution_count": 1,
   "metadata": {
    "ExecuteTime": {
     "end_time": "2021-03-31T00:14:49.538565Z",
     "start_time": "2021-03-31T00:14:46.752222Z"
    },
    "hidden": true
   },
   "outputs": [],
   "source": [
    "import pandas as pd\n",
    "import sys\n",
    "import re\n",
    "import matplotlib.pyplot as plt\n",
    "from collections import Counter\n",
    "import numpy as np\n",
    "import string\n",
    "from nltk.corpus import stopwords\n",
    "import seaborn as sns\n"
   ]
  },
  {
   "cell_type": "markdown",
   "metadata": {
    "heading_collapsed": true
   },
   "source": [
    "## Reading in data"
   ]
  },
  {
   "cell_type": "code",
   "execution_count": 2,
   "metadata": {
    "ExecuteTime": {
     "end_time": "2021-03-31T00:14:49.748421Z",
     "start_time": "2021-03-31T00:14:49.541371Z"
    },
    "hidden": true
   },
   "outputs": [],
   "source": [
    "# Reading in the positive reviews\n",
    "goods=pd.DataFrame( open(\"good_amazon_toy_reviews.txt\", \"r\"), columns=[\"review\"])\n",
    "goods[\"review\"] = goods[\"review\"].str.replace(\"\\n\", \"\")\n",
    "goods['type']='Positive'\n"
   ]
  },
  {
   "cell_type": "code",
   "execution_count": 3,
   "metadata": {
    "ExecuteTime": {
     "end_time": "2021-03-31T00:14:49.799057Z",
     "start_time": "2021-03-31T00:14:49.755918Z"
    },
    "hidden": true,
    "scrolled": true
   },
   "outputs": [],
   "source": [
    "# Reading in the negative reviews\n",
    "bads=pd.DataFrame( open(\"poor_amazon_toy_reviews.txt\", \"r\"), columns=[\"review\"])\n",
    "bads[\"review\"] = bads[\"review\"].str.replace(\"\\n\", \"\")\n",
    "bads['type']='Negative'\n"
   ]
  },
  {
   "cell_type": "code",
   "execution_count": 4,
   "metadata": {
    "ExecuteTime": {
     "end_time": "2021-03-31T00:14:49.858917Z",
     "start_time": "2021-03-31T00:14:49.805978Z"
    },
    "hidden": true,
    "scrolled": true
   },
   "outputs": [
    {
     "data": {
      "text/html": [
       "<div>\n",
       "<style scoped>\n",
       "    .dataframe tbody tr th:only-of-type {\n",
       "        vertical-align: middle;\n",
       "    }\n",
       "\n",
       "    .dataframe tbody tr th {\n",
       "        vertical-align: top;\n",
       "    }\n",
       "\n",
       "    .dataframe thead th {\n",
       "        text-align: right;\n",
       "    }\n",
       "</style>\n",
       "<table border=\"1\" class=\"dataframe\">\n",
       "  <thead>\n",
       "    <tr style=\"text-align: right;\">\n",
       "      <th></th>\n",
       "      <th>review</th>\n",
       "      <th>type</th>\n",
       "    </tr>\n",
       "  </thead>\n",
       "  <tbody>\n",
       "    <tr>\n",
       "      <th>0</th>\n",
       "      <td>Excellent!!!</td>\n",
       "      <td>Positive</td>\n",
       "    </tr>\n",
       "    <tr>\n",
       "      <th>1</th>\n",
       "      <td>\"Great quality wooden track (better than some ...</td>\n",
       "      <td>Positive</td>\n",
       "    </tr>\n",
       "    <tr>\n",
       "      <th>2</th>\n",
       "      <td>my daughter loved it and i liked the price and...</td>\n",
       "      <td>Positive</td>\n",
       "    </tr>\n",
       "    <tr>\n",
       "      <th>3</th>\n",
       "      <td>Great item. Pictures pop thru and add detail a...</td>\n",
       "      <td>Positive</td>\n",
       "    </tr>\n",
       "    <tr>\n",
       "      <th>4</th>\n",
       "      <td>I was pleased with the product.</td>\n",
       "      <td>Positive</td>\n",
       "    </tr>\n",
       "  </tbody>\n",
       "</table>\n",
       "</div>"
      ],
      "text/plain": [
       "                                              review      type\n",
       "0                                       Excellent!!!  Positive\n",
       "1  \"Great quality wooden track (better than some ...  Positive\n",
       "2  my daughter loved it and i liked the price and...  Positive\n",
       "3  Great item. Pictures pop thru and add detail a...  Positive\n",
       "4                    I was pleased with the product.  Positive"
      ]
     },
     "execution_count": 4,
     "metadata": {},
     "output_type": "execute_result"
    }
   ],
   "source": [
    "# Combining both positive and negative reviews into a single DataFrame\n",
    "reviews=goods.append(bads).reset_index()\n",
    "reviews.drop(columns=['index'], inplace=True)\n",
    "reviews.head()"
   ]
  },
  {
   "cell_type": "markdown",
   "metadata": {
    "heading_collapsed": true
   },
   "source": [
    "## Finding the most common words in the reviews"
   ]
  },
  {
   "cell_type": "code",
   "execution_count": 5,
   "metadata": {
    "ExecuteTime": {
     "end_time": "2021-03-31T00:14:49.872718Z",
     "start_time": "2021-03-31T00:14:49.864095Z"
    },
    "hidden": true
   },
   "outputs": [],
   "source": [
    "# Function to clean the text reviews\n",
    "def clean_corpus(list):\n",
    "    new_list=[''.join(c for c in s if c not in string.punctuation) for s in list]\n",
    "    new_list = [x.replace('\\n', '').lower() for x in new_list]\n",
    "    new_list=[re.sub(r'\\b(the|even|up|what|buy|bought|from|there|people|here|after|got|too|because|that|this|have|would|had|if|do|has|like|br|when|is|be|just|can|at|her|him|are|was|were|will|to|it|a|or|and|with|am|i|for|in|on|of|me|my|your|their|them|they|these|as|so|you|very|we|its|one|all|he|she)\\b',\\\n",
    "        '', x, flags=re.IGNORECASE) for x in new_list]\n",
    "    return new_list\n"
   ]
  },
  {
   "cell_type": "code",
   "execution_count": 6,
   "metadata": {
    "ExecuteTime": {
     "end_time": "2021-03-31T00:14:49.885948Z",
     "start_time": "2021-03-31T00:14:49.878772Z"
    },
    "hidden": true
   },
   "outputs": [],
   "source": [
    "# Function to output the most frequently appearing words\n",
    "def count_words(lines, delimiter=\" \"): \n",
    "    words = Counter() # instantiate a Counter object called words\n",
    "    for line in lines:\n",
    "        for word in line.split(delimiter):\n",
    "            words[word] += 1 # increment count for word\n",
    "    df=pd.DataFrame(words,columns=['Word','Frequency'])\n",
    "    df[\"Word\"] = list(words.keys())\n",
    "    df[\"Frequency\"] = list(words.values())\n",
    "    df.sort_values(by=['Frequency'],ascending=False, inplace=True)\n",
    "    return df.loc[1:,:]"
   ]
  },
  {
   "cell_type": "code",
   "execution_count": 7,
   "metadata": {
    "ExecuteTime": {
     "end_time": "2021-03-31T00:15:01.042801Z",
     "start_time": "2021-03-31T00:14:49.890252Z"
    },
    "hidden": true
   },
   "outputs": [],
   "source": [
    "negative=clean_corpus(open(\"poor_amazon_toy_reviews.txt\",\"r\").readlines())\n",
    "positive=clean_corpus(open(\"good_amazon_toy_reviews.txt\",\"r\").readlines())\n",
    "\n",
    "# Most common words in positive reviews\n",
    "positive_df=count_words(positive)\n",
    "top_15_pos=positive_df.head(15)\n",
    "\n",
    "# Most common words in negative reviews\n",
    "negative_df=count_words(negative)\n",
    "top_15_neg=negative_df.head(15)\n",
    "\n"
   ]
  },
  {
   "cell_type": "code",
   "execution_count": 8,
   "metadata": {
    "ExecuteTime": {
     "end_time": "2021-03-31T00:15:01.433794Z",
     "start_time": "2021-03-31T00:15:01.047758Z"
    },
    "hidden": true
   },
   "outputs": [
    {
     "data": {
      "image/png": "[encoded data removed]",
      "text/plain": [
       "<Figure size 720x432 with 1 Axes>"
      ]
     },
     "metadata": {},
     "output_type": "display_data"
    }
   ],
   "source": [
    "# Plotting top 15 most frequent words in positive review dataset\n",
    "sns.set_style(\"whitegrid\")\n",
    "plt.figure(figsize=[10,6])\n",
    "sns.barplot(y=\"Word\", x=\"Frequency\", data=top_15_pos,palette=(\"Blues_d\"))\n",
    "plt.title('Top 15 words in positive reviews', loc = 'left',\n",
    "         fontsize=14, fontweight='bold', color= 'black', \n",
    "          pad=15)\n",
    "plt.ylabel('Word', color= 'black',fontsize=14)\n",
    "ax=plt.gca()\n",
    "ax.tick_params(labelsize=12)\n",
    "plt.xlabel('Frequency', color= 'black',fontsize=14)\n",
    "plt.gca().spines['top'].set_visible(False)\n",
    "plt.gca().spines['right'].set_visible(False)"
   ]
  },
  {
   "cell_type": "code",
   "execution_count": 9,
   "metadata": {
    "ExecuteTime": {
     "end_time": "2021-03-31T00:15:01.882690Z",
     "start_time": "2021-03-31T00:15:01.438464Z"
    },
    "hidden": true
   },
   "outputs": [
    {
     "data": {
      "image/png": "[encoded data removed]",
      "text/plain": [
       "<Figure size 720x432 with 1 Axes>"
      ]
     },
     "metadata": {},
     "output_type": "display_data"
    }
   ],
   "source": [
    "# Plotting top 15 most frequent words in positive review dataset\n",
    "sns.set_style(\"whitegrid\")\n",
    "plt.figure(figsize=[10,6])\n",
    "sns.barplot(y=\"Word\", x=\"Frequency\", data=top_15_neg,palette=(\"Blues_d\"))\n",
    "plt.title('Top 15 words in negative reviews', loc = 'left',\n",
    "         fontsize=14, fontweight='bold', color= 'black', \n",
    "          pad=15)\n",
    "plt.ylabel('Word', color= 'black',fontsize=14)\n",
    "ax=plt.gca()\n",
    "ax.tick_params(labelsize=12)\n",
    "plt.xlabel('Frequency', color= 'black',fontsize=14)\n",
    "plt.gca().spines['top'].set_visible(False)\n",
    "plt.gca().spines['right'].set_visible(False)"
   ]
  },
  {
   "cell_type": "markdown",
   "metadata": {
    "hidden": true
   },
   "source": [
    "From the above two graphs, we can see which words are the most frequent among positive and negative reviews. However, here we see that we could greatly benefit from lemmatization techniques to further improve the meaningfulness of this result. \n",
    "\n",
    "In general, we see positive reviews have more positive words like:\n",
    "- great\n",
    "- fun\n",
    "- love\n",
    "- good\n",
    "- well\n",
    "- perfect\n",
    "\n",
    "Negative reviews have more negative intonation words like:\n",
    "- break\n",
    "- disappointed\n",
    "- not, don't, no, didn't\n",
    "- money\n",
    "- quality\n",
    "- work\n",
    "\n",
    "Since the manager would like to know which occasions produce the most positive reviews, we will explore the answer to his question in the next section."
   ]
  },
  {
   "cell_type": "markdown",
   "metadata": {
    "heading_collapsed": true
   },
   "source": [
    "## Occasions\n",
    "\n",
    "The objective here is to find out purchases for which occasion contribute the most positive reviews. The manager has defined occasions as Christmas, birthdays and anniversaries so these will be the only occasions considered in this section.\n"
   ]
  },
  {
   "cell_type": "code",
   "execution_count": 10,
   "metadata": {
    "ExecuteTime": {
     "end_time": "2021-03-31T00:15:01.894215Z",
     "start_time": "2021-03-31T00:15:01.885474Z"
    },
    "hidden": true
   },
   "outputs": [],
   "source": [
    "def keyword_flag(name,regex,df):\n",
    "    # Assuming the column name in the input DataFrame will remain 'review'\n",
    "    df[f'{name}_keyword']=df['review'].str.findall(regex)\n",
    "    df[f'{name}_len']=df['review'].str.findall(regex).apply(len)\n",
    "    mask=df[f'{name}_len']>0\n",
    "    df[f'{name}_indicator']=np.where(mask,1,0)\n",
    "    df.drop(columns=[f'{name}_len'],inplace=True)"
   ]
  },
  {
   "cell_type": "code",
   "execution_count": 11,
   "metadata": {
    "ExecuteTime": {
     "end_time": "2021-03-31T00:15:05.689244Z",
     "start_time": "2021-03-31T00:15:01.896677Z"
    },
    "hidden": true
   },
   "outputs": [],
   "source": [
    "regex=[r'\\b(Christmas|christmas|Xmas|xmas|holiday|holidays)\\b',\\\n",
    "       r'\\b(birthday|Birthday|bday|b\\'day|birthdate|HBD|B\\'day|birthdat|special day)\\b',\\\n",
    "      r'\\b(anniversary|anniversaries|anniv|anniversart)\\b']\n",
    "name=[\"Christmas\",\"Birthday\",\"Anniversary\"]\n",
    "\n",
    "# Identifying occasions\n",
    "for n,r in zip(name,regex):\n",
    "    keyword_flag(n,r,reviews)"
   ]
  },
  {
   "cell_type": "code",
   "execution_count": 12,
   "metadata": {
    "ExecuteTime": {
     "end_time": "2021-03-31T00:15:05.986749Z",
     "start_time": "2021-03-31T00:15:05.692569Z"
    },
    "hidden": true
   },
   "outputs": [],
   "source": [
    "# Creating a summary table of reviews for each occasion\n",
    "occasion_summary= reviews.groupby('type').\\\n",
    "                    agg({'Christmas_indicator':'sum','Birthday_indicator':'sum',\\\n",
    "                    'Anniversary_indicator':'sum'}).T.reset_index()\n",
    "\n",
    "occasion_summary['Percentage of Positive Reviews']=100*\\\n",
    "round(occasion_summary['Positive']/(occasion_summary['Positive']+occasion_summary['Negative']),4)\n",
    "occasion_summary.rename(columns={'index':'Occasion'},inplace=True)"
   ]
  },
  {
   "cell_type": "code",
   "execution_count": 13,
   "metadata": {
    "ExecuteTime": {
     "end_time": "2021-03-31T00:15:06.002129Z",
     "start_time": "2021-03-31T00:15:05.989132Z"
    },
    "hidden": true
   },
   "outputs": [
    {
     "data": {
      "text/html": [
       "<div>\n",
       "<style scoped>\n",
       "    .dataframe tbody tr th:only-of-type {\n",
       "        vertical-align: middle;\n",
       "    }\n",
       "\n",
       "    .dataframe tbody tr th {\n",
       "        vertical-align: top;\n",
       "    }\n",
       "\n",
       "    .dataframe thead th {\n",
       "        text-align: right;\n",
       "    }\n",
       "</style>\n",
       "<table border=\"1\" class=\"dataframe\">\n",
       "  <thead>\n",
       "    <tr style=\"text-align: right;\">\n",
       "      <th>type</th>\n",
       "      <th>Occasion</th>\n",
       "      <th>Negative</th>\n",
       "      <th>Positive</th>\n",
       "      <th>Percentage of Positive Reviews</th>\n",
       "    </tr>\n",
       "  </thead>\n",
       "  <tbody>\n",
       "    <tr>\n",
       "      <th>0</th>\n",
       "      <td>Christmas_indicator</td>\n",
       "      <td>72</td>\n",
       "      <td>1270</td>\n",
       "      <td>94.63</td>\n",
       "    </tr>\n",
       "    <tr>\n",
       "      <th>1</th>\n",
       "      <td>Birthday_indicator</td>\n",
       "      <td>430</td>\n",
       "      <td>3895</td>\n",
       "      <td>90.06</td>\n",
       "    </tr>\n",
       "    <tr>\n",
       "      <th>2</th>\n",
       "      <td>Anniversary_indicator</td>\n",
       "      <td>4</td>\n",
       "      <td>44</td>\n",
       "      <td>91.67</td>\n",
       "    </tr>\n",
       "  </tbody>\n",
       "</table>\n",
       "</div>"
      ],
      "text/plain": [
       "type               Occasion  Negative  Positive  \\\n",
       "0       Christmas_indicator        72      1270   \n",
       "1        Birthday_indicator       430      3895   \n",
       "2     Anniversary_indicator         4        44   \n",
       "\n",
       "type  Percentage of Positive Reviews  \n",
       "0                              94.63  \n",
       "1                              90.06  \n",
       "2                              91.67  "
      ]
     },
     "execution_count": 13,
     "metadata": {},
     "output_type": "execute_result"
    }
   ],
   "source": [
    "occasion_summary"
   ]
  },
  {
   "cell_type": "markdown",
   "metadata": {
    "hidden": true
   },
   "source": [
    "**From the above table, we can see:**\n",
    "- Christmas is the occasion that has the maximum **percentage** of positive reviews. However, the total number of reviews (positive and negative) is far less than for birthdays.\n",
    "- Birthdays have the maximum **number** of positive reviews. However, for marketing purposes, it may be difficult to increase the marketing budget for any particular day.\n",
    "- Anniversary gifts are relatively far lower than for Christmas or birthdays but this makes sense given that these are reviews for toys and anniversaries are largely celebrated by adults.\n",
    "\n",
    "\n",
    "**Advice for the Marketing team:**<br><br>\n",
    "**a. Explore options to analyze birthday information.**\n",
    "* A new feature could be introduced to add family members or other social features linked to a single account. \n",
    "* Another option would be to give users an option to set up reminders for occasions like birthdays and anniversaries where they could get updates from within the app. \n",
    "* Track wedding, birthday or other occasion registries that a user visits to make suggestions/ reminders in the future.\n",
    "* If this disturbs the original business model or violates privacy laws, the team may need to explore other innovative ways for customized targeting or shift its focus away from birthdays.\n",
    "\n",
    "**b. Christmas**\n",
    "* Christmas is the next occasion with the most positive reviews. The marketing budget could be increased in the days leading up to the Christmas holiday season to spur an increase in purchases.\n",
    "* A collaboration with a non-profit like AngelTree which works on providing gifts to children of incarcerated parents could also increase purchases made during the Christmas season. A tie-up like this could cause users who don't usually purchase toys to make their first purchase towards a good cause.\n",
    "\n",
    "**b. Calendar occasions**\n",
    "* We could also explore other calendar holidays/occasions like Thanksgiving, Easter, graduation, etc. in the future."
   ]
  },
  {
   "cell_type": "markdown",
   "metadata": {
    "heading_collapsed": true
   },
   "source": [
    "## Cleaning up incorrect decodings\n",
    "\n",
    "This section removes the html encoding and tags in the dataset."
   ]
  },
  {
   "cell_type": "code",
   "execution_count": 14,
   "metadata": {
    "ExecuteTime": {
     "end_time": "2021-03-31T00:15:06.413191Z",
     "start_time": "2021-03-31T00:15:06.005909Z"
    },
    "hidden": true
   },
   "outputs": [],
   "source": [
    "reviews['review']=reviews['review'].str.replace(r'([&#]\\d+[;])',\"\")\n",
    "reviews['review']=reviews['review'].str.replace('(<br />)',\"\")"
   ]
  },
  {
   "cell_type": "code",
   "execution_count": 15,
   "metadata": {
    "ExecuteTime": {
     "end_time": "2021-03-31T00:15:07.336065Z",
     "start_time": "2021-03-31T00:15:06.415798Z"
    },
    "hidden": true
   },
   "outputs": [],
   "source": [
    "reviews.to_csv('Cleaned.csv')"
   ]
  },
  {
   "cell_type": "code",
   "execution_count": 16,
   "metadata": {
    "ExecuteTime": {
     "end_time": "2021-03-31T00:15:07.714449Z",
     "start_time": "2021-03-31T00:15:07.338352Z"
    },
    "hidden": true
   },
   "outputs": [],
   "source": [
    "assert sum(reviews['review'].str.findall(r'([&#]\\d+[;])').apply(len)) == 0,\"This error message will be printed if the assertion to the left is not true.\""
   ]
  },
  {
   "cell_type": "markdown",
   "metadata": {
    "heading_collapsed": true
   },
   "source": [
    "## Male recipient hypothesis\n",
    "\n",
    "The product manager's hypothesis that toys purchased for male recipients are reviewed more poorly than toys purchased for female recipients. This section analyzes data to evaluate this hypothesis."
   ]
  },
  {
   "cell_type": "code",
   "execution_count": 17,
   "metadata": {
    "ExecuteTime": {
     "end_time": "2021-03-31T00:15:07.748754Z",
     "start_time": "2021-03-31T00:15:07.716613Z"
    },
    "hidden": true
   },
   "outputs": [
    {
     "data": {
      "text/html": [
       "<div>\n",
       "<style scoped>\n",
       "    .dataframe tbody tr th:only-of-type {\n",
       "        vertical-align: middle;\n",
       "    }\n",
       "\n",
       "    .dataframe tbody tr th {\n",
       "        vertical-align: top;\n",
       "    }\n",
       "\n",
       "    .dataframe thead th {\n",
       "        text-align: right;\n",
       "    }\n",
       "</style>\n",
       "<table border=\"1\" class=\"dataframe\">\n",
       "  <thead>\n",
       "    <tr style=\"text-align: right;\">\n",
       "      <th></th>\n",
       "      <th>review</th>\n",
       "      <th>type</th>\n",
       "    </tr>\n",
       "  </thead>\n",
       "  <tbody>\n",
       "    <tr>\n",
       "      <th>0</th>\n",
       "      <td>Excellent!!!</td>\n",
       "      <td>Positive</td>\n",
       "    </tr>\n",
       "    <tr>\n",
       "      <th>1</th>\n",
       "      <td>\"Great quality wooden track (better than some ...</td>\n",
       "      <td>Positive</td>\n",
       "    </tr>\n",
       "    <tr>\n",
       "      <th>2</th>\n",
       "      <td>my daughter loved it and i liked the price and...</td>\n",
       "      <td>Positive</td>\n",
       "    </tr>\n",
       "    <tr>\n",
       "      <th>3</th>\n",
       "      <td>Great item. Pictures pop thru and add detail a...</td>\n",
       "      <td>Positive</td>\n",
       "    </tr>\n",
       "    <tr>\n",
       "      <th>4</th>\n",
       "      <td>I was pleased with the product.</td>\n",
       "      <td>Positive</td>\n",
       "    </tr>\n",
       "  </tbody>\n",
       "</table>\n",
       "</div>"
      ],
      "text/plain": [
       "                                              review      type\n",
       "0                                       Excellent!!!  Positive\n",
       "1  \"Great quality wooden track (better than some ...  Positive\n",
       "2  my daughter loved it and i liked the price and...  Positive\n",
       "3  Great item. Pictures pop thru and add detail a...  Positive\n",
       "4                    I was pleased with the product.  Positive"
      ]
     },
     "execution_count": 17,
     "metadata": {},
     "output_type": "execute_result"
    }
   ],
   "source": [
    "# Making a copy of the reviews DataFrame\n",
    "hyp_df=reviews.copy()\n",
    "hyp_df.drop(columns=['Christmas_keyword', 'Christmas_indicator',\n",
    "       'Birthday_keyword', 'Birthday_indicator', 'Anniversary_keyword',\n",
    "       'Anniversary_indicator'], inplace=True)\n",
    "hyp_df.head()"
   ]
  },
  {
   "cell_type": "code",
   "execution_count": 18,
   "metadata": {
    "ExecuteTime": {
     "end_time": "2021-03-31T00:15:12.272326Z",
     "start_time": "2021-03-31T00:15:07.752165Z"
    },
    "hidden": true
   },
   "outputs": [
    {
     "data": {
      "text/html": [
       "<div>\n",
       "<style scoped>\n",
       "    .dataframe tbody tr th:only-of-type {\n",
       "        vertical-align: middle;\n",
       "    }\n",
       "\n",
       "    .dataframe tbody tr th {\n",
       "        vertical-align: top;\n",
       "    }\n",
       "\n",
       "    .dataframe thead th {\n",
       "        text-align: right;\n",
       "    }\n",
       "</style>\n",
       "<table border=\"1\" class=\"dataframe\">\n",
       "  <thead>\n",
       "    <tr style=\"text-align: right;\">\n",
       "      <th></th>\n",
       "      <th>review</th>\n",
       "      <th>type</th>\n",
       "      <th>Male_keyword</th>\n",
       "      <th>Male_indicator</th>\n",
       "      <th>Female_keyword</th>\n",
       "      <th>Female_indicator</th>\n",
       "    </tr>\n",
       "  </thead>\n",
       "  <tbody>\n",
       "    <tr>\n",
       "      <th>0</th>\n",
       "      <td>Excellent!!!</td>\n",
       "      <td>Positive</td>\n",
       "      <td>[]</td>\n",
       "      <td>0</td>\n",
       "      <td>[]</td>\n",
       "      <td>0</td>\n",
       "    </tr>\n",
       "    <tr>\n",
       "      <th>1</th>\n",
       "      <td>\"Great quality wooden track (better than some ...</td>\n",
       "      <td>Positive</td>\n",
       "      <td>[]</td>\n",
       "      <td>0</td>\n",
       "      <td>[]</td>\n",
       "      <td>0</td>\n",
       "    </tr>\n",
       "    <tr>\n",
       "      <th>2</th>\n",
       "      <td>my daughter loved it and i liked the price and...</td>\n",
       "      <td>Positive</td>\n",
       "      <td>[]</td>\n",
       "      <td>0</td>\n",
       "      <td>[daughter]</td>\n",
       "      <td>1</td>\n",
       "    </tr>\n",
       "  </tbody>\n",
       "</table>\n",
       "</div>"
      ],
      "text/plain": [
       "                                              review      type Male_keyword  \\\n",
       "0                                       Excellent!!!  Positive           []   \n",
       "1  \"Great quality wooden track (better than some ...  Positive           []   \n",
       "2  my daughter loved it and i liked the price and...  Positive           []   \n",
       "\n",
       "   Male_indicator Female_keyword  Female_indicator  \n",
       "0               0             []                 0  \n",
       "1               0             []                 0  \n",
       "2               0     [daughter]                 1  "
      ]
     },
     "execution_count": 18,
     "metadata": {},
     "output_type": "execute_result"
    }
   ],
   "source": [
    "# Identifying male and female recipients\n",
    "recipients=[r'\\b(son|sons|boys|boy|husband|hubby|hubs|man of the house|for him|boyfriend|bf|grandpa|grandfather|gramps|grandson|grandsons|brother|brothers|bro|bros|brother-in-law|bro-in-law|nephew|nephews|father|fathers|father-in-law|for [a-z] dad|old man)\\b',\\\n",
    "            r'\\b(daughter|daughters|girl|girls|wife|wifey|for her|girlfriend|gurlfriend|gf|grandmother|grandma|grammy|sister|sisters|sis|sissy|sister-in-law|sis-in-law|niece|nieces|for [a-z] mom|mother|mothers|for [a-z] mommy)\\b']\n",
    "gender=['Male','Female']\n",
    "for r,n in zip(recipients,gender):\n",
    "    keyword_flag(n,r,hyp_df)\n",
    "hyp_df.head(3)"
   ]
  },
  {
   "cell_type": "code",
   "execution_count": 19,
   "metadata": {
    "ExecuteTime": {
     "end_time": "2021-03-31T00:15:12.359527Z",
     "start_time": "2021-03-31T00:15:12.277898Z"
    },
    "hidden": true
   },
   "outputs": [
    {
     "data": {
      "text/html": [
       "<div>\n",
       "<style scoped>\n",
       "    .dataframe tbody tr th:only-of-type {\n",
       "        vertical-align: middle;\n",
       "    }\n",
       "\n",
       "    .dataframe tbody tr th {\n",
       "        vertical-align: top;\n",
       "    }\n",
       "\n",
       "    .dataframe thead th {\n",
       "        text-align: right;\n",
       "    }\n",
       "</style>\n",
       "<table border=\"1\" class=\"dataframe\">\n",
       "  <thead>\n",
       "    <tr style=\"text-align: right;\">\n",
       "      <th>type</th>\n",
       "      <th>Negative</th>\n",
       "      <th>Positive</th>\n",
       "      <th>Total</th>\n",
       "      <th>Percentage of Negative Reviews</th>\n",
       "    </tr>\n",
       "  </thead>\n",
       "  <tbody>\n",
       "    <tr>\n",
       "      <th>Male</th>\n",
       "      <td>947</td>\n",
       "      <td>13564</td>\n",
       "      <td>14511</td>\n",
       "      <td>6.53</td>\n",
       "    </tr>\n",
       "    <tr>\n",
       "      <th>Female</th>\n",
       "      <td>630</td>\n",
       "      <td>10577</td>\n",
       "      <td>11207</td>\n",
       "      <td>5.62</td>\n",
       "    </tr>\n",
       "  </tbody>\n",
       "</table>\n",
       "</div>"
      ],
      "text/plain": [
       "type    Negative  Positive  Total  Percentage of Negative Reviews\n",
       "Male         947     13564  14511                            6.53\n",
       "Female       630     10577  11207                            5.62"
      ]
     },
     "execution_count": 19,
     "metadata": {},
     "output_type": "execute_result"
    }
   ],
   "source": [
    "# Creating a summary table\n",
    "hypothesis_df=hyp_df.groupby('type').agg({'Male_indicator':'sum','Female_indicator':'sum'}).T\n",
    "hypothesis_df.rename(index={'Male_indicator':'Male','Female_indicator':'Female'}, inplace=True)\n",
    "hypothesis_df['Total']=hypothesis_df['Positive']+hypothesis_df['Negative']\n",
    "hypothesis_df['Percentage of Negative Reviews']=100*\\\n",
    "round(hypothesis_df['Negative']/(hypothesis_df['Negative']+hypothesis_df['Positive']),4)\n",
    "hypothesis_df"
   ]
  },
  {
   "cell_type": "markdown",
   "metadata": {
    "hidden": true
   },
   "source": [
    "**From the above table, we can see:**\n",
    "- The total number of male recipients is greater than female recipients.\n",
    "- Male recipients **do seem to have a higher percentage of negative reviews.**\n",
    "- One shortcoming here is that this result was from manually parsing out male and female recipients. Some reviews mention recipients like \"children\", \"5 year old\", \"cousin\", etc. for which it is impossible to infer the gender by this manual parsing method. An AI model may be able to better infer recipient information.\n",
    "\n",
    "The data in this table offers support to the product manager's hypothesis. Beyond the data in this table, the product manager may benefit from a statistical test to confirm this hypothesis."
   ]
  },
  {
   "cell_type": "markdown",
   "metadata": {
    "heading_collapsed": true
   },
   "source": [
    "## Summary"
   ]
  },
  {
   "cell_type": "markdown",
   "metadata": {
    "hidden": true
   },
   "source": [
    "**Summary of work:**\n",
    "- In the first section, we parsed all variations out the popular occasions for which toys were purchased. We considered birthdays, anniversaries and Christmas. I did consider \"wedding\" and its variations as an occasion but the likelihood of purchasing toys for a wedding is relatively low and hence, I did not include other occasions.\n",
    "\n",
    "\n",
    "- Then, we got rid of the incorrect html encoding and tags in the reviews.\n",
    "\n",
    "\n",
    "- In the next section, we parsed out the gender of the recipients of the toys using regular expressions (some cases even accounting for misspelled words like \"birthdat\"). We saw that males were more often recipients of toys than females."
   ]
  },
  {
   "cell_type": "markdown",
   "metadata": {
    "heading_collapsed": true
   },
   "source": [
    "## Pitfalls of word count analysis"
   ]
  },
  {
   "cell_type": "markdown",
   "metadata": {
    "hidden": true
   },
   "source": [
    "1. This method of word count analysis does not factor in **semantic meaning**. There is no way to build in a distinction between \"my friend got this for her **dad**\" vs. \"..her **dad** wouldn't allow her to..\". In the first case, \"dad\" is the recipient but in the second case \"dad\" is not the recipient of the product.\n",
    "\n",
    "\n",
    "2. While matching for male and female recipients of the products, a review like \"My daughter had this when she was 5. It's now a hand-me-down for my 2 year old son\" gets flagged for both the words \"son\":male and \"daughter\":female. Word count analysis is not able to identify who the recipient is.\n",
    "\n",
    "\n",
    "3. It is not possible to infer the gender of words like \"cousin\", \"children\", etc. even though the next lines in the review may possibly imply the gender with words like \"he\" or \"she\". Word count analysis does not factor this in.\n",
    "\n",
    "\n",
    "4. Word count analysis does not intuitively count variations of a single word as the same word. For instance \"love\" and \"loves\" are the same word but word count analysis counts these are two separate words. Lemmatization of these words would lead to a better solution.\n"
   ]
  }
 ],
 "metadata": {
  "kernelspec": {
   "display_name": "Python 3",
   "language": "python",
   "name": "python3"
  },
  "language_info": {
   "codemirror_mode": {
    "name": "ipython",
    "version": 3
   },
   "file_extension": ".py",
   "mimetype": "text/x-python",
   "name": "python",
   "nbconvert_exporter": "python",
   "pygments_lexer": "ipython3",
   "version": "3.8.3"
  },
  "toc": {
   "base_numbering": 1,
   "nav_menu": {},
   "number_sections": true,
   "sideBar": true,
   "skip_h1_title": false,
   "title_cell": "Table of Contents",
   "title_sidebar": "Contents",
   "toc_cell": false,
   "toc_position": {},
   "toc_section_display": true,
   "toc_window_display": false
  },
  "varInspector": {
   "cols": {
    "lenName": 16,
    "lenType": 16,
    "lenVar": 40
   },
   "kernels_config": {
    "python": {
     "delete_cmd_postfix": "",
     "delete_cmd_prefix": "del ",
     "library": "var_list.py",
     "varRefreshCmd": "print(var_dic_list())"
    },
    "r": {
     "delete_cmd_postfix": ") ",
     "delete_cmd_prefix": "rm(",
     "library": "var_list.r",
     "varRefreshCmd": "cat(var_dic_list()) "
    }
   },
   "types_to_exclude": [
    "module",
    "function",
    "builtin_function_or_method",
    "instance",
    "_Feature"
   ],
   "window_display": false
  }
 },
 "nbformat": 4,
 "nbformat_minor": 4
}
