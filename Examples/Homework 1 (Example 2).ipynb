{
 "cells": [
  {
   "cell_type": "markdown",
   "metadata": {},
   "source": [
    "# Homework 1 (Due Tuesday, March 30th, 2021 at 6:29pm PST)\n",
    "\n",
    "Every day late is -10%.\n",
    "\n",
    "You are a business analyst working for a major US toy retailer:\n",
    "\n",
    "* A manager in the marketing department wants to find out the most frequently used words in positive reviews (five stars) and negative reviews (one star) in order to determine what occasion the toys are purchased for (Christmas, birthdays, and anniversaries.). He would like your opinion on **which gift occasions (Christmas, birthdays, or anniversaries) tend to have the most positive reviews** to focus marketing budget on those days.\n",
    "\n",
    "* There are malformed characters in the review text. For instance, notice the `&#34;` - these are examples of incorrectly decoded [HTML encodings](https://krypted.com/utilities/html-encoding-reference/).\n",
    "```\n",
    "\"amazing quality first of all, these cards are amazing proxies (but don't try to use em in &#34;official duels&#34; unless a judge is okay with it, if you have the real thing to show) and look amazing in your binder!\"\n",
    "```\n",
    "Please clean up all instances of these incorrect decodings.\n",
    "\n",
    "* One of your product managers suspects that **toys purchased for male recipients (husbands, sons, etc.)** tend to be much more likely to be reviewed poorly. She would like to see some data points confirming or rejecting her hypothesis. \n",
    "\n",
    "* Use **regular expressions to parse out all references to recipients and gift occassions**, and account for the possibility that people may spell words \"son\" / \"children\" / \"Christmas\" as both singular and plural, upper or lower-cased.\n",
    "\n",
    "* Explain what some of **pitfalls/limitations** are of using only a word count analysis to make these inferences. What additional research/steps would you need to do to verify your conclusions?\n",
    "\n",
    "Perform the same word count analysis using the reviews received from Amazon to answer your marketing manager's question. They are stored in two files, (`poor_amazon_toy_reviews.txt`) and (`good-amazon-toy-reviews.txt`). **Provide a few sentences with your findings and business recommendations.** Make any assumptions you'd like to- this is a fictitious company after all. I just want you to get into the habit of \"finishing\" your analysis: to avoid delivering technical numbers to a non-technical manager.\n",
    "\n",
    "**Submit everything as a new notebook and Slack direct message to me (Yu Chen) and the TA the HW as an attachment.**\n",
    "\n",
    "**NOTE**: Name the notebook `lastname_firstname_HW1.ipynb`."
   ]
  },
  {
   "cell_type": "markdown",
   "metadata": {},
   "source": [
    "## Load data"
   ]
  },
  {
   "cell_type": "code",
   "execution_count": 1,
   "metadata": {
    "ExecuteTime": {
     "end_time": "2021-03-30T00:14:53.817898Z",
     "start_time": "2021-03-30T00:14:53.227275Z"
    }
   },
   "outputs": [],
   "source": [
    "import pandas as pd"
   ]
  },
  {
   "cell_type": "code",
   "execution_count": 2,
   "metadata": {
    "ExecuteTime": {
     "end_time": "2021-03-30T00:15:00.600354Z",
     "start_time": "2021-03-30T00:15:00.515744Z"
    }
   },
   "outputs": [
    {
     "data": {
      "text/html": [
       "<div>\n",
       "<style scoped>\n",
       "    .dataframe tbody tr th:only-of-type {\n",
       "        vertical-align: middle;\n",
       "    }\n",
       "\n",
       "    .dataframe tbody tr th {\n",
       "        vertical-align: top;\n",
       "    }\n",
       "\n",
       "    .dataframe thead th {\n",
       "        text-align: right;\n",
       "    }\n",
       "</style>\n",
       "<table border=\"1\" class=\"dataframe\">\n",
       "  <thead>\n",
       "    <tr style=\"text-align: right;\">\n",
       "      <th></th>\n",
       "      <th>line</th>\n",
       "    </tr>\n",
       "  </thead>\n",
       "  <tbody>\n",
       "    <tr>\n",
       "      <th>0</th>\n",
       "      <td>Excellent!!!\\n</td>\n",
       "    </tr>\n",
       "    <tr>\n",
       "      <th>1</th>\n",
       "      <td>\"Great quality wooden track (better than some ...</td>\n",
       "    </tr>\n",
       "    <tr>\n",
       "      <th>2</th>\n",
       "      <td>my daughter loved it and i liked the price and...</td>\n",
       "    </tr>\n",
       "    <tr>\n",
       "      <th>3</th>\n",
       "      <td>Great item. Pictures pop thru and add detail a...</td>\n",
       "    </tr>\n",
       "    <tr>\n",
       "      <th>4</th>\n",
       "      <td>I was pleased with the product.\\n</td>\n",
       "    </tr>\n",
       "  </tbody>\n",
       "</table>\n",
       "</div>"
      ],
      "text/plain": [
       "                                                line\n",
       "0                                     Excellent!!!\\n\n",
       "1  \"Great quality wooden track (better than some ...\n",
       "2  my daughter loved it and i liked the price and...\n",
       "3  Great item. Pictures pop thru and add detail a...\n",
       "4                  I was pleased with the product.\\n"
      ]
     },
     "execution_count": 2,
     "metadata": {},
     "output_type": "execute_result"
    }
   ],
   "source": [
    "good = pd.DataFrame(open('good_amazon_toy_reviews.txt', 'r', encoding='latin1'), columns=['line'])\n",
    "good.head()"
   ]
  },
  {
   "cell_type": "code",
   "execution_count": 3,
   "metadata": {
    "ExecuteTime": {
     "end_time": "2021-03-30T00:15:04.824340Z",
     "start_time": "2021-03-30T00:15:04.796393Z"
    }
   },
   "outputs": [
    {
     "data": {
      "text/html": [
       "<div>\n",
       "<style scoped>\n",
       "    .dataframe tbody tr th:only-of-type {\n",
       "        vertical-align: middle;\n",
       "    }\n",
       "\n",
       "    .dataframe tbody tr th {\n",
       "        vertical-align: top;\n",
       "    }\n",
       "\n",
       "    .dataframe thead th {\n",
       "        text-align: right;\n",
       "    }\n",
       "</style>\n",
       "<table border=\"1\" class=\"dataframe\">\n",
       "  <thead>\n",
       "    <tr style=\"text-align: right;\">\n",
       "      <th></th>\n",
       "      <th>line</th>\n",
       "    </tr>\n",
       "  </thead>\n",
       "  <tbody>\n",
       "    <tr>\n",
       "      <th>0</th>\n",
       "      <td>Do not buy these! They break very fast I spun ...</td>\n",
       "    </tr>\n",
       "    <tr>\n",
       "      <th>1</th>\n",
       "      <td>Showed up not how it's shown . Was someone's o...</td>\n",
       "    </tr>\n",
       "    <tr>\n",
       "      <th>2</th>\n",
       "      <td>You need expansion packs 3-5 if you want acces...</td>\n",
       "    </tr>\n",
       "    <tr>\n",
       "      <th>3</th>\n",
       "      <td>\"This was to be a gift for my husband for our ...</td>\n",
       "    </tr>\n",
       "    <tr>\n",
       "      <th>4</th>\n",
       "      <td>Received a pineapple rather than the advertise...</td>\n",
       "    </tr>\n",
       "  </tbody>\n",
       "</table>\n",
       "</div>"
      ],
      "text/plain": [
       "                                                line\n",
       "0  Do not buy these! They break very fast I spun ...\n",
       "1  Showed up not how it's shown . Was someone's o...\n",
       "2  You need expansion packs 3-5 if you want acces...\n",
       "3  \"This was to be a gift for my husband for our ...\n",
       "4  Received a pineapple rather than the advertise..."
      ]
     },
     "execution_count": 3,
     "metadata": {},
     "output_type": "execute_result"
    }
   ],
   "source": [
    "poor = pd.DataFrame(open('poor_amazon_toy_reviews.txt', 'r', encoding='latin1'), columns=['line'])\n",
    "poor.head()"
   ]
  },
  {
   "cell_type": "markdown",
   "metadata": {},
   "source": [
    "## Clean up text\n",
    "\n",
    "- Clean up malformed characters, punctuations, cases"
   ]
  },
  {
   "cell_type": "code",
   "execution_count": 4,
   "metadata": {
    "ExecuteTime": {
     "end_time": "2021-03-30T00:16:45.968881Z",
     "start_time": "2021-03-30T00:16:45.963859Z"
    }
   },
   "outputs": [],
   "source": [
    "def clean_text(df, column):\n",
    "    \n",
    "    # replace \\n with an empty string \n",
    "    df[column] = df[column].str.replace('\\n', '')\n",
    "    \n",
    "    # replace html encodings with a white space - not empty string in case some separate words get linked together\n",
    "    df[column] = df[column].str.replace(r'&#[0-9]+;', ' ')\n",
    "    \n",
    "    # replace html tags with a white space\n",
    "    df[column] = df[column].str.replace(r'<.*?/>', ' ')\n",
    "    \n",
    "    # replace punctuations with a white space\n",
    "    df[column] = df[column].str.replace(r'[^\\w\\s]', ' ')\n",
    "    \n",
    "    # lowercase everything\n",
    "    df[column] = df[column].str.lower()\n",
    "    \n",
    "    return df"
   ]
  },
  {
   "cell_type": "code",
   "execution_count": 5,
   "metadata": {
    "ExecuteTime": {
     "end_time": "2021-03-30T00:17:09.176645Z",
     "start_time": "2021-03-30T00:17:08.499927Z"
    }
   },
   "outputs": [
    {
     "data": {
      "text/html": [
       "<div>\n",
       "<style scoped>\n",
       "    .dataframe tbody tr th:only-of-type {\n",
       "        vertical-align: middle;\n",
       "    }\n",
       "\n",
       "    .dataframe tbody tr th {\n",
       "        vertical-align: top;\n",
       "    }\n",
       "\n",
       "    .dataframe thead th {\n",
       "        text-align: right;\n",
       "    }\n",
       "</style>\n",
       "<table border=\"1\" class=\"dataframe\">\n",
       "  <thead>\n",
       "    <tr style=\"text-align: right;\">\n",
       "      <th></th>\n",
       "      <th>line</th>\n",
       "    </tr>\n",
       "  </thead>\n",
       "  <tbody>\n",
       "    <tr>\n",
       "      <th>0</th>\n",
       "      <td>excellent</td>\n",
       "    </tr>\n",
       "    <tr>\n",
       "      <th>1</th>\n",
       "      <td>great quality wooden track  better than some ...</td>\n",
       "    </tr>\n",
       "    <tr>\n",
       "      <th>2</th>\n",
       "      <td>my daughter loved it and i liked the price and...</td>\n",
       "    </tr>\n",
       "    <tr>\n",
       "      <th>3</th>\n",
       "      <td>great item  pictures pop thru and add detail a...</td>\n",
       "    </tr>\n",
       "    <tr>\n",
       "      <th>4</th>\n",
       "      <td>i was pleased with the product</td>\n",
       "    </tr>\n",
       "  </tbody>\n",
       "</table>\n",
       "</div>"
      ],
      "text/plain": [
       "                                                line\n",
       "0                                       excellent   \n",
       "1   great quality wooden track  better than some ...\n",
       "2  my daughter loved it and i liked the price and...\n",
       "3  great item  pictures pop thru and add detail a...\n",
       "4                    i was pleased with the product "
      ]
     },
     "execution_count": 5,
     "metadata": {},
     "output_type": "execute_result"
    }
   ],
   "source": [
    "good = clean_text(good, 'line')\n",
    "good.head()"
   ]
  },
  {
   "cell_type": "code",
   "execution_count": 6,
   "metadata": {
    "ExecuteTime": {
     "end_time": "2021-03-30T00:17:46.854541Z",
     "start_time": "2021-03-30T00:17:46.737498Z"
    }
   },
   "outputs": [
    {
     "data": {
      "text/html": [
       "<div>\n",
       "<style scoped>\n",
       "    .dataframe tbody tr th:only-of-type {\n",
       "        vertical-align: middle;\n",
       "    }\n",
       "\n",
       "    .dataframe tbody tr th {\n",
       "        vertical-align: top;\n",
       "    }\n",
       "\n",
       "    .dataframe thead th {\n",
       "        text-align: right;\n",
       "    }\n",
       "</style>\n",
       "<table border=\"1\" class=\"dataframe\">\n",
       "  <thead>\n",
       "    <tr style=\"text-align: right;\">\n",
       "      <th></th>\n",
       "      <th>line</th>\n",
       "    </tr>\n",
       "  </thead>\n",
       "  <tbody>\n",
       "    <tr>\n",
       "      <th>0</th>\n",
       "      <td>do not buy these  they break very fast i spun ...</td>\n",
       "    </tr>\n",
       "    <tr>\n",
       "      <th>1</th>\n",
       "      <td>showed up not how it s shown   was someone s o...</td>\n",
       "    </tr>\n",
       "    <tr>\n",
       "      <th>2</th>\n",
       "      <td>you need expansion packs 3 5 if you want acces...</td>\n",
       "    </tr>\n",
       "    <tr>\n",
       "      <th>3</th>\n",
       "      <td>this was to be a gift for my husband for our ...</td>\n",
       "    </tr>\n",
       "    <tr>\n",
       "      <th>4</th>\n",
       "      <td>received a pineapple rather than the advertise...</td>\n",
       "    </tr>\n",
       "  </tbody>\n",
       "</table>\n",
       "</div>"
      ],
      "text/plain": [
       "                                                line\n",
       "0  do not buy these  they break very fast i spun ...\n",
       "1  showed up not how it s shown   was someone s o...\n",
       "2  you need expansion packs 3 5 if you want acces...\n",
       "3   this was to be a gift for my husband for our ...\n",
       "4  received a pineapple rather than the advertise..."
      ]
     },
     "execution_count": 6,
     "metadata": {},
     "output_type": "execute_result"
    }
   ],
   "source": [
    "poor = clean_text(poor, 'line')\n",
    "poor.head()"
   ]
  },
  {
   "cell_type": "markdown",
   "metadata": {},
   "source": [
    "## Gift occasions"
   ]
  },
  {
   "cell_type": "markdown",
   "metadata": {},
   "source": [
    "### Christmas"
   ]
  },
  {
   "cell_type": "code",
   "execution_count": 7,
   "metadata": {
    "ExecuteTime": {
     "end_time": "2021-03-30T00:20:55.114975Z",
     "start_time": "2021-03-30T00:20:54.635742Z"
    }
   },
   "outputs": [
    {
     "name": "stdout",
     "output_type": "stream",
     "text": [
      "Total word count of Christmas: 1281\n",
      "Number of reviews containing Christmas: 1206\n"
     ]
    }
   ],
   "source": [
    "good['christmas'] = good['line'].str.findall(r'\\b(?:christmas(?:tide)?|xmas|noel|yule(?:tide)?|nativity)\\b')\n",
    "good['christmas_count'] = good['christmas'].apply(len)\n",
    "print('Total word count of Christmas:', good['christmas_count'].sum())\n",
    "print('Number of reviews containing Christmas:', len(good[good['christmas_count']>0]))"
   ]
  },
  {
   "cell_type": "markdown",
   "metadata": {},
   "source": [
    "### Birthday"
   ]
  },
  {
   "cell_type": "code",
   "execution_count": 8,
   "metadata": {
    "ExecuteTime": {
     "end_time": "2021-03-30T00:23:41.504135Z",
     "start_time": "2021-03-30T00:23:40.963742Z"
    }
   },
   "outputs": [
    {
     "name": "stdout",
     "output_type": "stream",
     "text": [
      "Total word count of birthday: 4227\n",
      "Number of reviews containing birthday: 4018\n"
     ]
    }
   ],
   "source": [
    "good['birthday'] = good['line'].str.findall(\n",
    "    r'\\b(?:birthda(?:ys?|tes?)|b ?days?|natal days?|dob|da(?:ys?|tes?) of birth)\\b'\n",
    ")\n",
    "good['birthday_count'] = good['birthday'].apply(len)\n",
    "print('Total word count of birthday:', good['birthday_count'].sum())\n",
    "print('Number of reviews containing birthday:', len(good[good['birthday_count']>0]))"
   ]
  },
  {
   "cell_type": "markdown",
   "metadata": {},
   "source": [
    "### Anniversary"
   ]
  },
  {
   "cell_type": "code",
   "execution_count": 9,
   "metadata": {
    "ExecuteTime": {
     "end_time": "2021-03-30T00:27:21.637354Z",
     "start_time": "2021-03-30T00:27:21.141045Z"
    }
   },
   "outputs": [
    {
     "name": "stdout",
     "output_type": "stream",
     "text": [
      "Total word count of anniversary: 54\n",
      "Number of reviews containing anniversary: 52\n"
     ]
    }
   ],
   "source": [
    "good['anniversary'] = good['line'].str.findall(\n",
    "    r'\\b(?:anniversar(?:y|ies)|da(?:ys?|tes?) of remembrance|memorable da(?:ys?|tes?)|once a year|annual celebrations?)\\b'\n",
    ")\n",
    "good['anniversary_count'] = good['anniversary'].apply(len)\n",
    "print('Total word count of anniversary:', good['anniversary_count'].sum())\n",
    "print('Number of reviews containing anniversary:', len(good[good['anniversary_count']>0]))"
   ]
  },
  {
   "cell_type": "markdown",
   "metadata": {},
   "source": [
    "**Findings & Business Recommendations:**\n",
    "\n",
    "According to the results above, **birthday** is the gift occasion that tends to have the most positive reviews, since it has the highest total word count and highest number of reviews among all three gift occasions in the good review dataset. Therefore, the marketing manager may want to focus marketing budget on birthdays."
   ]
  },
  {
   "cell_type": "markdown",
   "metadata": {},
   "source": [
    "## Male recipients"
   ]
  },
  {
   "cell_type": "code",
   "execution_count": 10,
   "metadata": {
    "ExecuteTime": {
     "end_time": "2021-03-30T00:45:34.277827Z",
     "start_time": "2021-03-30T00:45:34.269606Z"
    }
   },
   "outputs": [],
   "source": [
    "# define a function to count male or female recipients\n",
    "def recipients_count(df, column, gender):\n",
    "    if gender=='male':\n",
    "        df[gender] = df[column].str.findall(\n",
    "            r'\\b(?:grand(?:pas?|fathers?|sons?)|step(?:dads?|fathers?|sons?|brothers?)|fathers?|dads?|dadd(?:y|ies)|pa(?:pas?)?|sons?|husbands?|uncles?|brothers?|bros?|nephews?|boy ?friends?|boys?)\\b'\n",
    "        )\n",
    "    else:\n",
    "        df[gender] = df[column].str.findall(\n",
    "            r'\\b(?:grand(?:mas?|mothers?|daughters?)|step(?:moms?|mothers?|daughters?|sisters?)|mothers?|moms?|momm(?:y|ies)|ma(?:mas?)?|daughters?|wi(?:fe|ves)|aunts?|aunt(?:y|ies?)|sisters?|siss?|nieces?|girl ?friends?|girls?)\\b'\n",
    "        )\n",
    "    df[gender+'_count'] = df[gender].apply(len)\n",
    "    word_count = df[gender+'_count'].sum()\n",
    "    n_reviews = len(df[df[gender+'_count']>0])\n",
    "    name = [x for x in globals() if globals()[x] is df][0]\n",
    "    print(f'In {name} reviews:')\n",
    "    print(f'Total word count of {gender} recipients: {word_count}')\n",
    "    print(f'Number of reviews containing {gender} recipients: {n_reviews}')\n",
    "    print(f'Percentage of {name} reviews containing {gender} recipients: {round(n_reviews/len(df)*100,2)}%')"
   ]
  },
  {
   "cell_type": "markdown",
   "metadata": {},
   "source": [
    "### In poor reviews"
   ]
  },
  {
   "cell_type": "markdown",
   "metadata": {},
   "source": [
    "#### Male recipients"
   ]
  },
  {
   "cell_type": "code",
   "execution_count": 11,
   "metadata": {
    "ExecuteTime": {
     "end_time": "2021-03-30T00:45:48.676621Z",
     "start_time": "2021-03-30T00:45:48.562049Z"
    }
   },
   "outputs": [
    {
     "name": "stdout",
     "output_type": "stream",
     "text": [
      "In poor reviews:\n",
      "Total word count of male recipients: 1179\n",
      "Number of reviews containing male recipients: 988\n",
      "Percentage of poor reviews containing male recipients: 7.78%\n"
     ]
    }
   ],
   "source": [
    "recipients_count(poor, 'line', 'male')"
   ]
  },
  {
   "cell_type": "markdown",
   "metadata": {},
   "source": [
    "#### Female recipients"
   ]
  },
  {
   "cell_type": "code",
   "execution_count": 12,
   "metadata": {
    "ExecuteTime": {
     "end_time": "2021-03-30T00:46:23.633392Z",
     "start_time": "2021-03-30T00:46:23.519393Z"
    }
   },
   "outputs": [
    {
     "name": "stdout",
     "output_type": "stream",
     "text": [
      "In poor reviews:\n",
      "Total word count of female recipients: 823\n",
      "Number of reviews containing female recipients: 734\n",
      "Percentage of poor reviews containing female recipients: 5.78%\n"
     ]
    }
   ],
   "source": [
    "recipients_count(poor, 'line', 'female')"
   ]
  },
  {
   "cell_type": "markdown",
   "metadata": {},
   "source": [
    "**Findings:**\n",
    "\n",
    "According to the results above, in poor reviews, there are more reviews referring to male recipients than to female recipients, so we may tend to directly conclude that the product manager's hypothesis about more male recipients giving poor reviews was correct. However, let's take a look at the good reviews as follows."
   ]
  },
  {
   "cell_type": "markdown",
   "metadata": {},
   "source": [
    "### In good reviews"
   ]
  },
  {
   "cell_type": "markdown",
   "metadata": {},
   "source": [
    "#### Male recipients"
   ]
  },
  {
   "cell_type": "code",
   "execution_count": 13,
   "metadata": {
    "ExecuteTime": {
     "end_time": "2021-03-30T00:48:44.080773Z",
     "start_time": "2021-03-30T00:48:43.379691Z"
    }
   },
   "outputs": [
    {
     "name": "stdout",
     "output_type": "stream",
     "text": [
      "In good reviews:\n",
      "Total word count of male recipients: 17465\n",
      "Number of reviews containing male recipients: 15019\n",
      "Percentage of good reviews containing male recipients: 14.69%\n"
     ]
    }
   ],
   "source": [
    "recipients_count(good, 'line', 'male')"
   ]
  },
  {
   "cell_type": "markdown",
   "metadata": {},
   "source": [
    "#### Female recipients"
   ]
  },
  {
   "cell_type": "code",
   "execution_count": 14,
   "metadata": {
    "ExecuteTime": {
     "end_time": "2021-03-30T00:49:02.081043Z",
     "start_time": "2021-03-30T00:49:01.299160Z"
    }
   },
   "outputs": [
    {
     "name": "stdout",
     "output_type": "stream",
     "text": [
      "In good reviews:\n",
      "Total word count of female recipients: 16519\n",
      "Number of reviews containing female recipients: 13941\n",
      "Percentage of good reviews containing female recipients: 13.64%\n"
     ]
    }
   ],
   "source": [
    "recipients_count(good, 'line', 'female')"
   ]
  },
  {
   "cell_type": "markdown",
   "metadata": {},
   "source": [
    "**Findings & Business Recommendations:**\n",
    "\n",
    "Based on the results above, we can notice that male recipients also tend to give more good reviews than female recipients. Therefore, I would now compare between male recipient's good reviews and poor reviews instead of across genders. We can see that the proportion of good reviews containing male recipients is much higher than the proportion of poor reviews containing male recipients. Hence, I would **reject** the product manager's hypothesis that toys purchased for male recipients tend to be much more likely to be reviewed poorly."
   ]
  },
  {
   "cell_type": "markdown",
   "metadata": {},
   "source": [
    "## Pitfalls/limitations & additional steps/recommendations"
   ]
  },
  {
   "cell_type": "markdown",
   "metadata": {},
   "source": [
    "Using only a word count analysis to make the inferences above has certain pitfalls and limitations:\n",
    "\n",
    "- A word count analysis ignores the order/context of the words, which means that even if a certain word is contained in a review, it may not actually relate to the positive or negative attitude the review is expressing. For instance, a review containing \"birthday\" may actually say \"the toy was not a birthday gift but...\". In this case, the word count of \"birthday\" does not accurately reflect the number of birthday gift occasions. For male recipients, some \"dad\", \"husband\", etc. contained in certain reviews were not the actual recipients of the toys, so the number of male recipients giving good/poor reviews would also be inaccurate.\n",
    "- Some reviews do not explicitly use the specific words we are looking for or we may not be able to take into account all possible variations of a certain word.\n",
    "- In some cases, one review may contain multiple target words, so this review may be counted multiple times for the different target words. For example, a review may contain both \"son\" and \"daughter\", then it would be counted twice for both male recipients and female recipients.\n",
    "\n",
    "Some additional research/steps I would recommend doing next:\n",
    "\n",
    "- A potential localized sentiment analysis: While the reviews are already separated into good and poor reviews, I may want to analyze specific sentences in each review to determine their own sentiments. For a good review, the overall sentiment should be positive, but there might a specific sentence containing the target word that actually has a neural or negative sentiment.\n",
    "- Stemming/Lemmatization: Stemming helps to cover more variations of a same stem whereas lemmatization also looks at the usage of a word within the context.\n",
    "- I may analyze other information about each review in addition to the text only. For example, I may look at the dates on which the reviews were posted and the customers' account information to aid my analysis and help to make more reasonable and accurate inferences."
   ]
  }
 ],
 "metadata": {
  "kernelspec": {
   "display_name": "Python 3",
   "language": "python",
   "name": "python3"
  },
  "language_info": {
   "codemirror_mode": {
    "name": "ipython",
    "version": 3
   },
   "file_extension": ".py",
   "mimetype": "text/x-python",
   "name": "python",
   "nbconvert_exporter": "python",
   "pygments_lexer": "ipython3",
   "version": "3.8.5"
  },
  "toc": {
   "base_numbering": 1,
   "nav_menu": {},
   "number_sections": true,
   "sideBar": true,
   "skip_h1_title": false,
   "title_cell": "Table of Contents",
   "title_sidebar": "Contents",
   "toc_cell": false,
   "toc_position": {},
   "toc_section_display": true,
   "toc_window_display": false
  },
  "varInspector": {
   "cols": {
    "lenName": 16,
    "lenType": 16,
    "lenVar": 40
   },
   "kernels_config": {
    "python": {
     "delete_cmd_postfix": "",
     "delete_cmd_prefix": "del ",
     "library": "var_list.py",
     "varRefreshCmd": "print(var_dic_list())"
    },
    "r": {
     "delete_cmd_postfix": ") ",
     "delete_cmd_prefix": "rm(",
     "library": "var_list.r",
     "varRefreshCmd": "cat(var_dic_list()) "
    }
   },
   "types_to_exclude": [
    "module",
    "function",
    "builtin_function_or_method",
    "instance",
    "_Feature"
   ],
   "window_display": false
  }
 },
 "nbformat": 4,
 "nbformat_minor": 4
}
