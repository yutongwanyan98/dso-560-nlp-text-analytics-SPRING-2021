{
 "cells": [
  {
   "cell_type": "markdown",
   "metadata": {},
   "source": [
    "This tutorial is written to assist for HW5, regular expressions practice with Shakespeare.\n",
    "\n",
    "## Lookbehind and Lookaheads\n",
    "\n",
    "In many cases, you want to match for some specific text, but make sure that it is **either right before** another pattern, or **right after** another pattern. For instance, we can use it to match multi-line dialogue:\n",
    "\n",
    "### Task: Get all of Yu Chen's Dialogue"
   ]
  },
  {
   "cell_type": "code",
   "execution_count": 42,
   "metadata": {},
   "outputs": [],
   "source": [
    "dialogue = '''\n",
    "YUCHEN: You can reach me at ychen220@marshall.usc.edu.\n",
    "If you cannot find me there; you can try my other email.\n",
    "You can also call my assistant Todd.\n",
    "MIKE: Sounds good. Well then,\n",
    "it's been a pleasure.\n",
    "YUCHEN: Nice.\n",
    "MIKE: Good talk.\n",
    "JIMMY: Yeah, it's been a great experience all around.\n",
    "YUCHEN: Okay, good bye.\n",
    "'''\n",
    "\n",
    "import re"
   ]
  },
  {
   "cell_type": "markdown",
   "metadata": {},
   "source": [
    "My first attempt will involve what we have already learned. The `[\\w ;@\\.,]+` says we want to match any alphanumeric character (`\\w`), and white space (` `), and semicolon, @, period, or comma: (`;@\\.,` ) at least one or more times."
   ]
  },
  {
   "cell_type": "code",
   "execution_count": 49,
   "metadata": {},
   "outputs": [
    {
     "data": {
      "text/plain": [
       "['You can reach me at ychen220@marshall.usc.edu.', 'Nice.', 'Okay, good bye.']"
      ]
     },
     "execution_count": 49,
     "metadata": {},
     "output_type": "execute_result"
    }
   ],
   "source": [
    "re.findall(r'YUCHEN: ([A-Za-z0-9 ;@\\.,]+)', dialogue)"
   ]
  },
  {
   "cell_type": "markdown",
   "metadata": {},
   "source": [
    "Notice that right now, this regular expression capture almost all of my dialogue, but not everything. It misses the `If you cannot find me there, you can try my other email.` in the second line, since it doesn't understand it needs to match stuff after a new line. I can add in `\\n` to my brackets so it knows to match beyond a new line:"
   ]
  },
  {
   "cell_type": "code",
   "execution_count": 50,
   "metadata": {},
   "outputs": [
    {
     "data": {
      "text/plain": [
       "['You can reach me at ychen220@marshall.usc.edu.\\nIf you cannot find me there; you can try my other email.\\nYou can also call my assistant Todd.\\nMIKE',\n",
       " 'Nice.\\nMIKE',\n",
       " 'Okay, good bye.\\n']"
      ]
     },
     "execution_count": 50,
     "metadata": {},
     "output_type": "execute_result"
    }
   ],
   "source": [
    "re.findall(r'YUCHEN: ([\\w @;\\n\\.,]+)', dialogue)"
   ]
  },
  {
   "cell_type": "markdown",
   "metadata": {},
   "source": [
    "Notice now that the problem is `MIKE`, the next character speaking, gets dragged into the match, along with his dialogue. This is because the regex does not know that `Mike: Sounds good.` is another person speaking - it thinks it is still part of `YUCHEN`'s dialogue."
   ]
  },
  {
   "cell_type": "code",
   "execution_count": 51,
   "metadata": {},
   "outputs": [
    {
     "data": {
      "text/plain": [
       "['You can reach me at ychen220@marshall.usc.edu.\\nIf you cannot find me there; you can try my other email.\\nYou can also call my assistant Todd.',\n",
       " 'Nice.']"
      ]
     },
     "execution_count": 51,
     "metadata": {},
     "output_type": "execute_result"
    }
   ],
   "source": [
    "re.findall(r'(?<=YUCHEN: )([\\w @;\\n\\.,]+)(?=\\nMIKE: )', dialogue)"
   ]
  },
  {
   "cell_type": "markdown",
   "metadata": {},
   "source": [
    "The `(?<=YUCHEN: )` is called a **positive lookbehind**, and it states that whatever we match, it must begin with (but not include) `YUCHEN: `. The `(?=\\nMIKE: )` is a **positive lookahead**, and it states that whatever we match, it must end with `\\nMIKE: ` (a new line, then Mike beginning to speak).\n",
    "\n",
    "This is looks great, but we are still missing the final line in the dialogue (`Okay, good bye.`). That currently no longer matches, since it does not have `\\nMIKE: ` at its end. We can add a conditional to our positive lookahead to account for the fact that it is the end of the text:`(?=\\nMIKE: |$)`- this states that we either need to have the end of the entire string, or we need to have `\\nMIKE: ` after our match:"
   ]
  },
  {
   "cell_type": "code",
   "execution_count": 56,
   "metadata": {},
   "outputs": [
    {
     "data": {
      "text/plain": [
       "['You can reach me at ychen220@marshall.usc.edu.\\nIf you cannot find me there; you can try my other email.\\nYou can also call my assistant Todd.',\n",
       " 'Nice.',\n",
       " 'Okay, good bye.\\n']"
      ]
     },
     "execution_count": 56,
     "metadata": {},
     "output_type": "execute_result"
    }
   ],
   "source": [
    "re.findall(r'(?<=YUCHEN: )([\\w @;\\n\\.,]+)(?=\\nMIKE: |$)', dialogue)"
   ]
  },
  {
   "cell_type": "markdown",
   "metadata": {},
   "source": [
    "## Greedy versus Lazy Evaluation"
   ]
  },
  {
   "cell_type": "markdown",
   "metadata": {},
   "source": [
    "By default, regular expressions try to match as MUCH as possible- **this is called greedy evaluation**. Sometimes, we only want to match for as little as possible- this is called **lazy evaluation**. We can do this by putting a `?` after our quantifier (remember a quantifier is `+`,`*`, or `{3,5}` - anything that tells regex how many times to match something). For instance:"
   ]
  },
  {
   "cell_type": "code",
   "execution_count": 59,
   "metadata": {},
   "outputs": [
    {
     "data": {
      "text/plain": [
       "['Hel']"
      ]
     },
     "execution_count": 59,
     "metadata": {},
     "output_type": "execute_result"
    }
   ],
   "source": [
    "sentence = \"Hello\"\n",
    "import re\n",
    "\n",
    "re.findall(\"H.*l\", sentence) #matches Hell\n",
    "re.findall(\"H.*?l\", sentence) #matches Hel"
   ]
  },
  {
   "cell_type": "markdown",
   "metadata": {},
   "source": [
    "If we apply this lazy evaluation. to our original dialogue `(?<=YUCHEN: )([\\w @;\\n\\.,]+?)(?=\\nMIKE: |$)`, we notice that the last match no longer has the `\\n` attached to it. This is because it matches only the minimum text sufficient, and the `\\n` symbol is not necessary to complete the match:"
   ]
  },
  {
   "cell_type": "code",
   "execution_count": 63,
   "metadata": {},
   "outputs": [
    {
     "data": {
      "text/plain": [
       "['You can reach me at ychen220@marshall.usc.edu.\\nIf you cannot find me there; you can try my other email.\\nYou can also call my assistant Todd.',\n",
       " 'Nice.',\n",
       " 'Okay, good bye.']"
      ]
     },
     "execution_count": 63,
     "metadata": {},
     "output_type": "execute_result"
    }
   ],
   "source": [
    "re.findall(r'(?<=YUCHEN: )([\\w @;\\n\\.,]+?)(?=\\nMIKE: |$)', dialogue) # notice the ? before the plus sign"
   ]
  },
  {
   "cell_type": "markdown",
   "metadata": {},
   "source": [
    "Another example: let's say we are trying to find all HTML tags in a particular website:"
   ]
  },
  {
   "cell_type": "code",
   "execution_count": 66,
   "metadata": {},
   "outputs": [],
   "source": [
    "html = '''\n",
    "<HTML>\n",
    "        <HEAD>\n",
    "            <TITLE>Your Title Here</TITLE>\n",
    "        </HEAD>\n",
    "    <a href=\"http://somegreatsite.com\">Link Name</a>\n",
    "    <H1>This is a Header</H1>\n",
    "    <H2>This is a Medium Header</H2>\n",
    "<</HTML>\n",
    "'''"
   ]
  },
  {
   "cell_type": "code",
   "execution_count": 67,
   "metadata": {},
   "outputs": [
    {
     "data": {
      "text/plain": [
       "['<HTML>',\n",
       " '<HEAD>',\n",
       " '<TITLE>Your Title Here</TITLE>',\n",
       " '</HEAD>',\n",
       " '<a href=\"http://somegreatsite.com\">Link Name</a>',\n",
       " '<H1>This is a Header</H1>',\n",
       " '<H2>This is a Medium Header</H2>',\n",
       " '<</HTML>']"
      ]
     },
     "execution_count": 67,
     "metadata": {},
     "output_type": "execute_result"
    }
   ],
   "source": [
    "import re\n",
    "\n",
    "re.findall(r'<.+>', html)"
   ]
  },
  {
   "cell_type": "markdown",
   "metadata": {},
   "source": [
    "This drags in everything between the tags themselves, including the text `Your Title Here` and `This is a Header`. We don't want that. This is because the regex `<.+>` is trying to match as much of the text as possible. However, using lazy quantifiers, we can get regex to match only the minimum necessary:"
   ]
  },
  {
   "cell_type": "code",
   "execution_count": 68,
   "metadata": {},
   "outputs": [
    {
     "data": {
      "text/plain": [
       "['<HTML>',\n",
       " '<HEAD>',\n",
       " '<TITLE>',\n",
       " '</TITLE>',\n",
       " '</HEAD>',\n",
       " '<a href=\"http://somegreatsite.com\">',\n",
       " '</a>',\n",
       " '<H1>',\n",
       " '</H1>',\n",
       " '<H2>',\n",
       " '</H2>',\n",
       " '<</HTML>']"
      ]
     },
     "execution_count": 68,
     "metadata": {},
     "output_type": "execute_result"
    }
   ],
   "source": [
    "re.findall(r'<.+?>', html)"
   ]
  },
  {
   "cell_type": "code",
   "execution_count": null,
   "metadata": {},
   "outputs": [],
   "source": []
  }
 ],
 "metadata": {
  "kernelspec": {
   "display_name": "Python 3",
   "language": "python",
   "name": "python3"
  },
  "language_info": {
   "codemirror_mode": {
    "name": "ipython",
    "version": 3
   },
   "file_extension": ".py",
   "mimetype": "text/x-python",
   "name": "python",
   "nbconvert_exporter": "python",
   "pygments_lexer": "ipython3",
   "version": "3.6.4"
  }
 },
 "nbformat": 4,
 "nbformat_minor": 2
}
