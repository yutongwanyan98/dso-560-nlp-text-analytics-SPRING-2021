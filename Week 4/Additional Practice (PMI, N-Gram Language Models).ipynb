{
 "cells": [
  {
   "cell_type": "markdown",
   "metadata": {},
   "source": [
    "# Additional Practice (Lecture 4)\n",
    "\n",
    "This notebook can be used for additional practice, and for students who missed Lecture 4 for an excused reason and are allowed to make up the in-class practice.\n",
    "\n",
    "For those students submitting this notebook in place of in-class credit, this notebook is due by **Monday, 11:59pm PST, April 13th, 2020.**"
   ]
  },
  {
   "cell_type": "code",
   "execution_count": null,
   "metadata": {},
   "outputs": [],
   "source": [
    "corpus = [\"He went to the store\",\n",
    "         \"They went home after work\",\n",
    "         \"He does not like football\",\n",
    "         \"I want to go home\",\n",
    "         \"They said they want to go home too\",\n",
    "         \"It is interesting to hear this\",\n",
    "         \"They did go home later\",\n",
    "         \"That is not a good idea\",\n",
    "          \"I like basketball\",\n",
    "         \"He said he want to watch basketball\"]\n",
    "\n",
    "# Hint: functions like nltk's word_tokenize will be useful here"
   ]
  },
  {
   "cell_type": "markdown",
   "metadata": {},
   "source": [
    "# Instructions\n",
    "\n",
    "Write functions to calculate the following probabilities. If you are not able to write the function in Python, you may write pseudo-code (tell me how to implement it)."
   ]
  },
  {
   "cell_type": "markdown",
   "metadata": {},
   "source": [
    "#### Find the probability that a word appears in a sentence in the corpus."
   ]
  },
  {
   "cell_type": "code",
   "execution_count": 2,
   "metadata": {},
   "outputs": [],
   "source": [
    "def find_probability(word)-> float:\n",
    "    # your code here\n",
    "    pass"
   ]
  },
  {
   "cell_type": "markdown",
   "metadata": {},
   "source": [
    "#### Find the probability that a word STARTS a sentence."
   ]
  },
  {
   "cell_type": "code",
   "execution_count": 3,
   "metadata": {},
   "outputs": [],
   "source": [
    "def find_probability(word)-> float:\n",
    "    # your code here\n",
    "    pass"
   ]
  },
  {
   "cell_type": "markdown",
   "metadata": {},
   "source": [
    "### Calculate the probability of a sequence of two words (bi-gram).\n",
    "\n",
    "\n"
   ]
  },
  {
   "cell_type": "code",
   "execution_count": 4,
   "metadata": {},
   "outputs": [],
   "source": [
    "def find_transition_probability(word1, word2):\n",
    "    # for example, if word2 follows word1 3 out of 4 times, this function should return 0.75\n",
    "    pass"
   ]
  },
  {
   "cell_type": "markdown",
   "metadata": {},
   "source": [
    "## Calculate the probability of the following test sentences: \n",
    "\n",
    "### A. `He said they went home`.\n",
    "\n"
   ]
  },
  {
   "cell_type": "code",
   "execution_count": null,
   "metadata": {},
   "outputs": [],
   "source": [
    "# write your answer here"
   ]
  },
  {
   "cell_type": "markdown",
   "metadata": {},
   "source": [
    "### B. `They want to go home`."
   ]
  },
  {
   "cell_type": "code",
   "execution_count": 5,
   "metadata": {},
   "outputs": [],
   "source": [
    "# write your answer here"
   ]
  },
  {
   "cell_type": "markdown",
   "metadata": {},
   "source": [
    "### Which sentence is more \"likely\"?"
   ]
  },
  {
   "cell_type": "code",
   "execution_count": 6,
   "metadata": {},
   "outputs": [],
   "source": [
    "# write your answer here"
   ]
  },
  {
   "cell_type": "markdown",
   "metadata": {},
   "source": [
    "### Find the perplexity of these two test sentences' probabilities"
   ]
  },
  {
   "cell_type": "code",
   "execution_count": null,
   "metadata": {},
   "outputs": [],
   "source": [
    "# write your answer here"
   ]
  },
  {
   "cell_type": "markdown",
   "metadata": {},
   "source": [
    "## PMI (Pointwise Mutual Information Score)"
   ]
  },
  {
   "cell_type": "markdown",
   "metadata": {},
   "source": [
    "Use the same corpus as above. Calculate now the PMI of `went` and `home`. Assume that the context window is the entire length of each document (ie. if two words appear in the same document, they are within each other's context.)"
   ]
  },
  {
   "cell_type": "code",
   "execution_count": null,
   "metadata": {},
   "outputs": [],
   "source": []
  },
  {
   "cell_type": "markdown",
   "metadata": {},
   "source": [
    "## Regex"
   ]
  },
  {
   "cell_type": "markdown",
   "metadata": {},
   "source": [
    "## Explain the  difference between `re.findall()` and `re.extractall`."
   ]
  },
  {
   "cell_type": "markdown",
   "metadata": {},
   "source": [
    "## Load in the `unwanted_calls.csv` file as a Pandas dataframe. Use `\\w`, `\\d`, and capture groups to extract out the latitude and longitudes of the callers.\n",
    "\n",
    "The latitude should be saved as a column called `lat` and longitude should be saved as a column called `long`.\n",
    "\n",
    "**Hint**: the latitudes and longitudes are in the `location_center_point_of_the_zip_code`. "
   ]
  },
  {
   "cell_type": "code",
   "execution_count": null,
   "metadata": {},
   "outputs": [],
   "source": []
  }
 ],
 "metadata": {
  "kernelspec": {
   "display_name": "Python 3",
   "language": "python",
   "name": "python3"
  },
  "language_info": {
   "codemirror_mode": {
    "name": "ipython",
    "version": 3
   },
   "file_extension": ".py",
   "mimetype": "text/x-python",
   "name": "python",
   "nbconvert_exporter": "python",
   "pygments_lexer": "ipython3",
   "version": "3.8.2"
  },
  "toc": {
   "base_numbering": 1,
   "nav_menu": {},
   "number_sections": true,
   "sideBar": true,
   "skip_h1_title": false,
   "title_cell": "Table of Contents",
   "title_sidebar": "Contents",
   "toc_cell": false,
   "toc_position": {},
   "toc_section_display": true,
   "toc_window_display": false
  }
 },
 "nbformat": 4,
 "nbformat_minor": 2
}
