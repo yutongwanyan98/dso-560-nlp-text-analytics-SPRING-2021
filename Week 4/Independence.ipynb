{
 "cells": [
  {
   "cell_type": "markdown",
   "metadata": {},
   "source": [
    "# Independence\n",
    "\n",
    "Two events A and B are independent if \n",
    "$$\n",
    "P(A,B) = P(A) \\times P(B)\n",
    "$$\n",
    "\n",
    "Consider the following corpus:"
   ]
  },
  {
   "cell_type": "code",
   "execution_count": 10,
   "metadata": {},
   "outputs": [],
   "source": [
    "corpus = [\n",
    "    \"I love fruit\",\n",
    "    \"She does not love fruit\",\n",
    "    \"They bought a toy fruit\",\n",
    "    \"I love the toy\"\n",
    "]"
   ]
  },
  {
   "cell_type": "markdown",
   "metadata": {},
   "source": [
    "P(love) = $\\frac{3}{4}$ (it appears in 3 of the 4 sentences)\n",
    "\n",
    "P(fruit) = $\\frac{3}{4}$ (it appears in 3 of the 4 sentences)\n",
    "\n",
    "P(love, fruit) = $\\frac{2}{4}$ (the words `love` and `fruit` together in 2 of the 4 sentences - the first two sentences)\n",
    "\n",
    "If the word `love` and `fruit` are independent, then \n",
    "$$\n",
    "P(love,fruit) = P(love) \\times P(fruit)\n",
    "$$\n",
    "\n",
    "$$\n",
    "P(love,fruit) = \\frac{3}{4} \\times \\frac{3}{4}\n",
    "$$\n",
    "\n",
    "$$\n",
    "P(love,fruit) = \\frac{9}{16}\n",
    "$$\n",
    "\n",
    "However, we know that the true joint probability of `love` and `fruit` is $\\frac{2}{4}$, as was calculated above. Knowing that the word `love` appears in a sentence should make it much more likely for the word `fruit` to also appear in the same sentence (in fact, $\\frac{2}{3}$ of the sentences that include the word `love` also include the word `fruit`). Therefore, the two words are *not independent* within the context of these sentences.\n",
    "\n",
    "## Counter Example\n",
    "\n",
    "Consider this new corpus:"
   ]
  },
  {
   "cell_type": "code",
   "execution_count": 9,
   "metadata": {},
   "outputs": [],
   "source": [
    "corpus = [\n",
    "    \"I ate fruit\",\n",
    "    \"She does not love fruit\",\n",
    "    \"They bought a toy truck\",\n",
    "    \"I love the toy\"\n",
    "]"
   ]
  },
  {
   "cell_type": "markdown",
   "metadata": {},
   "source": [
    "P(love) = $\\frac{2}{4}$ (it appears in the 1st and 2nd sentences)\n",
    "\n",
    "P(fruit) = $\\frac{2}{4}$ (it appears in the 2nd and 4th 4 sentences)\n",
    "\n",
    "P(love, fruit) = $\\frac{1}{4}$ (the words `love` and `fruit` together in 1 of the 4 sentences - the second sentence)\n",
    "\n",
    "$$\n",
    "P(love,fruit) = \\frac{2}{4} \\times \\frac{2}{4}\n",
    "$$\n",
    "\n",
    "$$\n",
    "P(love,fruit) = \\frac{1}{4}\n",
    "$$\n",
    "\n",
    "This is the true joint probability, since the words `love` and `fruit` appear together in 1 of the 4 sentences. Thus, the words love and fruit are indeed independent in their sentence occurence. Knowing that the sentence contains the word `fruit` will not increase or decrease your belief that the sentence includes the word `love`, and vice versa. "
   ]
  },
  {
   "cell_type": "code",
   "execution_count": null,
   "metadata": {},
   "outputs": [],
   "source": []
  }
 ],
 "metadata": {
  "kernelspec": {
   "display_name": "Python 3",
   "language": "python",
   "name": "python3"
  },
  "language_info": {
   "codemirror_mode": {
    "name": "ipython",
    "version": 3
   },
   "file_extension": ".py",
   "mimetype": "text/x-python",
   "name": "python",
   "nbconvert_exporter": "python",
   "pygments_lexer": "ipython3",
   "version": "3.6.4"
  }
 },
 "nbformat": 4,
 "nbformat_minor": 2
}
